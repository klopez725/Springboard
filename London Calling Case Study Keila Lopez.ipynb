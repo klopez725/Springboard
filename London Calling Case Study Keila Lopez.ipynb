{
 "cells": [
  {
   "cell_type": "markdown",
   "metadata": {
    "id": "zswDqbefJpgm"
   },
   "source": [
    "### 1. Sourcing and Loading \n",
    "\n",
    "Any Data Science project kicks off by importing  ***pandas***. The documentation of this wonderful library can be found [here](https://pandas.pydata.org/). As you've seen, pandas is conveniently connected to the [Numpy](http://www.numpy.org/) and [Matplotlib](https://matplotlib.org/) libraries. \n",
    "\n",
    "***Hint:*** This part of the data science pipeline will test those skills you acquired in the pandas Foundations course, Module One. "
   ]
  },
  {
   "cell_type": "markdown",
   "metadata": {
    "id": "aEau5nEvJpgm"
   },
   "source": [
    "#### 1.1. Importing Libraries"
   ]
  },
  {
   "cell_type": "code",
   "execution_count": 1,
   "metadata": {
    "id": "7Bt_Q_oPJpgn"
   },
   "outputs": [],
   "source": [
    "# Let's import the pandas, numpy libraries as pd, and np respectively. \n",
    "import pandas as pd\n",
    "import numpy as np\n",
    "\n",
    "# Load the pyplot collection of functions from matplotlib, as plt \n",
    "import matplotlib.pyplot as plt"
   ]
  },
  {
   "cell_type": "markdown",
   "metadata": {
    "id": "koUrawxsJpgq"
   },
   "source": [
    "#### 1.2.  Loading the data\n",
    "Your data comes from the [London Datastore](https://data.london.gov.uk/): a free, open-source data-sharing portal for London-oriented datasets. "
   ]
  },
  {
   "cell_type": "code",
   "execution_count": 2,
   "metadata": {
    "id": "AiLiD4v3Jpgr"
   },
   "outputs": [],
   "source": [
    "# First, make a variable called url_LondonHousePrices, and assign it the following link, enclosed in quotation-marks as a string:\n",
    "# https://data.london.gov.uk/download/uk-house-price-index/70ac0766-8902-4eb5-aab5-01951aaed773/UK%20House%20price%20index.xls\n",
    "\n",
    "url_LondonHousePrices = \"https://data.london.gov.uk/download/uk-house-price-index/70ac0766-8902-4eb5-aab5-01951aaed773/UK%20House%20price%20index.xls\"\n",
    "\n",
    "# The dataset we're interested in contains the Average prices of the houses, and is actually on a particular sheet of the Excel file. \n",
    "# As a result, we need to specify the sheet name in the read_excel() method.\n",
    "# Put this data into a variable called properties.  \n",
    "\n",
    "#changed index_col to 0 so first row becomes header row\n",
    "properties = pd.read_excel(url_LondonHousePrices, sheet_name='Average price', index_col= 0) "
   ]
  },
  {
   "cell_type": "markdown",
   "metadata": {
    "id": "POukEJXgJpgu"
   },
   "source": [
    "### 2. Cleaning, transforming, and visualizing\n",
    "This second stage is arguably the most important part of any Data Science project. The first thing to do is take a proper look at the data. Cleaning forms the majority of this stage, and can be done both before or after Transformation.\n",
    "\n",
    "The end goal of data cleaning is to have tidy data. When data is tidy: \n",
    "\n",
    "1. Each variable has a column.\n",
    "2. Each observation forms a row.\n",
    "\n",
    "Keep the end goal in mind as you move through this process, every step will take you closer. \n",
    "\n",
    "\n",
    "\n",
    "***Hint:*** This part of the data science pipeline should test those skills you acquired in: \n",
    "- Intermediate Python for data science, all modules.\n",
    "- pandas Foundations, all modules. \n",
    "- Manipulating DataFrames with pandas, all modules.\n",
    "- Data Types for Data Science, Module Four.\n",
    "- Python Data Science Toolbox - Part One, all modules"
   ]
  },
  {
   "cell_type": "markdown",
   "metadata": {
    "id": "Te0Q548tnzZa"
   },
   "source": [
    "**2.1. Exploring your data** \n",
    "\n",
    "Think about your pandas functions for checking out a dataframe. "
   ]
  },
  {
   "cell_type": "code",
   "execution_count": 3,
   "metadata": {
    "colab": {
     "base_uri": "https://localhost:8080/",
     "height": 230
    },
    "id": "6_iyLGJP_HKn",
    "outputId": "b77b19e6-d24a-4eb4-e3cc-99d8cc5a2da7"
   },
   "outputs": [
    {
     "data": {
      "text/html": [
       "<div>\n",
       "<style scoped>\n",
       "    .dataframe tbody tr th:only-of-type {\n",
       "        vertical-align: middle;\n",
       "    }\n",
       "\n",
       "    .dataframe tbody tr th {\n",
       "        vertical-align: top;\n",
       "    }\n",
       "\n",
       "    .dataframe thead th {\n",
       "        text-align: right;\n",
       "    }\n",
       "</style>\n",
       "<table border=\"1\" class=\"dataframe\">\n",
       "  <thead>\n",
       "    <tr style=\"text-align: right;\">\n",
       "      <th></th>\n",
       "      <th>City of London</th>\n",
       "      <th>Barking &amp; Dagenham</th>\n",
       "      <th>Barnet</th>\n",
       "      <th>Bexley</th>\n",
       "      <th>Brent</th>\n",
       "      <th>Bromley</th>\n",
       "      <th>Camden</th>\n",
       "      <th>Croydon</th>\n",
       "      <th>Ealing</th>\n",
       "      <th>Enfield</th>\n",
       "      <th>Greenwich</th>\n",
       "      <th>Hackney</th>\n",
       "      <th>Hammersmith &amp; Fulham</th>\n",
       "      <th>Haringey</th>\n",
       "      <th>Harrow</th>\n",
       "      <th>Havering</th>\n",
       "      <th>Hillingdon</th>\n",
       "      <th>Hounslow</th>\n",
       "      <th>Islington</th>\n",
       "      <th>Kensington &amp; Chelsea</th>\n",
       "      <th>Kingston upon Thames</th>\n",
       "      <th>Lambeth</th>\n",
       "      <th>Lewisham</th>\n",
       "      <th>Merton</th>\n",
       "      <th>Newham</th>\n",
       "      <th>Redbridge</th>\n",
       "      <th>Richmond upon Thames</th>\n",
       "      <th>Southwark</th>\n",
       "      <th>Sutton</th>\n",
       "      <th>Tower Hamlets</th>\n",
       "      <th>Waltham Forest</th>\n",
       "      <th>Wandsworth</th>\n",
       "      <th>Westminster</th>\n",
       "      <th>Unnamed: 34</th>\n",
       "      <th>Inner London</th>\n",
       "      <th>Outer London</th>\n",
       "      <th>Unnamed: 37</th>\n",
       "      <th>NORTH EAST</th>\n",
       "      <th>NORTH WEST</th>\n",
       "      <th>YORKS &amp; THE HUMBER</th>\n",
       "      <th>EAST MIDLANDS</th>\n",
       "      <th>WEST MIDLANDS</th>\n",
       "      <th>EAST OF ENGLAND</th>\n",
       "      <th>LONDON</th>\n",
       "      <th>SOUTH EAST</th>\n",
       "      <th>SOUTH WEST</th>\n",
       "      <th>Unnamed: 47</th>\n",
       "      <th>England</th>\n",
       "    </tr>\n",
       "  </thead>\n",
       "  <tbody>\n",
       "    <tr>\n",
       "      <th>NaT</th>\n",
       "      <td>E09000001</td>\n",
       "      <td>E09000002</td>\n",
       "      <td>E09000003</td>\n",
       "      <td>E09000004</td>\n",
       "      <td>E09000005</td>\n",
       "      <td>E09000006</td>\n",
       "      <td>E09000007</td>\n",
       "      <td>E09000008</td>\n",
       "      <td>E09000009</td>\n",
       "      <td>E09000010</td>\n",
       "      <td>E09000011</td>\n",
       "      <td>E09000012</td>\n",
       "      <td>E09000013</td>\n",
       "      <td>E09000014</td>\n",
       "      <td>E09000015</td>\n",
       "      <td>E09000016</td>\n",
       "      <td>E09000017</td>\n",
       "      <td>E09000018</td>\n",
       "      <td>E09000019</td>\n",
       "      <td>E09000020</td>\n",
       "      <td>E09000021</td>\n",
       "      <td>E09000022</td>\n",
       "      <td>E09000023</td>\n",
       "      <td>E09000024</td>\n",
       "      <td>E09000025</td>\n",
       "      <td>E09000026</td>\n",
       "      <td>E09000027</td>\n",
       "      <td>E09000028</td>\n",
       "      <td>E09000029</td>\n",
       "      <td>E09000030</td>\n",
       "      <td>E09000031</td>\n",
       "      <td>E09000032</td>\n",
       "      <td>E09000033</td>\n",
       "      <td>NaN</td>\n",
       "      <td>E13000001</td>\n",
       "      <td>E13000002</td>\n",
       "      <td>NaN</td>\n",
       "      <td>E12000001</td>\n",
       "      <td>E12000002</td>\n",
       "      <td>E12000003</td>\n",
       "      <td>E12000004</td>\n",
       "      <td>E12000005</td>\n",
       "      <td>E12000006</td>\n",
       "      <td>E12000007</td>\n",
       "      <td>E12000008</td>\n",
       "      <td>E12000009</td>\n",
       "      <td>NaN</td>\n",
       "      <td>E92000001</td>\n",
       "    </tr>\n",
       "    <tr>\n",
       "      <th>1995-01-01</th>\n",
       "      <td>91449</td>\n",
       "      <td>50460.2</td>\n",
       "      <td>93284.5</td>\n",
       "      <td>64958.1</td>\n",
       "      <td>71306.6</td>\n",
       "      <td>81671.5</td>\n",
       "      <td>120933</td>\n",
       "      <td>69158.2</td>\n",
       "      <td>79885.9</td>\n",
       "      <td>72514.7</td>\n",
       "      <td>62300.1</td>\n",
       "      <td>61296.5</td>\n",
       "      <td>124903</td>\n",
       "      <td>76287.6</td>\n",
       "      <td>84769.5</td>\n",
       "      <td>68000.1</td>\n",
       "      <td>73834.8</td>\n",
       "      <td>72231.7</td>\n",
       "      <td>92516.5</td>\n",
       "      <td>182695</td>\n",
       "      <td>80875.8</td>\n",
       "      <td>67771</td>\n",
       "      <td>60491.3</td>\n",
       "      <td>82070.6</td>\n",
       "      <td>53539.3</td>\n",
       "      <td>72189.6</td>\n",
       "      <td>109326</td>\n",
       "      <td>67885.2</td>\n",
       "      <td>71537</td>\n",
       "      <td>59865.2</td>\n",
       "      <td>61319.4</td>\n",
       "      <td>88559</td>\n",
       "      <td>133025</td>\n",
       "      <td>NaN</td>\n",
       "      <td>78252</td>\n",
       "      <td>72958.8</td>\n",
       "      <td>NaN</td>\n",
       "      <td>42076.4</td>\n",
       "      <td>43958.5</td>\n",
       "      <td>44803.4</td>\n",
       "      <td>45544.5</td>\n",
       "      <td>48527.5</td>\n",
       "      <td>56701.6</td>\n",
       "      <td>74435.8</td>\n",
       "      <td>64018.9</td>\n",
       "      <td>54705.2</td>\n",
       "      <td>NaN</td>\n",
       "      <td>53202.8</td>\n",
       "    </tr>\n",
       "    <tr>\n",
       "      <th>1995-02-01</th>\n",
       "      <td>82202.8</td>\n",
       "      <td>51085.8</td>\n",
       "      <td>93190.2</td>\n",
       "      <td>64787.9</td>\n",
       "      <td>72022.3</td>\n",
       "      <td>81657.6</td>\n",
       "      <td>119509</td>\n",
       "      <td>68951.1</td>\n",
       "      <td>80897.1</td>\n",
       "      <td>73155.2</td>\n",
       "      <td>60993.3</td>\n",
       "      <td>63187.1</td>\n",
       "      <td>122088</td>\n",
       "      <td>78901.2</td>\n",
       "      <td>83396.1</td>\n",
       "      <td>69393.5</td>\n",
       "      <td>75031.1</td>\n",
       "      <td>71051.6</td>\n",
       "      <td>94342.4</td>\n",
       "      <td>182345</td>\n",
       "      <td>81230.1</td>\n",
       "      <td>65381.5</td>\n",
       "      <td>60869.3</td>\n",
       "      <td>79982.7</td>\n",
       "      <td>53153.9</td>\n",
       "      <td>72141.6</td>\n",
       "      <td>111103</td>\n",
       "      <td>64799.1</td>\n",
       "      <td>70893.2</td>\n",
       "      <td>62318.5</td>\n",
       "      <td>60252.1</td>\n",
       "      <td>88641</td>\n",
       "      <td>131468</td>\n",
       "      <td>NaN</td>\n",
       "      <td>75885.7</td>\n",
       "      <td>72937.9</td>\n",
       "      <td>NaN</td>\n",
       "      <td>42572</td>\n",
       "      <td>43925.4</td>\n",
       "      <td>44528.8</td>\n",
       "      <td>46051.6</td>\n",
       "      <td>49341.3</td>\n",
       "      <td>56593.6</td>\n",
       "      <td>72777.9</td>\n",
       "      <td>63715</td>\n",
       "      <td>54356.1</td>\n",
       "      <td>NaN</td>\n",
       "      <td>53096.2</td>\n",
       "    </tr>\n",
       "  </tbody>\n",
       "</table>\n",
       "</div>"
      ],
      "text/plain": [
       "           City of London Barking & Dagenham  ... Unnamed: 47    England\n",
       "NaT             E09000001          E09000002  ...         NaN  E92000001\n",
       "1995-01-01          91449            50460.2  ...         NaN    53202.8\n",
       "1995-02-01        82202.8            51085.8  ...         NaN    53096.2\n",
       "\n",
       "[3 rows x 48 columns]"
      ]
     },
     "execution_count": 3,
     "metadata": {
      "tags": []
     },
     "output_type": "execute_result"
    }
   ],
   "source": [
    "properties.head(3)"
   ]
  },
  {
   "cell_type": "code",
   "execution_count": 4,
   "metadata": {
    "colab": {
     "base_uri": "https://localhost:8080/",
     "height": 34
    },
    "id": "HyZpGtNii9zZ",
    "outputId": "bb73a16b-f5e4-43e2-e33e-9a9d7b14893c"
   },
   "outputs": [
    {
     "data": {
      "text/plain": [
       "(306, 48)"
      ]
     },
     "execution_count": 4,
     "metadata": {
      "tags": []
     },
     "output_type": "execute_result"
    }
   ],
   "source": [
    "properties.shape"
   ]
  },
  {
   "cell_type": "markdown",
   "metadata": {
    "id": "tE9Sqt9-oAta"
   },
   "source": [
    "**2.2. Cleaning the data**\n",
    "\n",
    "You might find you need to transpose your dataframe, check out what its row indexes are, and reset the index. You  also might find you need to assign the values of the first row to your column headings  . (Hint: recall the .columns feature of DataFrames, as well as the iloc[] method).\n",
    "\n",
    "Don't be afraid to use StackOverflow for help  with this."
   ]
  },
  {
   "cell_type": "code",
   "execution_count": 5,
   "metadata": {
    "colab": {
     "base_uri": "https://localhost:8080/",
     "height": 242
    },
    "id": "cdAu1A3YoH_r",
    "outputId": "689ebbee-b365-4f5b-f357-564f3e076af5"
   },
   "outputs": [
    {
     "data": {
      "text/html": [
       "<div>\n",
       "<style scoped>\n",
       "    .dataframe tbody tr th:only-of-type {\n",
       "        vertical-align: middle;\n",
       "    }\n",
       "\n",
       "    .dataframe tbody tr th {\n",
       "        vertical-align: top;\n",
       "    }\n",
       "\n",
       "    .dataframe thead th {\n",
       "        text-align: right;\n",
       "    }\n",
       "</style>\n",
       "<table border=\"1\" class=\"dataframe\">\n",
       "  <thead>\n",
       "    <tr style=\"text-align: right;\">\n",
       "      <th></th>\n",
       "      <th>NaT</th>\n",
       "      <th>1995-01-01</th>\n",
       "      <th>1995-02-01</th>\n",
       "      <th>1995-03-01</th>\n",
       "      <th>1995-04-01</th>\n",
       "      <th>1995-05-01</th>\n",
       "      <th>1995-06-01</th>\n",
       "      <th>1995-07-01</th>\n",
       "      <th>1995-08-01</th>\n",
       "      <th>1995-09-01</th>\n",
       "      <th>1995-10-01</th>\n",
       "      <th>1995-11-01</th>\n",
       "      <th>1995-12-01</th>\n",
       "      <th>1996-01-01</th>\n",
       "      <th>1996-02-01</th>\n",
       "      <th>1996-03-01</th>\n",
       "      <th>1996-04-01</th>\n",
       "      <th>1996-05-01</th>\n",
       "      <th>1996-06-01</th>\n",
       "      <th>1996-07-01</th>\n",
       "      <th>1996-08-01</th>\n",
       "      <th>1996-09-01</th>\n",
       "      <th>1996-10-01</th>\n",
       "      <th>1996-11-01</th>\n",
       "      <th>1996-12-01</th>\n",
       "      <th>1997-01-01</th>\n",
       "      <th>1997-02-01</th>\n",
       "      <th>1997-03-01</th>\n",
       "      <th>1997-04-01</th>\n",
       "      <th>1997-05-01</th>\n",
       "      <th>1997-06-01</th>\n",
       "      <th>1997-07-01</th>\n",
       "      <th>1997-08-01</th>\n",
       "      <th>1997-09-01</th>\n",
       "      <th>1997-10-01</th>\n",
       "      <th>1997-11-01</th>\n",
       "      <th>1997-12-01</th>\n",
       "      <th>1998-01-01</th>\n",
       "      <th>1998-02-01</th>\n",
       "      <th>1998-03-01</th>\n",
       "      <th>...</th>\n",
       "      <th>2017-02-01</th>\n",
       "      <th>2017-03-01</th>\n",
       "      <th>2017-04-01</th>\n",
       "      <th>2017-05-01</th>\n",
       "      <th>2017-06-01</th>\n",
       "      <th>2017-07-01</th>\n",
       "      <th>2017-08-01</th>\n",
       "      <th>2017-09-01</th>\n",
       "      <th>2017-10-01</th>\n",
       "      <th>2017-11-01</th>\n",
       "      <th>2017-12-01</th>\n",
       "      <th>2018-01-01</th>\n",
       "      <th>2018-02-01</th>\n",
       "      <th>2018-03-01</th>\n",
       "      <th>2018-04-01</th>\n",
       "      <th>2018-05-01</th>\n",
       "      <th>2018-06-01</th>\n",
       "      <th>2018-07-01</th>\n",
       "      <th>2018-08-01</th>\n",
       "      <th>2018-09-01</th>\n",
       "      <th>2018-10-01</th>\n",
       "      <th>2018-11-01</th>\n",
       "      <th>2018-12-01</th>\n",
       "      <th>2019-01-01</th>\n",
       "      <th>2019-02-01</th>\n",
       "      <th>2019-03-01</th>\n",
       "      <th>2019-04-01</th>\n",
       "      <th>2019-05-01</th>\n",
       "      <th>2019-06-01</th>\n",
       "      <th>2019-07-01</th>\n",
       "      <th>2019-08-01</th>\n",
       "      <th>2019-09-01</th>\n",
       "      <th>2019-10-01</th>\n",
       "      <th>2019-11-01</th>\n",
       "      <th>2019-12-01</th>\n",
       "      <th>2020-01-01</th>\n",
       "      <th>2020-02-01</th>\n",
       "      <th>2020-03-01</th>\n",
       "      <th>2020-04-01</th>\n",
       "      <th>2020-05-01</th>\n",
       "    </tr>\n",
       "  </thead>\n",
       "  <tbody>\n",
       "    <tr>\n",
       "      <th>City of London</th>\n",
       "      <td>E09000001</td>\n",
       "      <td>91449</td>\n",
       "      <td>82202.8</td>\n",
       "      <td>79120.7</td>\n",
       "      <td>77101.2</td>\n",
       "      <td>84409.1</td>\n",
       "      <td>94900.5</td>\n",
       "      <td>110128</td>\n",
       "      <td>112329</td>\n",
       "      <td>104473</td>\n",
       "      <td>108038</td>\n",
       "      <td>117636</td>\n",
       "      <td>127232</td>\n",
       "      <td>108999</td>\n",
       "      <td>93356.7</td>\n",
       "      <td>93706.7</td>\n",
       "      <td>120543</td>\n",
       "      <td>112050</td>\n",
       "      <td>114226</td>\n",
       "      <td>97546.7</td>\n",
       "      <td>114179</td>\n",
       "      <td>108138</td>\n",
       "      <td>98934.2</td>\n",
       "      <td>99706.8</td>\n",
       "      <td>106427</td>\n",
       "      <td>116343</td>\n",
       "      <td>111142</td>\n",
       "      <td>107488</td>\n",
       "      <td>108480</td>\n",
       "      <td>115453</td>\n",
       "      <td>118317</td>\n",
       "      <td>117034</td>\n",
       "      <td>113585</td>\n",
       "      <td>115159</td>\n",
       "      <td>121251</td>\n",
       "      <td>131074</td>\n",
       "      <td>130035</td>\n",
       "      <td>124382</td>\n",
       "      <td>143829</td>\n",
       "      <td>156508</td>\n",
       "      <td>...</td>\n",
       "      <td>820665</td>\n",
       "      <td>853943</td>\n",
       "      <td>906146</td>\n",
       "      <td>939912</td>\n",
       "      <td>930979</td>\n",
       "      <td>854798</td>\n",
       "      <td>847422</td>\n",
       "      <td>836674</td>\n",
       "      <td>818477</td>\n",
       "      <td>790159</td>\n",
       "      <td>778002</td>\n",
       "      <td>802129</td>\n",
       "      <td>783266</td>\n",
       "      <td>740799</td>\n",
       "      <td>732351</td>\n",
       "      <td>796399</td>\n",
       "      <td>789278</td>\n",
       "      <td>809697</td>\n",
       "      <td>784144</td>\n",
       "      <td>800875</td>\n",
       "      <td>802869</td>\n",
       "      <td>764207</td>\n",
       "      <td>811694</td>\n",
       "      <td>865636</td>\n",
       "      <td>894520</td>\n",
       "      <td>853451</td>\n",
       "      <td>738797</td>\n",
       "      <td>719218</td>\n",
       "      <td>761526</td>\n",
       "      <td>756407</td>\n",
       "      <td>813770</td>\n",
       "      <td>810455</td>\n",
       "      <td>826227</td>\n",
       "      <td>776894</td>\n",
       "      <td>737275</td>\n",
       "      <td>747611</td>\n",
       "      <td>777640</td>\n",
       "      <td>844989</td>\n",
       "      <td>867841</td>\n",
       "      <td>899831</td>\n",
       "    </tr>\n",
       "    <tr>\n",
       "      <th>Barking &amp; Dagenham</th>\n",
       "      <td>E09000002</td>\n",
       "      <td>50460.2</td>\n",
       "      <td>51085.8</td>\n",
       "      <td>51269</td>\n",
       "      <td>53133.5</td>\n",
       "      <td>53042.2</td>\n",
       "      <td>53700.3</td>\n",
       "      <td>52113.1</td>\n",
       "      <td>52232.2</td>\n",
       "      <td>51471.6</td>\n",
       "      <td>51513.8</td>\n",
       "      <td>50848.7</td>\n",
       "      <td>50945.2</td>\n",
       "      <td>50828.1</td>\n",
       "      <td>51440.7</td>\n",
       "      <td>51907.1</td>\n",
       "      <td>51724</td>\n",
       "      <td>51735.7</td>\n",
       "      <td>50761.4</td>\n",
       "      <td>50621.1</td>\n",
       "      <td>51104.7</td>\n",
       "      <td>51892.7</td>\n",
       "      <td>52533.2</td>\n",
       "      <td>52216</td>\n",
       "      <td>53853.5</td>\n",
       "      <td>54459</td>\n",
       "      <td>55451.5</td>\n",
       "      <td>55004.8</td>\n",
       "      <td>55279.9</td>\n",
       "      <td>54936.9</td>\n",
       "      <td>55286.7</td>\n",
       "      <td>55658.9</td>\n",
       "      <td>56506.7</td>\n",
       "      <td>56306.3</td>\n",
       "      <td>57200.2</td>\n",
       "      <td>57575.3</td>\n",
       "      <td>58025</td>\n",
       "      <td>57559</td>\n",
       "      <td>57360.3</td>\n",
       "      <td>57908.5</td>\n",
       "      <td>...</td>\n",
       "      <td>280698</td>\n",
       "      <td>278213</td>\n",
       "      <td>280567</td>\n",
       "      <td>286018</td>\n",
       "      <td>289569</td>\n",
       "      <td>291727</td>\n",
       "      <td>290965</td>\n",
       "      <td>292519</td>\n",
       "      <td>293390</td>\n",
       "      <td>293796</td>\n",
       "      <td>292915</td>\n",
       "      <td>291548</td>\n",
       "      <td>292777</td>\n",
       "      <td>291723</td>\n",
       "      <td>291184</td>\n",
       "      <td>290239</td>\n",
       "      <td>294236</td>\n",
       "      <td>294953</td>\n",
       "      <td>295908</td>\n",
       "      <td>296424</td>\n",
       "      <td>299648</td>\n",
       "      <td>302606</td>\n",
       "      <td>301114</td>\n",
       "      <td>297181</td>\n",
       "      <td>293839</td>\n",
       "      <td>294065</td>\n",
       "      <td>295498</td>\n",
       "      <td>295092</td>\n",
       "      <td>293889</td>\n",
       "      <td>297426</td>\n",
       "      <td>299421</td>\n",
       "      <td>304778</td>\n",
       "      <td>304579</td>\n",
       "      <td>306390</td>\n",
       "      <td>301283</td>\n",
       "      <td>303653</td>\n",
       "      <td>304265</td>\n",
       "      <td>304099</td>\n",
       "      <td>283139</td>\n",
       "      <td>295744</td>\n",
       "    </tr>\n",
       "    <tr>\n",
       "      <th>Barnet</th>\n",
       "      <td>E09000003</td>\n",
       "      <td>93284.5</td>\n",
       "      <td>93190.2</td>\n",
       "      <td>92247.5</td>\n",
       "      <td>90762.9</td>\n",
       "      <td>90258</td>\n",
       "      <td>90107.2</td>\n",
       "      <td>91441.2</td>\n",
       "      <td>92361.3</td>\n",
       "      <td>93273.1</td>\n",
       "      <td>92567.4</td>\n",
       "      <td>90883.2</td>\n",
       "      <td>91133.9</td>\n",
       "      <td>91111</td>\n",
       "      <td>92429.5</td>\n",
       "      <td>91409.8</td>\n",
       "      <td>92394.2</td>\n",
       "      <td>91058.9</td>\n",
       "      <td>91978.2</td>\n",
       "      <td>92444.1</td>\n",
       "      <td>95516</td>\n",
       "      <td>97489.9</td>\n",
       "      <td>97844.5</td>\n",
       "      <td>97155</td>\n",
       "      <td>97174.3</td>\n",
       "      <td>98558.8</td>\n",
       "      <td>100076</td>\n",
       "      <td>101130</td>\n",
       "      <td>101201</td>\n",
       "      <td>103287</td>\n",
       "      <td>104609</td>\n",
       "      <td>107235</td>\n",
       "      <td>108730</td>\n",
       "      <td>112380</td>\n",
       "      <td>114515</td>\n",
       "      <td>115356</td>\n",
       "      <td>115521</td>\n",
       "      <td>115902</td>\n",
       "      <td>116995</td>\n",
       "      <td>118866</td>\n",
       "      <td>...</td>\n",
       "      <td>540501</td>\n",
       "      <td>549401</td>\n",
       "      <td>543699</td>\n",
       "      <td>544994</td>\n",
       "      <td>531344</td>\n",
       "      <td>527928</td>\n",
       "      <td>526223</td>\n",
       "      <td>537986</td>\n",
       "      <td>544090</td>\n",
       "      <td>541563</td>\n",
       "      <td>538718</td>\n",
       "      <td>531832</td>\n",
       "      <td>531736</td>\n",
       "      <td>538120</td>\n",
       "      <td>541502</td>\n",
       "      <td>533088</td>\n",
       "      <td>524702</td>\n",
       "      <td>523397</td>\n",
       "      <td>533715</td>\n",
       "      <td>534951</td>\n",
       "      <td>537284</td>\n",
       "      <td>535060</td>\n",
       "      <td>533810</td>\n",
       "      <td>528639</td>\n",
       "      <td>523679</td>\n",
       "      <td>516531</td>\n",
       "      <td>512343</td>\n",
       "      <td>503911</td>\n",
       "      <td>512694</td>\n",
       "      <td>514668</td>\n",
       "      <td>528577</td>\n",
       "      <td>526670</td>\n",
       "      <td>525678</td>\n",
       "      <td>522639</td>\n",
       "      <td>519306</td>\n",
       "      <td>518542</td>\n",
       "      <td>519121</td>\n",
       "      <td>527747</td>\n",
       "      <td>526553</td>\n",
       "      <td>532503</td>\n",
       "    </tr>\n",
       "  </tbody>\n",
       "</table>\n",
       "<p>3 rows × 306 columns</p>\n",
       "</div>"
      ],
      "text/plain": [
       "                          NaT 1995-01-01  ... 2020-04-01 2020-05-01\n",
       "City of London      E09000001      91449  ...     867841     899831\n",
       "Barking & Dagenham  E09000002    50460.2  ...     283139     295744\n",
       "Barnet              E09000003    93284.5  ...     526553     532503\n",
       "\n",
       "[3 rows x 306 columns]"
      ]
     },
     "execution_count": 5,
     "metadata": {
      "tags": []
     },
     "output_type": "execute_result"
    }
   ],
   "source": [
    "dflon = properties.transpose()\n",
    "dflon.head(3)"
   ]
  },
  {
   "cell_type": "markdown",
   "metadata": {
    "id": "o1uLbJAsoIjK"
   },
   "source": [
    "**2.3. Cleaning the data (part 2)**\n",
    "\n",
    "You might we have to **rename** a couple columns. How do you do this? The clue's pretty bold..."
   ]
  },
  {
   "cell_type": "code",
   "execution_count": 6,
   "metadata": {
    "colab": {
     "base_uri": "https://localhost:8080/",
     "height": 221
    },
    "id": "GKkmn1AnoVZS",
    "outputId": "86acac64-e6b9-4140-91a3-2ce9408ee852"
   },
   "outputs": [
    {
     "data": {
      "text/plain": [
       "Index(['City of London', 'Barking & Dagenham', 'Barnet', 'Bexley', 'Brent',\n",
       "       'Bromley', 'Camden', 'Croydon', 'Ealing', 'Enfield', 'Greenwich',\n",
       "       'Hackney', 'Hammersmith & Fulham', 'Haringey', 'Harrow', 'Havering',\n",
       "       'Hillingdon', 'Hounslow', 'Islington', 'Kensington & Chelsea',\n",
       "       'Kingston upon Thames', 'Lambeth', 'Lewisham', 'Merton', 'Newham',\n",
       "       'Redbridge', 'Richmond upon Thames', 'Southwark', 'Sutton',\n",
       "       'Tower Hamlets', 'Waltham Forest', 'Wandsworth', 'Westminster',\n",
       "       'Unnamed: 34', 'Inner London', 'Outer London', 'Unnamed: 37',\n",
       "       'NORTH EAST', 'NORTH WEST', 'YORKS & THE HUMBER', 'EAST MIDLANDS',\n",
       "       'WEST MIDLANDS', 'EAST OF ENGLAND', 'LONDON', 'SOUTH EAST',\n",
       "       'SOUTH WEST', 'Unnamed: 47', 'England'],\n",
       "      dtype='object')"
      ]
     },
     "execution_count": 6,
     "metadata": {
      "tags": []
     },
     "output_type": "execute_result"
    }
   ],
   "source": [
    "dflon.index"
   ]
  },
  {
   "cell_type": "code",
   "execution_count": 7,
   "metadata": {
    "colab": {
     "base_uri": "https://localhost:8080/",
     "height": 259
    },
    "id": "J0XeWolvPYSk",
    "outputId": "41e6ee35-ebf4-4e0b-d650-b2fcd06b3abf"
   },
   "outputs": [
    {
     "data": {
      "text/html": [
       "<div>\n",
       "<style scoped>\n",
       "    .dataframe tbody tr th:only-of-type {\n",
       "        vertical-align: middle;\n",
       "    }\n",
       "\n",
       "    .dataframe tbody tr th {\n",
       "        vertical-align: top;\n",
       "    }\n",
       "\n",
       "    .dataframe thead th {\n",
       "        text-align: right;\n",
       "    }\n",
       "</style>\n",
       "<table border=\"1\" class=\"dataframe\">\n",
       "  <thead>\n",
       "    <tr style=\"text-align: right;\">\n",
       "      <th></th>\n",
       "      <th>Borough</th>\n",
       "      <th>Postal Code</th>\n",
       "      <th>1995-01-01 00:00:00</th>\n",
       "      <th>1995-02-01 00:00:00</th>\n",
       "      <th>1995-03-01 00:00:00</th>\n",
       "      <th>1995-04-01 00:00:00</th>\n",
       "      <th>1995-05-01 00:00:00</th>\n",
       "      <th>1995-06-01 00:00:00</th>\n",
       "      <th>1995-07-01 00:00:00</th>\n",
       "      <th>1995-08-01 00:00:00</th>\n",
       "      <th>1995-09-01 00:00:00</th>\n",
       "      <th>1995-10-01 00:00:00</th>\n",
       "      <th>1995-11-01 00:00:00</th>\n",
       "      <th>1995-12-01 00:00:00</th>\n",
       "      <th>1996-01-01 00:00:00</th>\n",
       "      <th>1996-02-01 00:00:00</th>\n",
       "      <th>1996-03-01 00:00:00</th>\n",
       "      <th>1996-04-01 00:00:00</th>\n",
       "      <th>1996-05-01 00:00:00</th>\n",
       "      <th>1996-06-01 00:00:00</th>\n",
       "      <th>1996-07-01 00:00:00</th>\n",
       "      <th>1996-08-01 00:00:00</th>\n",
       "      <th>1996-09-01 00:00:00</th>\n",
       "      <th>1996-10-01 00:00:00</th>\n",
       "      <th>1996-11-01 00:00:00</th>\n",
       "      <th>1996-12-01 00:00:00</th>\n",
       "      <th>1997-01-01 00:00:00</th>\n",
       "      <th>1997-02-01 00:00:00</th>\n",
       "      <th>1997-03-01 00:00:00</th>\n",
       "      <th>1997-04-01 00:00:00</th>\n",
       "      <th>1997-05-01 00:00:00</th>\n",
       "      <th>1997-06-01 00:00:00</th>\n",
       "      <th>1997-07-01 00:00:00</th>\n",
       "      <th>1997-08-01 00:00:00</th>\n",
       "      <th>1997-09-01 00:00:00</th>\n",
       "      <th>1997-10-01 00:00:00</th>\n",
       "      <th>1997-11-01 00:00:00</th>\n",
       "      <th>1997-12-01 00:00:00</th>\n",
       "      <th>1998-01-01 00:00:00</th>\n",
       "      <th>1998-02-01 00:00:00</th>\n",
       "      <th>...</th>\n",
       "      <th>2017-02-01 00:00:00</th>\n",
       "      <th>2017-03-01 00:00:00</th>\n",
       "      <th>2017-04-01 00:00:00</th>\n",
       "      <th>2017-05-01 00:00:00</th>\n",
       "      <th>2017-06-01 00:00:00</th>\n",
       "      <th>2017-07-01 00:00:00</th>\n",
       "      <th>2017-08-01 00:00:00</th>\n",
       "      <th>2017-09-01 00:00:00</th>\n",
       "      <th>2017-10-01 00:00:00</th>\n",
       "      <th>2017-11-01 00:00:00</th>\n",
       "      <th>2017-12-01 00:00:00</th>\n",
       "      <th>2018-01-01 00:00:00</th>\n",
       "      <th>2018-02-01 00:00:00</th>\n",
       "      <th>2018-03-01 00:00:00</th>\n",
       "      <th>2018-04-01 00:00:00</th>\n",
       "      <th>2018-05-01 00:00:00</th>\n",
       "      <th>2018-06-01 00:00:00</th>\n",
       "      <th>2018-07-01 00:00:00</th>\n",
       "      <th>2018-08-01 00:00:00</th>\n",
       "      <th>2018-09-01 00:00:00</th>\n",
       "      <th>2018-10-01 00:00:00</th>\n",
       "      <th>2018-11-01 00:00:00</th>\n",
       "      <th>2018-12-01 00:00:00</th>\n",
       "      <th>2019-01-01 00:00:00</th>\n",
       "      <th>2019-02-01 00:00:00</th>\n",
       "      <th>2019-03-01 00:00:00</th>\n",
       "      <th>2019-04-01 00:00:00</th>\n",
       "      <th>2019-05-01 00:00:00</th>\n",
       "      <th>2019-06-01 00:00:00</th>\n",
       "      <th>2019-07-01 00:00:00</th>\n",
       "      <th>2019-08-01 00:00:00</th>\n",
       "      <th>2019-09-01 00:00:00</th>\n",
       "      <th>2019-10-01 00:00:00</th>\n",
       "      <th>2019-11-01 00:00:00</th>\n",
       "      <th>2019-12-01 00:00:00</th>\n",
       "      <th>2020-01-01 00:00:00</th>\n",
       "      <th>2020-02-01 00:00:00</th>\n",
       "      <th>2020-03-01 00:00:00</th>\n",
       "      <th>2020-04-01 00:00:00</th>\n",
       "      <th>2020-05-01 00:00:00</th>\n",
       "    </tr>\n",
       "  </thead>\n",
       "  <tbody>\n",
       "    <tr>\n",
       "      <th>0</th>\n",
       "      <td>City of London</td>\n",
       "      <td>E09000001</td>\n",
       "      <td>91449</td>\n",
       "      <td>82202.8</td>\n",
       "      <td>79120.7</td>\n",
       "      <td>77101.2</td>\n",
       "      <td>84409.1</td>\n",
       "      <td>94900.5</td>\n",
       "      <td>110128</td>\n",
       "      <td>112329</td>\n",
       "      <td>104473</td>\n",
       "      <td>108038</td>\n",
       "      <td>117636</td>\n",
       "      <td>127232</td>\n",
       "      <td>108999</td>\n",
       "      <td>93356.7</td>\n",
       "      <td>93706.7</td>\n",
       "      <td>120543</td>\n",
       "      <td>112050</td>\n",
       "      <td>114226</td>\n",
       "      <td>97546.7</td>\n",
       "      <td>114179</td>\n",
       "      <td>108138</td>\n",
       "      <td>98934.2</td>\n",
       "      <td>99706.8</td>\n",
       "      <td>106427</td>\n",
       "      <td>116343</td>\n",
       "      <td>111142</td>\n",
       "      <td>107488</td>\n",
       "      <td>108480</td>\n",
       "      <td>115453</td>\n",
       "      <td>118317</td>\n",
       "      <td>117034</td>\n",
       "      <td>113585</td>\n",
       "      <td>115159</td>\n",
       "      <td>121251</td>\n",
       "      <td>131074</td>\n",
       "      <td>130035</td>\n",
       "      <td>124382</td>\n",
       "      <td>143829</td>\n",
       "      <td>...</td>\n",
       "      <td>820665</td>\n",
       "      <td>853943</td>\n",
       "      <td>906146</td>\n",
       "      <td>939912</td>\n",
       "      <td>930979</td>\n",
       "      <td>854798</td>\n",
       "      <td>847422</td>\n",
       "      <td>836674</td>\n",
       "      <td>818477</td>\n",
       "      <td>790159</td>\n",
       "      <td>778002</td>\n",
       "      <td>802129</td>\n",
       "      <td>783266</td>\n",
       "      <td>740799</td>\n",
       "      <td>732351</td>\n",
       "      <td>796399</td>\n",
       "      <td>789278</td>\n",
       "      <td>809697</td>\n",
       "      <td>784144</td>\n",
       "      <td>800875</td>\n",
       "      <td>802869</td>\n",
       "      <td>764207</td>\n",
       "      <td>811694</td>\n",
       "      <td>865636</td>\n",
       "      <td>894520</td>\n",
       "      <td>853451</td>\n",
       "      <td>738797</td>\n",
       "      <td>719218</td>\n",
       "      <td>761526</td>\n",
       "      <td>756407</td>\n",
       "      <td>813770</td>\n",
       "      <td>810455</td>\n",
       "      <td>826227</td>\n",
       "      <td>776894</td>\n",
       "      <td>737275</td>\n",
       "      <td>747611</td>\n",
       "      <td>777640</td>\n",
       "      <td>844989</td>\n",
       "      <td>867841</td>\n",
       "      <td>899831</td>\n",
       "    </tr>\n",
       "    <tr>\n",
       "      <th>1</th>\n",
       "      <td>Barking &amp; Dagenham</td>\n",
       "      <td>E09000002</td>\n",
       "      <td>50460.2</td>\n",
       "      <td>51085.8</td>\n",
       "      <td>51269</td>\n",
       "      <td>53133.5</td>\n",
       "      <td>53042.2</td>\n",
       "      <td>53700.3</td>\n",
       "      <td>52113.1</td>\n",
       "      <td>52232.2</td>\n",
       "      <td>51471.6</td>\n",
       "      <td>51513.8</td>\n",
       "      <td>50848.7</td>\n",
       "      <td>50945.2</td>\n",
       "      <td>50828.1</td>\n",
       "      <td>51440.7</td>\n",
       "      <td>51907.1</td>\n",
       "      <td>51724</td>\n",
       "      <td>51735.7</td>\n",
       "      <td>50761.4</td>\n",
       "      <td>50621.1</td>\n",
       "      <td>51104.7</td>\n",
       "      <td>51892.7</td>\n",
       "      <td>52533.2</td>\n",
       "      <td>52216</td>\n",
       "      <td>53853.5</td>\n",
       "      <td>54459</td>\n",
       "      <td>55451.5</td>\n",
       "      <td>55004.8</td>\n",
       "      <td>55279.9</td>\n",
       "      <td>54936.9</td>\n",
       "      <td>55286.7</td>\n",
       "      <td>55658.9</td>\n",
       "      <td>56506.7</td>\n",
       "      <td>56306.3</td>\n",
       "      <td>57200.2</td>\n",
       "      <td>57575.3</td>\n",
       "      <td>58025</td>\n",
       "      <td>57559</td>\n",
       "      <td>57360.3</td>\n",
       "      <td>...</td>\n",
       "      <td>280698</td>\n",
       "      <td>278213</td>\n",
       "      <td>280567</td>\n",
       "      <td>286018</td>\n",
       "      <td>289569</td>\n",
       "      <td>291727</td>\n",
       "      <td>290965</td>\n",
       "      <td>292519</td>\n",
       "      <td>293390</td>\n",
       "      <td>293796</td>\n",
       "      <td>292915</td>\n",
       "      <td>291548</td>\n",
       "      <td>292777</td>\n",
       "      <td>291723</td>\n",
       "      <td>291184</td>\n",
       "      <td>290239</td>\n",
       "      <td>294236</td>\n",
       "      <td>294953</td>\n",
       "      <td>295908</td>\n",
       "      <td>296424</td>\n",
       "      <td>299648</td>\n",
       "      <td>302606</td>\n",
       "      <td>301114</td>\n",
       "      <td>297181</td>\n",
       "      <td>293839</td>\n",
       "      <td>294065</td>\n",
       "      <td>295498</td>\n",
       "      <td>295092</td>\n",
       "      <td>293889</td>\n",
       "      <td>297426</td>\n",
       "      <td>299421</td>\n",
       "      <td>304778</td>\n",
       "      <td>304579</td>\n",
       "      <td>306390</td>\n",
       "      <td>301283</td>\n",
       "      <td>303653</td>\n",
       "      <td>304265</td>\n",
       "      <td>304099</td>\n",
       "      <td>283139</td>\n",
       "      <td>295744</td>\n",
       "    </tr>\n",
       "    <tr>\n",
       "      <th>2</th>\n",
       "      <td>Barnet</td>\n",
       "      <td>E09000003</td>\n",
       "      <td>93284.5</td>\n",
       "      <td>93190.2</td>\n",
       "      <td>92247.5</td>\n",
       "      <td>90762.9</td>\n",
       "      <td>90258</td>\n",
       "      <td>90107.2</td>\n",
       "      <td>91441.2</td>\n",
       "      <td>92361.3</td>\n",
       "      <td>93273.1</td>\n",
       "      <td>92567.4</td>\n",
       "      <td>90883.2</td>\n",
       "      <td>91133.9</td>\n",
       "      <td>91111</td>\n",
       "      <td>92429.5</td>\n",
       "      <td>91409.8</td>\n",
       "      <td>92394.2</td>\n",
       "      <td>91058.9</td>\n",
       "      <td>91978.2</td>\n",
       "      <td>92444.1</td>\n",
       "      <td>95516</td>\n",
       "      <td>97489.9</td>\n",
       "      <td>97844.5</td>\n",
       "      <td>97155</td>\n",
       "      <td>97174.3</td>\n",
       "      <td>98558.8</td>\n",
       "      <td>100076</td>\n",
       "      <td>101130</td>\n",
       "      <td>101201</td>\n",
       "      <td>103287</td>\n",
       "      <td>104609</td>\n",
       "      <td>107235</td>\n",
       "      <td>108730</td>\n",
       "      <td>112380</td>\n",
       "      <td>114515</td>\n",
       "      <td>115356</td>\n",
       "      <td>115521</td>\n",
       "      <td>115902</td>\n",
       "      <td>116995</td>\n",
       "      <td>...</td>\n",
       "      <td>540501</td>\n",
       "      <td>549401</td>\n",
       "      <td>543699</td>\n",
       "      <td>544994</td>\n",
       "      <td>531344</td>\n",
       "      <td>527928</td>\n",
       "      <td>526223</td>\n",
       "      <td>537986</td>\n",
       "      <td>544090</td>\n",
       "      <td>541563</td>\n",
       "      <td>538718</td>\n",
       "      <td>531832</td>\n",
       "      <td>531736</td>\n",
       "      <td>538120</td>\n",
       "      <td>541502</td>\n",
       "      <td>533088</td>\n",
       "      <td>524702</td>\n",
       "      <td>523397</td>\n",
       "      <td>533715</td>\n",
       "      <td>534951</td>\n",
       "      <td>537284</td>\n",
       "      <td>535060</td>\n",
       "      <td>533810</td>\n",
       "      <td>528639</td>\n",
       "      <td>523679</td>\n",
       "      <td>516531</td>\n",
       "      <td>512343</td>\n",
       "      <td>503911</td>\n",
       "      <td>512694</td>\n",
       "      <td>514668</td>\n",
       "      <td>528577</td>\n",
       "      <td>526670</td>\n",
       "      <td>525678</td>\n",
       "      <td>522639</td>\n",
       "      <td>519306</td>\n",
       "      <td>518542</td>\n",
       "      <td>519121</td>\n",
       "      <td>527747</td>\n",
       "      <td>526553</td>\n",
       "      <td>532503</td>\n",
       "    </tr>\n",
       "  </tbody>\n",
       "</table>\n",
       "<p>3 rows × 307 columns</p>\n",
       "</div>"
      ],
      "text/plain": [
       "              Borough Postal Code  ... 2020-04-01 00:00:00 2020-05-01 00:00:00\n",
       "0      City of London   E09000001  ...              867841              899831\n",
       "1  Barking & Dagenham   E09000002  ...              283139              295744\n",
       "2              Barnet   E09000003  ...              526553              532503\n",
       "\n",
       "[3 rows x 307 columns]"
      ]
     },
     "execution_count": 7,
     "metadata": {
      "tags": []
     },
     "output_type": "execute_result"
    }
   ],
   "source": [
    "dflon1 = dflon.reset_index()\n",
    "dflon1.rename(columns={dflon1.columns[0]: \"Borough\", dflon1.columns[1]: \"Postal Code\"}, inplace = True)\n",
    "dflon1.head(3)"
   ]
  },
  {
   "cell_type": "code",
   "execution_count": 8,
   "metadata": {
    "colab": {
     "base_uri": "https://localhost:8080/",
     "height": 187
    },
    "id": "yJEBeJolPqc_",
    "outputId": "2c9a5d1e-b20c-4136-875c-789d8569a44a"
   },
   "outputs": [
    {
     "data": {
      "text/plain": [
       "Index([          'Borough',       'Postal Code', 1995-01-01 00:00:00,\n",
       "       1995-02-01 00:00:00, 1995-03-01 00:00:00, 1995-04-01 00:00:00,\n",
       "       1995-05-01 00:00:00, 1995-06-01 00:00:00, 1995-07-01 00:00:00,\n",
       "       1995-08-01 00:00:00,\n",
       "       ...\n",
       "       2019-08-01 00:00:00, 2019-09-01 00:00:00, 2019-10-01 00:00:00,\n",
       "       2019-11-01 00:00:00, 2019-12-01 00:00:00, 2020-01-01 00:00:00,\n",
       "       2020-02-01 00:00:00, 2020-03-01 00:00:00, 2020-04-01 00:00:00,\n",
       "       2020-05-01 00:00:00],\n",
       "      dtype='object', length=307)"
      ]
     },
     "execution_count": 8,
     "metadata": {
      "tags": []
     },
     "output_type": "execute_result"
    }
   ],
   "source": [
    "dflon1.columns"
   ]
  },
  {
   "cell_type": "markdown",
   "metadata": {
    "id": "jy8BzXHmoWEw"
   },
   "source": [
    "**2.4.Transforming the data**\n",
    "\n",
    "Remember what Wes McKinney said about tidy data? \n",
    "\n",
    "You might need to **melt** your DataFrame here. "
   ]
  },
  {
   "cell_type": "code",
   "execution_count": 9,
   "metadata": {
    "colab": {
     "base_uri": "https://localhost:8080/",
     "height": 142
    },
    "id": "S2wM0qLuo2Zt",
    "outputId": "bbd0d865-ea0d-4910-aa02-8cc8ddc1b427"
   },
   "outputs": [
    {
     "data": {
      "text/html": [
       "<div>\n",
       "<style scoped>\n",
       "    .dataframe tbody tr th:only-of-type {\n",
       "        vertical-align: middle;\n",
       "    }\n",
       "\n",
       "    .dataframe tbody tr th {\n",
       "        vertical-align: top;\n",
       "    }\n",
       "\n",
       "    .dataframe thead th {\n",
       "        text-align: right;\n",
       "    }\n",
       "</style>\n",
       "<table border=\"1\" class=\"dataframe\">\n",
       "  <thead>\n",
       "    <tr style=\"text-align: right;\">\n",
       "      <th></th>\n",
       "      <th>Borough</th>\n",
       "      <th>Postal Code</th>\n",
       "      <th>Month</th>\n",
       "      <th>Avg Value</th>\n",
       "    </tr>\n",
       "  </thead>\n",
       "  <tbody>\n",
       "    <tr>\n",
       "      <th>0</th>\n",
       "      <td>City of London</td>\n",
       "      <td>E09000001</td>\n",
       "      <td>1995-01-01</td>\n",
       "      <td>91449</td>\n",
       "    </tr>\n",
       "    <tr>\n",
       "      <th>1</th>\n",
       "      <td>Barking &amp; Dagenham</td>\n",
       "      <td>E09000002</td>\n",
       "      <td>1995-01-01</td>\n",
       "      <td>50460.2</td>\n",
       "    </tr>\n",
       "    <tr>\n",
       "      <th>2</th>\n",
       "      <td>Barnet</td>\n",
       "      <td>E09000003</td>\n",
       "      <td>1995-01-01</td>\n",
       "      <td>93284.5</td>\n",
       "    </tr>\n",
       "  </tbody>\n",
       "</table>\n",
       "</div>"
      ],
      "text/plain": [
       "              Borough Postal Code      Month Avg Value\n",
       "0      City of London   E09000001 1995-01-01     91449\n",
       "1  Barking & Dagenham   E09000002 1995-01-01   50460.2\n",
       "2              Barnet   E09000003 1995-01-01   93284.5"
      ]
     },
     "execution_count": 9,
     "metadata": {
      "tags": []
     },
     "output_type": "execute_result"
    }
   ],
   "source": [
    "dflon_cleaned = pd.melt(dflon1, id_vars= ['Borough', 'Postal Code'])\n",
    "dflon_cleaned.rename(columns={dflon_cleaned.columns[2]: \"Month\"}, inplace = True)\n",
    "dflon_cleaned.rename(columns={dflon_cleaned.columns[3]: \"Avg Value\"}, inplace = True)\n",
    "dflon_cleaned.head(3)"
   ]
  },
  {
   "cell_type": "markdown",
   "metadata": {
    "id": "7kIsgAo7o3mf"
   },
   "source": [
    "Remember to make sure your column data types are all correct. Average prices, for example, should be floating point numbers... "
   ]
  },
  {
   "cell_type": "code",
   "execution_count": 10,
   "metadata": {
    "colab": {
     "base_uri": "https://localhost:8080/",
     "height": 204
    },
    "id": "ZcR4IHbcpOaq",
    "outputId": "e60905f4-3e96-4038-9173-d7a869f71189"
   },
   "outputs": [
    {
     "name": "stdout",
     "output_type": "stream",
     "text": [
      "<class 'pandas.core.frame.DataFrame'>\n",
      "RangeIndex: 14640 entries, 0 to 14639\n",
      "Data columns (total 4 columns):\n",
      " #   Column       Non-Null Count  Dtype         \n",
      "---  ------       --------------  -----         \n",
      " 0   Borough      14640 non-null  object        \n",
      " 1   Postal Code  13725 non-null  object        \n",
      " 2   Month        14640 non-null  datetime64[ns]\n",
      " 3   Avg Value    13725 non-null  object        \n",
      "dtypes: datetime64[ns](1), object(3)\n",
      "memory usage: 457.6+ KB\n"
     ]
    }
   ],
   "source": [
    "dflon_cleaned.info()"
   ]
  },
  {
   "cell_type": "code",
   "execution_count": 11,
   "metadata": {
    "colab": {
     "base_uri": "https://localhost:8080/",
     "height": 204
    },
    "id": "dqxrc96gONax",
    "outputId": "f01507b3-09c4-4d40-f8b5-bbde9c1e2593"
   },
   "outputs": [
    {
     "name": "stdout",
     "output_type": "stream",
     "text": [
      "<class 'pandas.core.frame.DataFrame'>\n",
      "RangeIndex: 14640 entries, 0 to 14639\n",
      "Data columns (total 4 columns):\n",
      " #   Column       Non-Null Count  Dtype         \n",
      "---  ------       --------------  -----         \n",
      " 0   Borough      14640 non-null  object        \n",
      " 1   Postal Code  13725 non-null  object        \n",
      " 2   Month        14640 non-null  datetime64[ns]\n",
      " 3   Avg Value    13725 non-null  float32       \n",
      "dtypes: datetime64[ns](1), float32(1), object(2)\n",
      "memory usage: 400.4+ KB\n"
     ]
    }
   ],
   "source": [
    "# change Avg Value from datatype=object to float\n",
    "dflon_cleaned['Avg Value']= pd.to_numeric(dflon_cleaned['Avg Value'], downcast=\"float\")\n",
    "dflon_cleaned.info()"
   ]
  },
  {
   "cell_type": "markdown",
   "metadata": {
    "id": "knLUXHLypOtw"
   },
   "source": [
    "**2.5. Cleaning the data (part 3)**\n",
    "\n",
    "Do we have an equal number of observations in the ID, Average Price, Month, and London Borough columns? Remember that there are only 32 London Boroughs. How many entries do you have in that column? \n",
    "\n",
    "Check out the contents of the London Borough column, and if you find null values, get rid of them however you see fit. "
   ]
  },
  {
   "cell_type": "code",
   "execution_count": 12,
   "metadata": {
    "colab": {
     "base_uri": "https://localhost:8080/",
     "height": 102
    },
    "id": "BnvTW5a3p0fC",
    "outputId": "cbf29c3d-ac92-4703-a22d-be6cbe358e6a"
   },
   "outputs": [
    {
     "data": {
      "text/plain": [
       "Borough        14640\n",
       "Postal Code    13725\n",
       "Month          14640\n",
       "Avg Value      13725\n",
       "dtype: int64"
      ]
     },
     "execution_count": 12,
     "metadata": {
      "tags": []
     },
     "output_type": "execute_result"
    }
   ],
   "source": [
    "dflon_cleaned.count()"
   ]
  },
  {
   "cell_type": "code",
   "execution_count": 13,
   "metadata": {
    "colab": {
     "base_uri": "https://localhost:8080/",
     "height": 419
    },
    "id": "FlkkK3CvqiFc",
    "outputId": "63dc0ac2-e8c9-439e-bfd4-2cc886263b79"
   },
   "outputs": [
    {
     "data": {
      "text/html": [
       "<div>\n",
       "<style scoped>\n",
       "    .dataframe tbody tr th:only-of-type {\n",
       "        vertical-align: middle;\n",
       "    }\n",
       "\n",
       "    .dataframe tbody tr th {\n",
       "        vertical-align: top;\n",
       "    }\n",
       "\n",
       "    .dataframe thead th {\n",
       "        text-align: right;\n",
       "    }\n",
       "</style>\n",
       "<table border=\"1\" class=\"dataframe\">\n",
       "  <thead>\n",
       "    <tr style=\"text-align: right;\">\n",
       "      <th></th>\n",
       "      <th>Borough</th>\n",
       "      <th>Postal Code</th>\n",
       "      <th>Month</th>\n",
       "      <th>Avg Value</th>\n",
       "    </tr>\n",
       "  </thead>\n",
       "  <tbody>\n",
       "    <tr>\n",
       "      <th>33</th>\n",
       "      <td>Unnamed: 34</td>\n",
       "      <td>NaN</td>\n",
       "      <td>1995-01-01</td>\n",
       "      <td>NaN</td>\n",
       "    </tr>\n",
       "    <tr>\n",
       "      <th>36</th>\n",
       "      <td>Unnamed: 37</td>\n",
       "      <td>NaN</td>\n",
       "      <td>1995-01-01</td>\n",
       "      <td>NaN</td>\n",
       "    </tr>\n",
       "    <tr>\n",
       "      <th>46</th>\n",
       "      <td>Unnamed: 47</td>\n",
       "      <td>NaN</td>\n",
       "      <td>1995-01-01</td>\n",
       "      <td>NaN</td>\n",
       "    </tr>\n",
       "    <tr>\n",
       "      <th>81</th>\n",
       "      <td>Unnamed: 34</td>\n",
       "      <td>NaN</td>\n",
       "      <td>1995-02-01</td>\n",
       "      <td>NaN</td>\n",
       "    </tr>\n",
       "    <tr>\n",
       "      <th>84</th>\n",
       "      <td>Unnamed: 37</td>\n",
       "      <td>NaN</td>\n",
       "      <td>1995-02-01</td>\n",
       "      <td>NaN</td>\n",
       "    </tr>\n",
       "    <tr>\n",
       "      <th>...</th>\n",
       "      <td>...</td>\n",
       "      <td>...</td>\n",
       "      <td>...</td>\n",
       "      <td>...</td>\n",
       "    </tr>\n",
       "    <tr>\n",
       "      <th>14580</th>\n",
       "      <td>Unnamed: 37</td>\n",
       "      <td>NaN</td>\n",
       "      <td>2020-04-01</td>\n",
       "      <td>NaN</td>\n",
       "    </tr>\n",
       "    <tr>\n",
       "      <th>14590</th>\n",
       "      <td>Unnamed: 47</td>\n",
       "      <td>NaN</td>\n",
       "      <td>2020-04-01</td>\n",
       "      <td>NaN</td>\n",
       "    </tr>\n",
       "    <tr>\n",
       "      <th>14625</th>\n",
       "      <td>Unnamed: 34</td>\n",
       "      <td>NaN</td>\n",
       "      <td>2020-05-01</td>\n",
       "      <td>NaN</td>\n",
       "    </tr>\n",
       "    <tr>\n",
       "      <th>14628</th>\n",
       "      <td>Unnamed: 37</td>\n",
       "      <td>NaN</td>\n",
       "      <td>2020-05-01</td>\n",
       "      <td>NaN</td>\n",
       "    </tr>\n",
       "    <tr>\n",
       "      <th>14638</th>\n",
       "      <td>Unnamed: 47</td>\n",
       "      <td>NaN</td>\n",
       "      <td>2020-05-01</td>\n",
       "      <td>NaN</td>\n",
       "    </tr>\n",
       "  </tbody>\n",
       "</table>\n",
       "<p>915 rows × 4 columns</p>\n",
       "</div>"
      ],
      "text/plain": [
       "           Borough Postal Code      Month  Avg Value\n",
       "33     Unnamed: 34         NaN 1995-01-01        NaN\n",
       "36     Unnamed: 37         NaN 1995-01-01        NaN\n",
       "46     Unnamed: 47         NaN 1995-01-01        NaN\n",
       "81     Unnamed: 34         NaN 1995-02-01        NaN\n",
       "84     Unnamed: 37         NaN 1995-02-01        NaN\n",
       "...            ...         ...        ...        ...\n",
       "14580  Unnamed: 37         NaN 2020-04-01        NaN\n",
       "14590  Unnamed: 47         NaN 2020-04-01        NaN\n",
       "14625  Unnamed: 34         NaN 2020-05-01        NaN\n",
       "14628  Unnamed: 37         NaN 2020-05-01        NaN\n",
       "14638  Unnamed: 47         NaN 2020-05-01        NaN\n",
       "\n",
       "[915 rows x 4 columns]"
      ]
     },
     "execution_count": 13,
     "metadata": {
      "tags": []
     },
     "output_type": "execute_result"
    }
   ],
   "source": [
    "dflon_cleaned[dflon_cleaned['Avg Value'].isna()]"
   ]
  },
  {
   "cell_type": "code",
   "execution_count": 14,
   "metadata": {
    "colab": {
     "base_uri": "https://localhost:8080/",
     "height": 102
    },
    "id": "I0GQ1bX9svtY",
    "outputId": "5e436003-e9c6-4aaf-97aa-9df9cabeb322"
   },
   "outputs": [
    {
     "data": {
      "text/plain": [
       "Borough        13725\n",
       "Postal Code    13725\n",
       "Month          13725\n",
       "Avg Value      13725\n",
       "dtype: int64"
      ]
     },
     "execution_count": 14,
     "metadata": {
      "tags": []
     },
     "output_type": "execute_result"
    }
   ],
   "source": [
    "dflon_final = dflon_cleaned.dropna()\n",
    "dflon_final.count()"
   ]
  },
  {
   "cell_type": "markdown",
   "metadata": {
    "id": "Ftzw2ZGZ4-1s"
   },
   "source": [
    "Clean out rows/ values which is not classified as a 'Borough'. From [Wikipedia](https://https://en.wikipedia.org/wiki/London_boroughs), there are 32 Boroughs in London"
   ]
  },
  {
   "cell_type": "code",
   "execution_count": 15,
   "metadata": {
    "colab": {
     "base_uri": "https://localhost:8080/",
     "height": 204
    },
    "id": "KP8XpQ6k2k0k",
    "outputId": "0e86c93b-3364-4bdd-b259-dd72eeb0bd16"
   },
   "outputs": [
    {
     "data": {
      "text/plain": [
       "array(['City of London', 'Barking & Dagenham', 'Barnet', 'Bexley',\n",
       "       'Brent', 'Bromley', 'Camden', 'Croydon', 'Ealing', 'Enfield',\n",
       "       'Greenwich', 'Hackney', 'Hammersmith & Fulham', 'Haringey',\n",
       "       'Harrow', 'Havering', 'Hillingdon', 'Hounslow', 'Islington',\n",
       "       'Kensington & Chelsea', 'Kingston upon Thames', 'Lambeth',\n",
       "       'Lewisham', 'Merton', 'Newham', 'Redbridge',\n",
       "       'Richmond upon Thames', 'Southwark', 'Sutton', 'Tower Hamlets',\n",
       "       'Waltham Forest', 'Wandsworth', 'Westminster', 'Inner London',\n",
       "       'Outer London', 'NORTH EAST', 'NORTH WEST', 'YORKS & THE HUMBER',\n",
       "       'EAST MIDLANDS', 'WEST MIDLANDS', 'EAST OF ENGLAND', 'LONDON',\n",
       "       'SOUTH EAST', 'SOUTH WEST', 'England'], dtype=object)"
      ]
     },
     "execution_count": 15,
     "metadata": {
      "tags": []
     },
     "output_type": "execute_result"
    }
   ],
   "source": [
    "dflon_final['Borough'].unique()"
   ]
  },
  {
   "cell_type": "code",
   "execution_count": 16,
   "metadata": {
    "colab": {
     "base_uri": "https://localhost:8080/",
     "height": 34
    },
    "id": "LBqZNA__44jP",
    "outputId": "bb1ea74b-d836-4fe8-8b37-0de6e8cac145"
   },
   "outputs": [
    {
     "data": {
      "text/plain": [
       "32"
      ]
     },
     "execution_count": 16,
     "metadata": {
      "tags": []
     },
     "output_type": "execute_result"
    }
   ],
   "source": [
    "# filter out rows which is not a Borough, check if value of unique Boroughs = 32 \n",
    "not_borough = ['City of London', 'Inner London', 'Outer London', 'NORTH EAST', 'NORTH WEST', 'YORKS & THE HUMBER',\n",
    "       'EAST MIDLANDS', 'WEST MIDLANDS', 'EAST OF ENGLAND', 'LONDON',\n",
    "       'SOUTH EAST', 'SOUTH WEST', 'England']\n",
    "\n",
    "dflon_final = dflon_final[~dflon_final['Borough'].isin(not_borough)]\n",
    "dflon_final['Borough'].nunique()"
   ]
  },
  {
   "cell_type": "markdown",
   "metadata": {
    "id": "PGEx6mJsp6dG"
   },
   "source": [
    "**2.6. Visualizing the data**\n",
    "\n",
    "To visualize the data, why not subset on a particular London Borough? Maybe do a line plot of Month against Average Price?"
   ]
  },
  {
   "cell_type": "code",
   "execution_count": 17,
   "metadata": {
    "colab": {
     "base_uri": "https://localhost:8080/",
     "height": 142
    },
    "id": "1WsiK502iFPl",
    "outputId": "84dbaf2f-9c38-4304-c879-fed54c2a8a32"
   },
   "outputs": [
    {
     "data": {
      "text/html": [
       "<div>\n",
       "<style scoped>\n",
       "    .dataframe tbody tr th:only-of-type {\n",
       "        vertical-align: middle;\n",
       "    }\n",
       "\n",
       "    .dataframe tbody tr th {\n",
       "        vertical-align: top;\n",
       "    }\n",
       "\n",
       "    .dataframe thead th {\n",
       "        text-align: right;\n",
       "    }\n",
       "</style>\n",
       "<table border=\"1\" class=\"dataframe\">\n",
       "  <thead>\n",
       "    <tr style=\"text-align: right;\">\n",
       "      <th></th>\n",
       "      <th>Borough</th>\n",
       "      <th>Postal Code</th>\n",
       "      <th>Month</th>\n",
       "      <th>Avg Value</th>\n",
       "    </tr>\n",
       "  </thead>\n",
       "  <tbody>\n",
       "    <tr>\n",
       "      <th>0</th>\n",
       "      <td>Barnet</td>\n",
       "      <td>E09000003</td>\n",
       "      <td>1995-01-01</td>\n",
       "      <td>93284.515625</td>\n",
       "    </tr>\n",
       "    <tr>\n",
       "      <th>1</th>\n",
       "      <td>Barnet</td>\n",
       "      <td>E09000003</td>\n",
       "      <td>1995-02-01</td>\n",
       "      <td>93190.171875</td>\n",
       "    </tr>\n",
       "    <tr>\n",
       "      <th>2</th>\n",
       "      <td>Barnet</td>\n",
       "      <td>E09000003</td>\n",
       "      <td>1995-03-01</td>\n",
       "      <td>92247.523438</td>\n",
       "    </tr>\n",
       "  </tbody>\n",
       "</table>\n",
       "</div>"
      ],
      "text/plain": [
       "  Borough Postal Code      Month     Avg Value\n",
       "0  Barnet   E09000003 1995-01-01  93284.515625\n",
       "1  Barnet   E09000003 1995-02-01  93190.171875\n",
       "2  Barnet   E09000003 1995-03-01  92247.523438"
      ]
     },
     "execution_count": 17,
     "metadata": {
      "tags": []
     },
     "output_type": "execute_result"
    }
   ],
   "source": [
    "barnet = dflon_cleaned.loc[dflon_cleaned['Borough']=='Barnet'].reset_index(drop=True)\n",
    "barnet.head(3)"
   ]
  },
  {
   "cell_type": "code",
   "execution_count": 18,
   "metadata": {
    "colab": {
     "base_uri": "https://localhost:8080/",
     "height": 295
    },
    "id": "nAg5pT9cqHAR",
    "outputId": "ddbff2d4-24a2-4331-9513-1ca2ad763bdc"
   },
   "outputs": [
    {
     "data": {
      "image/png": "[encoded data removed]",
      "text/plain": [
       "<Figure size 432x288 with 1 Axes>"
      ]
     },
     "metadata": {
      "needs_background": "light",
      "tags": []
     },
     "output_type": "display_data"
    }
   ],
   "source": [
    "barnet.plot(kind='line',x='Month',y='Avg Value',color='blue')\n",
    "plt.ylabel('Average Value')\n",
    "plt.title('Montly Average Housing Prices of Barnet (London)')\n",
    "plt.show()"
   ]
  },
  {
   "cell_type": "markdown",
   "metadata": {
    "id": "aWTPqSJeqHnC"
   },
   "source": [
    "To limit the number of data points you have, you might want to extract the year from every month value your *Month* column. \n",
    "\n",
    "To this end, you *could* apply a ***lambda function***. Your logic could work as follows:\n",
    "1. look through the `Month` column\n",
    "2. extract the year from each individual value in that column \n",
    "3. store that corresponding year as separate column. \n",
    "\n",
    "Whether you go ahead with this is up to you. Just so long as you answer our initial brief: which boroughs of London have seen the greatest house price increase, on average, over the past two decades? "
   ]
  },
  {
   "cell_type": "code",
   "execution_count": 19,
   "metadata": {
    "colab": {
     "base_uri": "https://localhost:8080/",
     "height": 204
    },
    "id": "e0DF92cyqnu8",
    "outputId": "3348d182-e85b-4798-b985-2f77e5e83186"
   },
   "outputs": [
    {
     "data": {
      "text/html": [
       "<div>\n",
       "<style scoped>\n",
       "    .dataframe tbody tr th:only-of-type {\n",
       "        vertical-align: middle;\n",
       "    }\n",
       "\n",
       "    .dataframe tbody tr th {\n",
       "        vertical-align: top;\n",
       "    }\n",
       "\n",
       "    .dataframe thead th {\n",
       "        text-align: right;\n",
       "    }\n",
       "</style>\n",
       "<table border=\"1\" class=\"dataframe\">\n",
       "  <thead>\n",
       "    <tr style=\"text-align: right;\">\n",
       "      <th></th>\n",
       "      <th>Borough</th>\n",
       "      <th>Postal Code</th>\n",
       "      <th>Month</th>\n",
       "      <th>Avg Value</th>\n",
       "      <th>Year</th>\n",
       "    </tr>\n",
       "  </thead>\n",
       "  <tbody>\n",
       "    <tr>\n",
       "      <th>1</th>\n",
       "      <td>Barking &amp; Dagenham</td>\n",
       "      <td>E09000002</td>\n",
       "      <td>1995-01-01</td>\n",
       "      <td>50460.23</td>\n",
       "      <td>1995</td>\n",
       "    </tr>\n",
       "    <tr>\n",
       "      <th>2</th>\n",
       "      <td>Barnet</td>\n",
       "      <td>E09000003</td>\n",
       "      <td>1995-01-01</td>\n",
       "      <td>93284.52</td>\n",
       "      <td>1995</td>\n",
       "    </tr>\n",
       "    <tr>\n",
       "      <th>3</th>\n",
       "      <td>Bexley</td>\n",
       "      <td>E09000004</td>\n",
       "      <td>1995-01-01</td>\n",
       "      <td>64958.09</td>\n",
       "      <td>1995</td>\n",
       "    </tr>\n",
       "    <tr>\n",
       "      <th>4</th>\n",
       "      <td>Brent</td>\n",
       "      <td>E09000005</td>\n",
       "      <td>1995-01-01</td>\n",
       "      <td>71306.57</td>\n",
       "      <td>1995</td>\n",
       "    </tr>\n",
       "    <tr>\n",
       "      <th>5</th>\n",
       "      <td>Bromley</td>\n",
       "      <td>E09000006</td>\n",
       "      <td>1995-01-01</td>\n",
       "      <td>81671.48</td>\n",
       "      <td>1995</td>\n",
       "    </tr>\n",
       "  </tbody>\n",
       "</table>\n",
       "</div>"
      ],
      "text/plain": [
       "              Borough Postal Code      Month  Avg Value  Year\n",
       "1  Barking & Dagenham   E09000002 1995-01-01   50460.23  1995\n",
       "2              Barnet   E09000003 1995-01-01   93284.52  1995\n",
       "3              Bexley   E09000004 1995-01-01   64958.09  1995\n",
       "4               Brent   E09000005 1995-01-01   71306.57  1995\n",
       "5             Bromley   E09000006 1995-01-01   81671.48  1995"
      ]
     },
     "execution_count": 19,
     "metadata": {
      "tags": []
     },
     "output_type": "execute_result"
    }
   ],
   "source": [
    "dflon_final['Year'] = dflon_final['Month'].map(lambda x: x.year)\n",
    "dflon_final['Avg Value'] = dflon_final['Avg Value'].astype(float).round(2)\n",
    "dflon_final.head()"
   ]
  },
  {
   "cell_type": "code",
   "execution_count": 20,
   "metadata": {
    "colab": {
     "base_uri": "https://localhost:8080/",
     "height": 204
    },
    "id": "QIbrH9nHjEc0",
    "outputId": "42463a5d-a3ef-4f46-d439-234b967a9336"
   },
   "outputs": [
    {
     "data": {
      "text/html": [
       "<div>\n",
       "<style scoped>\n",
       "    .dataframe tbody tr th:only-of-type {\n",
       "        vertical-align: middle;\n",
       "    }\n",
       "\n",
       "    .dataframe tbody tr th {\n",
       "        vertical-align: top;\n",
       "    }\n",
       "\n",
       "    .dataframe thead th {\n",
       "        text-align: right;\n",
       "    }\n",
       "</style>\n",
       "<table border=\"1\" class=\"dataframe\">\n",
       "  <thead>\n",
       "    <tr style=\"text-align: right;\">\n",
       "      <th></th>\n",
       "      <th>Borough</th>\n",
       "      <th>Year</th>\n",
       "      <th>Avg Value</th>\n",
       "    </tr>\n",
       "  </thead>\n",
       "  <tbody>\n",
       "    <tr>\n",
       "      <th>0</th>\n",
       "      <td>Barking &amp; Dagenham</td>\n",
       "      <td>1995</td>\n",
       "      <td>51817.97</td>\n",
       "    </tr>\n",
       "    <tr>\n",
       "      <th>1</th>\n",
       "      <td>Barking &amp; Dagenham</td>\n",
       "      <td>1996</td>\n",
       "      <td>51718.19</td>\n",
       "    </tr>\n",
       "    <tr>\n",
       "      <th>2</th>\n",
       "      <td>Barking &amp; Dagenham</td>\n",
       "      <td>1997</td>\n",
       "      <td>55974.26</td>\n",
       "    </tr>\n",
       "    <tr>\n",
       "      <th>3</th>\n",
       "      <td>Barking &amp; Dagenham</td>\n",
       "      <td>1998</td>\n",
       "      <td>60285.82</td>\n",
       "    </tr>\n",
       "    <tr>\n",
       "      <th>4</th>\n",
       "      <td>Barking &amp; Dagenham</td>\n",
       "      <td>1999</td>\n",
       "      <td>65320.93</td>\n",
       "    </tr>\n",
       "  </tbody>\n",
       "</table>\n",
       "</div>"
      ],
      "text/plain": [
       "              Borough  Year  Avg Value\n",
       "0  Barking & Dagenham  1995   51817.97\n",
       "1  Barking & Dagenham  1996   51718.19\n",
       "2  Barking & Dagenham  1997   55974.26\n",
       "3  Barking & Dagenham  1998   60285.82\n",
       "4  Barking & Dagenham  1999   65320.93"
      ]
     },
     "execution_count": 20,
     "metadata": {
      "tags": []
     },
     "output_type": "execute_result"
    }
   ],
   "source": [
    "price_avg_pa = dflon_final.groupby(['Borough','Year']).mean().round(2).reset_index()\n",
    "price_avg_pa.head()"
   ]
  },
  {
   "cell_type": "code",
   "execution_count": 21,
   "metadata": {
    "colab": {
     "base_uri": "https://localhost:8080/",
     "height": 35
    },
    "id": "XGRF0CkFpyo6",
    "outputId": "b27e2b46-b0d6-4068-b0bd-bc9ca51d5317"
   },
   "outputs": [
    {
     "data": {
      "application/vnd.google.colaboratory.intrinsic+json": {
       "type": "string"
      },
      "text/plain": [
       "'Hackney'"
      ]
     },
     "execution_count": 21,
     "metadata": {
      "tags": []
     },
     "output_type": "execute_result"
    }
   ],
   "source": [
    "#find Borough with biggest increase on average price between 1995 and 2020\n",
    "\n",
    "def pct_change(p):\n",
    "  x = price_avg_pa[price_avg_pa['Borough']==p]\n",
    "  p1995 = float(x['Avg Value'][x['Year'] == 1995])\n",
    "  p2020 = float(x['Avg Value'][x['Year'] == 2020])\n",
    "  pct_change = (p2020-p1995)/p1995\n",
    "  return pct_change\n",
    "\n",
    "boroughs = list(price_avg_pa['Borough'].unique())\n",
    "dict = {}\n",
    "\n",
    "for borough in boroughs:\n",
    "  increase_pct = \"{:.2%}\".format(pct_change(borough))\n",
    "  dict.update({borough: increase_pct})\n",
    "\n",
    "max(dict, key=dict.get)"
   ]
  },
  {
   "cell_type": "code",
   "execution_count": 22,
   "metadata": {
    "colab": {
     "base_uri": "https://localhost:8080/",
     "height": 80
    },
    "id": "TT7NUX-vsGX3",
    "outputId": "6b8d2e6f-49f8-4f9c-b98e-16686193d570"
   },
   "outputs": [
    {
     "data": {
      "text/html": [
       "<div>\n",
       "<style scoped>\n",
       "    .dataframe tbody tr th:only-of-type {\n",
       "        vertical-align: middle;\n",
       "    }\n",
       "\n",
       "    .dataframe tbody tr th {\n",
       "        vertical-align: top;\n",
       "    }\n",
       "\n",
       "    .dataframe thead th {\n",
       "        text-align: right;\n",
       "    }\n",
       "</style>\n",
       "<table border=\"1\" class=\"dataframe\">\n",
       "  <thead>\n",
       "    <tr style=\"text-align: right;\">\n",
       "      <th></th>\n",
       "      <th>Borough</th>\n",
       "      <th>pct_change</th>\n",
       "    </tr>\n",
       "  </thead>\n",
       "  <tbody>\n",
       "    <tr>\n",
       "      <th>10</th>\n",
       "      <td>Hackney</td>\n",
       "      <td>763.31%</td>\n",
       "    </tr>\n",
       "  </tbody>\n",
       "</table>\n",
       "</div>"
      ],
      "text/plain": [
       "    Borough pct_change\n",
       "10  Hackney    763.31%"
      ]
     },
     "execution_count": 22,
     "metadata": {
      "tags": []
     },
     "output_type": "execute_result"
    }
   ],
   "source": [
    "df95vs20 = pd.DataFrame(dict.items())\n",
    "df95vs20.columns = ['Borough', 'pct_change']\n",
    "df95vs20.loc[df95vs20['Borough']=='Hackney']"
   ]
  },
  {
   "cell_type": "code",
   "execution_count": 72,
   "metadata": {
    "colab": {
     "base_uri": "https://localhost:8080/",
     "height": 204
    },
    "id": "OjpS_ipnm8NM",
    "outputId": "e9af47e2-5149-4825-b169-541ecf5b9b4e"
   },
   "outputs": [
    {
     "data": {
      "text/html": [
       "<div>\n",
       "<style scoped>\n",
       "    .dataframe tbody tr th:only-of-type {\n",
       "        vertical-align: middle;\n",
       "    }\n",
       "\n",
       "    .dataframe tbody tr th {\n",
       "        vertical-align: top;\n",
       "    }\n",
       "\n",
       "    .dataframe thead th {\n",
       "        text-align: right;\n",
       "    }\n",
       "</style>\n",
       "<table border=\"1\" class=\"dataframe\">\n",
       "  <thead>\n",
       "    <tr style=\"text-align: right;\">\n",
       "      <th></th>\n",
       "      <th>Borough</th>\n",
       "      <th>Postal Code</th>\n",
       "      <th>Month</th>\n",
       "      <th>Avg Value</th>\n",
       "      <th>Year</th>\n",
       "    </tr>\n",
       "  </thead>\n",
       "  <tbody>\n",
       "    <tr>\n",
       "      <th>0</th>\n",
       "      <td>City of London</td>\n",
       "      <td>E09000001</td>\n",
       "      <td>1995-01-01</td>\n",
       "      <td>91448.98</td>\n",
       "      <td>1995</td>\n",
       "    </tr>\n",
       "    <tr>\n",
       "      <th>1</th>\n",
       "      <td>Hackney</td>\n",
       "      <td>E09000012</td>\n",
       "      <td>1995-01-01</td>\n",
       "      <td>61296.53</td>\n",
       "      <td>1995</td>\n",
       "    </tr>\n",
       "    <tr>\n",
       "      <th>2</th>\n",
       "      <td>City of London</td>\n",
       "      <td>E09000001</td>\n",
       "      <td>1995-02-01</td>\n",
       "      <td>82202.77</td>\n",
       "      <td>1995</td>\n",
       "    </tr>\n",
       "    <tr>\n",
       "      <th>3</th>\n",
       "      <td>Hackney</td>\n",
       "      <td>E09000012</td>\n",
       "      <td>1995-02-01</td>\n",
       "      <td>63187.08</td>\n",
       "      <td>1995</td>\n",
       "    </tr>\n",
       "    <tr>\n",
       "      <th>4</th>\n",
       "      <td>City of London</td>\n",
       "      <td>E09000001</td>\n",
       "      <td>1995-03-01</td>\n",
       "      <td>79120.70</td>\n",
       "      <td>1995</td>\n",
       "    </tr>\n",
       "  </tbody>\n",
       "</table>\n",
       "</div>"
      ],
      "text/plain": [
       "          Borough Postal Code      Month  Avg Value  Year\n",
       "0  City of London   E09000001 1995-01-01   91448.98  1995\n",
       "1         Hackney   E09000012 1995-01-01   61296.53  1995\n",
       "2  City of London   E09000001 1995-02-01   82202.77  1995\n",
       "3         Hackney   E09000012 1995-02-01   63187.08  1995\n",
       "4  City of London   E09000001 1995-03-01   79120.70  1995"
      ]
     },
     "execution_count": 72,
     "metadata": {
      "tags": []
     },
     "output_type": "execute_result"
    }
   ],
   "source": [
    "#trending the Average value increase of Hackeny against City of London as a whole\n",
    "filter_list = ['Hackney', 'City of London']\n",
    "\n",
    "citynhackney = dflon_cleaned.loc[dflon_cleaned['Borough'].isin(filter_list)].reset_index(drop=True)\n",
    "citynhackney['Year'] = citynhackney['Month'].map(lambda x: x.year)\n",
    "citynhackney['Avg Value'] = citynhackney['Avg Value'].astype(float).round(2)\n",
    "citynhackney.head()\n"
   ]
  },
  {
   "cell_type": "code",
   "execution_count": 73,
   "metadata": {
    "colab": {
     "base_uri": "https://localhost:8080/",
     "height": 312
    },
    "id": "pTM3cwUatntp",
    "outputId": "dc5fbf9e-2cf0-4002-8b66-0f442b02ebbf"
   },
   "outputs": [
    {
     "data": {
      "text/plain": [
       "[Text(0.5, 1.0, 'Average Housing Value Increase 1995-2020')]"
      ]
     },
     "execution_count": 73,
     "metadata": {
      "tags": []
     },
     "output_type": "execute_result"
    },
    {
     "data": {
      "image/png": "[encoded data removed]",
      "text/plain": [
       "<Figure size 432x288 with 1 Axes>"
      ]
     },
     "metadata": {
      "needs_background": "light",
      "tags": []
     },
     "output_type": "display_data"
    }
   ],
   "source": [
    "#plotting \n",
    "import seaborn as sns\n",
    "\n",
    "sns.lineplot(data=citynhackney, x='Month', y='Avg Value', hue='Borough').set(title='Average Housing Value Increase 1995-2020')"
   ]
  },
  {
   "cell_type": "markdown",
   "metadata": {
    "id": "2knuTxAEqoJ4"
   },
   "source": [
    "**3. Modeling**\n",
    "\n",
    "Consider creating a function that will calculate a ratio of house prices, comparing the price of a house in 2018 to the price in 1998.\n",
    "\n",
    "Consider calling this function create_price_ratio.\n",
    "\n",
    "You'd want this function to:\n",
    "1. Take a filter of dfg, specifically where this filter constrains the London_Borough, as an argument. For example, one admissible argument should be: dfg[dfg['London_Borough']=='Camden'].\n",
    "2. Get the Average Price for that Borough, for the years 1998 and 2018.\n",
    "4. Calculate the ratio of the Average Price for 1998 divided by the Average Price for 2018.\n",
    "5. Return that ratio.\n",
    "\n",
    "Once you've written this function, you ultimately want to use it to iterate through all the unique London_Boroughs and work out the ratio capturing the difference of house prices between 1998 and 2018.\n",
    "\n",
    "Bear in mind: you don't have to write a function like this if you don't want to. If you can solve the brief otherwise, then great! \n",
    "\n",
    "***Hint***: This section should test the skills you acquired in:\n",
    "- Python Data Science Toolbox - Part One, all modules"
   ]
  },
  {
   "cell_type": "code",
   "execution_count": 24,
   "metadata": {
    "colab": {
     "base_uri": "https://localhost:8080/",
     "height": 34
    },
    "id": "OHmRumiAvZvq",
    "outputId": "06f13af7-6568-4fde-d978-0c80e6d14229"
   },
   "outputs": [
    {
     "data": {
      "text/plain": [
       "0.1613349445001764"
      ]
     },
     "execution_count": 24,
     "metadata": {
      "tags": []
     },
     "output_type": "execute_result"
    }
   ],
   "source": [
    "def create_price_ratio(p):\n",
    "  x = price_avg_pa[price_avg_pa['Borough']==p]\n",
    "  p1998 = float(x['Avg Value'][x['Year'] == 1998])\n",
    "  p2018 = float(x['Avg Value'][x['Year'] == 2018])\n",
    "  ratio = (p1998/ p2018)\n",
    "  return ratio\n",
    "\n",
    "#test output\n",
    "create_price_ratio('Hackney')"
   ]
  },
  {
   "cell_type": "code",
   "execution_count": 25,
   "metadata": {
    "colab": {
     "base_uri": "https://localhost:8080/",
     "height": 578
    },
    "id": "cax7BIhRtwBH",
    "outputId": "6fb0c46f-bf24-4f63-a7df-4b22d392be23"
   },
   "outputs": [
    {
     "name": "stdout",
     "output_type": "stream",
     "text": [
      "                       0       1\n",
      "0     Barking & Dagenham  20.42%\n",
      "1                 Barnet  22.95%\n",
      "2                 Bexley  23.54%\n",
      "3                  Brent  20.43%\n",
      "4                Bromley  24.42%\n",
      "5                 Camden  20.26%\n",
      "6                Croydon  23.80%\n",
      "7                 Ealing  23.19%\n",
      "8                Enfield  23.46%\n",
      "9              Greenwich  21.00%\n",
      "10               Hackney  16.13%\n",
      "11  Hammersmith & Fulham  24.17%\n",
      "12              Haringey  19.48%\n",
      "13                Harrow  24.64%\n",
      "14              Havering  23.12%\n",
      "15            Hillingdon  23.81%\n",
      "16              Hounslow  25.15%\n",
      "17             Islington  20.64%\n",
      "18  Kensington & Chelsea  19.68%\n",
      "19  Kingston upon Thames  23.42%\n",
      "20               Lambeth  20.17%\n",
      "21              Lewisham  18.35%\n",
      "22                Merton  21.09%\n",
      "23                Newham  18.85%\n",
      "24             Redbridge  22.37%\n",
      "25  Richmond upon Thames  24.97%\n",
      "26             Southwark  18.13%\n",
      "27                Sutton  24.28%\n",
      "28         Tower Hamlets  21.61%\n",
      "29        Waltham Forest  17.14%\n",
      "30            Wandsworth  21.02%\n",
      "31           Westminster  18.68%\n"
     ]
    }
   ],
   "source": [
    "boroughs = list(price_avg_pa['Borough'].unique())\n",
    "b_price_change = {}\n",
    "\n",
    "for borough in boroughs:\n",
    "  increase_pct = \"{:.2%}\".format(create_price_ratio(borough))\n",
    "  b_price_change.update({borough: increase_pct})\n",
    "\n",
    "print(pd.DataFrame(b_price_change.items()))"
   ]
  },
  {
   "cell_type": "code",
   "execution_count": 67,
   "metadata": {
    "colab": {
     "base_uri": "https://localhost:8080/",
     "height": 35
    },
    "id": "MnvUxrFd-5Z1",
    "outputId": "bf6f9c38-8861-458d-e3a0-6fa75a46ff36"
   },
   "outputs": [
    {
     "data": {
      "application/vnd.google.colaboratory.intrinsic+json": {
       "type": "string"
      },
      "text/plain": [
       "'Hackney'"
      ]
     },
     "execution_count": 67,
     "metadata": {
      "tags": []
     },
     "output_type": "execute_result"
    }
   ],
   "source": [
    "#Borough with the highest increase in Average value comparing year 2018 to year 1998\n",
    "min(b_price_change, key=b_price_change.get)\n"
   ]
  },
  {
   "cell_type": "code",
   "execution_count": 62,
   "metadata": {
    "colab": {
     "base_uri": "https://localhost:8080/",
     "height": 80
    },
    "id": "kt1oJErVvh3P",
    "outputId": "e0de8918-9fbe-49a7-d2d8-eeef6437ace2"
   },
   "outputs": [
    {
     "data": {
      "text/html": [
       "<div>\n",
       "<style scoped>\n",
       "    .dataframe tbody tr th:only-of-type {\n",
       "        vertical-align: middle;\n",
       "    }\n",
       "\n",
       "    .dataframe tbody tr th {\n",
       "        vertical-align: top;\n",
       "    }\n",
       "\n",
       "    .dataframe thead th {\n",
       "        text-align: right;\n",
       "    }\n",
       "</style>\n",
       "<table border=\"1\" class=\"dataframe\">\n",
       "  <thead>\n",
       "    <tr style=\"text-align: right;\">\n",
       "      <th></th>\n",
       "      <th>Borough</th>\n",
       "      <th>Postal Code</th>\n",
       "      <th>Month</th>\n",
       "      <th>Avg Value</th>\n",
       "    </tr>\n",
       "  </thead>\n",
       "  <tbody>\n",
       "    <tr>\n",
       "      <th>13267</th>\n",
       "      <td>Kensington &amp; Chelsea</td>\n",
       "      <td>E09000020</td>\n",
       "      <td>2018-01-01</td>\n",
       "      <td>1463377.875</td>\n",
       "    </tr>\n",
       "  </tbody>\n",
       "</table>\n",
       "</div>"
      ],
      "text/plain": [
       "                    Borough Postal Code      Month    Avg Value\n",
       "13267  Kensington & Chelsea   E09000020 2018-01-01  1463377.875"
      ]
     },
     "execution_count": 62,
     "metadata": {
      "tags": []
     },
     "output_type": "execute_result"
    }
   ],
   "source": [
    "# Identifying the most expensive Borough in London\n",
    "dflon_cleaned.loc[dflon_cleaned['Avg Value'] == dflon_cleaned['Avg Value'].max()]"
   ]
  },
  {
   "cell_type": "code",
   "execution_count": 69,
   "metadata": {
    "colab": {
     "base_uri": "https://localhost:8080/",
     "height": 312
    },
    "id": "LRCXTnF1v3Bj",
    "outputId": "0f7b251a-9996-4bd7-c3b5-3517b5c3e566"
   },
   "outputs": [
    {
     "data": {
      "text/plain": [
       "[Text(0.5, 1.0, 'Average Housing Value Increase 1995-2020')]"
      ]
     },
     "execution_count": 69,
     "metadata": {
      "tags": []
     },
     "output_type": "execute_result"
    },
    {
     "data": {
      "image/png": "[encoded data removed]",
      "text/plain": [
       "<Figure size 432x288 with 1 Axes>"
      ]
     },
     "metadata": {
      "needs_background": "light",
      "tags": []
     },
     "output_type": "display_data"
    }
   ],
   "source": [
    "# putting Kensington & Chelsea, City of London and Hacney together for comparison\n",
    "filter_list = ['Kensington & Chelsea', 'City of London', 'Hackney']\n",
    "\n",
    "citynken = dflon_cleaned.loc[dflon_cleaned['Borough'].isin(filter_list)].reset_index(drop=True)\n",
    "citynken['Year'] = citynken['Month'].map(lambda x: x.year)\n",
    "citynken['Avg Value'] = citynken['Avg Value'].astype(float).round(2)\n",
    "citynken.head()\n",
    "\n",
    "import seaborn as sns\n",
    "\n",
    "sns.lineplot(data=citynken, x='Month', y='Avg Value', hue='Borough').set(title='Average Housing Value Increase 1995-2020')"
   ]
  },
  {
   "cell_type": "markdown",
   "metadata": {
    "id": "31EHGzRswnus"
   },
   "source": [
    "Comment - although Hackney has the biggest housing price increase in terms of %, on average the actual housing prices in Hackney is still lower at a lower level than general trend within City of London\n"
   ]
  },
  {
   "cell_type": "markdown",
   "metadata": {
    "id": "NzYUI7FxJpgv"
   },
   "source": [
    "### 4. Conclusion\n",
    "What can you conclude? Type out your conclusion below. \n",
    "\n",
    "Look back at your notebook. Think about how you might summarize what you have done, and prepare a quick presentation on it to your mentor at your next meeting. \n",
    "\n",
    "We hope you enjoyed this practical project. It should have consolidated your data hygiene and pandas skills by looking at a real-world problem involving just the kind of dataset you might encounter as a budding data scientist. Congratulations, and looking forward to seeing you at the next step in the course! "
   ]
  },
  {
   "cell_type": "markdown",
   "metadata": {
    "id": "pJs8tV7vxjQs"
   },
   "source": [
    "***Q: which boroughs of London have seen the greatest increase in housing prices, on average, over the last two decades?***\n",
    "\n",
    "Several observations based on the dataset:\n",
    "\n",
    "1.   Between the period of 1995 to 2020, Hackney is the London Borough with the greatest average increase in housing prices. Prices grew 763% over the period\n",
    "2.   However, in terms of absolute value, Hackney is still below average of London housing prices\n",
    "1.   In terms of absolute value, Kensington & Chelsea is the most expsnive Borough in London\n",
    "\n",
    "\n",
    "\n"
   ]
  }
 ],
 "metadata": {
  "colab": {
   "collapsed_sections": [],
   "include_colab_link": true,
   "name": "Unit 4 Challenge - Tier 3.ipynb",
   "provenance": []
  },
  "kernelspec": {
   "display_name": "Python [conda env:base] *",
   "language": "python",
   "name": "conda-base-py"
  },
  "language_info": {
   "codemirror_mode": {
    "name": "ipython",
    "version": 3
   },
   "file_extension": ".py",
   "mimetype": "text/x-python",
   "name": "python",
   "nbconvert_exporter": "python",
   "pygments_lexer": "ipython3",
   "version": "3.13.5"
  }
 },
 "nbformat": 4,
 "nbformat_minor": 4
}
