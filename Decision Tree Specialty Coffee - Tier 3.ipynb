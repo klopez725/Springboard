{
  "nbformat": 4,
  "nbformat_minor": 0,
  "metadata": {
    "kernelspec": {
      "display_name": "Python 3",
      "language": "python",
      "name": "python3"
    },
    "language_info": {
      "codemirror_mode": {
        "name": "ipython",
        "version": 3
      },
      "file_extension": ".py",
      "mimetype": "text/x-python",
      "name": "python",
      "nbconvert_exporter": "python",
      "pygments_lexer": "ipython3",
      "version": "3.7.3"
    },
    "colab": {
      "name": "14.3 Case Study - Decision Tree Specialty Coffee - Tier 3.ipynb",
      "provenance": [],
      "collapsed_sections": [],
      "include_colab_link": true
    }
  },
  "cells": [
    {
      "cell_type": "markdown",
      "metadata": {
        "id": "view-in-github",
        "colab_type": "text"
      },
      "source": [
        "<a href=\"https://colab.research.google.com/github/jade-lam/Springboard-DSC/blob/master/14.3%20Case%20Study%20-%20Decision%20Tree%20Specialty%20Coffee%20-%20Tier%203.ipynb\" target=\"_parent\"><img src=\"https://colab.research.google.com/assets/colab-badge.svg\" alt=\"Open In Colab\"/></a>"
      ]
    },
    {
      "cell_type": "markdown",
      "metadata": {
        "id": "Jm0w3zN4DuVK"
      },
      "source": [
        "# **Springboard Decision Tree Specialty Coffee Case Study - Tier 3**\n",
        "\n",
        "\n"
      ]
    },
    {
      "cell_type": "markdown",
      "metadata": {
        "id": "BhqpAY7GDuVN"
      },
      "source": [
        "# The Scenario\n",
        "\n",
        "Imagine you've just finished the Springboard Data Science Career Track course, and have been hired by a rising popular specialty coffee company - RR Diner Coffee - as a data scientist. Congratulations!\n",
        "\n",
        "RR Diner Coffee sells two types of thing:\n",
        "- specialty coffee beans, in bulk (by the kilogram only) \n",
        "- coffee equipment and merchandise (grinders, brewing equipment, mugs, books, t-shirts).\n",
        "\n",
        "RR Diner Coffee has three stores, two in Europe and one in the USA. The flagshap store is in the USA, and everything is quality assessed there, before being shipped out. Customers further away from the USA flagship store have higher shipping charges. \n",
        "\n",
        "You've been taken on at RR Diner Coffee because the company are turning towards using data science and machine learning to systematically make decisions about which coffee farmers they should strike deals with. \n",
        "\n",
        "RR Diner Coffee typically buys coffee from farmers, processes it on site, brings it back to the USA, roasts it, packages it, markets it, and ships it (only in bulk, and after quality assurance) to customers internationally. These customers all own coffee shops in major cities like New York, Paris, London, Hong Kong, Tokyo, and Berlin. \n",
        "\n",
        "Now, RR Diner Coffee has a decision about whether to strike a deal with a legendary coffee farm (known as the **Hidden Farm**) in rural China: there are rumours their coffee tastes of lychee and dark chocolate, while also being as sweet as apple juice. \n",
        "\n",
        "It's a risky decision, as the deal will be expensive, and the coffee might not be bought by customers. The stakes are high: times are tough, stocks are low, farmers are reverting to old deals with the larger enterprises and the publicity of selling *Hidden Farm* coffee could save the RR Diner Coffee business. \n",
        "\n",
        "Your first job, then, is ***to build a decision tree to predict how many units of the Hidden Farm Chinese coffee will be purchased by RR Diner Coffee's most loyal customers.*** \n",
        "\n",
        "To this end, you and your team have conducted a survey of 710 of the most loyal RR Diner Coffee customers, collecting data on the customers':\n",
        "- age\n",
        "- gender \n",
        "- salary \n",
        "- whether they have bought at least one RR Diner Coffee product online\n",
        "- their distance from the flagship store in the USA (standardized to a number between 0 and 11) \n",
        "- how much they spent on RR Diner Coffee products on the week of the survey \n",
        "- how much they spent on RR Diner Coffee products in the month preeding the survey\n",
        "- the number of RR Diner coffee bean shipments each customer has ordered over the preceding year. \n",
        "\n",
        "You also asked each customer participating in the survey whether they would buy the Hidden Farm coffee, and some (but not all) of the customers gave responses to that question. \n",
        "\n",
        "You sit back and think: if more than 70% of the interviewed customers are likely to buy the Hidden Farm coffee, you will strike the deal with the local Hidden Farm farmers and sell the coffee. Otherwise, you won't strike the deal and the Hidden Farm coffee will remain in legends only. There's some doubt in your mind about whether 70% is a reasonable threshold, but it'll do for the moment. \n",
        "\n",
        "To solve the problem, then, you will build a decision tree to implement a classification solution. \n",
        "\n",
        "\n",
        "-------------------------------\n",
        "As ever, this notebook is **tiered**, meaning you can elect that tier that is right for your confidence and skill level. There are 3 tiers, with tier 1 being the easiest and tier 3 being the hardest. This is ***tier 3***, so it will be challenging. \n",
        "\n",
        "**1. Sourcing and loading** \n",
        "- Import packages\n",
        "- Load data\n",
        "- Explore the data\n",
        "\n",
        " \n",
        "**2. Cleaning, transforming and visualizing**\n",
        "- Cleaning the data\n",
        "- Train/test split\n",
        "  \n",
        "  \n",
        "**3. Modelling** \n",
        "- Model 1: Entropy model - no max_depth\n",
        "- Model 2: Gini impurity model - no max_depth\n",
        "- Model 3: Entropy model - max depth 3\n",
        "- Model 4: Gini impurity model - max depth 3\n",
        "\n",
        "\n",
        "**4. Evaluating and concluding** \n",
        "- How many customers will buy Hidden Farm coffee?\n",
        "- Decision\n",
        "\n",
        "**5. Random Forest** \n",
        "- Import necessary modules\n",
        "- Model\n",
        "- Revise conclusion\n",
        "    "
      ]
    },
    {
      "cell_type": "markdown",
      "metadata": {
        "id": "nciXGXtCDuVO"
      },
      "source": [
        "# 0. Overview\n",
        "\n",
        "This notebook uses decision trees to determine whether the factors of salary, gender, age, how much money the customer spent last week and during the preceding month on RR Diner Coffee products, how many kilogram coffee bags the customer bought over the last year, whether they have bought at least one RR Diner Coffee product online, and their distance from the flagship store in the USA, could predict whether customers would purchase the Hidden Farm coffee if a deal with its farmers were struck. "
      ]
    },
    {
      "cell_type": "markdown",
      "metadata": {
        "id": "5fSgD2h9DuVP"
      },
      "source": [
        "# 1. Sourcing and loading\n",
        "## 1a. Import Packages"
      ]
    },
    {
      "cell_type": "code",
      "metadata": {
        "id": "CfGkTcLvDuVQ"
      },
      "source": [
        "import pandas as pd\n",
        "import numpy as np\n",
        "from sklearn import tree, metrics\n",
        "from sklearn.model_selection import train_test_split\n",
        "import seaborn as sns\n",
        "import matplotlib.pyplot as plt\n",
        "from io import StringIO  \n",
        "from IPython.display import Image  \n",
        "import pydotplus\n",
        "import graphviz"
      ],
      "execution_count": 2,
      "outputs": []
    },
    {
      "cell_type": "markdown",
      "metadata": {
        "id": "ZLgxyhNrDuVT"
      },
      "source": [
        "## 1b. Load data "
      ]
    },
    {
      "cell_type": "code",
      "metadata": {
        "colab": {
          "base_uri": "https://localhost:8080/"
        },
        "id": "bvW4SENgG42D",
        "outputId": "a1580e35-42bf-41c5-e2f0-7dd67721311f"
      },
      "source": [
        "from google.colab import drive\r\n",
        "drive.mount('/content/drive')"
      ],
      "execution_count": 3,
      "outputs": [
        {
          "output_type": "stream",
          "text": [
            "Drive already mounted at /content/drive; to attempt to forcibly remount, call drive.mount(\"/content/drive\", force_remount=True).\n"
          ],
          "name": "stdout"
        }
      ]
    },
    {
      "cell_type": "code",
      "metadata": {
        "id": "chW2ozlnDuVU"
      },
      "source": [
        "# Read in the data to a variable called coffeeData\n",
        "path = '/content/drive/MyDrive/Colab Notebooks/Springboard - Data Science Career Track/14.3 - Case Study - Decision Trees/data/RRDinerCoffeeData.csv'\n",
        "coffeeData = pd.read_csv(path)"
      ],
      "execution_count": 4,
      "outputs": []
    },
    {
      "cell_type": "markdown",
      "metadata": {
        "id": "qnMVYf2NDuVW"
      },
      "source": [
        "## 1c. Explore the data"
      ]
    },
    {
      "cell_type": "markdown",
      "metadata": {
        "id": "U5Qm4obyDuVX"
      },
      "source": [
        "As we've seen, exploration entails doing things like checking out the **initial appearance** of the data with head(), the **dimensions** of our data with .shape, the **data types** of the variables with .info(), the **number of non-null values**, how much **memory** is being used to store the data, and finally the major summary statistcs capturing **central tendancy, dispersion and the null-excluding shape of the dataset's distribution**. \n",
        "\n",
        "How much of this can you do yourself by this point in the course? Have a real go. "
      ]
    },
    {
      "cell_type": "code",
      "metadata": {
        "id": "cHEKFT4SDuVY",
        "colab": {
          "base_uri": "https://localhost:8080/",
          "height": 202
        },
        "outputId": "8ebcab39-0b34-4f77-a9af-e4536b08506f"
      },
      "source": [
        "# Call head() on your data \n",
        "coffeeData.head()"
      ],
      "execution_count": 5,
      "outputs": [
        {
          "output_type": "execute_result",
          "data": {
            "text/html": [
              "<div>\n",
              "<style scoped>\n",
              "    .dataframe tbody tr th:only-of-type {\n",
              "        vertical-align: middle;\n",
              "    }\n",
              "\n",
              "    .dataframe tbody tr th {\n",
              "        vertical-align: top;\n",
              "    }\n",
              "\n",
              "    .dataframe thead th {\n",
              "        text-align: right;\n",
              "    }\n",
              "</style>\n",
              "<table border=\"1\" class=\"dataframe\">\n",
              "  <thead>\n",
              "    <tr style=\"text-align: right;\">\n",
              "      <th></th>\n",
              "      <th>Age</th>\n",
              "      <th>Gender</th>\n",
              "      <th>num_coffeeBags_per_year</th>\n",
              "      <th>spent_week</th>\n",
              "      <th>spent_month</th>\n",
              "      <th>SlrAY</th>\n",
              "      <th>Distance</th>\n",
              "      <th>Online</th>\n",
              "      <th>Decision</th>\n",
              "    </tr>\n",
              "  </thead>\n",
              "  <tbody>\n",
              "    <tr>\n",
              "      <th>0</th>\n",
              "      <td>36</td>\n",
              "      <td>Female</td>\n",
              "      <td>0</td>\n",
              "      <td>24</td>\n",
              "      <td>73</td>\n",
              "      <td>42789</td>\n",
              "      <td>0.003168</td>\n",
              "      <td>0</td>\n",
              "      <td>1.0</td>\n",
              "    </tr>\n",
              "    <tr>\n",
              "      <th>1</th>\n",
              "      <td>24</td>\n",
              "      <td>Male</td>\n",
              "      <td>0</td>\n",
              "      <td>44</td>\n",
              "      <td>164</td>\n",
              "      <td>74035</td>\n",
              "      <td>0.520906</td>\n",
              "      <td>0</td>\n",
              "      <td>NaN</td>\n",
              "    </tr>\n",
              "    <tr>\n",
              "      <th>2</th>\n",
              "      <td>24</td>\n",
              "      <td>Male</td>\n",
              "      <td>0</td>\n",
              "      <td>39</td>\n",
              "      <td>119</td>\n",
              "      <td>30563</td>\n",
              "      <td>0.916005</td>\n",
              "      <td>1</td>\n",
              "      <td>1.0</td>\n",
              "    </tr>\n",
              "    <tr>\n",
              "      <th>3</th>\n",
              "      <td>20</td>\n",
              "      <td>Male</td>\n",
              "      <td>0</td>\n",
              "      <td>30</td>\n",
              "      <td>107</td>\n",
              "      <td>13166</td>\n",
              "      <td>0.932098</td>\n",
              "      <td>1</td>\n",
              "      <td>NaN</td>\n",
              "    </tr>\n",
              "    <tr>\n",
              "      <th>4</th>\n",
              "      <td>24</td>\n",
              "      <td>Female</td>\n",
              "      <td>0</td>\n",
              "      <td>20</td>\n",
              "      <td>36</td>\n",
              "      <td>14244</td>\n",
              "      <td>0.965881</td>\n",
              "      <td>0</td>\n",
              "      <td>1.0</td>\n",
              "    </tr>\n",
              "  </tbody>\n",
              "</table>\n",
              "</div>"
            ],
            "text/plain": [
              "   Age  Gender  num_coffeeBags_per_year  ...  Distance  Online  Decision\n",
              "0   36  Female                        0  ...  0.003168       0       1.0\n",
              "1   24    Male                        0  ...  0.520906       0       NaN\n",
              "2   24    Male                        0  ...  0.916005       1       1.0\n",
              "3   20    Male                        0  ...  0.932098       1       NaN\n",
              "4   24  Female                        0  ...  0.965881       0       1.0\n",
              "\n",
              "[5 rows x 9 columns]"
            ]
          },
          "metadata": {
            "tags": []
          },
          "execution_count": 5
        }
      ]
    },
    {
      "cell_type": "code",
      "metadata": {
        "id": "rDshwA7tDuVa",
        "colab": {
          "base_uri": "https://localhost:8080/"
        },
        "outputId": "87a02db8-3467-451d-b9a0-79ec6c53a434"
      },
      "source": [
        "# Call .shape on your data\n",
        "coffeeData.shape"
      ],
      "execution_count": 6,
      "outputs": [
        {
          "output_type": "execute_result",
          "data": {
            "text/plain": [
              "(702, 9)"
            ]
          },
          "metadata": {
            "tags": []
          },
          "execution_count": 6
        }
      ]
    },
    {
      "cell_type": "code",
      "metadata": {
        "id": "iCxo0tomDuVc",
        "colab": {
          "base_uri": "https://localhost:8080/"
        },
        "outputId": "a85fea5f-118d-4aa0-cb83-b250b81fb00c"
      },
      "source": [
        "# Call info() on your data\n",
        "coffeeData.info()"
      ],
      "execution_count": 7,
      "outputs": [
        {
          "output_type": "stream",
          "text": [
            "<class 'pandas.core.frame.DataFrame'>\n",
            "RangeIndex: 702 entries, 0 to 701\n",
            "Data columns (total 9 columns):\n",
            " #   Column                   Non-Null Count  Dtype  \n",
            "---  ------                   --------------  -----  \n",
            " 0   Age                      702 non-null    int64  \n",
            " 1   Gender                   702 non-null    object \n",
            " 2   num_coffeeBags_per_year  702 non-null    int64  \n",
            " 3   spent_week               702 non-null    int64  \n",
            " 4   spent_month              702 non-null    int64  \n",
            " 5   SlrAY                    702 non-null    int64  \n",
            " 6   Distance                 702 non-null    float64\n",
            " 7   Online                   702 non-null    int64  \n",
            " 8   Decision                 474 non-null    float64\n",
            "dtypes: float64(2), int64(6), object(1)\n",
            "memory usage: 49.5+ KB\n"
          ],
          "name": "stdout"
        }
      ]
    },
    {
      "cell_type": "code",
      "metadata": {
        "id": "t0ZdmaUeDuVe",
        "colab": {
          "base_uri": "https://localhost:8080/",
          "height": 294
        },
        "outputId": "e603ce6a-6e8c-4b28-92b3-5591ddeb87ff"
      },
      "source": [
        "# Call describe() on your data to get the relevant summary statistics for your data \n",
        "coffeeData.describe()"
      ],
      "execution_count": 8,
      "outputs": [
        {
          "output_type": "execute_result",
          "data": {
            "text/html": [
              "<div>\n",
              "<style scoped>\n",
              "    .dataframe tbody tr th:only-of-type {\n",
              "        vertical-align: middle;\n",
              "    }\n",
              "\n",
              "    .dataframe tbody tr th {\n",
              "        vertical-align: top;\n",
              "    }\n",
              "\n",
              "    .dataframe thead th {\n",
              "        text-align: right;\n",
              "    }\n",
              "</style>\n",
              "<table border=\"1\" class=\"dataframe\">\n",
              "  <thead>\n",
              "    <tr style=\"text-align: right;\">\n",
              "      <th></th>\n",
              "      <th>Age</th>\n",
              "      <th>num_coffeeBags_per_year</th>\n",
              "      <th>spent_week</th>\n",
              "      <th>spent_month</th>\n",
              "      <th>SlrAY</th>\n",
              "      <th>Distance</th>\n",
              "      <th>Online</th>\n",
              "      <th>Decision</th>\n",
              "    </tr>\n",
              "  </thead>\n",
              "  <tbody>\n",
              "    <tr>\n",
              "      <th>count</th>\n",
              "      <td>702.000000</td>\n",
              "      <td>702.000000</td>\n",
              "      <td>702.000000</td>\n",
              "      <td>702.000000</td>\n",
              "      <td>702.000000</td>\n",
              "      <td>702.000000</td>\n",
              "      <td>702.000000</td>\n",
              "      <td>474.000000</td>\n",
              "    </tr>\n",
              "    <tr>\n",
              "      <th>mean</th>\n",
              "      <td>34.243590</td>\n",
              "      <td>2.710826</td>\n",
              "      <td>32.853276</td>\n",
              "      <td>107.923077</td>\n",
              "      <td>43819.843305</td>\n",
              "      <td>4.559186</td>\n",
              "      <td>0.531339</td>\n",
              "      <td>0.639241</td>\n",
              "    </tr>\n",
              "    <tr>\n",
              "      <th>std</th>\n",
              "      <td>13.927945</td>\n",
              "      <td>1.593629</td>\n",
              "      <td>15.731878</td>\n",
              "      <td>55.348485</td>\n",
              "      <td>26192.626943</td>\n",
              "      <td>3.116275</td>\n",
              "      <td>0.499373</td>\n",
              "      <td>0.480728</td>\n",
              "    </tr>\n",
              "    <tr>\n",
              "      <th>min</th>\n",
              "      <td>16.000000</td>\n",
              "      <td>0.000000</td>\n",
              "      <td>0.000000</td>\n",
              "      <td>0.000000</td>\n",
              "      <td>1617.000000</td>\n",
              "      <td>0.003168</td>\n",
              "      <td>0.000000</td>\n",
              "      <td>0.000000</td>\n",
              "    </tr>\n",
              "    <tr>\n",
              "      <th>25%</th>\n",
              "      <td>23.000000</td>\n",
              "      <td>1.000000</td>\n",
              "      <td>24.250000</td>\n",
              "      <td>62.000000</td>\n",
              "      <td>22812.250000</td>\n",
              "      <td>1.877812</td>\n",
              "      <td>0.000000</td>\n",
              "      <td>0.000000</td>\n",
              "    </tr>\n",
              "    <tr>\n",
              "      <th>50%</th>\n",
              "      <td>28.000000</td>\n",
              "      <td>3.000000</td>\n",
              "      <td>36.000000</td>\n",
              "      <td>113.500000</td>\n",
              "      <td>41975.000000</td>\n",
              "      <td>4.196167</td>\n",
              "      <td>1.000000</td>\n",
              "      <td>1.000000</td>\n",
              "    </tr>\n",
              "    <tr>\n",
              "      <th>75%</th>\n",
              "      <td>46.000000</td>\n",
              "      <td>4.000000</td>\n",
              "      <td>43.000000</td>\n",
              "      <td>150.750000</td>\n",
              "      <td>60223.000000</td>\n",
              "      <td>6.712022</td>\n",
              "      <td>1.000000</td>\n",
              "      <td>1.000000</td>\n",
              "    </tr>\n",
              "    <tr>\n",
              "      <th>max</th>\n",
              "      <td>90.000000</td>\n",
              "      <td>5.000000</td>\n",
              "      <td>62.000000</td>\n",
              "      <td>210.000000</td>\n",
              "      <td>182058.000000</td>\n",
              "      <td>10.986203</td>\n",
              "      <td>1.000000</td>\n",
              "      <td>1.000000</td>\n",
              "    </tr>\n",
              "  </tbody>\n",
              "</table>\n",
              "</div>"
            ],
            "text/plain": [
              "              Age  num_coffeeBags_per_year  ...      Online    Decision\n",
              "count  702.000000               702.000000  ...  702.000000  474.000000\n",
              "mean    34.243590                 2.710826  ...    0.531339    0.639241\n",
              "std     13.927945                 1.593629  ...    0.499373    0.480728\n",
              "min     16.000000                 0.000000  ...    0.000000    0.000000\n",
              "25%     23.000000                 1.000000  ...    0.000000    0.000000\n",
              "50%     28.000000                 3.000000  ...    1.000000    1.000000\n",
              "75%     46.000000                 4.000000  ...    1.000000    1.000000\n",
              "max     90.000000                 5.000000  ...    1.000000    1.000000\n",
              "\n",
              "[8 rows x 8 columns]"
            ]
          },
          "metadata": {
            "tags": []
          },
          "execution_count": 8
        }
      ]
    },
    {
      "cell_type": "markdown",
      "metadata": {
        "id": "INkujJ6QDuVg"
      },
      "source": [
        "# 2. Cleaning, transforming and visualizing\n",
        "## 2a. Cleaning the data"
      ]
    },
    {
      "cell_type": "markdown",
      "metadata": {
        "id": "wIMW_rbdDuVh"
      },
      "source": [
        "Some datasets don't require any cleaning, but almost all do. This one does. We need to replace '1.0' and '0.0' in the 'Decision' column by 'YES' and 'NO' respectively, clean up the values of the 'gender' column, and change the column names to words which maximize meaning and clarity. "
      ]
    },
    {
      "cell_type": "markdown",
      "metadata": {
        "id": "EEXdBALeDuVi"
      },
      "source": [
        "First, let's change the name of `spent_week`, `spent_month`, and `SlrAY` to `spent_last_week` and `spent_last_month` and `salary` respectively."
      ]
    },
    {
      "cell_type": "code",
      "metadata": {
        "id": "rhxy23pbDuVi",
        "colab": {
          "base_uri": "https://localhost:8080/"
        },
        "outputId": "068ee33c-e1cc-4499-c285-57931d4f78e2"
      },
      "source": [
        "# Check out the names of our data's columns \n",
        "coffeeData.columns"
      ],
      "execution_count": 9,
      "outputs": [
        {
          "output_type": "execute_result",
          "data": {
            "text/plain": [
              "Index(['Age', 'Gender', 'num_coffeeBags_per_year', 'spent_week', 'spent_month',\n",
              "       'SlrAY', 'Distance', 'Online', 'Decision'],\n",
              "      dtype='object')"
            ]
          },
          "metadata": {
            "tags": []
          },
          "execution_count": 9
        }
      ]
    },
    {
      "cell_type": "code",
      "metadata": {
        "id": "C_D1m6ryDuVk"
      },
      "source": [
        "# Make the relevant name changes to spent_week and spent_per_week.\n",
        "coffeeData.rename(columns={'spent_week': 'spent_last_week', 'spent_month': 'spent_last_month', 'SlrAY': 'salary'}, inplace=True)"
      ],
      "execution_count": 10,
      "outputs": []
    },
    {
      "cell_type": "code",
      "metadata": {
        "id": "3cmdaeg8DuVm",
        "colab": {
          "base_uri": "https://localhost:8080/"
        },
        "outputId": "3849c8ed-471b-4862-ea2f-3b0d6759de6c"
      },
      "source": [
        "# Check out the column names\n",
        "coffeeData.columns"
      ],
      "execution_count": 11,
      "outputs": [
        {
          "output_type": "execute_result",
          "data": {
            "text/plain": [
              "Index(['Age', 'Gender', 'num_coffeeBags_per_year', 'spent_last_week',\n",
              "       'spent_last_month', 'salary', 'Distance', 'Online', 'Decision'],\n",
              "      dtype='object')"
            ]
          },
          "metadata": {
            "tags": []
          },
          "execution_count": 11
        }
      ]
    },
    {
      "cell_type": "code",
      "metadata": {
        "id": "XJK-wbfODuVp",
        "colab": {
          "base_uri": "https://localhost:8080/"
        },
        "outputId": "42d1821c-6f3d-4e5c-9920-f5e8a5aed13d"
      },
      "source": [
        "# Let's have a closer look at the gender column. Its values need cleaning.\n",
        "coffeeData['Gender'].unique()"
      ],
      "execution_count": 12,
      "outputs": [
        {
          "output_type": "execute_result",
          "data": {
            "text/plain": [
              "array(['Female', 'Male', 'female', 'F', 'f ', 'FEMALE', 'MALE', 'male',\n",
              "       'M'], dtype=object)"
            ]
          },
          "metadata": {
            "tags": []
          },
          "execution_count": 12
        }
      ]
    },
    {
      "cell_type": "markdown",
      "metadata": {
        "id": "-eGzgGR1DuVt"
      },
      "source": [
        "We can see a bunch of inconsistency here.\n",
        "\n",
        "Use replace() to make the values of the `gender` column just `Female` and `Male`."
      ]
    },
    {
      "cell_type": "code",
      "metadata": {
        "id": "h0FOX3I3DuVu"
      },
      "source": [
        "# Replace all alternate values for the Female entry with 'Female'\n",
        "coffeeData['Gender'].replace({'female': 'Female', 'F': 'Female', 'f': 'Female', 'FEMALE': 'Female', 'f ': 'Female'}, inplace=True)"
      ],
      "execution_count": 13,
      "outputs": []
    },
    {
      "cell_type": "code",
      "metadata": {
        "id": "5TThfHgCDuVw",
        "colab": {
          "base_uri": "https://localhost:8080/"
        },
        "outputId": "bf846521-82e9-4382-b40a-8b95e63962b0"
      },
      "source": [
        "# Check out the unique values for the 'gender' column\n",
        "coffeeData['Gender'].unique()"
      ],
      "execution_count": 14,
      "outputs": [
        {
          "output_type": "execute_result",
          "data": {
            "text/plain": [
              "array(['Female', 'Male', 'MALE', 'male', 'M'], dtype=object)"
            ]
          },
          "metadata": {
            "tags": []
          },
          "execution_count": 14
        }
      ]
    },
    {
      "cell_type": "code",
      "metadata": {
        "id": "4wRKBvSHDuVy"
      },
      "source": [
        "# Replace all alternate values with \"Male\"\n",
        "coffeeData['Gender'].replace({'male': 'Male', 'M': 'Male', 'm': 'Male', 'MALE': 'Male'}, inplace=True)"
      ],
      "execution_count": 15,
      "outputs": []
    },
    {
      "cell_type": "code",
      "metadata": {
        "id": "nhBUkXIADuV0",
        "colab": {
          "base_uri": "https://localhost:8080/"
        },
        "outputId": "bba5cea2-837b-420e-f1b5-4a492b4c7168"
      },
      "source": [
        "# Let's check the unique values of the column \"gender\"\n",
        "coffeeData['Gender'].unique()"
      ],
      "execution_count": 16,
      "outputs": [
        {
          "output_type": "execute_result",
          "data": {
            "text/plain": [
              "array(['Female', 'Male'], dtype=object)"
            ]
          },
          "metadata": {
            "tags": []
          },
          "execution_count": 16
        }
      ]
    },
    {
      "cell_type": "code",
      "metadata": {
        "id": "AdhhO4WHDuV2",
        "colab": {
          "base_uri": "https://localhost:8080/"
        },
        "outputId": "54a1d7e9-2c53-4d0b-8fb0-82d72f7d5e1a"
      },
      "source": [
        "# Check out the unique values of the column 'Decision'\n",
        "coffeeData['Decision'].unique()"
      ],
      "execution_count": 17,
      "outputs": [
        {
          "output_type": "execute_result",
          "data": {
            "text/plain": [
              "array([ 1., nan,  0.])"
            ]
          },
          "metadata": {
            "tags": []
          },
          "execution_count": 17
        }
      ]
    },
    {
      "cell_type": "markdown",
      "metadata": {
        "id": "m1JuiY-iDuV5"
      },
      "source": [
        "We now want to replace `1.0` and `0.0` in the `Decision` column by `YES` and `NO` respectively."
      ]
    },
    {
      "cell_type": "code",
      "metadata": {
        "id": "QsK6gYPgDuV5"
      },
      "source": [
        "# Replace 'Yes' and 'No' by 1 and 0 (data is alread in 1 & O), syntax assuming if changes needed\n",
        "#coffeeData['Decision'] = coffeeData['Decision'].replace({'Yes': 1.0, 'No': 0.0})"
      ],
      "execution_count": 18,
      "outputs": []
    },
    {
      "cell_type": "code",
      "metadata": {
        "id": "YtHnTZuWDuV9",
        "colab": {
          "base_uri": "https://localhost:8080/"
        },
        "outputId": "66309fd3-a5ec-45a2-deb1-60d83d0956e6"
      },
      "source": [
        "# Check that our replacing those values with 'YES' and 'NO' worked, with unique()\n",
        "coffeeData['Decision'].unique()"
      ],
      "execution_count": 19,
      "outputs": [
        {
          "output_type": "execute_result",
          "data": {
            "text/plain": [
              "array([ 1., nan,  0.])"
            ]
          },
          "metadata": {
            "tags": []
          },
          "execution_count": 19
        }
      ]
    },
    {
      "cell_type": "markdown",
      "metadata": {
        "id": "CKCt-fBlDuWB"
      },
      "source": [
        "## 2b. Train/test split\n",
        "To execute the train/test split properly, we need to do five things: \n",
        "1. Drop all rows with a null value in the `Decision` column, and save the result as NOPrediction: a dataset that will contain all known values for the decision \n",
        "2. Visualize the data using scatter and boxplots of several variables in the y-axis and the decision on the x-axis\n",
        "3. Get the subset of coffeeData with null values in the `Decision` column, and save that subset as Prediction\n",
        "4. Divide the NOPrediction subset into X and y, and then further divide those subsets into train and test subsets for X and y respectively\n",
        "5. Create dummy variables to deal with categorical inputs"
      ]
    },
    {
      "cell_type": "markdown",
      "metadata": {
        "id": "ysHdkIaQDuWB"
      },
      "source": [
        "### 1. Drop all null values within the `Decision` column, and save the result as NoPrediction"
      ]
    },
    {
      "cell_type": "code",
      "metadata": {
        "id": "pvgH6SM4DuWC",
        "colab": {
          "base_uri": "https://localhost:8080/"
        },
        "outputId": "c32107bb-ac08-4a8f-ed5d-b8fcbf37241b"
      },
      "source": [
        "# NoPrediction will contain all known values for the decision\n",
        "# Call dropna() on coffeeData, and store the result in a variable NOPrediction \n",
        "# Call describe() on the Decision column of NoPrediction after calling dropna() on coffeeData\n",
        "\n",
        "NoPrediction = coffeeData.dropna()\n",
        "NoPrediction['Decision'].describe()"
      ],
      "execution_count": 20,
      "outputs": [
        {
          "output_type": "execute_result",
          "data": {
            "text/plain": [
              "count    474.000000\n",
              "mean       0.639241\n",
              "std        0.480728\n",
              "min        0.000000\n",
              "25%        0.000000\n",
              "50%        1.000000\n",
              "75%        1.000000\n",
              "max        1.000000\n",
              "Name: Decision, dtype: float64"
            ]
          },
          "metadata": {
            "tags": []
          },
          "execution_count": 20
        }
      ]
    },
    {
      "cell_type": "code",
      "metadata": {
        "colab": {
          "base_uri": "https://localhost:8080/",
          "height": 294
        },
        "id": "ey3Fxsg-rzFj",
        "outputId": "a5ba5828-d77a-43ea-bd4d-6da25ce2f0d6"
      },
      "source": [
        "NoPrediction.describe()"
      ],
      "execution_count": 21,
      "outputs": [
        {
          "output_type": "execute_result",
          "data": {
            "text/html": [
              "<div>\n",
              "<style scoped>\n",
              "    .dataframe tbody tr th:only-of-type {\n",
              "        vertical-align: middle;\n",
              "    }\n",
              "\n",
              "    .dataframe tbody tr th {\n",
              "        vertical-align: top;\n",
              "    }\n",
              "\n",
              "    .dataframe thead th {\n",
              "        text-align: right;\n",
              "    }\n",
              "</style>\n",
              "<table border=\"1\" class=\"dataframe\">\n",
              "  <thead>\n",
              "    <tr style=\"text-align: right;\">\n",
              "      <th></th>\n",
              "      <th>Age</th>\n",
              "      <th>num_coffeeBags_per_year</th>\n",
              "      <th>spent_last_week</th>\n",
              "      <th>spent_last_month</th>\n",
              "      <th>salary</th>\n",
              "      <th>Distance</th>\n",
              "      <th>Online</th>\n",
              "      <th>Decision</th>\n",
              "    </tr>\n",
              "  </thead>\n",
              "  <tbody>\n",
              "    <tr>\n",
              "      <th>count</th>\n",
              "      <td>474.000000</td>\n",
              "      <td>474.000000</td>\n",
              "      <td>474.000000</td>\n",
              "      <td>474.000000</td>\n",
              "      <td>474.000000</td>\n",
              "      <td>474.000000</td>\n",
              "      <td>474.000000</td>\n",
              "      <td>474.000000</td>\n",
              "    </tr>\n",
              "    <tr>\n",
              "      <th>mean</th>\n",
              "      <td>35.417722</td>\n",
              "      <td>2.590717</td>\n",
              "      <td>32.592827</td>\n",
              "      <td>106.727848</td>\n",
              "      <td>44731.892405</td>\n",
              "      <td>5.102898</td>\n",
              "      <td>0.512658</td>\n",
              "      <td>0.639241</td>\n",
              "    </tr>\n",
              "    <tr>\n",
              "      <th>std</th>\n",
              "      <td>13.604135</td>\n",
              "      <td>1.585211</td>\n",
              "      <td>15.758109</td>\n",
              "      <td>56.101085</td>\n",
              "      <td>25567.674430</td>\n",
              "      <td>3.354891</td>\n",
              "      <td>0.500368</td>\n",
              "      <td>0.480728</td>\n",
              "    </tr>\n",
              "    <tr>\n",
              "      <th>min</th>\n",
              "      <td>16.000000</td>\n",
              "      <td>0.000000</td>\n",
              "      <td>0.000000</td>\n",
              "      <td>0.000000</td>\n",
              "      <td>3150.000000</td>\n",
              "      <td>0.003168</td>\n",
              "      <td>0.000000</td>\n",
              "      <td>0.000000</td>\n",
              "    </tr>\n",
              "    <tr>\n",
              "      <th>25%</th>\n",
              "      <td>25.000000</td>\n",
              "      <td>1.000000</td>\n",
              "      <td>24.000000</td>\n",
              "      <td>60.000000</td>\n",
              "      <td>27284.250000</td>\n",
              "      <td>2.077965</td>\n",
              "      <td>0.000000</td>\n",
              "      <td>0.000000</td>\n",
              "    </tr>\n",
              "    <tr>\n",
              "      <th>50%</th>\n",
              "      <td>29.000000</td>\n",
              "      <td>3.000000</td>\n",
              "      <td>35.000000</td>\n",
              "      <td>113.500000</td>\n",
              "      <td>42791.500000</td>\n",
              "      <td>4.832168</td>\n",
              "      <td>1.000000</td>\n",
              "      <td>1.000000</td>\n",
              "    </tr>\n",
              "    <tr>\n",
              "      <th>75%</th>\n",
              "      <td>49.000000</td>\n",
              "      <td>4.000000</td>\n",
              "      <td>43.000000</td>\n",
              "      <td>150.000000</td>\n",
              "      <td>61621.750000</td>\n",
              "      <td>7.869086</td>\n",
              "      <td>1.000000</td>\n",
              "      <td>1.000000</td>\n",
              "    </tr>\n",
              "    <tr>\n",
              "      <th>max</th>\n",
              "      <td>90.000000</td>\n",
              "      <td>5.000000</td>\n",
              "      <td>62.000000</td>\n",
              "      <td>210.000000</td>\n",
              "      <td>172658.000000</td>\n",
              "      <td>10.986203</td>\n",
              "      <td>1.000000</td>\n",
              "      <td>1.000000</td>\n",
              "    </tr>\n",
              "  </tbody>\n",
              "</table>\n",
              "</div>"
            ],
            "text/plain": [
              "              Age  num_coffeeBags_per_year  ...      Online    Decision\n",
              "count  474.000000               474.000000  ...  474.000000  474.000000\n",
              "mean    35.417722                 2.590717  ...    0.512658    0.639241\n",
              "std     13.604135                 1.585211  ...    0.500368    0.480728\n",
              "min     16.000000                 0.000000  ...    0.000000    0.000000\n",
              "25%     25.000000                 1.000000  ...    0.000000    0.000000\n",
              "50%     29.000000                 3.000000  ...    1.000000    1.000000\n",
              "75%     49.000000                 4.000000  ...    1.000000    1.000000\n",
              "max     90.000000                 5.000000  ...    1.000000    1.000000\n",
              "\n",
              "[8 rows x 8 columns]"
            ]
          },
          "metadata": {
            "tags": []
          },
          "execution_count": 21
        }
      ]
    },
    {
      "cell_type": "markdown",
      "metadata": {
        "id": "XfTK5Ec6DuWE"
      },
      "source": [
        "### 2. Visualize the data using scatter and boxplots of several variables in the y-axis and the decision on the x-axis"
      ]
    },
    {
      "cell_type": "code",
      "metadata": {
        "id": "5O-M-t3tDuWE",
        "colab": {
          "base_uri": "https://localhost:8080/",
          "height": 297
        },
        "outputId": "e347d3b4-7dd1-4a38-ec83-2cba5bdcbcee"
      },
      "source": [
        "# Exploring our new NOPrediction dataset\n",
        "# Make a boxplot on NOPrediction where the x axis is Decision, and the y axis is spent_today\n",
        "sns.boxplot(x='Decision', y='spent_last_week', data=NoPrediction)"
      ],
      "execution_count": 22,
      "outputs": [
        {
          "output_type": "execute_result",
          "data": {
            "text/plain": [
              "<matplotlib.axes._subplots.AxesSubplot at 0x7fd8cc8da2b0>"
            ]
          },
          "metadata": {
            "tags": []
          },
          "execution_count": 22
        },
        {
          "output_type": "display_data",
          "data": {
            "image/png": "[encoded data removed]",
            "text/plain": [
              "<Figure size 432x288 with 1 Axes>"
            ]
          },
          "metadata": {
            "tags": [],
            "needs_background": "light"
          }
        }
      ]
    },
    {
      "cell_type": "markdown",
      "metadata": {
        "id": "mVqg_HI7DuWG"
      },
      "source": [
        "Can you admissibly conclude anything from this boxplot? Write your answer here: <br>\n",
        "<b>A:</b><br>\n",
        "From the boxplot, it is observed that consumers who indicated \"yes\" in buying the China coffee is having a much higher average spend and is spending more vs the other group.\n",
        "\n",
        "\n"
      ]
    },
    {
      "cell_type": "code",
      "metadata": {
        "id": "q-AyXWSxDuWH",
        "colab": {
          "base_uri": "https://localhost:8080/",
          "height": 297
        },
        "outputId": "6f912dd3-f4c7-4be5-90fa-131ca345cfd0"
      },
      "source": [
        "# Make a scatterplot on NOPrediction, where x is distance, y is spent_last_month and hue is Decision \n",
        "sns.scatterplot(x='Distance', y='spent_last_week', data=NoPrediction, hue='Decision')"
      ],
      "execution_count": 23,
      "outputs": [
        {
          "output_type": "execute_result",
          "data": {
            "text/plain": [
              "<matplotlib.axes._subplots.AxesSubplot at 0x7fd8cbd78470>"
            ]
          },
          "metadata": {
            "tags": []
          },
          "execution_count": 23
        },
        {
          "output_type": "display_data",
          "data": {
            "image/png": "[encoded data removed]",
            "text/plain": [
              "<Figure size 432x288 with 1 Axes>"
            ]
          },
          "metadata": {
            "tags": [],
            "needs_background": "light"
          }
        }
      ]
    },
    {
      "cell_type": "markdown",
      "metadata": {
        "id": "I_nr36yZDuWJ"
      },
      "source": [
        "Can you admissibly conclude anything from this scatterplot? Remember: we are trying to build a tree to classify unseen examples. Write your answer here: <br>\r\n",
        "<b>A:</b><br>\r\n",
        "From the scatterplot, it is observed that mot responded \"yes\" in buying the China coffee is living in a distance between 0-4, and mostly spent 20 or above last week. "
      ]
    },
    {
      "cell_type": "markdown",
      "metadata": {
        "id": "oQBPyvehDuWK"
      },
      "source": [
        "### 3. Get the subset of coffeeData with null values in the Decision column, and save that subset as Prediction"
      ]
    },
    {
      "cell_type": "code",
      "metadata": {
        "id": "vcCednqUDuWL"
      },
      "source": [
        "# Get just those rows whose value for the Decision column is null  \n",
        "Prediction = coffeeData[coffeeData['Decision'].isnull()]"
      ],
      "execution_count": 24,
      "outputs": []
    },
    {
      "cell_type": "code",
      "metadata": {
        "colab": {
          "base_uri": "https://localhost:8080/",
          "height": 202
        },
        "id": "6cHd2ywwNgKE",
        "outputId": "330bf196-36eb-42e6-ab6e-51bbb57e715b"
      },
      "source": [
        "Prediction.head()"
      ],
      "execution_count": 25,
      "outputs": [
        {
          "output_type": "execute_result",
          "data": {
            "text/html": [
              "<div>\n",
              "<style scoped>\n",
              "    .dataframe tbody tr th:only-of-type {\n",
              "        vertical-align: middle;\n",
              "    }\n",
              "\n",
              "    .dataframe tbody tr th {\n",
              "        vertical-align: top;\n",
              "    }\n",
              "\n",
              "    .dataframe thead th {\n",
              "        text-align: right;\n",
              "    }\n",
              "</style>\n",
              "<table border=\"1\" class=\"dataframe\">\n",
              "  <thead>\n",
              "    <tr style=\"text-align: right;\">\n",
              "      <th></th>\n",
              "      <th>Age</th>\n",
              "      <th>Gender</th>\n",
              "      <th>num_coffeeBags_per_year</th>\n",
              "      <th>spent_last_week</th>\n",
              "      <th>spent_last_month</th>\n",
              "      <th>salary</th>\n",
              "      <th>Distance</th>\n",
              "      <th>Online</th>\n",
              "      <th>Decision</th>\n",
              "    </tr>\n",
              "  </thead>\n",
              "  <tbody>\n",
              "    <tr>\n",
              "      <th>1</th>\n",
              "      <td>24</td>\n",
              "      <td>Male</td>\n",
              "      <td>0</td>\n",
              "      <td>44</td>\n",
              "      <td>164</td>\n",
              "      <td>74035</td>\n",
              "      <td>0.520906</td>\n",
              "      <td>0</td>\n",
              "      <td>NaN</td>\n",
              "    </tr>\n",
              "    <tr>\n",
              "      <th>3</th>\n",
              "      <td>20</td>\n",
              "      <td>Male</td>\n",
              "      <td>0</td>\n",
              "      <td>30</td>\n",
              "      <td>107</td>\n",
              "      <td>13166</td>\n",
              "      <td>0.932098</td>\n",
              "      <td>1</td>\n",
              "      <td>NaN</td>\n",
              "    </tr>\n",
              "    <tr>\n",
              "      <th>7</th>\n",
              "      <td>24</td>\n",
              "      <td>Female</td>\n",
              "      <td>0</td>\n",
              "      <td>20</td>\n",
              "      <td>34</td>\n",
              "      <td>17425</td>\n",
              "      <td>1.193188</td>\n",
              "      <td>0</td>\n",
              "      <td>NaN</td>\n",
              "    </tr>\n",
              "    <tr>\n",
              "      <th>11</th>\n",
              "      <td>24</td>\n",
              "      <td>Female</td>\n",
              "      <td>0</td>\n",
              "      <td>40</td>\n",
              "      <td>153</td>\n",
              "      <td>84803</td>\n",
              "      <td>1.655096</td>\n",
              "      <td>1</td>\n",
              "      <td>NaN</td>\n",
              "    </tr>\n",
              "    <tr>\n",
              "      <th>12</th>\n",
              "      <td>21</td>\n",
              "      <td>Female</td>\n",
              "      <td>0</td>\n",
              "      <td>38</td>\n",
              "      <td>122</td>\n",
              "      <td>42338</td>\n",
              "      <td>1.714179</td>\n",
              "      <td>1</td>\n",
              "      <td>NaN</td>\n",
              "    </tr>\n",
              "  </tbody>\n",
              "</table>\n",
              "</div>"
            ],
            "text/plain": [
              "    Age  Gender  num_coffeeBags_per_year  ...  Distance  Online  Decision\n",
              "1    24    Male                        0  ...  0.520906       0       NaN\n",
              "3    20    Male                        0  ...  0.932098       1       NaN\n",
              "7    24  Female                        0  ...  1.193188       0       NaN\n",
              "11   24  Female                        0  ...  1.655096       1       NaN\n",
              "12   21  Female                        0  ...  1.714179       1       NaN\n",
              "\n",
              "[5 rows x 9 columns]"
            ]
          },
          "metadata": {
            "tags": []
          },
          "execution_count": 25
        }
      ]
    },
    {
      "cell_type": "code",
      "metadata": {
        "colab": {
          "base_uri": "https://localhost:8080/"
        },
        "id": "KUvxyCUEZdiM",
        "outputId": "491ac1f0-eb61-48ca-9ec4-76dbea465631"
      },
      "source": [
        "Prediction.shape"
      ],
      "execution_count": 26,
      "outputs": [
        {
          "output_type": "execute_result",
          "data": {
            "text/plain": [
              "(228, 9)"
            ]
          },
          "metadata": {
            "tags": []
          },
          "execution_count": 26
        }
      ]
    },
    {
      "cell_type": "code",
      "metadata": {
        "id": "aenlmp9NDuWM",
        "colab": {
          "base_uri": "https://localhost:8080/",
          "height": 294
        },
        "outputId": "76e69f0f-d8d3-4a46-bdb9-f38b138810b8"
      },
      "source": [
        "# Call describe() on Prediction\n",
        "Prediction.describe()"
      ],
      "execution_count": 27,
      "outputs": [
        {
          "output_type": "execute_result",
          "data": {
            "text/html": [
              "<div>\n",
              "<style scoped>\n",
              "    .dataframe tbody tr th:only-of-type {\n",
              "        vertical-align: middle;\n",
              "    }\n",
              "\n",
              "    .dataframe tbody tr th {\n",
              "        vertical-align: top;\n",
              "    }\n",
              "\n",
              "    .dataframe thead th {\n",
              "        text-align: right;\n",
              "    }\n",
              "</style>\n",
              "<table border=\"1\" class=\"dataframe\">\n",
              "  <thead>\n",
              "    <tr style=\"text-align: right;\">\n",
              "      <th></th>\n",
              "      <th>Age</th>\n",
              "      <th>num_coffeeBags_per_year</th>\n",
              "      <th>spent_last_week</th>\n",
              "      <th>spent_last_month</th>\n",
              "      <th>salary</th>\n",
              "      <th>Distance</th>\n",
              "      <th>Online</th>\n",
              "      <th>Decision</th>\n",
              "    </tr>\n",
              "  </thead>\n",
              "  <tbody>\n",
              "    <tr>\n",
              "      <th>count</th>\n",
              "      <td>228.000000</td>\n",
              "      <td>228.000000</td>\n",
              "      <td>228.000000</td>\n",
              "      <td>228.000000</td>\n",
              "      <td>228.000000</td>\n",
              "      <td>228.000000</td>\n",
              "      <td>228.000000</td>\n",
              "      <td>0.0</td>\n",
              "    </tr>\n",
              "    <tr>\n",
              "      <th>mean</th>\n",
              "      <td>31.802632</td>\n",
              "      <td>2.960526</td>\n",
              "      <td>33.394737</td>\n",
              "      <td>110.407895</td>\n",
              "      <td>41923.741228</td>\n",
              "      <td>3.428836</td>\n",
              "      <td>0.570175</td>\n",
              "      <td>NaN</td>\n",
              "    </tr>\n",
              "    <tr>\n",
              "      <th>std</th>\n",
              "      <td>14.302293</td>\n",
              "      <td>1.585514</td>\n",
              "      <td>15.697930</td>\n",
              "      <td>53.786536</td>\n",
              "      <td>27406.768360</td>\n",
              "      <td>2.153102</td>\n",
              "      <td>0.496140</td>\n",
              "      <td>NaN</td>\n",
              "    </tr>\n",
              "    <tr>\n",
              "      <th>min</th>\n",
              "      <td>16.000000</td>\n",
              "      <td>0.000000</td>\n",
              "      <td>0.000000</td>\n",
              "      <td>0.000000</td>\n",
              "      <td>1617.000000</td>\n",
              "      <td>0.010048</td>\n",
              "      <td>0.000000</td>\n",
              "      <td>NaN</td>\n",
              "    </tr>\n",
              "    <tr>\n",
              "      <th>25%</th>\n",
              "      <td>22.000000</td>\n",
              "      <td>2.000000</td>\n",
              "      <td>25.750000</td>\n",
              "      <td>65.000000</td>\n",
              "      <td>15911.500000</td>\n",
              "      <td>1.699408</td>\n",
              "      <td>0.000000</td>\n",
              "      <td>NaN</td>\n",
              "    </tr>\n",
              "    <tr>\n",
              "      <th>50%</th>\n",
              "      <td>25.000000</td>\n",
              "      <td>3.000000</td>\n",
              "      <td>37.000000</td>\n",
              "      <td>113.500000</td>\n",
              "      <td>40987.500000</td>\n",
              "      <td>3.208673</td>\n",
              "      <td>1.000000</td>\n",
              "      <td>NaN</td>\n",
              "    </tr>\n",
              "    <tr>\n",
              "      <th>75%</th>\n",
              "      <td>39.000000</td>\n",
              "      <td>4.000000</td>\n",
              "      <td>44.000000</td>\n",
              "      <td>151.250000</td>\n",
              "      <td>58537.000000</td>\n",
              "      <td>5.261184</td>\n",
              "      <td>1.000000</td>\n",
              "      <td>NaN</td>\n",
              "    </tr>\n",
              "    <tr>\n",
              "      <th>max</th>\n",
              "      <td>67.000000</td>\n",
              "      <td>5.000000</td>\n",
              "      <td>62.000000</td>\n",
              "      <td>210.000000</td>\n",
              "      <td>182058.000000</td>\n",
              "      <td>10.871566</td>\n",
              "      <td>1.000000</td>\n",
              "      <td>NaN</td>\n",
              "    </tr>\n",
              "  </tbody>\n",
              "</table>\n",
              "</div>"
            ],
            "text/plain": [
              "              Age  num_coffeeBags_per_year  ...      Online  Decision\n",
              "count  228.000000               228.000000  ...  228.000000       0.0\n",
              "mean    31.802632                 2.960526  ...    0.570175       NaN\n",
              "std     14.302293                 1.585514  ...    0.496140       NaN\n",
              "min     16.000000                 0.000000  ...    0.000000       NaN\n",
              "25%     22.000000                 2.000000  ...    0.000000       NaN\n",
              "50%     25.000000                 3.000000  ...    1.000000       NaN\n",
              "75%     39.000000                 4.000000  ...    1.000000       NaN\n",
              "max     67.000000                 5.000000  ...    1.000000       NaN\n",
              "\n",
              "[8 rows x 8 columns]"
            ]
          },
          "metadata": {
            "tags": []
          },
          "execution_count": 27
        }
      ]
    },
    {
      "cell_type": "markdown",
      "metadata": {
        "id": "zmN_BPwFDuWO"
      },
      "source": [
        "### 4. Divide the NOPrediction subset into X and y"
      ]
    },
    {
      "cell_type": "code",
      "metadata": {
        "id": "00WtPVYSDuWP",
        "colab": {
          "base_uri": "https://localhost:8080/"
        },
        "outputId": "560d65fc-4f1a-4cec-b680-180eea53f352"
      },
      "source": [
        "# Check the names of the columns of NOPrediction\n",
        "NoPrediction.columns"
      ],
      "execution_count": 28,
      "outputs": [
        {
          "output_type": "execute_result",
          "data": {
            "text/plain": [
              "Index(['Age', 'Gender', 'num_coffeeBags_per_year', 'spent_last_week',\n",
              "       'spent_last_month', 'salary', 'Distance', 'Online', 'Decision'],\n",
              "      dtype='object')"
            ]
          },
          "metadata": {
            "tags": []
          },
          "execution_count": 28
        }
      ]
    },
    {
      "cell_type": "code",
      "metadata": {
        "id": "oPi2gMLfDuWQ"
      },
      "source": [
        "# Let's do our feature selection.\n",
        "# Make a variable called 'features', and a list containing the strings of every column except \"Decision\"\n",
        "features = NoPrediction.columns.drop('Decision')\n",
        "\n",
        "# Make an explanatory variable called X, and assign it: NoPrediction[features]\n",
        "X = NoPrediction[features]\n",
        "\n",
        "# Make a dependent variable called y, and assign it: NoPrediction.Decision\n",
        "y = NoPrediction.Decision"
      ],
      "execution_count": 29,
      "outputs": []
    },
    {
      "cell_type": "markdown",
      "metadata": {
        "id": "Jdn_dHlkDuWS"
      },
      "source": [
        "### 4. Further divide those subsets into train and test subsets for X and y respectively: X_train, X_test, y_train, y_test"
      ]
    },
    {
      "cell_type": "code",
      "metadata": {
        "id": "RqbHQza-DuWT"
      },
      "source": [
        "# Call train_test_split on X, y. Make the test_size = 0.25, and random_state = 246\n",
        "X_train, X_test, y_train, y_test = train_test_split(X, y, test_size=0.25, random_state=246)"
      ],
      "execution_count": 30,
      "outputs": []
    },
    {
      "cell_type": "markdown",
      "metadata": {
        "id": "R-d3XOv8DuWW"
      },
      "source": [
        "### 5. Create dummy variables to deal with categorical inputs\n",
        "One-hot encoding replaces each unique value of a given column with a new column, and puts a 1 in the new column for a given row just if its initial value for the original column matches the new column. Check out [this resource](https://hackernoon.com/what-is-one-hot-encoding-why-and-when-do-you-have-to-use-it-e3c6186d008f) if you haven't seen one-hot-encoding before. "
      ]
    },
    {
      "cell_type": "code",
      "metadata": {
        "id": "xXHGDZkZDuWW"
      },
      "source": [
        "# One-hot encode all features in training set.\n",
        "X_train = pd.get_dummies(X_train)\n",
        "\n",
        "# Do the same, but for X_test\n",
        "X_test = pd.get_dummies(X_test)"
      ],
      "execution_count": 31,
      "outputs": []
    },
    {
      "cell_type": "markdown",
      "metadata": {
        "id": "nqvyCX-6DuWb"
      },
      "source": [
        "# 3. Modelling\n",
        "It's useful to look at the scikit-learn documentation on decision trees https://scikit-learn.org/stable/modules/tree.html before launching into applying them. If you haven't seen them before, take a look at that link, in particular the section `1.10.5.` "
      ]
    },
    {
      "cell_type": "markdown",
      "metadata": {
        "id": "RIm9IN5HDuWc"
      },
      "source": [
        "## Model 1: Entropy model - no max_depth\n",
        "\n",
        "We'll give you a little more guidance here, as the Python is hard to deduce, and scikitlearn takes some getting used to.\n",
        "\n",
        "Theoretically, let's remind ourselves of what's going on with a decision tree implementing an entropy model.\n",
        "\n",
        "Ross Quinlan's **ID3 Algorithm** was one of the first, and one of the most basic, to use entropy as a metric.\n",
        "\n",
        "**Entropy** is a measure of how uncertain we are about which category the data-points fall into at a given point in the tree. The **Information gain** of a specific feature with a threshold (such as 'spent_last_month <= 138.0') is the difference in entropy that exists before and after splitting on that feature; i.e., the information we gain about the categories of the data-points by splitting on that feature and that threshold. \n",
        "\n",
        "Naturally, we want to minimize entropy and maximize information gain. Quinlan's ID3 algorithm is designed to output a tree such that the features at each node, starting from the root, and going all the way down to the leaves, have maximial information gain. We want a tree whose leaves have elements that are *homogeneous*, that is, all of the same category. \n",
        "\n",
        "The first model will be the hardest. Persevere and you'll reap the rewards: you can use almost exactly the same code for the other models. "
      ]
    },
    {
      "cell_type": "code",
      "metadata": {
        "id": "8-gelLDgDuWc",
        "colab": {
          "base_uri": "https://localhost:8080/"
        },
        "outputId": "948ebb22-540e-408e-cc04-71133742dd22"
      },
      "source": [
        "# Declare a variable called entr_model and use tree.DecisionTreeClassifier. \n",
        "entr_model = tree.DecisionTreeClassifier(criterion='entropy', random_state=1)\n",
        "\n",
        "# Call fit() on entr_model, and pass in X_train and y_train, in that order \n",
        "entr_model.fit(X_train, y_train)\n",
        "\n",
        "# Call predict() on entr_model with X_test passed to it, and assign the result to a variable y_pred \n",
        "y_pred = entr_model.predict(X_test)\n",
        "\n",
        "# Assign y_pred the following: pd.Series(y_pred)\n",
        "y_pred = pd.Series(y_pred)\n",
        "\n",
        "# Check out entr_model\n",
        "entr_model"
      ],
      "execution_count": 32,
      "outputs": [
        {
          "output_type": "execute_result",
          "data": {
            "text/plain": [
              "DecisionTreeClassifier(ccp_alpha=0.0, class_weight=None, criterion='entropy',\n",
              "                       max_depth=None, max_features=None, max_leaf_nodes=None,\n",
              "                       min_impurity_decrease=0.0, min_impurity_split=None,\n",
              "                       min_samples_leaf=1, min_samples_split=2,\n",
              "                       min_weight_fraction_leaf=0.0, presort='deprecated',\n",
              "                       random_state=1, splitter='best')"
            ]
          },
          "metadata": {
            "tags": []
          },
          "execution_count": 32
        }
      ]
    },
    {
      "cell_type": "code",
      "metadata": {
        "colab": {
          "base_uri": "https://localhost:8080/",
          "height": 916
        },
        "id": "ikW_fh4Ln3y2",
        "outputId": "071fb35a-48f3-4723-f797-8225f1ac424f"
      },
      "source": [
        "# Now we want to visualize the tree\r\n",
        "# We can do so with export_graphviz\r\n",
        "\r\n",
        "from sklearn.tree import export_graphviz\r\n",
        "\r\n",
        "feature_names = NoPrediction.columns\r\n",
        "dot_data = export_graphviz(entr_model, out_file=None, filled=True, rounded=True, \r\n",
        "                           feature_names=feature_names, class_names=['No','Yes'])\r\n",
        "\r\n",
        "graph = graphviz.Source(dot_data)  \r\n",
        "graph  "
      ],
      "execution_count": 33,
      "outputs": [
        {
          "output_type": "execute_result",
          "data": {
            "text/plain": [
              "<graphviz.files.Source at 0x7fd8cbe3dbe0>"
            ],
            "image/svg+xml": "<?xml version=\"1.0\" encoding=\"UTF-8\" standalone=\"no\"?>\n<!DOCTYPE svg PUBLIC \"-//W3C//DTD SVG 1.1//EN\"\n \"http://www.w3.org/Graphics/SVG/1.1/DTD/svg11.dtd\">\n<!-- Generated by graphviz version 2.40.1 (20161225.0304)\n -->\n<!-- Title: Tree Pages: 1 -->\n<svg width=\"749pt\" height=\"671pt\"\n viewBox=\"0.00 0.00 749.00 671.00\" xmlns=\"http://www.w3.org/2000/svg\" xmlns:xlink=\"http://www.w3.org/1999/xlink\">\n<g id=\"graph0\" class=\"graph\" transform=\"scale(1 1) rotate(0) translate(4 667)\">\n<title>Tree</title>\n<polygon fill=\"#ffffff\" stroke=\"transparent\" points=\"-4,4 -4,-667 745,-667 745,4 -4,4\"/>\n<!-- 0 -->\n<g id=\"node1\" class=\"node\">\n<title>0</title>\n<path fill=\"#abd6f4\" stroke=\"#000000\" d=\"M431,-663C431,-663 268,-663 268,-663 262,-663 256,-657 256,-651 256,-651 256,-592 256,-592 256,-586 262,-580 268,-580 268,-580 431,-580 431,-580 437,-580 443,-586 443,-592 443,-592 443,-651 443,-651 443,-657 437,-663 431,-663\"/>\n<text text-anchor=\"middle\" x=\"349.5\" y=\"-647.8\" font-family=\"Helvetica,sans-Serif\" font-size=\"14.00\" fill=\"#000000\">spent_last_week &lt;= 138.0</text>\n<text text-anchor=\"middle\" x=\"349.5\" y=\"-632.8\" font-family=\"Helvetica,sans-Serif\" font-size=\"14.00\" fill=\"#000000\">entropy = 0.948</text>\n<text text-anchor=\"middle\" x=\"349.5\" y=\"-617.8\" font-family=\"Helvetica,sans-Serif\" font-size=\"14.00\" fill=\"#000000\">samples = 355</text>\n<text text-anchor=\"middle\" x=\"349.5\" y=\"-602.8\" font-family=\"Helvetica,sans-Serif\" font-size=\"14.00\" fill=\"#000000\">value = [130, 225]</text>\n<text text-anchor=\"middle\" x=\"349.5\" y=\"-587.8\" font-family=\"Helvetica,sans-Serif\" font-size=\"14.00\" fill=\"#000000\">class = Yes</text>\n</g>\n<!-- 1 -->\n<g id=\"node2\" class=\"node\">\n<title>1</title>\n<path fill=\"#fae6d7\" stroke=\"#000000\" d=\"M332.5,-544C332.5,-544 224.5,-544 224.5,-544 218.5,-544 212.5,-538 212.5,-532 212.5,-532 212.5,-473 212.5,-473 212.5,-467 218.5,-461 224.5,-461 224.5,-461 332.5,-461 332.5,-461 338.5,-461 344.5,-467 344.5,-473 344.5,-473 344.5,-532 344.5,-532 344.5,-538 338.5,-544 332.5,-544\"/>\n<text text-anchor=\"middle\" x=\"278.5\" y=\"-528.8\" font-family=\"Helvetica,sans-Serif\" font-size=\"14.00\" fill=\"#000000\">salary &lt;= 3.524</text>\n<text text-anchor=\"middle\" x=\"278.5\" y=\"-513.8\" font-family=\"Helvetica,sans-Serif\" font-size=\"14.00\" fill=\"#000000\">entropy = 0.991</text>\n<text text-anchor=\"middle\" x=\"278.5\" y=\"-498.8\" font-family=\"Helvetica,sans-Serif\" font-size=\"14.00\" fill=\"#000000\">samples = 234</text>\n<text text-anchor=\"middle\" x=\"278.5\" y=\"-483.8\" font-family=\"Helvetica,sans-Serif\" font-size=\"14.00\" fill=\"#000000\">value = [130, 104]</text>\n<text text-anchor=\"middle\" x=\"278.5\" y=\"-468.8\" font-family=\"Helvetica,sans-Serif\" font-size=\"14.00\" fill=\"#000000\">class = No</text>\n</g>\n<!-- 0&#45;&gt;1 -->\n<g id=\"edge1\" class=\"edge\">\n<title>0&#45;&gt;1</title>\n<path fill=\"none\" stroke=\"#000000\" d=\"M324.6676,-579.8796C319.5091,-571.2335 314.0192,-562.0322 308.6924,-553.1042\"/>\n<polygon fill=\"#000000\" stroke=\"#000000\" points=\"311.5678,-551.0924 303.4383,-544.2981 305.5564,-554.679 311.5678,-551.0924\"/>\n<text text-anchor=\"middle\" x=\"297.3149\" y=\"-564.8366\" font-family=\"Helvetica,sans-Serif\" font-size=\"14.00\" fill=\"#000000\">True</text>\n</g>\n<!-- 16 -->\n<g id=\"node17\" class=\"node\">\n<title>16</title>\n<path fill=\"#399de5\" stroke=\"#000000\" d=\"M466.5,-536.5C466.5,-536.5 374.5,-536.5 374.5,-536.5 368.5,-536.5 362.5,-530.5 362.5,-524.5 362.5,-524.5 362.5,-480.5 362.5,-480.5 362.5,-474.5 368.5,-468.5 374.5,-468.5 374.5,-468.5 466.5,-468.5 466.5,-468.5 472.5,-468.5 478.5,-474.5 478.5,-480.5 478.5,-480.5 478.5,-524.5 478.5,-524.5 478.5,-530.5 472.5,-536.5 466.5,-536.5\"/>\n<text text-anchor=\"middle\" x=\"420.5\" y=\"-521.3\" font-family=\"Helvetica,sans-Serif\" font-size=\"14.00\" fill=\"#000000\">entropy = 0.0</text>\n<text text-anchor=\"middle\" x=\"420.5\" y=\"-506.3\" font-family=\"Helvetica,sans-Serif\" font-size=\"14.00\" fill=\"#000000\">samples = 121</text>\n<text text-anchor=\"middle\" x=\"420.5\" y=\"-491.3\" font-family=\"Helvetica,sans-Serif\" font-size=\"14.00\" fill=\"#000000\">value = [0, 121]</text>\n<text text-anchor=\"middle\" x=\"420.5\" y=\"-476.3\" font-family=\"Helvetica,sans-Serif\" font-size=\"14.00\" fill=\"#000000\">class = Yes</text>\n</g>\n<!-- 0&#45;&gt;16 -->\n<g id=\"edge16\" class=\"edge\">\n<title>0&#45;&gt;16</title>\n<path fill=\"none\" stroke=\"#000000\" d=\"M374.3324,-579.8796C380.9587,-568.7735 388.1316,-556.7513 394.8033,-545.5691\"/>\n<polygon fill=\"#000000\" stroke=\"#000000\" points=\"397.9083,-547.1959 400.0264,-536.8149 391.8969,-543.6093 397.9083,-547.1959\"/>\n<text text-anchor=\"middle\" x=\"406.1498\" y=\"-557.3534\" font-family=\"Helvetica,sans-Serif\" font-size=\"14.00\" fill=\"#000000\">False</text>\n</g>\n<!-- 2 -->\n<g id=\"node3\" class=\"node\">\n<title>2</title>\n<path fill=\"#52aae8\" stroke=\"#000000\" d=\"M256,-425C256,-425 101,-425 101,-425 95,-425 89,-419 89,-413 89,-413 89,-354 89,-354 89,-348 95,-342 101,-342 101,-342 256,-342 256,-342 262,-342 268,-348 268,-354 268,-354 268,-413 268,-413 268,-419 262,-425 256,-425\"/>\n<text text-anchor=\"middle\" x=\"178.5\" y=\"-409.8\" font-family=\"Helvetica,sans-Serif\" font-size=\"14.00\" fill=\"#000000\">spent_last_week &lt;= 24.5</text>\n<text text-anchor=\"middle\" x=\"178.5\" y=\"-394.8\" font-family=\"Helvetica,sans-Serif\" font-size=\"14.00\" fill=\"#000000\">entropy = 0.512</text>\n<text text-anchor=\"middle\" x=\"178.5\" y=\"-379.8\" font-family=\"Helvetica,sans-Serif\" font-size=\"14.00\" fill=\"#000000\">samples = 79</text>\n<text text-anchor=\"middle\" x=\"178.5\" y=\"-364.8\" font-family=\"Helvetica,sans-Serif\" font-size=\"14.00\" fill=\"#000000\">value = [9, 70]</text>\n<text text-anchor=\"middle\" x=\"178.5\" y=\"-349.8\" font-family=\"Helvetica,sans-Serif\" font-size=\"14.00\" fill=\"#000000\">class = Yes</text>\n</g>\n<!-- 1&#45;&gt;2 -->\n<g id=\"edge2\" class=\"edge\">\n<title>1&#45;&gt;2</title>\n<path fill=\"none\" stroke=\"#000000\" d=\"M243.5249,-460.8796C235.9565,-451.8733 227.8819,-442.2644 220.088,-432.9897\"/>\n<polygon fill=\"#000000\" stroke=\"#000000\" points=\"222.7374,-430.7022 213.6244,-425.2981 217.3784,-435.2056 222.7374,-430.7022\"/>\n</g>\n<!-- 7 -->\n<g id=\"node8\" class=\"node\">\n<title>7</title>\n<path fill=\"#eca471\" stroke=\"#000000\" d=\"M484,-425C484,-425 321,-425 321,-425 315,-425 309,-419 309,-413 309,-413 309,-354 309,-354 309,-348 315,-342 321,-342 321,-342 484,-342 484,-342 490,-342 496,-348 496,-354 496,-354 496,-413 496,-413 496,-419 490,-425 484,-425\"/>\n<text text-anchor=\"middle\" x=\"402.5\" y=\"-409.8\" font-family=\"Helvetica,sans-Serif\" font-size=\"14.00\" fill=\"#000000\">spent_last_week &lt;= 101.0</text>\n<text text-anchor=\"middle\" x=\"402.5\" y=\"-394.8\" font-family=\"Helvetica,sans-Serif\" font-size=\"14.00\" fill=\"#000000\">entropy = 0.759</text>\n<text text-anchor=\"middle\" x=\"402.5\" y=\"-379.8\" font-family=\"Helvetica,sans-Serif\" font-size=\"14.00\" fill=\"#000000\">samples = 155</text>\n<text text-anchor=\"middle\" x=\"402.5\" y=\"-364.8\" font-family=\"Helvetica,sans-Serif\" font-size=\"14.00\" fill=\"#000000\">value = [121, 34]</text>\n<text text-anchor=\"middle\" x=\"402.5\" y=\"-349.8\" font-family=\"Helvetica,sans-Serif\" font-size=\"14.00\" fill=\"#000000\">class = No</text>\n</g>\n<!-- 1&#45;&gt;7 -->\n<g id=\"edge7\" class=\"edge\">\n<title>1&#45;&gt;7</title>\n<path fill=\"none\" stroke=\"#000000\" d=\"M321.8692,-460.8796C331.4416,-451.6931 341.6672,-441.8798 351.5103,-432.4336\"/>\n<polygon fill=\"#000000\" stroke=\"#000000\" points=\"354.1541,-434.7475 358.9457,-425.2981 349.3072,-429.6969 354.1541,-434.7475\"/>\n</g>\n<!-- 3 -->\n<g id=\"node4\" class=\"node\">\n<title>3</title>\n<path fill=\"#e58139\" stroke=\"#000000\" d=\"M89,-298.5C89,-298.5 12,-298.5 12,-298.5 6,-298.5 0,-292.5 0,-286.5 0,-286.5 0,-242.5 0,-242.5 0,-236.5 6,-230.5 12,-230.5 12,-230.5 89,-230.5 89,-230.5 95,-230.5 101,-236.5 101,-242.5 101,-242.5 101,-286.5 101,-286.5 101,-292.5 95,-298.5 89,-298.5\"/>\n<text text-anchor=\"middle\" x=\"50.5\" y=\"-283.3\" font-family=\"Helvetica,sans-Serif\" font-size=\"14.00\" fill=\"#000000\">entropy = 0.0</text>\n<text text-anchor=\"middle\" x=\"50.5\" y=\"-268.3\" font-family=\"Helvetica,sans-Serif\" font-size=\"14.00\" fill=\"#000000\">samples = 8</text>\n<text text-anchor=\"middle\" x=\"50.5\" y=\"-253.3\" font-family=\"Helvetica,sans-Serif\" font-size=\"14.00\" fill=\"#000000\">value = [8, 0]</text>\n<text text-anchor=\"middle\" x=\"50.5\" y=\"-238.3\" font-family=\"Helvetica,sans-Serif\" font-size=\"14.00\" fill=\"#000000\">class = No</text>\n</g>\n<!-- 2&#45;&gt;3 -->\n<g id=\"edge3\" class=\"edge\">\n<title>2&#45;&gt;3</title>\n<path fill=\"none\" stroke=\"#000000\" d=\"M133.7318,-341.8796C121.1944,-330.2237 107.5716,-317.5587 95.047,-305.9148\"/>\n<polygon fill=\"#000000\" stroke=\"#000000\" points=\"97.1172,-303.0605 87.4102,-298.8149 92.3509,-308.1872 97.1172,-303.0605\"/>\n</g>\n<!-- 4 -->\n<g id=\"node5\" class=\"node\">\n<title>4</title>\n<path fill=\"#3c9ee5\" stroke=\"#000000\" d=\"M225.5,-306C225.5,-306 131.5,-306 131.5,-306 125.5,-306 119.5,-300 119.5,-294 119.5,-294 119.5,-235 119.5,-235 119.5,-229 125.5,-223 131.5,-223 131.5,-223 225.5,-223 225.5,-223 231.5,-223 237.5,-229 237.5,-235 237.5,-235 237.5,-294 237.5,-294 237.5,-300 231.5,-306 225.5,-306\"/>\n<text text-anchor=\"middle\" x=\"178.5\" y=\"-290.8\" font-family=\"Helvetica,sans-Serif\" font-size=\"14.00\" fill=\"#000000\">Age &lt;= 59.0</text>\n<text text-anchor=\"middle\" x=\"178.5\" y=\"-275.8\" font-family=\"Helvetica,sans-Serif\" font-size=\"14.00\" fill=\"#000000\">entropy = 0.107</text>\n<text text-anchor=\"middle\" x=\"178.5\" y=\"-260.8\" font-family=\"Helvetica,sans-Serif\" font-size=\"14.00\" fill=\"#000000\">samples = 71</text>\n<text text-anchor=\"middle\" x=\"178.5\" y=\"-245.8\" font-family=\"Helvetica,sans-Serif\" font-size=\"14.00\" fill=\"#000000\">value = [1, 70]</text>\n<text text-anchor=\"middle\" x=\"178.5\" y=\"-230.8\" font-family=\"Helvetica,sans-Serif\" font-size=\"14.00\" fill=\"#000000\">class = Yes</text>\n</g>\n<!-- 2&#45;&gt;4 -->\n<g id=\"edge4\" class=\"edge\">\n<title>2&#45;&gt;4</title>\n<path fill=\"none\" stroke=\"#000000\" d=\"M178.5,-341.8796C178.5,-333.6838 178.5,-324.9891 178.5,-316.5013\"/>\n<polygon fill=\"#000000\" stroke=\"#000000\" points=\"182.0001,-316.298 178.5,-306.2981 175.0001,-316.2981 182.0001,-316.298\"/>\n</g>\n<!-- 5 -->\n<g id=\"node6\" class=\"node\">\n<title>5</title>\n<path fill=\"#399de5\" stroke=\"#000000\" d=\"M98,-179.5C98,-179.5 15,-179.5 15,-179.5 9,-179.5 3,-173.5 3,-167.5 3,-167.5 3,-123.5 3,-123.5 3,-117.5 9,-111.5 15,-111.5 15,-111.5 98,-111.5 98,-111.5 104,-111.5 110,-117.5 110,-123.5 110,-123.5 110,-167.5 110,-167.5 110,-173.5 104,-179.5 98,-179.5\"/>\n<text text-anchor=\"middle\" x=\"56.5\" y=\"-164.3\" font-family=\"Helvetica,sans-Serif\" font-size=\"14.00\" fill=\"#000000\">entropy = 0.0</text>\n<text text-anchor=\"middle\" x=\"56.5\" y=\"-149.3\" font-family=\"Helvetica,sans-Serif\" font-size=\"14.00\" fill=\"#000000\">samples = 70</text>\n<text text-anchor=\"middle\" x=\"56.5\" y=\"-134.3\" font-family=\"Helvetica,sans-Serif\" font-size=\"14.00\" fill=\"#000000\">value = [0, 70]</text>\n<text text-anchor=\"middle\" x=\"56.5\" y=\"-119.3\" font-family=\"Helvetica,sans-Serif\" font-size=\"14.00\" fill=\"#000000\">class = Yes</text>\n</g>\n<!-- 4&#45;&gt;5 -->\n<g id=\"edge5\" class=\"edge\">\n<title>4&#45;&gt;5</title>\n<path fill=\"none\" stroke=\"#000000\" d=\"M135.8303,-222.8796C123.8806,-211.2237 110.8963,-198.5587 98.9589,-186.9148\"/>\n<polygon fill=\"#000000\" stroke=\"#000000\" points=\"101.2825,-184.292 91.68,-179.8149 96.3947,-189.303 101.2825,-184.292\"/>\n</g>\n<!-- 6 -->\n<g id=\"node7\" class=\"node\">\n<title>6</title>\n<path fill=\"#e58139\" stroke=\"#000000\" d=\"M217,-179.5C217,-179.5 140,-179.5 140,-179.5 134,-179.5 128,-173.5 128,-167.5 128,-167.5 128,-123.5 128,-123.5 128,-117.5 134,-111.5 140,-111.5 140,-111.5 217,-111.5 217,-111.5 223,-111.5 229,-117.5 229,-123.5 229,-123.5 229,-167.5 229,-167.5 229,-173.5 223,-179.5 217,-179.5\"/>\n<text text-anchor=\"middle\" x=\"178.5\" y=\"-164.3\" font-family=\"Helvetica,sans-Serif\" font-size=\"14.00\" fill=\"#000000\">entropy = 0.0</text>\n<text text-anchor=\"middle\" x=\"178.5\" y=\"-149.3\" font-family=\"Helvetica,sans-Serif\" font-size=\"14.00\" fill=\"#000000\">samples = 1</text>\n<text text-anchor=\"middle\" x=\"178.5\" y=\"-134.3\" font-family=\"Helvetica,sans-Serif\" font-size=\"14.00\" fill=\"#000000\">value = [1, 0]</text>\n<text text-anchor=\"middle\" x=\"178.5\" y=\"-119.3\" font-family=\"Helvetica,sans-Serif\" font-size=\"14.00\" fill=\"#000000\">class = No</text>\n</g>\n<!-- 4&#45;&gt;6 -->\n<g id=\"edge6\" class=\"edge\">\n<title>4&#45;&gt;6</title>\n<path fill=\"none\" stroke=\"#000000\" d=\"M178.5,-222.8796C178.5,-212.2134 178.5,-200.7021 178.5,-189.9015\"/>\n<polygon fill=\"#000000\" stroke=\"#000000\" points=\"182.0001,-189.8149 178.5,-179.8149 175.0001,-189.815 182.0001,-189.8149\"/>\n</g>\n<!-- 8 -->\n<g id=\"node9\" class=\"node\">\n<title>8</title>\n<path fill=\"#e6853f\" stroke=\"#000000\" d=\"M449.5,-306C449.5,-306 355.5,-306 355.5,-306 349.5,-306 343.5,-300 343.5,-294 343.5,-294 343.5,-235 343.5,-235 343.5,-229 349.5,-223 355.5,-223 355.5,-223 449.5,-223 449.5,-223 455.5,-223 461.5,-229 461.5,-235 461.5,-235 461.5,-294 461.5,-294 461.5,-300 455.5,-306 449.5,-306\"/>\n<text text-anchor=\"middle\" x=\"402.5\" y=\"-290.8\" font-family=\"Helvetica,sans-Serif\" font-size=\"14.00\" fill=\"#000000\">salary &lt;= 4.0</text>\n<text text-anchor=\"middle\" x=\"402.5\" y=\"-275.8\" font-family=\"Helvetica,sans-Serif\" font-size=\"14.00\" fill=\"#000000\">entropy = 0.191</text>\n<text text-anchor=\"middle\" x=\"402.5\" y=\"-260.8\" font-family=\"Helvetica,sans-Serif\" font-size=\"14.00\" fill=\"#000000\">samples = 102</text>\n<text text-anchor=\"middle\" x=\"402.5\" y=\"-245.8\" font-family=\"Helvetica,sans-Serif\" font-size=\"14.00\" fill=\"#000000\">value = [99, 3]</text>\n<text text-anchor=\"middle\" x=\"402.5\" y=\"-230.8\" font-family=\"Helvetica,sans-Serif\" font-size=\"14.00\" fill=\"#000000\">class = No</text>\n</g>\n<!-- 7&#45;&gt;8 -->\n<g id=\"edge8\" class=\"edge\">\n<title>7&#45;&gt;8</title>\n<path fill=\"none\" stroke=\"#000000\" d=\"M402.5,-341.8796C402.5,-333.6838 402.5,-324.9891 402.5,-316.5013\"/>\n<polygon fill=\"#000000\" stroke=\"#000000\" points=\"406.0001,-316.298 402.5,-306.2981 399.0001,-316.2981 406.0001,-316.298\"/>\n</g>\n<!-- 13 -->\n<g id=\"node14\" class=\"node\">\n<title>13</title>\n<path fill=\"#c6e3f7\" stroke=\"#000000\" d=\"M609.5,-306C609.5,-306 515.5,-306 515.5,-306 509.5,-306 503.5,-300 503.5,-294 503.5,-294 503.5,-235 503.5,-235 503.5,-229 509.5,-223 515.5,-223 515.5,-223 609.5,-223 609.5,-223 615.5,-223 621.5,-229 621.5,-235 621.5,-235 621.5,-294 621.5,-294 621.5,-300 615.5,-306 609.5,-306\"/>\n<text text-anchor=\"middle\" x=\"562.5\" y=\"-290.8\" font-family=\"Helvetica,sans-Serif\" font-size=\"14.00\" fill=\"#000000\">salary &lt;= 7.887</text>\n<text text-anchor=\"middle\" x=\"562.5\" y=\"-275.8\" font-family=\"Helvetica,sans-Serif\" font-size=\"14.00\" fill=\"#000000\">entropy = 0.979</text>\n<text text-anchor=\"middle\" x=\"562.5\" y=\"-260.8\" font-family=\"Helvetica,sans-Serif\" font-size=\"14.00\" fill=\"#000000\">samples = 53</text>\n<text text-anchor=\"middle\" x=\"562.5\" y=\"-245.8\" font-family=\"Helvetica,sans-Serif\" font-size=\"14.00\" fill=\"#000000\">value = [22, 31]</text>\n<text text-anchor=\"middle\" x=\"562.5\" y=\"-230.8\" font-family=\"Helvetica,sans-Serif\" font-size=\"14.00\" fill=\"#000000\">class = Yes</text>\n</g>\n<!-- 7&#45;&gt;13 -->\n<g id=\"edge13\" class=\"edge\">\n<title>7&#45;&gt;13</title>\n<path fill=\"none\" stroke=\"#000000\" d=\"M458.4602,-341.8796C471.3708,-332.2774 485.2021,-321.9903 498.4282,-312.1534\"/>\n<polygon fill=\"#000000\" stroke=\"#000000\" points=\"500.6361,-314.8732 506.5714,-306.0969 496.4586,-309.2564 500.6361,-314.8732\"/>\n</g>\n<!-- 9 -->\n<g id=\"node10\" class=\"node\">\n<title>9</title>\n<path fill=\"#f8e0ce\" stroke=\"#000000\" d=\"M353.5,-187C353.5,-187 259.5,-187 259.5,-187 253.5,-187 247.5,-181 247.5,-175 247.5,-175 247.5,-116 247.5,-116 247.5,-110 253.5,-104 259.5,-104 259.5,-104 353.5,-104 353.5,-104 359.5,-104 365.5,-110 365.5,-116 365.5,-116 365.5,-175 365.5,-175 365.5,-181 359.5,-187 353.5,-187\"/>\n<text text-anchor=\"middle\" x=\"306.5\" y=\"-171.8\" font-family=\"Helvetica,sans-Serif\" font-size=\"14.00\" fill=\"#000000\">Age &lt;= 26.5</text>\n<text text-anchor=\"middle\" x=\"306.5\" y=\"-156.8\" font-family=\"Helvetica,sans-Serif\" font-size=\"14.00\" fill=\"#000000\">entropy = 0.985</text>\n<text text-anchor=\"middle\" x=\"306.5\" y=\"-141.8\" font-family=\"Helvetica,sans-Serif\" font-size=\"14.00\" fill=\"#000000\">samples = 7</text>\n<text text-anchor=\"middle\" x=\"306.5\" y=\"-126.8\" font-family=\"Helvetica,sans-Serif\" font-size=\"14.00\" fill=\"#000000\">value = [4, 3]</text>\n<text text-anchor=\"middle\" x=\"306.5\" y=\"-111.8\" font-family=\"Helvetica,sans-Serif\" font-size=\"14.00\" fill=\"#000000\">class = No</text>\n</g>\n<!-- 8&#45;&gt;9 -->\n<g id=\"edge9\" class=\"edge\">\n<title>8&#45;&gt;9</title>\n<path fill=\"none\" stroke=\"#000000\" d=\"M368.9239,-222.8796C361.7309,-213.9633 354.0616,-204.4565 346.649,-195.268\"/>\n<polygon fill=\"#000000\" stroke=\"#000000\" points=\"349.2224,-192.8836 340.2195,-187.2981 343.7742,-197.2788 349.2224,-192.8836\"/>\n</g>\n<!-- 12 -->\n<g id=\"node13\" class=\"node\">\n<title>12</title>\n<path fill=\"#e58139\" stroke=\"#000000\" d=\"M479,-179.5C479,-179.5 396,-179.5 396,-179.5 390,-179.5 384,-173.5 384,-167.5 384,-167.5 384,-123.5 384,-123.5 384,-117.5 390,-111.5 396,-111.5 396,-111.5 479,-111.5 479,-111.5 485,-111.5 491,-117.5 491,-123.5 491,-123.5 491,-167.5 491,-167.5 491,-173.5 485,-179.5 479,-179.5\"/>\n<text text-anchor=\"middle\" x=\"437.5\" y=\"-164.3\" font-family=\"Helvetica,sans-Serif\" font-size=\"14.00\" fill=\"#000000\">entropy = 0.0</text>\n<text text-anchor=\"middle\" x=\"437.5\" y=\"-149.3\" font-family=\"Helvetica,sans-Serif\" font-size=\"14.00\" fill=\"#000000\">samples = 95</text>\n<text text-anchor=\"middle\" x=\"437.5\" y=\"-134.3\" font-family=\"Helvetica,sans-Serif\" font-size=\"14.00\" fill=\"#000000\">value = [95, 0]</text>\n<text text-anchor=\"middle\" x=\"437.5\" y=\"-119.3\" font-family=\"Helvetica,sans-Serif\" font-size=\"14.00\" fill=\"#000000\">class = No</text>\n</g>\n<!-- 8&#45;&gt;12 -->\n<g id=\"edge12\" class=\"edge\">\n<title>8&#45;&gt;12</title>\n<path fill=\"none\" stroke=\"#000000\" d=\"M414.7413,-222.8796C417.9108,-212.1034 421.3339,-200.4647 424.5389,-189.5677\"/>\n<polygon fill=\"#000000\" stroke=\"#000000\" points=\"427.9434,-190.3962 427.4074,-179.8149 421.2279,-188.421 427.9434,-190.3962\"/>\n</g>\n<!-- 10 -->\n<g id=\"node11\" class=\"node\">\n<title>10</title>\n<path fill=\"#399de5\" stroke=\"#000000\" d=\"M286,-68C286,-68 209,-68 209,-68 203,-68 197,-62 197,-56 197,-56 197,-12 197,-12 197,-6 203,0 209,0 209,0 286,0 286,0 292,0 298,-6 298,-12 298,-12 298,-56 298,-56 298,-62 292,-68 286,-68\"/>\n<text text-anchor=\"middle\" x=\"247.5\" y=\"-52.8\" font-family=\"Helvetica,sans-Serif\" font-size=\"14.00\" fill=\"#000000\">entropy = 0.0</text>\n<text text-anchor=\"middle\" x=\"247.5\" y=\"-37.8\" font-family=\"Helvetica,sans-Serif\" font-size=\"14.00\" fill=\"#000000\">samples = 3</text>\n<text text-anchor=\"middle\" x=\"247.5\" y=\"-22.8\" font-family=\"Helvetica,sans-Serif\" font-size=\"14.00\" fill=\"#000000\">value = [0, 3]</text>\n<text text-anchor=\"middle\" x=\"247.5\" y=\"-7.8\" font-family=\"Helvetica,sans-Serif\" font-size=\"14.00\" fill=\"#000000\">class = Yes</text>\n</g>\n<!-- 9&#45;&gt;10 -->\n<g id=\"edge10\" class=\"edge\">\n<title>9&#45;&gt;10</title>\n<path fill=\"none\" stroke=\"#000000\" d=\"M284.5306,-103.9815C279.9105,-95.2504 275.0264,-86.0202 270.374,-77.2281\"/>\n<polygon fill=\"#000000\" stroke=\"#000000\" points=\"273.4013,-75.4655 265.6306,-68.2637 267.2141,-78.7395 273.4013,-75.4655\"/>\n</g>\n<!-- 11 -->\n<g id=\"node12\" class=\"node\">\n<title>11</title>\n<path fill=\"#e58139\" stroke=\"#000000\" d=\"M405,-68C405,-68 328,-68 328,-68 322,-68 316,-62 316,-56 316,-56 316,-12 316,-12 316,-6 322,0 328,0 328,0 405,0 405,0 411,0 417,-6 417,-12 417,-12 417,-56 417,-56 417,-62 411,-68 405,-68\"/>\n<text text-anchor=\"middle\" x=\"366.5\" y=\"-52.8\" font-family=\"Helvetica,sans-Serif\" font-size=\"14.00\" fill=\"#000000\">entropy = 0.0</text>\n<text text-anchor=\"middle\" x=\"366.5\" y=\"-37.8\" font-family=\"Helvetica,sans-Serif\" font-size=\"14.00\" fill=\"#000000\">samples = 4</text>\n<text text-anchor=\"middle\" x=\"366.5\" y=\"-22.8\" font-family=\"Helvetica,sans-Serif\" font-size=\"14.00\" fill=\"#000000\">value = [4, 0]</text>\n<text text-anchor=\"middle\" x=\"366.5\" y=\"-7.8\" font-family=\"Helvetica,sans-Serif\" font-size=\"14.00\" fill=\"#000000\">class = No</text>\n</g>\n<!-- 9&#45;&gt;11 -->\n<g id=\"edge11\" class=\"edge\">\n<title>9&#45;&gt;11</title>\n<path fill=\"none\" stroke=\"#000000\" d=\"M328.8418,-103.9815C333.5402,-95.2504 338.5071,-86.0202 343.2383,-77.2281\"/>\n<polygon fill=\"#000000\" stroke=\"#000000\" points=\"346.4056,-78.7282 348.0621,-68.2637 340.2414,-75.4111 346.4056,-78.7282\"/>\n</g>\n<!-- 14 -->\n<g id=\"node15\" class=\"node\">\n<title>14</title>\n<path fill=\"#399de5\" stroke=\"#000000\" d=\"M604,-179.5C604,-179.5 521,-179.5 521,-179.5 515,-179.5 509,-173.5 509,-167.5 509,-167.5 509,-123.5 509,-123.5 509,-117.5 515,-111.5 521,-111.5 521,-111.5 604,-111.5 604,-111.5 610,-111.5 616,-117.5 616,-123.5 616,-123.5 616,-167.5 616,-167.5 616,-173.5 610,-179.5 604,-179.5\"/>\n<text text-anchor=\"middle\" x=\"562.5\" y=\"-164.3\" font-family=\"Helvetica,sans-Serif\" font-size=\"14.00\" fill=\"#000000\">entropy = 0.0</text>\n<text text-anchor=\"middle\" x=\"562.5\" y=\"-149.3\" font-family=\"Helvetica,sans-Serif\" font-size=\"14.00\" fill=\"#000000\">samples = 31</text>\n<text text-anchor=\"middle\" x=\"562.5\" y=\"-134.3\" font-family=\"Helvetica,sans-Serif\" font-size=\"14.00\" fill=\"#000000\">value = [0, 31]</text>\n<text text-anchor=\"middle\" x=\"562.5\" y=\"-119.3\" font-family=\"Helvetica,sans-Serif\" font-size=\"14.00\" fill=\"#000000\">class = Yes</text>\n</g>\n<!-- 13&#45;&gt;14 -->\n<g id=\"edge14\" class=\"edge\">\n<title>13&#45;&gt;14</title>\n<path fill=\"none\" stroke=\"#000000\" d=\"M562.5,-222.8796C562.5,-212.2134 562.5,-200.7021 562.5,-189.9015\"/>\n<polygon fill=\"#000000\" stroke=\"#000000\" points=\"566.0001,-189.8149 562.5,-179.8149 559.0001,-189.815 566.0001,-189.8149\"/>\n</g>\n<!-- 15 -->\n<g id=\"node16\" class=\"node\">\n<title>15</title>\n<path fill=\"#e58139\" stroke=\"#000000\" d=\"M729,-179.5C729,-179.5 646,-179.5 646,-179.5 640,-179.5 634,-173.5 634,-167.5 634,-167.5 634,-123.5 634,-123.5 634,-117.5 640,-111.5 646,-111.5 646,-111.5 729,-111.5 729,-111.5 735,-111.5 741,-117.5 741,-123.5 741,-123.5 741,-167.5 741,-167.5 741,-173.5 735,-179.5 729,-179.5\"/>\n<text text-anchor=\"middle\" x=\"687.5\" y=\"-164.3\" font-family=\"Helvetica,sans-Serif\" font-size=\"14.00\" fill=\"#000000\">entropy = 0.0</text>\n<text text-anchor=\"middle\" x=\"687.5\" y=\"-149.3\" font-family=\"Helvetica,sans-Serif\" font-size=\"14.00\" fill=\"#000000\">samples = 22</text>\n<text text-anchor=\"middle\" x=\"687.5\" y=\"-134.3\" font-family=\"Helvetica,sans-Serif\" font-size=\"14.00\" fill=\"#000000\">value = [22, 0]</text>\n<text text-anchor=\"middle\" x=\"687.5\" y=\"-119.3\" font-family=\"Helvetica,sans-Serif\" font-size=\"14.00\" fill=\"#000000\">class = No</text>\n</g>\n<!-- 13&#45;&gt;15 -->\n<g id=\"edge15\" class=\"edge\">\n<title>13&#45;&gt;15</title>\n<path fill=\"none\" stroke=\"#000000\" d=\"M606.2189,-222.8796C618.4625,-211.2237 631.7661,-198.5587 643.9971,-186.9148\"/>\n<polygon fill=\"#000000\" stroke=\"#000000\" points=\"646.6254,-189.245 651.4549,-179.8149 641.7988,-184.1751 646.6254,-189.245\"/>\n</g>\n</g>\n</svg>\n"
          },
          "metadata": {
            "tags": []
          },
          "execution_count": 33
        }
      ]
    },
    {
      "cell_type": "code",
      "metadata": {
        "id": "S4FbHfWnDuWe",
        "colab": {
          "base_uri": "https://localhost:8080/",
          "height": 916
        },
        "outputId": "ecaf20db-972b-46af-8097-634037ac55be"
      },
      "source": [
        "# Alternatively for class_names use entr_model.classes_\n",
        "from sklearn.tree import export_graphviz\n",
        "\n",
        "feature_names = NoPrediction.columns\n",
        "class_names = str(entr_model.classes_)\n",
        "dot_data = export_graphviz(entr_model, out_file=None, filled=True, rounded=True, \n",
        "                           feature_names=feature_names, class_names=class_names)\n",
        "\n",
        "graph = graphviz.Source(dot_data)  \n",
        "graph  \n"
      ],
      "execution_count": 34,
      "outputs": [
        {
          "output_type": "execute_result",
          "data": {
            "text/plain": [
              "<graphviz.files.Source at 0x7fd8cbe3d470>"
            ],
            "image/svg+xml": "<?xml version=\"1.0\" encoding=\"UTF-8\" standalone=\"no\"?>\n<!DOCTYPE svg PUBLIC \"-//W3C//DTD SVG 1.1//EN\"\n \"http://www.w3.org/Graphics/SVG/1.1/DTD/svg11.dtd\">\n<!-- Generated by graphviz version 2.40.1 (20161225.0304)\n -->\n<!-- Title: Tree Pages: 1 -->\n<svg width=\"749pt\" height=\"671pt\"\n viewBox=\"0.00 0.00 749.00 671.00\" xmlns=\"http://www.w3.org/2000/svg\" xmlns:xlink=\"http://www.w3.org/1999/xlink\">\n<g id=\"graph0\" class=\"graph\" transform=\"scale(1 1) rotate(0) translate(4 667)\">\n<title>Tree</title>\n<polygon fill=\"#ffffff\" stroke=\"transparent\" points=\"-4,4 -4,-667 745,-667 745,4 -4,4\"/>\n<!-- 0 -->\n<g id=\"node1\" class=\"node\">\n<title>0</title>\n<path fill=\"#abd6f4\" stroke=\"#000000\" d=\"M431,-663C431,-663 268,-663 268,-663 262,-663 256,-657 256,-651 256,-651 256,-592 256,-592 256,-586 262,-580 268,-580 268,-580 431,-580 431,-580 437,-580 443,-586 443,-592 443,-592 443,-651 443,-651 443,-657 437,-663 431,-663\"/>\n<text text-anchor=\"middle\" x=\"349.5\" y=\"-647.8\" font-family=\"Helvetica,sans-Serif\" font-size=\"14.00\" fill=\"#000000\">spent_last_week &lt;= 138.0</text>\n<text text-anchor=\"middle\" x=\"349.5\" y=\"-632.8\" font-family=\"Helvetica,sans-Serif\" font-size=\"14.00\" fill=\"#000000\">entropy = 0.948</text>\n<text text-anchor=\"middle\" x=\"349.5\" y=\"-617.8\" font-family=\"Helvetica,sans-Serif\" font-size=\"14.00\" fill=\"#000000\">samples = 355</text>\n<text text-anchor=\"middle\" x=\"349.5\" y=\"-602.8\" font-family=\"Helvetica,sans-Serif\" font-size=\"14.00\" fill=\"#000000\">value = [130, 225]</text>\n<text text-anchor=\"middle\" x=\"349.5\" y=\"-587.8\" font-family=\"Helvetica,sans-Serif\" font-size=\"14.00\" fill=\"#000000\">class = 0</text>\n</g>\n<!-- 1 -->\n<g id=\"node2\" class=\"node\">\n<title>1</title>\n<path fill=\"#fae6d7\" stroke=\"#000000\" d=\"M332.5,-544C332.5,-544 224.5,-544 224.5,-544 218.5,-544 212.5,-538 212.5,-532 212.5,-532 212.5,-473 212.5,-473 212.5,-467 218.5,-461 224.5,-461 224.5,-461 332.5,-461 332.5,-461 338.5,-461 344.5,-467 344.5,-473 344.5,-473 344.5,-532 344.5,-532 344.5,-538 338.5,-544 332.5,-544\"/>\n<text text-anchor=\"middle\" x=\"278.5\" y=\"-528.8\" font-family=\"Helvetica,sans-Serif\" font-size=\"14.00\" fill=\"#000000\">salary &lt;= 3.524</text>\n<text text-anchor=\"middle\" x=\"278.5\" y=\"-513.8\" font-family=\"Helvetica,sans-Serif\" font-size=\"14.00\" fill=\"#000000\">entropy = 0.991</text>\n<text text-anchor=\"middle\" x=\"278.5\" y=\"-498.8\" font-family=\"Helvetica,sans-Serif\" font-size=\"14.00\" fill=\"#000000\">samples = 234</text>\n<text text-anchor=\"middle\" x=\"278.5\" y=\"-483.8\" font-family=\"Helvetica,sans-Serif\" font-size=\"14.00\" fill=\"#000000\">value = [130, 104]</text>\n<text text-anchor=\"middle\" x=\"278.5\" y=\"-468.8\" font-family=\"Helvetica,sans-Serif\" font-size=\"14.00\" fill=\"#000000\">class = [</text>\n</g>\n<!-- 0&#45;&gt;1 -->\n<g id=\"edge1\" class=\"edge\">\n<title>0&#45;&gt;1</title>\n<path fill=\"none\" stroke=\"#000000\" d=\"M324.6676,-579.8796C319.5091,-571.2335 314.0192,-562.0322 308.6924,-553.1042\"/>\n<polygon fill=\"#000000\" stroke=\"#000000\" points=\"311.5678,-551.0924 303.4383,-544.2981 305.5564,-554.679 311.5678,-551.0924\"/>\n<text text-anchor=\"middle\" x=\"297.3149\" y=\"-564.8366\" font-family=\"Helvetica,sans-Serif\" font-size=\"14.00\" fill=\"#000000\">True</text>\n</g>\n<!-- 16 -->\n<g id=\"node17\" class=\"node\">\n<title>16</title>\n<path fill=\"#399de5\" stroke=\"#000000\" d=\"M466.5,-536.5C466.5,-536.5 374.5,-536.5 374.5,-536.5 368.5,-536.5 362.5,-530.5 362.5,-524.5 362.5,-524.5 362.5,-480.5 362.5,-480.5 362.5,-474.5 368.5,-468.5 374.5,-468.5 374.5,-468.5 466.5,-468.5 466.5,-468.5 472.5,-468.5 478.5,-474.5 478.5,-480.5 478.5,-480.5 478.5,-524.5 478.5,-524.5 478.5,-530.5 472.5,-536.5 466.5,-536.5\"/>\n<text text-anchor=\"middle\" x=\"420.5\" y=\"-521.3\" font-family=\"Helvetica,sans-Serif\" font-size=\"14.00\" fill=\"#000000\">entropy = 0.0</text>\n<text text-anchor=\"middle\" x=\"420.5\" y=\"-506.3\" font-family=\"Helvetica,sans-Serif\" font-size=\"14.00\" fill=\"#000000\">samples = 121</text>\n<text text-anchor=\"middle\" x=\"420.5\" y=\"-491.3\" font-family=\"Helvetica,sans-Serif\" font-size=\"14.00\" fill=\"#000000\">value = [0, 121]</text>\n<text text-anchor=\"middle\" x=\"420.5\" y=\"-476.3\" font-family=\"Helvetica,sans-Serif\" font-size=\"14.00\" fill=\"#000000\">class = 0</text>\n</g>\n<!-- 0&#45;&gt;16 -->\n<g id=\"edge16\" class=\"edge\">\n<title>0&#45;&gt;16</title>\n<path fill=\"none\" stroke=\"#000000\" d=\"M374.3324,-579.8796C380.9587,-568.7735 388.1316,-556.7513 394.8033,-545.5691\"/>\n<polygon fill=\"#000000\" stroke=\"#000000\" points=\"397.9083,-547.1959 400.0264,-536.8149 391.8969,-543.6093 397.9083,-547.1959\"/>\n<text text-anchor=\"middle\" x=\"406.1498\" y=\"-557.3534\" font-family=\"Helvetica,sans-Serif\" font-size=\"14.00\" fill=\"#000000\">False</text>\n</g>\n<!-- 2 -->\n<g id=\"node3\" class=\"node\">\n<title>2</title>\n<path fill=\"#52aae8\" stroke=\"#000000\" d=\"M256,-425C256,-425 101,-425 101,-425 95,-425 89,-419 89,-413 89,-413 89,-354 89,-354 89,-348 95,-342 101,-342 101,-342 256,-342 256,-342 262,-342 268,-348 268,-354 268,-354 268,-413 268,-413 268,-419 262,-425 256,-425\"/>\n<text text-anchor=\"middle\" x=\"178.5\" y=\"-409.8\" font-family=\"Helvetica,sans-Serif\" font-size=\"14.00\" fill=\"#000000\">spent_last_week &lt;= 24.5</text>\n<text text-anchor=\"middle\" x=\"178.5\" y=\"-394.8\" font-family=\"Helvetica,sans-Serif\" font-size=\"14.00\" fill=\"#000000\">entropy = 0.512</text>\n<text text-anchor=\"middle\" x=\"178.5\" y=\"-379.8\" font-family=\"Helvetica,sans-Serif\" font-size=\"14.00\" fill=\"#000000\">samples = 79</text>\n<text text-anchor=\"middle\" x=\"178.5\" y=\"-364.8\" font-family=\"Helvetica,sans-Serif\" font-size=\"14.00\" fill=\"#000000\">value = [9, 70]</text>\n<text text-anchor=\"middle\" x=\"178.5\" y=\"-349.8\" font-family=\"Helvetica,sans-Serif\" font-size=\"14.00\" fill=\"#000000\">class = 0</text>\n</g>\n<!-- 1&#45;&gt;2 -->\n<g id=\"edge2\" class=\"edge\">\n<title>1&#45;&gt;2</title>\n<path fill=\"none\" stroke=\"#000000\" d=\"M243.5249,-460.8796C235.9565,-451.8733 227.8819,-442.2644 220.088,-432.9897\"/>\n<polygon fill=\"#000000\" stroke=\"#000000\" points=\"222.7374,-430.7022 213.6244,-425.2981 217.3784,-435.2056 222.7374,-430.7022\"/>\n</g>\n<!-- 7 -->\n<g id=\"node8\" class=\"node\">\n<title>7</title>\n<path fill=\"#eca471\" stroke=\"#000000\" d=\"M484,-425C484,-425 321,-425 321,-425 315,-425 309,-419 309,-413 309,-413 309,-354 309,-354 309,-348 315,-342 321,-342 321,-342 484,-342 484,-342 490,-342 496,-348 496,-354 496,-354 496,-413 496,-413 496,-419 490,-425 484,-425\"/>\n<text text-anchor=\"middle\" x=\"402.5\" y=\"-409.8\" font-family=\"Helvetica,sans-Serif\" font-size=\"14.00\" fill=\"#000000\">spent_last_week &lt;= 101.0</text>\n<text text-anchor=\"middle\" x=\"402.5\" y=\"-394.8\" font-family=\"Helvetica,sans-Serif\" font-size=\"14.00\" fill=\"#000000\">entropy = 0.759</text>\n<text text-anchor=\"middle\" x=\"402.5\" y=\"-379.8\" font-family=\"Helvetica,sans-Serif\" font-size=\"14.00\" fill=\"#000000\">samples = 155</text>\n<text text-anchor=\"middle\" x=\"402.5\" y=\"-364.8\" font-family=\"Helvetica,sans-Serif\" font-size=\"14.00\" fill=\"#000000\">value = [121, 34]</text>\n<text text-anchor=\"middle\" x=\"402.5\" y=\"-349.8\" font-family=\"Helvetica,sans-Serif\" font-size=\"14.00\" fill=\"#000000\">class = [</text>\n</g>\n<!-- 1&#45;&gt;7 -->\n<g id=\"edge7\" class=\"edge\">\n<title>1&#45;&gt;7</title>\n<path fill=\"none\" stroke=\"#000000\" d=\"M321.8692,-460.8796C331.4416,-451.6931 341.6672,-441.8798 351.5103,-432.4336\"/>\n<polygon fill=\"#000000\" stroke=\"#000000\" points=\"354.1541,-434.7475 358.9457,-425.2981 349.3072,-429.6969 354.1541,-434.7475\"/>\n</g>\n<!-- 3 -->\n<g id=\"node4\" class=\"node\">\n<title>3</title>\n<path fill=\"#e58139\" stroke=\"#000000\" d=\"M89,-298.5C89,-298.5 12,-298.5 12,-298.5 6,-298.5 0,-292.5 0,-286.5 0,-286.5 0,-242.5 0,-242.5 0,-236.5 6,-230.5 12,-230.5 12,-230.5 89,-230.5 89,-230.5 95,-230.5 101,-236.5 101,-242.5 101,-242.5 101,-286.5 101,-286.5 101,-292.5 95,-298.5 89,-298.5\"/>\n<text text-anchor=\"middle\" x=\"50.5\" y=\"-283.3\" font-family=\"Helvetica,sans-Serif\" font-size=\"14.00\" fill=\"#000000\">entropy = 0.0</text>\n<text text-anchor=\"middle\" x=\"50.5\" y=\"-268.3\" font-family=\"Helvetica,sans-Serif\" font-size=\"14.00\" fill=\"#000000\">samples = 8</text>\n<text text-anchor=\"middle\" x=\"50.5\" y=\"-253.3\" font-family=\"Helvetica,sans-Serif\" font-size=\"14.00\" fill=\"#000000\">value = [8, 0]</text>\n<text text-anchor=\"middle\" x=\"50.5\" y=\"-238.3\" font-family=\"Helvetica,sans-Serif\" font-size=\"14.00\" fill=\"#000000\">class = [</text>\n</g>\n<!-- 2&#45;&gt;3 -->\n<g id=\"edge3\" class=\"edge\">\n<title>2&#45;&gt;3</title>\n<path fill=\"none\" stroke=\"#000000\" d=\"M133.7318,-341.8796C121.1944,-330.2237 107.5716,-317.5587 95.047,-305.9148\"/>\n<polygon fill=\"#000000\" stroke=\"#000000\" points=\"97.1172,-303.0605 87.4102,-298.8149 92.3509,-308.1872 97.1172,-303.0605\"/>\n</g>\n<!-- 4 -->\n<g id=\"node5\" class=\"node\">\n<title>4</title>\n<path fill=\"#3c9ee5\" stroke=\"#000000\" d=\"M225.5,-306C225.5,-306 131.5,-306 131.5,-306 125.5,-306 119.5,-300 119.5,-294 119.5,-294 119.5,-235 119.5,-235 119.5,-229 125.5,-223 131.5,-223 131.5,-223 225.5,-223 225.5,-223 231.5,-223 237.5,-229 237.5,-235 237.5,-235 237.5,-294 237.5,-294 237.5,-300 231.5,-306 225.5,-306\"/>\n<text text-anchor=\"middle\" x=\"178.5\" y=\"-290.8\" font-family=\"Helvetica,sans-Serif\" font-size=\"14.00\" fill=\"#000000\">Age &lt;= 59.0</text>\n<text text-anchor=\"middle\" x=\"178.5\" y=\"-275.8\" font-family=\"Helvetica,sans-Serif\" font-size=\"14.00\" fill=\"#000000\">entropy = 0.107</text>\n<text text-anchor=\"middle\" x=\"178.5\" y=\"-260.8\" font-family=\"Helvetica,sans-Serif\" font-size=\"14.00\" fill=\"#000000\">samples = 71</text>\n<text text-anchor=\"middle\" x=\"178.5\" y=\"-245.8\" font-family=\"Helvetica,sans-Serif\" font-size=\"14.00\" fill=\"#000000\">value = [1, 70]</text>\n<text text-anchor=\"middle\" x=\"178.5\" y=\"-230.8\" font-family=\"Helvetica,sans-Serif\" font-size=\"14.00\" fill=\"#000000\">class = 0</text>\n</g>\n<!-- 2&#45;&gt;4 -->\n<g id=\"edge4\" class=\"edge\">\n<title>2&#45;&gt;4</title>\n<path fill=\"none\" stroke=\"#000000\" d=\"M178.5,-341.8796C178.5,-333.6838 178.5,-324.9891 178.5,-316.5013\"/>\n<polygon fill=\"#000000\" stroke=\"#000000\" points=\"182.0001,-316.298 178.5,-306.2981 175.0001,-316.2981 182.0001,-316.298\"/>\n</g>\n<!-- 5 -->\n<g id=\"node6\" class=\"node\">\n<title>5</title>\n<path fill=\"#399de5\" stroke=\"#000000\" d=\"M98,-179.5C98,-179.5 15,-179.5 15,-179.5 9,-179.5 3,-173.5 3,-167.5 3,-167.5 3,-123.5 3,-123.5 3,-117.5 9,-111.5 15,-111.5 15,-111.5 98,-111.5 98,-111.5 104,-111.5 110,-117.5 110,-123.5 110,-123.5 110,-167.5 110,-167.5 110,-173.5 104,-179.5 98,-179.5\"/>\n<text text-anchor=\"middle\" x=\"56.5\" y=\"-164.3\" font-family=\"Helvetica,sans-Serif\" font-size=\"14.00\" fill=\"#000000\">entropy = 0.0</text>\n<text text-anchor=\"middle\" x=\"56.5\" y=\"-149.3\" font-family=\"Helvetica,sans-Serif\" font-size=\"14.00\" fill=\"#000000\">samples = 70</text>\n<text text-anchor=\"middle\" x=\"56.5\" y=\"-134.3\" font-family=\"Helvetica,sans-Serif\" font-size=\"14.00\" fill=\"#000000\">value = [0, 70]</text>\n<text text-anchor=\"middle\" x=\"56.5\" y=\"-119.3\" font-family=\"Helvetica,sans-Serif\" font-size=\"14.00\" fill=\"#000000\">class = 0</text>\n</g>\n<!-- 4&#45;&gt;5 -->\n<g id=\"edge5\" class=\"edge\">\n<title>4&#45;&gt;5</title>\n<path fill=\"none\" stroke=\"#000000\" d=\"M135.8303,-222.8796C123.8806,-211.2237 110.8963,-198.5587 98.9589,-186.9148\"/>\n<polygon fill=\"#000000\" stroke=\"#000000\" points=\"101.2825,-184.292 91.68,-179.8149 96.3947,-189.303 101.2825,-184.292\"/>\n</g>\n<!-- 6 -->\n<g id=\"node7\" class=\"node\">\n<title>6</title>\n<path fill=\"#e58139\" stroke=\"#000000\" d=\"M217,-179.5C217,-179.5 140,-179.5 140,-179.5 134,-179.5 128,-173.5 128,-167.5 128,-167.5 128,-123.5 128,-123.5 128,-117.5 134,-111.5 140,-111.5 140,-111.5 217,-111.5 217,-111.5 223,-111.5 229,-117.5 229,-123.5 229,-123.5 229,-167.5 229,-167.5 229,-173.5 223,-179.5 217,-179.5\"/>\n<text text-anchor=\"middle\" x=\"178.5\" y=\"-164.3\" font-family=\"Helvetica,sans-Serif\" font-size=\"14.00\" fill=\"#000000\">entropy = 0.0</text>\n<text text-anchor=\"middle\" x=\"178.5\" y=\"-149.3\" font-family=\"Helvetica,sans-Serif\" font-size=\"14.00\" fill=\"#000000\">samples = 1</text>\n<text text-anchor=\"middle\" x=\"178.5\" y=\"-134.3\" font-family=\"Helvetica,sans-Serif\" font-size=\"14.00\" fill=\"#000000\">value = [1, 0]</text>\n<text text-anchor=\"middle\" x=\"178.5\" y=\"-119.3\" font-family=\"Helvetica,sans-Serif\" font-size=\"14.00\" fill=\"#000000\">class = [</text>\n</g>\n<!-- 4&#45;&gt;6 -->\n<g id=\"edge6\" class=\"edge\">\n<title>4&#45;&gt;6</title>\n<path fill=\"none\" stroke=\"#000000\" d=\"M178.5,-222.8796C178.5,-212.2134 178.5,-200.7021 178.5,-189.9015\"/>\n<polygon fill=\"#000000\" stroke=\"#000000\" points=\"182.0001,-189.8149 178.5,-179.8149 175.0001,-189.815 182.0001,-189.8149\"/>\n</g>\n<!-- 8 -->\n<g id=\"node9\" class=\"node\">\n<title>8</title>\n<path fill=\"#e6853f\" stroke=\"#000000\" d=\"M449.5,-306C449.5,-306 355.5,-306 355.5,-306 349.5,-306 343.5,-300 343.5,-294 343.5,-294 343.5,-235 343.5,-235 343.5,-229 349.5,-223 355.5,-223 355.5,-223 449.5,-223 449.5,-223 455.5,-223 461.5,-229 461.5,-235 461.5,-235 461.5,-294 461.5,-294 461.5,-300 455.5,-306 449.5,-306\"/>\n<text text-anchor=\"middle\" x=\"402.5\" y=\"-290.8\" font-family=\"Helvetica,sans-Serif\" font-size=\"14.00\" fill=\"#000000\">salary &lt;= 4.0</text>\n<text text-anchor=\"middle\" x=\"402.5\" y=\"-275.8\" font-family=\"Helvetica,sans-Serif\" font-size=\"14.00\" fill=\"#000000\">entropy = 0.191</text>\n<text text-anchor=\"middle\" x=\"402.5\" y=\"-260.8\" font-family=\"Helvetica,sans-Serif\" font-size=\"14.00\" fill=\"#000000\">samples = 102</text>\n<text text-anchor=\"middle\" x=\"402.5\" y=\"-245.8\" font-family=\"Helvetica,sans-Serif\" font-size=\"14.00\" fill=\"#000000\">value = [99, 3]</text>\n<text text-anchor=\"middle\" x=\"402.5\" y=\"-230.8\" font-family=\"Helvetica,sans-Serif\" font-size=\"14.00\" fill=\"#000000\">class = [</text>\n</g>\n<!-- 7&#45;&gt;8 -->\n<g id=\"edge8\" class=\"edge\">\n<title>7&#45;&gt;8</title>\n<path fill=\"none\" stroke=\"#000000\" d=\"M402.5,-341.8796C402.5,-333.6838 402.5,-324.9891 402.5,-316.5013\"/>\n<polygon fill=\"#000000\" stroke=\"#000000\" points=\"406.0001,-316.298 402.5,-306.2981 399.0001,-316.2981 406.0001,-316.298\"/>\n</g>\n<!-- 13 -->\n<g id=\"node14\" class=\"node\">\n<title>13</title>\n<path fill=\"#c6e3f7\" stroke=\"#000000\" d=\"M609.5,-306C609.5,-306 515.5,-306 515.5,-306 509.5,-306 503.5,-300 503.5,-294 503.5,-294 503.5,-235 503.5,-235 503.5,-229 509.5,-223 515.5,-223 515.5,-223 609.5,-223 609.5,-223 615.5,-223 621.5,-229 621.5,-235 621.5,-235 621.5,-294 621.5,-294 621.5,-300 615.5,-306 609.5,-306\"/>\n<text text-anchor=\"middle\" x=\"562.5\" y=\"-290.8\" font-family=\"Helvetica,sans-Serif\" font-size=\"14.00\" fill=\"#000000\">salary &lt;= 7.887</text>\n<text text-anchor=\"middle\" x=\"562.5\" y=\"-275.8\" font-family=\"Helvetica,sans-Serif\" font-size=\"14.00\" fill=\"#000000\">entropy = 0.979</text>\n<text text-anchor=\"middle\" x=\"562.5\" y=\"-260.8\" font-family=\"Helvetica,sans-Serif\" font-size=\"14.00\" fill=\"#000000\">samples = 53</text>\n<text text-anchor=\"middle\" x=\"562.5\" y=\"-245.8\" font-family=\"Helvetica,sans-Serif\" font-size=\"14.00\" fill=\"#000000\">value = [22, 31]</text>\n<text text-anchor=\"middle\" x=\"562.5\" y=\"-230.8\" font-family=\"Helvetica,sans-Serif\" font-size=\"14.00\" fill=\"#000000\">class = 0</text>\n</g>\n<!-- 7&#45;&gt;13 -->\n<g id=\"edge13\" class=\"edge\">\n<title>7&#45;&gt;13</title>\n<path fill=\"none\" stroke=\"#000000\" d=\"M458.4602,-341.8796C471.3708,-332.2774 485.2021,-321.9903 498.4282,-312.1534\"/>\n<polygon fill=\"#000000\" stroke=\"#000000\" points=\"500.6361,-314.8732 506.5714,-306.0969 496.4586,-309.2564 500.6361,-314.8732\"/>\n</g>\n<!-- 9 -->\n<g id=\"node10\" class=\"node\">\n<title>9</title>\n<path fill=\"#f8e0ce\" stroke=\"#000000\" d=\"M353.5,-187C353.5,-187 259.5,-187 259.5,-187 253.5,-187 247.5,-181 247.5,-175 247.5,-175 247.5,-116 247.5,-116 247.5,-110 253.5,-104 259.5,-104 259.5,-104 353.5,-104 353.5,-104 359.5,-104 365.5,-110 365.5,-116 365.5,-116 365.5,-175 365.5,-175 365.5,-181 359.5,-187 353.5,-187\"/>\n<text text-anchor=\"middle\" x=\"306.5\" y=\"-171.8\" font-family=\"Helvetica,sans-Serif\" font-size=\"14.00\" fill=\"#000000\">Age &lt;= 26.5</text>\n<text text-anchor=\"middle\" x=\"306.5\" y=\"-156.8\" font-family=\"Helvetica,sans-Serif\" font-size=\"14.00\" fill=\"#000000\">entropy = 0.985</text>\n<text text-anchor=\"middle\" x=\"306.5\" y=\"-141.8\" font-family=\"Helvetica,sans-Serif\" font-size=\"14.00\" fill=\"#000000\">samples = 7</text>\n<text text-anchor=\"middle\" x=\"306.5\" y=\"-126.8\" font-family=\"Helvetica,sans-Serif\" font-size=\"14.00\" fill=\"#000000\">value = [4, 3]</text>\n<text text-anchor=\"middle\" x=\"306.5\" y=\"-111.8\" font-family=\"Helvetica,sans-Serif\" font-size=\"14.00\" fill=\"#000000\">class = [</text>\n</g>\n<!-- 8&#45;&gt;9 -->\n<g id=\"edge9\" class=\"edge\">\n<title>8&#45;&gt;9</title>\n<path fill=\"none\" stroke=\"#000000\" d=\"M368.9239,-222.8796C361.7309,-213.9633 354.0616,-204.4565 346.649,-195.268\"/>\n<polygon fill=\"#000000\" stroke=\"#000000\" points=\"349.2224,-192.8836 340.2195,-187.2981 343.7742,-197.2788 349.2224,-192.8836\"/>\n</g>\n<!-- 12 -->\n<g id=\"node13\" class=\"node\">\n<title>12</title>\n<path fill=\"#e58139\" stroke=\"#000000\" d=\"M479,-179.5C479,-179.5 396,-179.5 396,-179.5 390,-179.5 384,-173.5 384,-167.5 384,-167.5 384,-123.5 384,-123.5 384,-117.5 390,-111.5 396,-111.5 396,-111.5 479,-111.5 479,-111.5 485,-111.5 491,-117.5 491,-123.5 491,-123.5 491,-167.5 491,-167.5 491,-173.5 485,-179.5 479,-179.5\"/>\n<text text-anchor=\"middle\" x=\"437.5\" y=\"-164.3\" font-family=\"Helvetica,sans-Serif\" font-size=\"14.00\" fill=\"#000000\">entropy = 0.0</text>\n<text text-anchor=\"middle\" x=\"437.5\" y=\"-149.3\" font-family=\"Helvetica,sans-Serif\" font-size=\"14.00\" fill=\"#000000\">samples = 95</text>\n<text text-anchor=\"middle\" x=\"437.5\" y=\"-134.3\" font-family=\"Helvetica,sans-Serif\" font-size=\"14.00\" fill=\"#000000\">value = [95, 0]</text>\n<text text-anchor=\"middle\" x=\"437.5\" y=\"-119.3\" font-family=\"Helvetica,sans-Serif\" font-size=\"14.00\" fill=\"#000000\">class = [</text>\n</g>\n<!-- 8&#45;&gt;12 -->\n<g id=\"edge12\" class=\"edge\">\n<title>8&#45;&gt;12</title>\n<path fill=\"none\" stroke=\"#000000\" d=\"M414.7413,-222.8796C417.9108,-212.1034 421.3339,-200.4647 424.5389,-189.5677\"/>\n<polygon fill=\"#000000\" stroke=\"#000000\" points=\"427.9434,-190.3962 427.4074,-179.8149 421.2279,-188.421 427.9434,-190.3962\"/>\n</g>\n<!-- 10 -->\n<g id=\"node11\" class=\"node\">\n<title>10</title>\n<path fill=\"#399de5\" stroke=\"#000000\" d=\"M286,-68C286,-68 209,-68 209,-68 203,-68 197,-62 197,-56 197,-56 197,-12 197,-12 197,-6 203,0 209,0 209,0 286,0 286,0 292,0 298,-6 298,-12 298,-12 298,-56 298,-56 298,-62 292,-68 286,-68\"/>\n<text text-anchor=\"middle\" x=\"247.5\" y=\"-52.8\" font-family=\"Helvetica,sans-Serif\" font-size=\"14.00\" fill=\"#000000\">entropy = 0.0</text>\n<text text-anchor=\"middle\" x=\"247.5\" y=\"-37.8\" font-family=\"Helvetica,sans-Serif\" font-size=\"14.00\" fill=\"#000000\">samples = 3</text>\n<text text-anchor=\"middle\" x=\"247.5\" y=\"-22.8\" font-family=\"Helvetica,sans-Serif\" font-size=\"14.00\" fill=\"#000000\">value = [0, 3]</text>\n<text text-anchor=\"middle\" x=\"247.5\" y=\"-7.8\" font-family=\"Helvetica,sans-Serif\" font-size=\"14.00\" fill=\"#000000\">class = 0</text>\n</g>\n<!-- 9&#45;&gt;10 -->\n<g id=\"edge10\" class=\"edge\">\n<title>9&#45;&gt;10</title>\n<path fill=\"none\" stroke=\"#000000\" d=\"M284.5306,-103.9815C279.9105,-95.2504 275.0264,-86.0202 270.374,-77.2281\"/>\n<polygon fill=\"#000000\" stroke=\"#000000\" points=\"273.4013,-75.4655 265.6306,-68.2637 267.2141,-78.7395 273.4013,-75.4655\"/>\n</g>\n<!-- 11 -->\n<g id=\"node12\" class=\"node\">\n<title>11</title>\n<path fill=\"#e58139\" stroke=\"#000000\" d=\"M405,-68C405,-68 328,-68 328,-68 322,-68 316,-62 316,-56 316,-56 316,-12 316,-12 316,-6 322,0 328,0 328,0 405,0 405,0 411,0 417,-6 417,-12 417,-12 417,-56 417,-56 417,-62 411,-68 405,-68\"/>\n<text text-anchor=\"middle\" x=\"366.5\" y=\"-52.8\" font-family=\"Helvetica,sans-Serif\" font-size=\"14.00\" fill=\"#000000\">entropy = 0.0</text>\n<text text-anchor=\"middle\" x=\"366.5\" y=\"-37.8\" font-family=\"Helvetica,sans-Serif\" font-size=\"14.00\" fill=\"#000000\">samples = 4</text>\n<text text-anchor=\"middle\" x=\"366.5\" y=\"-22.8\" font-family=\"Helvetica,sans-Serif\" font-size=\"14.00\" fill=\"#000000\">value = [4, 0]</text>\n<text text-anchor=\"middle\" x=\"366.5\" y=\"-7.8\" font-family=\"Helvetica,sans-Serif\" font-size=\"14.00\" fill=\"#000000\">class = [</text>\n</g>\n<!-- 9&#45;&gt;11 -->\n<g id=\"edge11\" class=\"edge\">\n<title>9&#45;&gt;11</title>\n<path fill=\"none\" stroke=\"#000000\" d=\"M328.8418,-103.9815C333.5402,-95.2504 338.5071,-86.0202 343.2383,-77.2281\"/>\n<polygon fill=\"#000000\" stroke=\"#000000\" points=\"346.4056,-78.7282 348.0621,-68.2637 340.2414,-75.4111 346.4056,-78.7282\"/>\n</g>\n<!-- 14 -->\n<g id=\"node15\" class=\"node\">\n<title>14</title>\n<path fill=\"#399de5\" stroke=\"#000000\" d=\"M604,-179.5C604,-179.5 521,-179.5 521,-179.5 515,-179.5 509,-173.5 509,-167.5 509,-167.5 509,-123.5 509,-123.5 509,-117.5 515,-111.5 521,-111.5 521,-111.5 604,-111.5 604,-111.5 610,-111.5 616,-117.5 616,-123.5 616,-123.5 616,-167.5 616,-167.5 616,-173.5 610,-179.5 604,-179.5\"/>\n<text text-anchor=\"middle\" x=\"562.5\" y=\"-164.3\" font-family=\"Helvetica,sans-Serif\" font-size=\"14.00\" fill=\"#000000\">entropy = 0.0</text>\n<text text-anchor=\"middle\" x=\"562.5\" y=\"-149.3\" font-family=\"Helvetica,sans-Serif\" font-size=\"14.00\" fill=\"#000000\">samples = 31</text>\n<text text-anchor=\"middle\" x=\"562.5\" y=\"-134.3\" font-family=\"Helvetica,sans-Serif\" font-size=\"14.00\" fill=\"#000000\">value = [0, 31]</text>\n<text text-anchor=\"middle\" x=\"562.5\" y=\"-119.3\" font-family=\"Helvetica,sans-Serif\" font-size=\"14.00\" fill=\"#000000\">class = 0</text>\n</g>\n<!-- 13&#45;&gt;14 -->\n<g id=\"edge14\" class=\"edge\">\n<title>13&#45;&gt;14</title>\n<path fill=\"none\" stroke=\"#000000\" d=\"M562.5,-222.8796C562.5,-212.2134 562.5,-200.7021 562.5,-189.9015\"/>\n<polygon fill=\"#000000\" stroke=\"#000000\" points=\"566.0001,-189.8149 562.5,-179.8149 559.0001,-189.815 566.0001,-189.8149\"/>\n</g>\n<!-- 15 -->\n<g id=\"node16\" class=\"node\">\n<title>15</title>\n<path fill=\"#e58139\" stroke=\"#000000\" d=\"M729,-179.5C729,-179.5 646,-179.5 646,-179.5 640,-179.5 634,-173.5 634,-167.5 634,-167.5 634,-123.5 634,-123.5 634,-117.5 640,-111.5 646,-111.5 646,-111.5 729,-111.5 729,-111.5 735,-111.5 741,-117.5 741,-123.5 741,-123.5 741,-167.5 741,-167.5 741,-173.5 735,-179.5 729,-179.5\"/>\n<text text-anchor=\"middle\" x=\"687.5\" y=\"-164.3\" font-family=\"Helvetica,sans-Serif\" font-size=\"14.00\" fill=\"#000000\">entropy = 0.0</text>\n<text text-anchor=\"middle\" x=\"687.5\" y=\"-149.3\" font-family=\"Helvetica,sans-Serif\" font-size=\"14.00\" fill=\"#000000\">samples = 22</text>\n<text text-anchor=\"middle\" x=\"687.5\" y=\"-134.3\" font-family=\"Helvetica,sans-Serif\" font-size=\"14.00\" fill=\"#000000\">value = [22, 0]</text>\n<text text-anchor=\"middle\" x=\"687.5\" y=\"-119.3\" font-family=\"Helvetica,sans-Serif\" font-size=\"14.00\" fill=\"#000000\">class = [</text>\n</g>\n<!-- 13&#45;&gt;15 -->\n<g id=\"edge15\" class=\"edge\">\n<title>13&#45;&gt;15</title>\n<path fill=\"none\" stroke=\"#000000\" d=\"M606.2189,-222.8796C618.4625,-211.2237 631.7661,-198.5587 643.9971,-186.9148\"/>\n<polygon fill=\"#000000\" stroke=\"#000000\" points=\"646.6254,-189.245 651.4549,-179.8149 641.7988,-184.1751 646.6254,-189.245\"/>\n</g>\n</g>\n</svg>\n"
          },
          "metadata": {
            "tags": []
          },
          "execution_count": 34
        }
      ]
    },
    {
      "cell_type": "markdown",
      "metadata": {
        "id": "dFbii4IADuWg"
      },
      "source": [
        "## Model 1: Entropy model - no max_depth: Interpretation and evaluation"
      ]
    },
    {
      "cell_type": "code",
      "metadata": {
        "id": "XRL0klK4DuWh",
        "colab": {
          "base_uri": "https://localhost:8080/"
        },
        "outputId": "307351dd-b5d4-4aff-fee2-2b9ebe1742e7"
      },
      "source": [
        "# Run this block for model evaluation metrics \n",
        "print(\"Model Entropy - no max depth\")\n",
        "print(\"Accuracy:\", metrics.accuracy_score(y_test,y_pred))\n",
        "print(\"Balanced accuracy:\", metrics.balanced_accuracy_score(y_test,y_pred))\n",
        "print('Precision score for \"Yes\"' , metrics.precision_score(y_test,y_pred, pos_label = 1))\n",
        "print('Precision score for \"No\"' , metrics.precision_score(y_test,y_pred, pos_label = 0))\n",
        "print('Recall score for \"Yes\"' , metrics.recall_score(y_test,y_pred, pos_label = 1))\n",
        "print('Recall score for \"No\"' , metrics.recall_score(y_test,y_pred, pos_label = 0))"
      ],
      "execution_count": 35,
      "outputs": [
        {
          "output_type": "stream",
          "text": [
            "Model Entropy - no max depth\n",
            "Accuracy: 0.9915966386554622\n",
            "Balanced accuracy: 0.9878048780487805\n",
            "Precision score for \"Yes\" 0.9873417721518988\n",
            "Precision score for \"No\" 1.0\n",
            "Recall score for \"Yes\" 1.0\n",
            "Recall score for \"No\" 0.975609756097561\n"
          ],
          "name": "stdout"
        }
      ]
    },
    {
      "cell_type": "markdown",
      "metadata": {
        "id": "icGOPFQ_DuWj"
      },
      "source": [
        "What can you infer from these results? Write your conclusions here:<br>\r\n",
        "<b>A:</b><br>\r\n",
        "From the decision tree diagram, it is observed that from the parent node to the final leaf, there are 6 layers. Looking at the accuracy score, balanced accurac, precision and recall scores, they are all over 0.975 and in some instance at 100%. While this result seems to be suggesting a highly accurate model, it may is very likely the model is over-fitting and would not predict well with other datasets. "
      ]
    },
    {
      "cell_type": "markdown",
      "metadata": {
        "id": "MHipdpfxDuWk"
      },
      "source": [
        "## Model 2: Gini impurity model - no max_depth\n",
        "\n",
        "Gini impurity, like entropy, is a measure of how well a given feature (and threshold) splits the data into categories.\n",
        "\n",
        "Their equations are similar, but Gini impurity doesn't require logorathmic functions, which can be computationally expensive. "
      ]
    },
    {
      "cell_type": "code",
      "metadata": {
        "id": "FyBljeIpDuWl",
        "colab": {
          "base_uri": "https://localhost:8080/"
        },
        "outputId": "4f3e504b-112f-4860-a3cc-21d37d9c7a47"
      },
      "source": [
        "# Make a variable called gini_model, and assign it exactly what you assigned entr_model with above, but with the\n",
        "# criterion changed to 'gini'\n",
        "gini_model = tree.DecisionTreeClassifier(criterion='gini', random_state=1)\n",
        "\n",
        "# Call fit() on the gini_model as you did with the entr_model\n",
        "gini_model.fit(X_train, y_train)\n",
        "\n",
        "# Call predict() on the gini_model as you did with the entr_model \n",
        "y_pred = gini_model.predict(X_test)\n",
        "\n",
        "# Turn y_pred into a series, as before\n",
        "y_pred = pd.Series(y_pred)\n",
        "\n",
        "# Check out gini_model\n",
        "gini_model"
      ],
      "execution_count": 36,
      "outputs": [
        {
          "output_type": "execute_result",
          "data": {
            "text/plain": [
              "DecisionTreeClassifier(ccp_alpha=0.0, class_weight=None, criterion='gini',\n",
              "                       max_depth=None, max_features=None, max_leaf_nodes=None,\n",
              "                       min_impurity_decrease=0.0, min_impurity_split=None,\n",
              "                       min_samples_leaf=1, min_samples_split=2,\n",
              "                       min_weight_fraction_leaf=0.0, presort='deprecated',\n",
              "                       random_state=1, splitter='best')"
            ]
          },
          "metadata": {
            "tags": []
          },
          "execution_count": 36
        }
      ]
    },
    {
      "cell_type": "code",
      "metadata": {
        "id": "d20SMUmgDuWo",
        "colab": {
          "base_uri": "https://localhost:8080/",
          "height": 1000
        },
        "outputId": "64701a37-3135-429c-ebab-a8012d49b545"
      },
      "source": [
        "# As before, but make the model name gini_model\n",
        "feature_names = NoPrediction.columns\n",
        "dot_data = export_graphviz(gini_model, out_file=None, filled=True, rounded=True, \n",
        "                           feature_names=feature_names, class_names=['No','Yes'])\n",
        "\n",
        "graph = graphviz.Source(dot_data)  \n",
        "graph  "
      ],
      "execution_count": 37,
      "outputs": [
        {
          "output_type": "execute_result",
          "data": {
            "text/plain": [
              "<graphviz.files.Source at 0x7fd8cbddee10>"
            ],
            "image/svg+xml": "<?xml version=\"1.0\" encoding=\"UTF-8\" standalone=\"no\"?>\n<!DOCTYPE svg PUBLIC \"-//W3C//DTD SVG 1.1//EN\"\n \"http://www.w3.org/Graphics/SVG/1.1/DTD/svg11.dtd\">\n<!-- Generated by graphviz version 2.40.1 (20161225.0304)\n -->\n<!-- Title: Tree Pages: 1 -->\n<svg width=\"850pt\" height=\"790pt\"\n viewBox=\"0.00 0.00 850.00 790.00\" xmlns=\"http://www.w3.org/2000/svg\" xmlns:xlink=\"http://www.w3.org/1999/xlink\">\n<g id=\"graph0\" class=\"graph\" transform=\"scale(1 1) rotate(0) translate(4 786)\">\n<title>Tree</title>\n<polygon fill=\"#ffffff\" stroke=\"transparent\" points=\"-4,4 -4,-786 846,-786 846,4 -4,4\"/>\n<!-- 0 -->\n<g id=\"node1\" class=\"node\">\n<title>0</title>\n<path fill=\"#abd6f4\" stroke=\"#000000\" d=\"M536,-782C536,-782 373,-782 373,-782 367,-782 361,-776 361,-770 361,-770 361,-711 361,-711 361,-705 367,-699 373,-699 373,-699 536,-699 536,-699 542,-699 548,-705 548,-711 548,-711 548,-770 548,-770 548,-776 542,-782 536,-782\"/>\n<text text-anchor=\"middle\" x=\"454.5\" y=\"-766.8\" font-family=\"Helvetica,sans-Serif\" font-size=\"14.00\" fill=\"#000000\">spent_last_week &lt;= 100.5</text>\n<text text-anchor=\"middle\" x=\"454.5\" y=\"-751.8\" font-family=\"Helvetica,sans-Serif\" font-size=\"14.00\" fill=\"#000000\">gini = 0.464</text>\n<text text-anchor=\"middle\" x=\"454.5\" y=\"-736.8\" font-family=\"Helvetica,sans-Serif\" font-size=\"14.00\" fill=\"#000000\">samples = 355</text>\n<text text-anchor=\"middle\" x=\"454.5\" y=\"-721.8\" font-family=\"Helvetica,sans-Serif\" font-size=\"14.00\" fill=\"#000000\">value = [130, 225]</text>\n<text text-anchor=\"middle\" x=\"454.5\" y=\"-706.8\" font-family=\"Helvetica,sans-Serif\" font-size=\"14.00\" fill=\"#000000\">class = Yes</text>\n</g>\n<!-- 1 -->\n<g id=\"node2\" class=\"node\">\n<title>1</title>\n<path fill=\"#f0b48a\" stroke=\"#000000\" d=\"M433.5,-663C433.5,-663 333.5,-663 333.5,-663 327.5,-663 321.5,-657 321.5,-651 321.5,-651 321.5,-592 321.5,-592 321.5,-586 327.5,-580 333.5,-580 333.5,-580 433.5,-580 433.5,-580 439.5,-580 445.5,-586 445.5,-592 445.5,-592 445.5,-651 445.5,-651 445.5,-657 439.5,-663 433.5,-663\"/>\n<text text-anchor=\"middle\" x=\"383.5\" y=\"-647.8\" font-family=\"Helvetica,sans-Serif\" font-size=\"14.00\" fill=\"#000000\">salary &lt;= 3.754</text>\n<text text-anchor=\"middle\" x=\"383.5\" y=\"-632.8\" font-family=\"Helvetica,sans-Serif\" font-size=\"14.00\" fill=\"#000000\">gini = 0.411</text>\n<text text-anchor=\"middle\" x=\"383.5\" y=\"-617.8\" font-family=\"Helvetica,sans-Serif\" font-size=\"14.00\" fill=\"#000000\">samples = 152</text>\n<text text-anchor=\"middle\" x=\"383.5\" y=\"-602.8\" font-family=\"Helvetica,sans-Serif\" font-size=\"14.00\" fill=\"#000000\">value = [108, 44]</text>\n<text text-anchor=\"middle\" x=\"383.5\" y=\"-587.8\" font-family=\"Helvetica,sans-Serif\" font-size=\"14.00\" fill=\"#000000\">class = No</text>\n</g>\n<!-- 0&#45;&gt;1 -->\n<g id=\"edge1\" class=\"edge\">\n<title>0&#45;&gt;1</title>\n<path fill=\"none\" stroke=\"#000000\" d=\"M429.6676,-698.8796C424.5091,-690.2335 419.0192,-681.0322 413.6924,-672.1042\"/>\n<polygon fill=\"#000000\" stroke=\"#000000\" points=\"416.5678,-670.0924 408.4383,-663.2981 410.5564,-673.679 416.5678,-670.0924\"/>\n<text text-anchor=\"middle\" x=\"402.3149\" y=\"-683.8366\" font-family=\"Helvetica,sans-Serif\" font-size=\"14.00\" fill=\"#000000\">True</text>\n</g>\n<!-- 16 -->\n<g id=\"node17\" class=\"node\">\n<title>16</title>\n<path fill=\"#51a9e8\" stroke=\"#000000\" d=\"M575.5,-663C575.5,-663 475.5,-663 475.5,-663 469.5,-663 463.5,-657 463.5,-651 463.5,-651 463.5,-592 463.5,-592 463.5,-586 469.5,-580 475.5,-580 475.5,-580 575.5,-580 575.5,-580 581.5,-580 587.5,-586 587.5,-592 587.5,-592 587.5,-651 587.5,-651 587.5,-657 581.5,-663 575.5,-663\"/>\n<text text-anchor=\"middle\" x=\"525.5\" y=\"-647.8\" font-family=\"Helvetica,sans-Serif\" font-size=\"14.00\" fill=\"#000000\">salary &lt;= 8.047</text>\n<text text-anchor=\"middle\" x=\"525.5\" y=\"-632.8\" font-family=\"Helvetica,sans-Serif\" font-size=\"14.00\" fill=\"#000000\">gini = 0.193</text>\n<text text-anchor=\"middle\" x=\"525.5\" y=\"-617.8\" font-family=\"Helvetica,sans-Serif\" font-size=\"14.00\" fill=\"#000000\">samples = 203</text>\n<text text-anchor=\"middle\" x=\"525.5\" y=\"-602.8\" font-family=\"Helvetica,sans-Serif\" font-size=\"14.00\" fill=\"#000000\">value = [22, 181]</text>\n<text text-anchor=\"middle\" x=\"525.5\" y=\"-587.8\" font-family=\"Helvetica,sans-Serif\" font-size=\"14.00\" fill=\"#000000\">class = Yes</text>\n</g>\n<!-- 0&#45;&gt;16 -->\n<g id=\"edge16\" class=\"edge\">\n<title>0&#45;&gt;16</title>\n<path fill=\"none\" stroke=\"#000000\" d=\"M479.3324,-698.8796C484.4909,-690.2335 489.9808,-681.0322 495.3076,-672.1042\"/>\n<polygon fill=\"#000000\" stroke=\"#000000\" points=\"498.4436,-673.679 500.5617,-663.2981 492.4322,-670.0924 498.4436,-673.679\"/>\n<text text-anchor=\"middle\" x=\"506.6851\" y=\"-683.8366\" font-family=\"Helvetica,sans-Serif\" font-size=\"14.00\" fill=\"#000000\">False</text>\n</g>\n<!-- 2 -->\n<g id=\"node3\" class=\"node\">\n<title>2</title>\n<path fill=\"#6cb6ec\" stroke=\"#000000\" d=\"M303,-544C303,-544 148,-544 148,-544 142,-544 136,-538 136,-532 136,-532 136,-473 136,-473 136,-467 142,-461 148,-461 148,-461 303,-461 303,-461 309,-461 315,-467 315,-473 315,-473 315,-532 315,-532 315,-538 309,-544 303,-544\"/>\n<text text-anchor=\"middle\" x=\"225.5\" y=\"-528.8\" font-family=\"Helvetica,sans-Serif\" font-size=\"14.00\" fill=\"#000000\">spent_last_week &lt;= 24.5</text>\n<text text-anchor=\"middle\" x=\"225.5\" y=\"-513.8\" font-family=\"Helvetica,sans-Serif\" font-size=\"14.00\" fill=\"#000000\">gini = 0.324</text>\n<text text-anchor=\"middle\" x=\"225.5\" y=\"-498.8\" font-family=\"Helvetica,sans-Serif\" font-size=\"14.00\" fill=\"#000000\">samples = 54</text>\n<text text-anchor=\"middle\" x=\"225.5\" y=\"-483.8\" font-family=\"Helvetica,sans-Serif\" font-size=\"14.00\" fill=\"#000000\">value = [11, 43]</text>\n<text text-anchor=\"middle\" x=\"225.5\" y=\"-468.8\" font-family=\"Helvetica,sans-Serif\" font-size=\"14.00\" fill=\"#000000\">class = Yes</text>\n</g>\n<!-- 1&#45;&gt;2 -->\n<g id=\"edge2\" class=\"edge\">\n<title>1&#45;&gt;2</title>\n<path fill=\"none\" stroke=\"#000000\" d=\"M328.2393,-579.8796C315.4901,-570.2774 301.8317,-559.9903 288.7709,-550.1534\"/>\n<polygon fill=\"#000000\" stroke=\"#000000\" points=\"290.8231,-547.3174 280.7295,-544.0969 286.6117,-552.9089 290.8231,-547.3174\"/>\n</g>\n<!-- 11 -->\n<g id=\"node12\" class=\"node\">\n<title>11</title>\n<path fill=\"#e5823b\" stroke=\"#000000\" d=\"M428,-544C428,-544 345,-544 345,-544 339,-544 333,-538 333,-532 333,-532 333,-473 333,-473 333,-467 339,-461 345,-461 345,-461 428,-461 428,-461 434,-461 440,-467 440,-473 440,-473 440,-532 440,-532 440,-538 434,-544 428,-544\"/>\n<text text-anchor=\"middle\" x=\"386.5\" y=\"-528.8\" font-family=\"Helvetica,sans-Serif\" font-size=\"14.00\" fill=\"#000000\">salary &lt;= 4.0</text>\n<text text-anchor=\"middle\" x=\"386.5\" y=\"-513.8\" font-family=\"Helvetica,sans-Serif\" font-size=\"14.00\" fill=\"#000000\">gini = 0.02</text>\n<text text-anchor=\"middle\" x=\"386.5\" y=\"-498.8\" font-family=\"Helvetica,sans-Serif\" font-size=\"14.00\" fill=\"#000000\">samples = 98</text>\n<text text-anchor=\"middle\" x=\"386.5\" y=\"-483.8\" font-family=\"Helvetica,sans-Serif\" font-size=\"14.00\" fill=\"#000000\">value = [97, 1]</text>\n<text text-anchor=\"middle\" x=\"386.5\" y=\"-468.8\" font-family=\"Helvetica,sans-Serif\" font-size=\"14.00\" fill=\"#000000\">class = No</text>\n</g>\n<!-- 1&#45;&gt;11 -->\n<g id=\"edge11\" class=\"edge\">\n<title>1&#45;&gt;11</title>\n<path fill=\"none\" stroke=\"#000000\" d=\"M384.5493,-579.8796C384.7559,-571.6838 384.9751,-562.9891 385.189,-554.5013\"/>\n<polygon fill=\"#000000\" stroke=\"#000000\" points=\"388.693,-554.3831 385.4463,-544.2981 381.6953,-554.2067 388.693,-554.3831\"/>\n</g>\n<!-- 3 -->\n<g id=\"node4\" class=\"node\">\n<title>3</title>\n<path fill=\"#e58139\" stroke=\"#000000\" d=\"M153,-417.5C153,-417.5 78,-417.5 78,-417.5 72,-417.5 66,-411.5 66,-405.5 66,-405.5 66,-361.5 66,-361.5 66,-355.5 72,-349.5 78,-349.5 78,-349.5 153,-349.5 153,-349.5 159,-349.5 165,-355.5 165,-361.5 165,-361.5 165,-405.5 165,-405.5 165,-411.5 159,-417.5 153,-417.5\"/>\n<text text-anchor=\"middle\" x=\"115.5\" y=\"-402.3\" font-family=\"Helvetica,sans-Serif\" font-size=\"14.00\" fill=\"#000000\">gini = 0.0</text>\n<text text-anchor=\"middle\" x=\"115.5\" y=\"-387.3\" font-family=\"Helvetica,sans-Serif\" font-size=\"14.00\" fill=\"#000000\">samples = 8</text>\n<text text-anchor=\"middle\" x=\"115.5\" y=\"-372.3\" font-family=\"Helvetica,sans-Serif\" font-size=\"14.00\" fill=\"#000000\">value = [8, 0]</text>\n<text text-anchor=\"middle\" x=\"115.5\" y=\"-357.3\" font-family=\"Helvetica,sans-Serif\" font-size=\"14.00\" fill=\"#000000\">class = No</text>\n</g>\n<!-- 2&#45;&gt;3 -->\n<g id=\"edge3\" class=\"edge\">\n<title>2&#45;&gt;3</title>\n<path fill=\"none\" stroke=\"#000000\" d=\"M187.0273,-460.8796C176.3547,-449.3337 164.7667,-436.7976 154.0875,-425.2446\"/>\n<polygon fill=\"#000000\" stroke=\"#000000\" points=\"156.5778,-422.7825 147.2197,-417.8149 151.4375,-427.534 156.5778,-422.7825\"/>\n</g>\n<!-- 4 -->\n<g id=\"node5\" class=\"node\">\n<title>4</title>\n<path fill=\"#47a4e7\" stroke=\"#000000\" d=\"M278,-425C278,-425 195,-425 195,-425 189,-425 183,-419 183,-413 183,-413 183,-354 183,-354 183,-348 189,-342 195,-342 195,-342 278,-342 278,-342 284,-342 290,-348 290,-354 290,-354 290,-413 290,-413 290,-419 284,-425 278,-425\"/>\n<text text-anchor=\"middle\" x=\"236.5\" y=\"-409.8\" font-family=\"Helvetica,sans-Serif\" font-size=\"14.00\" fill=\"#000000\">Age &lt;= 57.5</text>\n<text text-anchor=\"middle\" x=\"236.5\" y=\"-394.8\" font-family=\"Helvetica,sans-Serif\" font-size=\"14.00\" fill=\"#000000\">gini = 0.122</text>\n<text text-anchor=\"middle\" x=\"236.5\" y=\"-379.8\" font-family=\"Helvetica,sans-Serif\" font-size=\"14.00\" fill=\"#000000\">samples = 46</text>\n<text text-anchor=\"middle\" x=\"236.5\" y=\"-364.8\" font-family=\"Helvetica,sans-Serif\" font-size=\"14.00\" fill=\"#000000\">value = [3, 43]</text>\n<text text-anchor=\"middle\" x=\"236.5\" y=\"-349.8\" font-family=\"Helvetica,sans-Serif\" font-size=\"14.00\" fill=\"#000000\">class = Yes</text>\n</g>\n<!-- 2&#45;&gt;4 -->\n<g id=\"edge4\" class=\"edge\">\n<title>2&#45;&gt;4</title>\n<path fill=\"none\" stroke=\"#000000\" d=\"M229.3473,-460.8796C230.1049,-452.6838 230.9086,-443.9891 231.6932,-435.5013\"/>\n<polygon fill=\"#000000\" stroke=\"#000000\" points=\"235.2009,-435.5778 232.6363,-425.2981 228.2306,-434.9334 235.2009,-435.5778\"/>\n</g>\n<!-- 5 -->\n<g id=\"node6\" class=\"node\">\n<title>5</title>\n<path fill=\"#3e9fe6\" stroke=\"#000000\" d=\"M159.5,-306C159.5,-306 67.5,-306 67.5,-306 61.5,-306 55.5,-300 55.5,-294 55.5,-294 55.5,-235 55.5,-235 55.5,-229 61.5,-223 67.5,-223 67.5,-223 159.5,-223 159.5,-223 165.5,-223 171.5,-229 171.5,-235 171.5,-235 171.5,-294 171.5,-294 171.5,-300 165.5,-306 159.5,-306\"/>\n<text text-anchor=\"middle\" x=\"113.5\" y=\"-290.8\" font-family=\"Helvetica,sans-Serif\" font-size=\"14.00\" fill=\"#000000\">salary &lt;= 3.298</text>\n<text text-anchor=\"middle\" x=\"113.5\" y=\"-275.8\" font-family=\"Helvetica,sans-Serif\" font-size=\"14.00\" fill=\"#000000\">gini = 0.044</text>\n<text text-anchor=\"middle\" x=\"113.5\" y=\"-260.8\" font-family=\"Helvetica,sans-Serif\" font-size=\"14.00\" fill=\"#000000\">samples = 44</text>\n<text text-anchor=\"middle\" x=\"113.5\" y=\"-245.8\" font-family=\"Helvetica,sans-Serif\" font-size=\"14.00\" fill=\"#000000\">value = [1, 43]</text>\n<text text-anchor=\"middle\" x=\"113.5\" y=\"-230.8\" font-family=\"Helvetica,sans-Serif\" font-size=\"14.00\" fill=\"#000000\">class = Yes</text>\n</g>\n<!-- 4&#45;&gt;5 -->\n<g id=\"edge5\" class=\"edge\">\n<title>4&#45;&gt;5</title>\n<path fill=\"none\" stroke=\"#000000\" d=\"M193.4806,-341.8796C183.9853,-332.6931 173.8422,-322.8798 164.0785,-313.4336\"/>\n<polygon fill=\"#000000\" stroke=\"#000000\" points=\"166.3237,-310.7359 156.703,-306.2981 161.4564,-315.7668 166.3237,-310.7359\"/>\n</g>\n<!-- 10 -->\n<g id=\"node11\" class=\"node\">\n<title>10</title>\n<path fill=\"#e58139\" stroke=\"#000000\" d=\"M277,-298.5C277,-298.5 202,-298.5 202,-298.5 196,-298.5 190,-292.5 190,-286.5 190,-286.5 190,-242.5 190,-242.5 190,-236.5 196,-230.5 202,-230.5 202,-230.5 277,-230.5 277,-230.5 283,-230.5 289,-236.5 289,-242.5 289,-242.5 289,-286.5 289,-286.5 289,-292.5 283,-298.5 277,-298.5\"/>\n<text text-anchor=\"middle\" x=\"239.5\" y=\"-283.3\" font-family=\"Helvetica,sans-Serif\" font-size=\"14.00\" fill=\"#000000\">gini = 0.0</text>\n<text text-anchor=\"middle\" x=\"239.5\" y=\"-268.3\" font-family=\"Helvetica,sans-Serif\" font-size=\"14.00\" fill=\"#000000\">samples = 2</text>\n<text text-anchor=\"middle\" x=\"239.5\" y=\"-253.3\" font-family=\"Helvetica,sans-Serif\" font-size=\"14.00\" fill=\"#000000\">value = [2, 0]</text>\n<text text-anchor=\"middle\" x=\"239.5\" y=\"-238.3\" font-family=\"Helvetica,sans-Serif\" font-size=\"14.00\" fill=\"#000000\">class = No</text>\n</g>\n<!-- 4&#45;&gt;10 -->\n<g id=\"edge10\" class=\"edge\">\n<title>4&#45;&gt;10</title>\n<path fill=\"none\" stroke=\"#000000\" d=\"M237.5493,-341.8796C237.8182,-331.2134 238.1084,-319.7021 238.3806,-308.9015\"/>\n<polygon fill=\"#000000\" stroke=\"#000000\" points=\"241.8817,-308.9 238.6349,-298.8149 234.8839,-308.7235 241.8817,-308.9\"/>\n</g>\n<!-- 6 -->\n<g id=\"node7\" class=\"node\">\n<title>6</title>\n<path fill=\"#399de5\" stroke=\"#000000\" d=\"M95,-179.5C95,-179.5 12,-179.5 12,-179.5 6,-179.5 0,-173.5 0,-167.5 0,-167.5 0,-123.5 0,-123.5 0,-117.5 6,-111.5 12,-111.5 12,-111.5 95,-111.5 95,-111.5 101,-111.5 107,-117.5 107,-123.5 107,-123.5 107,-167.5 107,-167.5 107,-173.5 101,-179.5 95,-179.5\"/>\n<text text-anchor=\"middle\" x=\"53.5\" y=\"-164.3\" font-family=\"Helvetica,sans-Serif\" font-size=\"14.00\" fill=\"#000000\">gini = 0.0</text>\n<text text-anchor=\"middle\" x=\"53.5\" y=\"-149.3\" font-family=\"Helvetica,sans-Serif\" font-size=\"14.00\" fill=\"#000000\">samples = 41</text>\n<text text-anchor=\"middle\" x=\"53.5\" y=\"-134.3\" font-family=\"Helvetica,sans-Serif\" font-size=\"14.00\" fill=\"#000000\">value = [0, 41]</text>\n<text text-anchor=\"middle\" x=\"53.5\" y=\"-119.3\" font-family=\"Helvetica,sans-Serif\" font-size=\"14.00\" fill=\"#000000\">class = Yes</text>\n</g>\n<!-- 5&#45;&gt;6 -->\n<g id=\"edge6\" class=\"edge\">\n<title>5&#45;&gt;6</title>\n<path fill=\"none\" stroke=\"#000000\" d=\"M92.5149,-222.8796C86.9707,-211.8835 80.9736,-199.9893 75.3831,-188.9015\"/>\n<polygon fill=\"#000000\" stroke=\"#000000\" points=\"78.4291,-187.1684 70.8016,-179.8149 72.1786,-190.3199 78.4291,-187.1684\"/>\n</g>\n<!-- 7 -->\n<g id=\"node8\" class=\"node\">\n<title>7</title>\n<path fill=\"#9ccef2\" stroke=\"#000000\" d=\"M212,-187C212,-187 137,-187 137,-187 131,-187 125,-181 125,-175 125,-175 125,-116 125,-116 125,-110 131,-104 137,-104 137,-104 212,-104 212,-104 218,-104 224,-110 224,-116 224,-116 224,-175 224,-175 224,-181 218,-187 212,-187\"/>\n<text text-anchor=\"middle\" x=\"174.5\" y=\"-171.8\" font-family=\"Helvetica,sans-Serif\" font-size=\"14.00\" fill=\"#000000\">Age &lt;= 26.5</text>\n<text text-anchor=\"middle\" x=\"174.5\" y=\"-156.8\" font-family=\"Helvetica,sans-Serif\" font-size=\"14.00\" fill=\"#000000\">gini = 0.444</text>\n<text text-anchor=\"middle\" x=\"174.5\" y=\"-141.8\" font-family=\"Helvetica,sans-Serif\" font-size=\"14.00\" fill=\"#000000\">samples = 3</text>\n<text text-anchor=\"middle\" x=\"174.5\" y=\"-126.8\" font-family=\"Helvetica,sans-Serif\" font-size=\"14.00\" fill=\"#000000\">value = [1, 2]</text>\n<text text-anchor=\"middle\" x=\"174.5\" y=\"-111.8\" font-family=\"Helvetica,sans-Serif\" font-size=\"14.00\" fill=\"#000000\">class = Yes</text>\n</g>\n<!-- 5&#45;&gt;7 -->\n<g id=\"edge7\" class=\"edge\">\n<title>5&#45;&gt;7</title>\n<path fill=\"none\" stroke=\"#000000\" d=\"M134.8348,-222.8796C139.2207,-214.3236 143.8853,-205.2238 148.417,-196.3833\"/>\n<polygon fill=\"#000000\" stroke=\"#000000\" points=\"151.627,-197.7936 153.0741,-187.2981 145.3978,-194.6004 151.627,-197.7936\"/>\n</g>\n<!-- 8 -->\n<g id=\"node9\" class=\"node\">\n<title>8</title>\n<path fill=\"#399de5\" stroke=\"#000000\" d=\"M154,-68C154,-68 79,-68 79,-68 73,-68 67,-62 67,-56 67,-56 67,-12 67,-12 67,-6 73,0 79,0 79,0 154,0 154,0 160,0 166,-6 166,-12 166,-12 166,-56 166,-56 166,-62 160,-68 154,-68\"/>\n<text text-anchor=\"middle\" x=\"116.5\" y=\"-52.8\" font-family=\"Helvetica,sans-Serif\" font-size=\"14.00\" fill=\"#000000\">gini = 0.0</text>\n<text text-anchor=\"middle\" x=\"116.5\" y=\"-37.8\" font-family=\"Helvetica,sans-Serif\" font-size=\"14.00\" fill=\"#000000\">samples = 2</text>\n<text text-anchor=\"middle\" x=\"116.5\" y=\"-22.8\" font-family=\"Helvetica,sans-Serif\" font-size=\"14.00\" fill=\"#000000\">value = [0, 2]</text>\n<text text-anchor=\"middle\" x=\"116.5\" y=\"-7.8\" font-family=\"Helvetica,sans-Serif\" font-size=\"14.00\" fill=\"#000000\">class = Yes</text>\n</g>\n<!-- 7&#45;&gt;8 -->\n<g id=\"edge8\" class=\"edge\">\n<title>7&#45;&gt;8</title>\n<path fill=\"none\" stroke=\"#000000\" d=\"M152.9029,-103.9815C148.3612,-95.2504 143.5598,-86.0202 138.9863,-77.2281\"/>\n<polygon fill=\"#000000\" stroke=\"#000000\" points=\"142.0431,-75.52 134.3233,-68.2637 135.8331,-78.7504 142.0431,-75.52\"/>\n</g>\n<!-- 9 -->\n<g id=\"node10\" class=\"node\">\n<title>9</title>\n<path fill=\"#e58139\" stroke=\"#000000\" d=\"M271,-68C271,-68 196,-68 196,-68 190,-68 184,-62 184,-56 184,-56 184,-12 184,-12 184,-6 190,0 196,0 196,0 271,0 271,0 277,0 283,-6 283,-12 283,-12 283,-56 283,-56 283,-62 277,-68 271,-68\"/>\n<text text-anchor=\"middle\" x=\"233.5\" y=\"-52.8\" font-family=\"Helvetica,sans-Serif\" font-size=\"14.00\" fill=\"#000000\">gini = 0.0</text>\n<text text-anchor=\"middle\" x=\"233.5\" y=\"-37.8\" font-family=\"Helvetica,sans-Serif\" font-size=\"14.00\" fill=\"#000000\">samples = 1</text>\n<text text-anchor=\"middle\" x=\"233.5\" y=\"-22.8\" font-family=\"Helvetica,sans-Serif\" font-size=\"14.00\" fill=\"#000000\">value = [1, 0]</text>\n<text text-anchor=\"middle\" x=\"233.5\" y=\"-7.8\" font-family=\"Helvetica,sans-Serif\" font-size=\"14.00\" fill=\"#000000\">class = No</text>\n</g>\n<!-- 7&#45;&gt;9 -->\n<g id=\"edge9\" class=\"edge\">\n<title>7&#45;&gt;9</title>\n<path fill=\"none\" stroke=\"#000000\" d=\"M196.4694,-103.9815C201.0895,-95.2504 205.9736,-86.0202 210.626,-77.2281\"/>\n<polygon fill=\"#000000\" stroke=\"#000000\" points=\"213.7859,-78.7395 215.3694,-68.2637 207.5987,-75.4655 213.7859,-78.7395\"/>\n</g>\n<!-- 12 -->\n<g id=\"node13\" class=\"node\">\n<title>12</title>\n<path fill=\"#f2c09c\" stroke=\"#000000\" d=\"M424.5,-425C424.5,-425 338.5,-425 338.5,-425 332.5,-425 326.5,-419 326.5,-413 326.5,-413 326.5,-354 326.5,-354 326.5,-348 332.5,-342 338.5,-342 338.5,-342 424.5,-342 424.5,-342 430.5,-342 436.5,-348 436.5,-354 436.5,-354 436.5,-413 436.5,-413 436.5,-419 430.5,-425 424.5,-425\"/>\n<text text-anchor=\"middle\" x=\"381.5\" y=\"-409.8\" font-family=\"Helvetica,sans-Serif\" font-size=\"14.00\" fill=\"#000000\">Gender &lt;= 2.0</text>\n<text text-anchor=\"middle\" x=\"381.5\" y=\"-394.8\" font-family=\"Helvetica,sans-Serif\" font-size=\"14.00\" fill=\"#000000\">gini = 0.444</text>\n<text text-anchor=\"middle\" x=\"381.5\" y=\"-379.8\" font-family=\"Helvetica,sans-Serif\" font-size=\"14.00\" fill=\"#000000\">samples = 3</text>\n<text text-anchor=\"middle\" x=\"381.5\" y=\"-364.8\" font-family=\"Helvetica,sans-Serif\" font-size=\"14.00\" fill=\"#000000\">value = [2, 1]</text>\n<text text-anchor=\"middle\" x=\"381.5\" y=\"-349.8\" font-family=\"Helvetica,sans-Serif\" font-size=\"14.00\" fill=\"#000000\">class = No</text>\n</g>\n<!-- 11&#45;&gt;12 -->\n<g id=\"edge12\" class=\"edge\">\n<title>11&#45;&gt;12</title>\n<path fill=\"none\" stroke=\"#000000\" d=\"M384.7512,-460.8796C384.4069,-452.6838 384.0416,-443.9891 383.6849,-435.5013\"/>\n<polygon fill=\"#000000\" stroke=\"#000000\" points=\"387.173,-435.1423 383.2562,-425.2981 380.1792,-435.4362 387.173,-435.1423\"/>\n</g>\n<!-- 15 -->\n<g id=\"node16\" class=\"node\">\n<title>15</title>\n<path fill=\"#e58139\" stroke=\"#000000\" d=\"M550,-417.5C550,-417.5 467,-417.5 467,-417.5 461,-417.5 455,-411.5 455,-405.5 455,-405.5 455,-361.5 455,-361.5 455,-355.5 461,-349.5 467,-349.5 467,-349.5 550,-349.5 550,-349.5 556,-349.5 562,-355.5 562,-361.5 562,-361.5 562,-405.5 562,-405.5 562,-411.5 556,-417.5 550,-417.5\"/>\n<text text-anchor=\"middle\" x=\"508.5\" y=\"-402.3\" font-family=\"Helvetica,sans-Serif\" font-size=\"14.00\" fill=\"#000000\">gini = 0.0</text>\n<text text-anchor=\"middle\" x=\"508.5\" y=\"-387.3\" font-family=\"Helvetica,sans-Serif\" font-size=\"14.00\" fill=\"#000000\">samples = 95</text>\n<text text-anchor=\"middle\" x=\"508.5\" y=\"-372.3\" font-family=\"Helvetica,sans-Serif\" font-size=\"14.00\" fill=\"#000000\">value = [95, 0]</text>\n<text text-anchor=\"middle\" x=\"508.5\" y=\"-357.3\" font-family=\"Helvetica,sans-Serif\" font-size=\"14.00\" fill=\"#000000\">class = No</text>\n</g>\n<!-- 11&#45;&gt;15 -->\n<g id=\"edge15\" class=\"edge\">\n<title>11&#45;&gt;15</title>\n<path fill=\"none\" stroke=\"#000000\" d=\"M429.1697,-460.8796C441.1194,-449.2237 454.1037,-436.5587 466.0411,-424.9148\"/>\n<polygon fill=\"#000000\" stroke=\"#000000\" points=\"468.6053,-427.303 473.32,-417.8149 463.7175,-422.292 468.6053,-427.303\"/>\n</g>\n<!-- 13 -->\n<g id=\"node14\" class=\"node\">\n<title>13</title>\n<path fill=\"#e58139\" stroke=\"#000000\" d=\"M416,-298.5C416,-298.5 341,-298.5 341,-298.5 335,-298.5 329,-292.5 329,-286.5 329,-286.5 329,-242.5 329,-242.5 329,-236.5 335,-230.5 341,-230.5 341,-230.5 416,-230.5 416,-230.5 422,-230.5 428,-236.5 428,-242.5 428,-242.5 428,-286.5 428,-286.5 428,-292.5 422,-298.5 416,-298.5\"/>\n<text text-anchor=\"middle\" x=\"378.5\" y=\"-283.3\" font-family=\"Helvetica,sans-Serif\" font-size=\"14.00\" fill=\"#000000\">gini = 0.0</text>\n<text text-anchor=\"middle\" x=\"378.5\" y=\"-268.3\" font-family=\"Helvetica,sans-Serif\" font-size=\"14.00\" fill=\"#000000\">samples = 2</text>\n<text text-anchor=\"middle\" x=\"378.5\" y=\"-253.3\" font-family=\"Helvetica,sans-Serif\" font-size=\"14.00\" fill=\"#000000\">value = [2, 0]</text>\n<text text-anchor=\"middle\" x=\"378.5\" y=\"-238.3\" font-family=\"Helvetica,sans-Serif\" font-size=\"14.00\" fill=\"#000000\">class = No</text>\n</g>\n<!-- 12&#45;&gt;13 -->\n<g id=\"edge13\" class=\"edge\">\n<title>12&#45;&gt;13</title>\n<path fill=\"none\" stroke=\"#000000\" d=\"M380.4507,-341.8796C380.1818,-331.2134 379.8916,-319.7021 379.6194,-308.9015\"/>\n<polygon fill=\"#000000\" stroke=\"#000000\" points=\"383.1161,-308.7235 379.3651,-298.8149 376.1183,-308.9 383.1161,-308.7235\"/>\n</g>\n<!-- 14 -->\n<g id=\"node15\" class=\"node\">\n<title>14</title>\n<path fill=\"#399de5\" stroke=\"#000000\" d=\"M533,-298.5C533,-298.5 458,-298.5 458,-298.5 452,-298.5 446,-292.5 446,-286.5 446,-286.5 446,-242.5 446,-242.5 446,-236.5 452,-230.5 458,-230.5 458,-230.5 533,-230.5 533,-230.5 539,-230.5 545,-236.5 545,-242.5 545,-242.5 545,-286.5 545,-286.5 545,-292.5 539,-298.5 533,-298.5\"/>\n<text text-anchor=\"middle\" x=\"495.5\" y=\"-283.3\" font-family=\"Helvetica,sans-Serif\" font-size=\"14.00\" fill=\"#000000\">gini = 0.0</text>\n<text text-anchor=\"middle\" x=\"495.5\" y=\"-268.3\" font-family=\"Helvetica,sans-Serif\" font-size=\"14.00\" fill=\"#000000\">samples = 1</text>\n<text text-anchor=\"middle\" x=\"495.5\" y=\"-253.3\" font-family=\"Helvetica,sans-Serif\" font-size=\"14.00\" fill=\"#000000\">value = [0, 1]</text>\n<text text-anchor=\"middle\" x=\"495.5\" y=\"-238.3\" font-family=\"Helvetica,sans-Serif\" font-size=\"14.00\" fill=\"#000000\">class = Yes</text>\n</g>\n<!-- 12&#45;&gt;14 -->\n<g id=\"edge14\" class=\"edge\">\n<title>12&#45;&gt;14</title>\n<path fill=\"none\" stroke=\"#000000\" d=\"M421.3717,-341.8796C432.4324,-330.3337 444.4418,-317.7976 455.5094,-306.2446\"/>\n<polygon fill=\"#000000\" stroke=\"#000000\" points=\"458.2365,-308.4573 462.6269,-298.8149 453.1817,-303.6149 458.2365,-308.4573\"/>\n</g>\n<!-- 17 -->\n<g id=\"node18\" class=\"node\">\n<title>17</title>\n<path fill=\"#399de5\" stroke=\"#000000\" d=\"M568.5,-536.5C568.5,-536.5 476.5,-536.5 476.5,-536.5 470.5,-536.5 464.5,-530.5 464.5,-524.5 464.5,-524.5 464.5,-480.5 464.5,-480.5 464.5,-474.5 470.5,-468.5 476.5,-468.5 476.5,-468.5 568.5,-468.5 568.5,-468.5 574.5,-468.5 580.5,-474.5 580.5,-480.5 580.5,-480.5 580.5,-524.5 580.5,-524.5 580.5,-530.5 574.5,-536.5 568.5,-536.5\"/>\n<text text-anchor=\"middle\" x=\"522.5\" y=\"-521.3\" font-family=\"Helvetica,sans-Serif\" font-size=\"14.00\" fill=\"#000000\">gini = 0.0</text>\n<text text-anchor=\"middle\" x=\"522.5\" y=\"-506.3\" font-family=\"Helvetica,sans-Serif\" font-size=\"14.00\" fill=\"#000000\">samples = 158</text>\n<text text-anchor=\"middle\" x=\"522.5\" y=\"-491.3\" font-family=\"Helvetica,sans-Serif\" font-size=\"14.00\" fill=\"#000000\">value = [0, 158]</text>\n<text text-anchor=\"middle\" x=\"522.5\" y=\"-476.3\" font-family=\"Helvetica,sans-Serif\" font-size=\"14.00\" fill=\"#000000\">class = Yes</text>\n</g>\n<!-- 16&#45;&gt;17 -->\n<g id=\"edge17\" class=\"edge\">\n<title>16&#45;&gt;17</title>\n<path fill=\"none\" stroke=\"#000000\" d=\"M524.4507,-579.8796C524.1818,-569.2134 523.8916,-557.7021 523.6194,-546.9015\"/>\n<polygon fill=\"#000000\" stroke=\"#000000\" points=\"527.1161,-546.7235 523.3651,-536.8149 520.1183,-546.9 527.1161,-546.7235\"/>\n</g>\n<!-- 18 -->\n<g id=\"node19\" class=\"node\">\n<title>18</title>\n<path fill=\"#f6fbfe\" stroke=\"#000000\" d=\"M774,-544C774,-544 611,-544 611,-544 605,-544 599,-538 599,-532 599,-532 599,-473 599,-473 599,-467 605,-461 611,-461 611,-461 774,-461 774,-461 780,-461 786,-467 786,-473 786,-473 786,-532 786,-532 786,-538 780,-544 774,-544\"/>\n<text text-anchor=\"middle\" x=\"692.5\" y=\"-528.8\" font-family=\"Helvetica,sans-Serif\" font-size=\"14.00\" fill=\"#000000\">spent_last_week &lt;= 140.5</text>\n<text text-anchor=\"middle\" x=\"692.5\" y=\"-513.8\" font-family=\"Helvetica,sans-Serif\" font-size=\"14.00\" fill=\"#000000\">gini = 0.5</text>\n<text text-anchor=\"middle\" x=\"692.5\" y=\"-498.8\" font-family=\"Helvetica,sans-Serif\" font-size=\"14.00\" fill=\"#000000\">samples = 45</text>\n<text text-anchor=\"middle\" x=\"692.5\" y=\"-483.8\" font-family=\"Helvetica,sans-Serif\" font-size=\"14.00\" fill=\"#000000\">value = [22, 23]</text>\n<text text-anchor=\"middle\" x=\"692.5\" y=\"-468.8\" font-family=\"Helvetica,sans-Serif\" font-size=\"14.00\" fill=\"#000000\">class = Yes</text>\n</g>\n<!-- 16&#45;&gt;18 -->\n<g id=\"edge18\" class=\"edge\">\n<title>16&#45;&gt;18</title>\n<path fill=\"none\" stroke=\"#000000\" d=\"M583.9085,-579.8796C597.3839,-570.2774 611.8203,-559.9903 625.625,-550.1534\"/>\n<polygon fill=\"#000000\" stroke=\"#000000\" points=\"628.0117,-552.7505 634.1245,-544.0969 623.9494,-547.0497 628.0117,-552.7505\"/>\n</g>\n<!-- 19 -->\n<g id=\"node20\" class=\"node\">\n<title>19</title>\n<path fill=\"#e58139\" stroke=\"#000000\" d=\"M705,-417.5C705,-417.5 622,-417.5 622,-417.5 616,-417.5 610,-411.5 610,-405.5 610,-405.5 610,-361.5 610,-361.5 610,-355.5 616,-349.5 622,-349.5 622,-349.5 705,-349.5 705,-349.5 711,-349.5 717,-355.5 717,-361.5 717,-361.5 717,-405.5 717,-405.5 717,-411.5 711,-417.5 705,-417.5\"/>\n<text text-anchor=\"middle\" x=\"663.5\" y=\"-402.3\" font-family=\"Helvetica,sans-Serif\" font-size=\"14.00\" fill=\"#000000\">gini = 0.0</text>\n<text text-anchor=\"middle\" x=\"663.5\" y=\"-387.3\" font-family=\"Helvetica,sans-Serif\" font-size=\"14.00\" fill=\"#000000\">samples = 22</text>\n<text text-anchor=\"middle\" x=\"663.5\" y=\"-372.3\" font-family=\"Helvetica,sans-Serif\" font-size=\"14.00\" fill=\"#000000\">value = [22, 0]</text>\n<text text-anchor=\"middle\" x=\"663.5\" y=\"-357.3\" font-family=\"Helvetica,sans-Serif\" font-size=\"14.00\" fill=\"#000000\">class = No</text>\n</g>\n<!-- 18&#45;&gt;19 -->\n<g id=\"edge19\" class=\"edge\">\n<title>18&#45;&gt;19</title>\n<path fill=\"none\" stroke=\"#000000\" d=\"M682.3572,-460.8796C679.7311,-450.1034 676.8948,-438.4647 674.2392,-427.5677\"/>\n<polygon fill=\"#000000\" stroke=\"#000000\" points=\"677.6307,-426.7019 671.8625,-417.8149 670.8297,-428.3593 677.6307,-426.7019\"/>\n</g>\n<!-- 20 -->\n<g id=\"node21\" class=\"node\">\n<title>20</title>\n<path fill=\"#399de5\" stroke=\"#000000\" d=\"M830,-417.5C830,-417.5 747,-417.5 747,-417.5 741,-417.5 735,-411.5 735,-405.5 735,-405.5 735,-361.5 735,-361.5 735,-355.5 741,-349.5 747,-349.5 747,-349.5 830,-349.5 830,-349.5 836,-349.5 842,-355.5 842,-361.5 842,-361.5 842,-405.5 842,-405.5 842,-411.5 836,-417.5 830,-417.5\"/>\n<text text-anchor=\"middle\" x=\"788.5\" y=\"-402.3\" font-family=\"Helvetica,sans-Serif\" font-size=\"14.00\" fill=\"#000000\">gini = 0.0</text>\n<text text-anchor=\"middle\" x=\"788.5\" y=\"-387.3\" font-family=\"Helvetica,sans-Serif\" font-size=\"14.00\" fill=\"#000000\">samples = 23</text>\n<text text-anchor=\"middle\" x=\"788.5\" y=\"-372.3\" font-family=\"Helvetica,sans-Serif\" font-size=\"14.00\" fill=\"#000000\">value = [0, 23]</text>\n<text text-anchor=\"middle\" x=\"788.5\" y=\"-357.3\" font-family=\"Helvetica,sans-Serif\" font-size=\"14.00\" fill=\"#000000\">class = Yes</text>\n</g>\n<!-- 18&#45;&gt;20 -->\n<g id=\"edge20\" class=\"edge\">\n<title>18&#45;&gt;20</title>\n<path fill=\"none\" stroke=\"#000000\" d=\"M726.0761,-460.8796C735.2131,-449.5536 745.1187,-437.2748 754.2902,-425.9058\"/>\n<polygon fill=\"#000000\" stroke=\"#000000\" points=\"757.2626,-427.7957 760.8174,-417.8149 751.8144,-423.4005 757.2626,-427.7957\"/>\n</g>\n</g>\n</svg>\n"
          },
          "metadata": {
            "tags": []
          },
          "execution_count": 37
        }
      ]
    },
    {
      "cell_type": "code",
      "metadata": {
        "colab": {
          "base_uri": "https://localhost:8080/",
          "height": 1000
        },
        "id": "YipMVSewy7G1",
        "outputId": "05e4a1b9-349f-436f-9366-e3c73ae0c5fc"
      },
      "source": [
        "# Alternatively for class_names use gini_model.classes_\r\n",
        "feature_names = NoPrediction.columns\r\n",
        "class_names = str(entr_model.classes_)\r\n",
        "dot_data = export_graphviz(gini_model, out_file=None, filled=True, rounded=True, \r\n",
        "                           feature_names=feature_names, class_names=class_names)\r\n",
        "\r\n",
        "graph = graphviz.Source(dot_data)  \r\n",
        "graph  "
      ],
      "execution_count": 38,
      "outputs": [
        {
          "output_type": "execute_result",
          "data": {
            "text/plain": [
              "<graphviz.files.Source at 0x7fd8cb8d6eb8>"
            ],
            "image/svg+xml": "<?xml version=\"1.0\" encoding=\"UTF-8\" standalone=\"no\"?>\n<!DOCTYPE svg PUBLIC \"-//W3C//DTD SVG 1.1//EN\"\n \"http://www.w3.org/Graphics/SVG/1.1/DTD/svg11.dtd\">\n<!-- Generated by graphviz version 2.40.1 (20161225.0304)\n -->\n<!-- Title: Tree Pages: 1 -->\n<svg width=\"850pt\" height=\"790pt\"\n viewBox=\"0.00 0.00 850.00 790.00\" xmlns=\"http://www.w3.org/2000/svg\" xmlns:xlink=\"http://www.w3.org/1999/xlink\">\n<g id=\"graph0\" class=\"graph\" transform=\"scale(1 1) rotate(0) translate(4 786)\">\n<title>Tree</title>\n<polygon fill=\"#ffffff\" stroke=\"transparent\" points=\"-4,4 -4,-786 846,-786 846,4 -4,4\"/>\n<!-- 0 -->\n<g id=\"node1\" class=\"node\">\n<title>0</title>\n<path fill=\"#abd6f4\" stroke=\"#000000\" d=\"M536,-782C536,-782 373,-782 373,-782 367,-782 361,-776 361,-770 361,-770 361,-711 361,-711 361,-705 367,-699 373,-699 373,-699 536,-699 536,-699 542,-699 548,-705 548,-711 548,-711 548,-770 548,-770 548,-776 542,-782 536,-782\"/>\n<text text-anchor=\"middle\" x=\"454.5\" y=\"-766.8\" font-family=\"Helvetica,sans-Serif\" font-size=\"14.00\" fill=\"#000000\">spent_last_week &lt;= 100.5</text>\n<text text-anchor=\"middle\" x=\"454.5\" y=\"-751.8\" font-family=\"Helvetica,sans-Serif\" font-size=\"14.00\" fill=\"#000000\">gini = 0.464</text>\n<text text-anchor=\"middle\" x=\"454.5\" y=\"-736.8\" font-family=\"Helvetica,sans-Serif\" font-size=\"14.00\" fill=\"#000000\">samples = 355</text>\n<text text-anchor=\"middle\" x=\"454.5\" y=\"-721.8\" font-family=\"Helvetica,sans-Serif\" font-size=\"14.00\" fill=\"#000000\">value = [130, 225]</text>\n<text text-anchor=\"middle\" x=\"454.5\" y=\"-706.8\" font-family=\"Helvetica,sans-Serif\" font-size=\"14.00\" fill=\"#000000\">class = 0</text>\n</g>\n<!-- 1 -->\n<g id=\"node2\" class=\"node\">\n<title>1</title>\n<path fill=\"#f0b48a\" stroke=\"#000000\" d=\"M433.5,-663C433.5,-663 333.5,-663 333.5,-663 327.5,-663 321.5,-657 321.5,-651 321.5,-651 321.5,-592 321.5,-592 321.5,-586 327.5,-580 333.5,-580 333.5,-580 433.5,-580 433.5,-580 439.5,-580 445.5,-586 445.5,-592 445.5,-592 445.5,-651 445.5,-651 445.5,-657 439.5,-663 433.5,-663\"/>\n<text text-anchor=\"middle\" x=\"383.5\" y=\"-647.8\" font-family=\"Helvetica,sans-Serif\" font-size=\"14.00\" fill=\"#000000\">salary &lt;= 3.754</text>\n<text text-anchor=\"middle\" x=\"383.5\" y=\"-632.8\" font-family=\"Helvetica,sans-Serif\" font-size=\"14.00\" fill=\"#000000\">gini = 0.411</text>\n<text text-anchor=\"middle\" x=\"383.5\" y=\"-617.8\" font-family=\"Helvetica,sans-Serif\" font-size=\"14.00\" fill=\"#000000\">samples = 152</text>\n<text text-anchor=\"middle\" x=\"383.5\" y=\"-602.8\" font-family=\"Helvetica,sans-Serif\" font-size=\"14.00\" fill=\"#000000\">value = [108, 44]</text>\n<text text-anchor=\"middle\" x=\"383.5\" y=\"-587.8\" font-family=\"Helvetica,sans-Serif\" font-size=\"14.00\" fill=\"#000000\">class = [</text>\n</g>\n<!-- 0&#45;&gt;1 -->\n<g id=\"edge1\" class=\"edge\">\n<title>0&#45;&gt;1</title>\n<path fill=\"none\" stroke=\"#000000\" d=\"M429.6676,-698.8796C424.5091,-690.2335 419.0192,-681.0322 413.6924,-672.1042\"/>\n<polygon fill=\"#000000\" stroke=\"#000000\" points=\"416.5678,-670.0924 408.4383,-663.2981 410.5564,-673.679 416.5678,-670.0924\"/>\n<text text-anchor=\"middle\" x=\"402.3149\" y=\"-683.8366\" font-family=\"Helvetica,sans-Serif\" font-size=\"14.00\" fill=\"#000000\">True</text>\n</g>\n<!-- 16 -->\n<g id=\"node17\" class=\"node\">\n<title>16</title>\n<path fill=\"#51a9e8\" stroke=\"#000000\" d=\"M575.5,-663C575.5,-663 475.5,-663 475.5,-663 469.5,-663 463.5,-657 463.5,-651 463.5,-651 463.5,-592 463.5,-592 463.5,-586 469.5,-580 475.5,-580 475.5,-580 575.5,-580 575.5,-580 581.5,-580 587.5,-586 587.5,-592 587.5,-592 587.5,-651 587.5,-651 587.5,-657 581.5,-663 575.5,-663\"/>\n<text text-anchor=\"middle\" x=\"525.5\" y=\"-647.8\" font-family=\"Helvetica,sans-Serif\" font-size=\"14.00\" fill=\"#000000\">salary &lt;= 8.047</text>\n<text text-anchor=\"middle\" x=\"525.5\" y=\"-632.8\" font-family=\"Helvetica,sans-Serif\" font-size=\"14.00\" fill=\"#000000\">gini = 0.193</text>\n<text text-anchor=\"middle\" x=\"525.5\" y=\"-617.8\" font-family=\"Helvetica,sans-Serif\" font-size=\"14.00\" fill=\"#000000\">samples = 203</text>\n<text text-anchor=\"middle\" x=\"525.5\" y=\"-602.8\" font-family=\"Helvetica,sans-Serif\" font-size=\"14.00\" fill=\"#000000\">value = [22, 181]</text>\n<text text-anchor=\"middle\" x=\"525.5\" y=\"-587.8\" font-family=\"Helvetica,sans-Serif\" font-size=\"14.00\" fill=\"#000000\">class = 0</text>\n</g>\n<!-- 0&#45;&gt;16 -->\n<g id=\"edge16\" class=\"edge\">\n<title>0&#45;&gt;16</title>\n<path fill=\"none\" stroke=\"#000000\" d=\"M479.3324,-698.8796C484.4909,-690.2335 489.9808,-681.0322 495.3076,-672.1042\"/>\n<polygon fill=\"#000000\" stroke=\"#000000\" points=\"498.4436,-673.679 500.5617,-663.2981 492.4322,-670.0924 498.4436,-673.679\"/>\n<text text-anchor=\"middle\" x=\"506.6851\" y=\"-683.8366\" font-family=\"Helvetica,sans-Serif\" font-size=\"14.00\" fill=\"#000000\">False</text>\n</g>\n<!-- 2 -->\n<g id=\"node3\" class=\"node\">\n<title>2</title>\n<path fill=\"#6cb6ec\" stroke=\"#000000\" d=\"M303,-544C303,-544 148,-544 148,-544 142,-544 136,-538 136,-532 136,-532 136,-473 136,-473 136,-467 142,-461 148,-461 148,-461 303,-461 303,-461 309,-461 315,-467 315,-473 315,-473 315,-532 315,-532 315,-538 309,-544 303,-544\"/>\n<text text-anchor=\"middle\" x=\"225.5\" y=\"-528.8\" font-family=\"Helvetica,sans-Serif\" font-size=\"14.00\" fill=\"#000000\">spent_last_week &lt;= 24.5</text>\n<text text-anchor=\"middle\" x=\"225.5\" y=\"-513.8\" font-family=\"Helvetica,sans-Serif\" font-size=\"14.00\" fill=\"#000000\">gini = 0.324</text>\n<text text-anchor=\"middle\" x=\"225.5\" y=\"-498.8\" font-family=\"Helvetica,sans-Serif\" font-size=\"14.00\" fill=\"#000000\">samples = 54</text>\n<text text-anchor=\"middle\" x=\"225.5\" y=\"-483.8\" font-family=\"Helvetica,sans-Serif\" font-size=\"14.00\" fill=\"#000000\">value = [11, 43]</text>\n<text text-anchor=\"middle\" x=\"225.5\" y=\"-468.8\" font-family=\"Helvetica,sans-Serif\" font-size=\"14.00\" fill=\"#000000\">class = 0</text>\n</g>\n<!-- 1&#45;&gt;2 -->\n<g id=\"edge2\" class=\"edge\">\n<title>1&#45;&gt;2</title>\n<path fill=\"none\" stroke=\"#000000\" d=\"M328.2393,-579.8796C315.4901,-570.2774 301.8317,-559.9903 288.7709,-550.1534\"/>\n<polygon fill=\"#000000\" stroke=\"#000000\" points=\"290.8231,-547.3174 280.7295,-544.0969 286.6117,-552.9089 290.8231,-547.3174\"/>\n</g>\n<!-- 11 -->\n<g id=\"node12\" class=\"node\">\n<title>11</title>\n<path fill=\"#e5823b\" stroke=\"#000000\" d=\"M428,-544C428,-544 345,-544 345,-544 339,-544 333,-538 333,-532 333,-532 333,-473 333,-473 333,-467 339,-461 345,-461 345,-461 428,-461 428,-461 434,-461 440,-467 440,-473 440,-473 440,-532 440,-532 440,-538 434,-544 428,-544\"/>\n<text text-anchor=\"middle\" x=\"386.5\" y=\"-528.8\" font-family=\"Helvetica,sans-Serif\" font-size=\"14.00\" fill=\"#000000\">salary &lt;= 4.0</text>\n<text text-anchor=\"middle\" x=\"386.5\" y=\"-513.8\" font-family=\"Helvetica,sans-Serif\" font-size=\"14.00\" fill=\"#000000\">gini = 0.02</text>\n<text text-anchor=\"middle\" x=\"386.5\" y=\"-498.8\" font-family=\"Helvetica,sans-Serif\" font-size=\"14.00\" fill=\"#000000\">samples = 98</text>\n<text text-anchor=\"middle\" x=\"386.5\" y=\"-483.8\" font-family=\"Helvetica,sans-Serif\" font-size=\"14.00\" fill=\"#000000\">value = [97, 1]</text>\n<text text-anchor=\"middle\" x=\"386.5\" y=\"-468.8\" font-family=\"Helvetica,sans-Serif\" font-size=\"14.00\" fill=\"#000000\">class = [</text>\n</g>\n<!-- 1&#45;&gt;11 -->\n<g id=\"edge11\" class=\"edge\">\n<title>1&#45;&gt;11</title>\n<path fill=\"none\" stroke=\"#000000\" d=\"M384.5493,-579.8796C384.7559,-571.6838 384.9751,-562.9891 385.189,-554.5013\"/>\n<polygon fill=\"#000000\" stroke=\"#000000\" points=\"388.693,-554.3831 385.4463,-544.2981 381.6953,-554.2067 388.693,-554.3831\"/>\n</g>\n<!-- 3 -->\n<g id=\"node4\" class=\"node\">\n<title>3</title>\n<path fill=\"#e58139\" stroke=\"#000000\" d=\"M153,-417.5C153,-417.5 78,-417.5 78,-417.5 72,-417.5 66,-411.5 66,-405.5 66,-405.5 66,-361.5 66,-361.5 66,-355.5 72,-349.5 78,-349.5 78,-349.5 153,-349.5 153,-349.5 159,-349.5 165,-355.5 165,-361.5 165,-361.5 165,-405.5 165,-405.5 165,-411.5 159,-417.5 153,-417.5\"/>\n<text text-anchor=\"middle\" x=\"115.5\" y=\"-402.3\" font-family=\"Helvetica,sans-Serif\" font-size=\"14.00\" fill=\"#000000\">gini = 0.0</text>\n<text text-anchor=\"middle\" x=\"115.5\" y=\"-387.3\" font-family=\"Helvetica,sans-Serif\" font-size=\"14.00\" fill=\"#000000\">samples = 8</text>\n<text text-anchor=\"middle\" x=\"115.5\" y=\"-372.3\" font-family=\"Helvetica,sans-Serif\" font-size=\"14.00\" fill=\"#000000\">value = [8, 0]</text>\n<text text-anchor=\"middle\" x=\"115.5\" y=\"-357.3\" font-family=\"Helvetica,sans-Serif\" font-size=\"14.00\" fill=\"#000000\">class = [</text>\n</g>\n<!-- 2&#45;&gt;3 -->\n<g id=\"edge3\" class=\"edge\">\n<title>2&#45;&gt;3</title>\n<path fill=\"none\" stroke=\"#000000\" d=\"M187.0273,-460.8796C176.3547,-449.3337 164.7667,-436.7976 154.0875,-425.2446\"/>\n<polygon fill=\"#000000\" stroke=\"#000000\" points=\"156.5778,-422.7825 147.2197,-417.8149 151.4375,-427.534 156.5778,-422.7825\"/>\n</g>\n<!-- 4 -->\n<g id=\"node5\" class=\"node\">\n<title>4</title>\n<path fill=\"#47a4e7\" stroke=\"#000000\" d=\"M278,-425C278,-425 195,-425 195,-425 189,-425 183,-419 183,-413 183,-413 183,-354 183,-354 183,-348 189,-342 195,-342 195,-342 278,-342 278,-342 284,-342 290,-348 290,-354 290,-354 290,-413 290,-413 290,-419 284,-425 278,-425\"/>\n<text text-anchor=\"middle\" x=\"236.5\" y=\"-409.8\" font-family=\"Helvetica,sans-Serif\" font-size=\"14.00\" fill=\"#000000\">Age &lt;= 57.5</text>\n<text text-anchor=\"middle\" x=\"236.5\" y=\"-394.8\" font-family=\"Helvetica,sans-Serif\" font-size=\"14.00\" fill=\"#000000\">gini = 0.122</text>\n<text text-anchor=\"middle\" x=\"236.5\" y=\"-379.8\" font-family=\"Helvetica,sans-Serif\" font-size=\"14.00\" fill=\"#000000\">samples = 46</text>\n<text text-anchor=\"middle\" x=\"236.5\" y=\"-364.8\" font-family=\"Helvetica,sans-Serif\" font-size=\"14.00\" fill=\"#000000\">value = [3, 43]</text>\n<text text-anchor=\"middle\" x=\"236.5\" y=\"-349.8\" font-family=\"Helvetica,sans-Serif\" font-size=\"14.00\" fill=\"#000000\">class = 0</text>\n</g>\n<!-- 2&#45;&gt;4 -->\n<g id=\"edge4\" class=\"edge\">\n<title>2&#45;&gt;4</title>\n<path fill=\"none\" stroke=\"#000000\" d=\"M229.3473,-460.8796C230.1049,-452.6838 230.9086,-443.9891 231.6932,-435.5013\"/>\n<polygon fill=\"#000000\" stroke=\"#000000\" points=\"235.2009,-435.5778 232.6363,-425.2981 228.2306,-434.9334 235.2009,-435.5778\"/>\n</g>\n<!-- 5 -->\n<g id=\"node6\" class=\"node\">\n<title>5</title>\n<path fill=\"#3e9fe6\" stroke=\"#000000\" d=\"M159.5,-306C159.5,-306 67.5,-306 67.5,-306 61.5,-306 55.5,-300 55.5,-294 55.5,-294 55.5,-235 55.5,-235 55.5,-229 61.5,-223 67.5,-223 67.5,-223 159.5,-223 159.5,-223 165.5,-223 171.5,-229 171.5,-235 171.5,-235 171.5,-294 171.5,-294 171.5,-300 165.5,-306 159.5,-306\"/>\n<text text-anchor=\"middle\" x=\"113.5\" y=\"-290.8\" font-family=\"Helvetica,sans-Serif\" font-size=\"14.00\" fill=\"#000000\">salary &lt;= 3.298</text>\n<text text-anchor=\"middle\" x=\"113.5\" y=\"-275.8\" font-family=\"Helvetica,sans-Serif\" font-size=\"14.00\" fill=\"#000000\">gini = 0.044</text>\n<text text-anchor=\"middle\" x=\"113.5\" y=\"-260.8\" font-family=\"Helvetica,sans-Serif\" font-size=\"14.00\" fill=\"#000000\">samples = 44</text>\n<text text-anchor=\"middle\" x=\"113.5\" y=\"-245.8\" font-family=\"Helvetica,sans-Serif\" font-size=\"14.00\" fill=\"#000000\">value = [1, 43]</text>\n<text text-anchor=\"middle\" x=\"113.5\" y=\"-230.8\" font-family=\"Helvetica,sans-Serif\" font-size=\"14.00\" fill=\"#000000\">class = 0</text>\n</g>\n<!-- 4&#45;&gt;5 -->\n<g id=\"edge5\" class=\"edge\">\n<title>4&#45;&gt;5</title>\n<path fill=\"none\" stroke=\"#000000\" d=\"M193.4806,-341.8796C183.9853,-332.6931 173.8422,-322.8798 164.0785,-313.4336\"/>\n<polygon fill=\"#000000\" stroke=\"#000000\" points=\"166.3237,-310.7359 156.703,-306.2981 161.4564,-315.7668 166.3237,-310.7359\"/>\n</g>\n<!-- 10 -->\n<g id=\"node11\" class=\"node\">\n<title>10</title>\n<path fill=\"#e58139\" stroke=\"#000000\" d=\"M277,-298.5C277,-298.5 202,-298.5 202,-298.5 196,-298.5 190,-292.5 190,-286.5 190,-286.5 190,-242.5 190,-242.5 190,-236.5 196,-230.5 202,-230.5 202,-230.5 277,-230.5 277,-230.5 283,-230.5 289,-236.5 289,-242.5 289,-242.5 289,-286.5 289,-286.5 289,-292.5 283,-298.5 277,-298.5\"/>\n<text text-anchor=\"middle\" x=\"239.5\" y=\"-283.3\" font-family=\"Helvetica,sans-Serif\" font-size=\"14.00\" fill=\"#000000\">gini = 0.0</text>\n<text text-anchor=\"middle\" x=\"239.5\" y=\"-268.3\" font-family=\"Helvetica,sans-Serif\" font-size=\"14.00\" fill=\"#000000\">samples = 2</text>\n<text text-anchor=\"middle\" x=\"239.5\" y=\"-253.3\" font-family=\"Helvetica,sans-Serif\" font-size=\"14.00\" fill=\"#000000\">value = [2, 0]</text>\n<text text-anchor=\"middle\" x=\"239.5\" y=\"-238.3\" font-family=\"Helvetica,sans-Serif\" font-size=\"14.00\" fill=\"#000000\">class = [</text>\n</g>\n<!-- 4&#45;&gt;10 -->\n<g id=\"edge10\" class=\"edge\">\n<title>4&#45;&gt;10</title>\n<path fill=\"none\" stroke=\"#000000\" d=\"M237.5493,-341.8796C237.8182,-331.2134 238.1084,-319.7021 238.3806,-308.9015\"/>\n<polygon fill=\"#000000\" stroke=\"#000000\" points=\"241.8817,-308.9 238.6349,-298.8149 234.8839,-308.7235 241.8817,-308.9\"/>\n</g>\n<!-- 6 -->\n<g id=\"node7\" class=\"node\">\n<title>6</title>\n<path fill=\"#399de5\" stroke=\"#000000\" d=\"M95,-179.5C95,-179.5 12,-179.5 12,-179.5 6,-179.5 0,-173.5 0,-167.5 0,-167.5 0,-123.5 0,-123.5 0,-117.5 6,-111.5 12,-111.5 12,-111.5 95,-111.5 95,-111.5 101,-111.5 107,-117.5 107,-123.5 107,-123.5 107,-167.5 107,-167.5 107,-173.5 101,-179.5 95,-179.5\"/>\n<text text-anchor=\"middle\" x=\"53.5\" y=\"-164.3\" font-family=\"Helvetica,sans-Serif\" font-size=\"14.00\" fill=\"#000000\">gini = 0.0</text>\n<text text-anchor=\"middle\" x=\"53.5\" y=\"-149.3\" font-family=\"Helvetica,sans-Serif\" font-size=\"14.00\" fill=\"#000000\">samples = 41</text>\n<text text-anchor=\"middle\" x=\"53.5\" y=\"-134.3\" font-family=\"Helvetica,sans-Serif\" font-size=\"14.00\" fill=\"#000000\">value = [0, 41]</text>\n<text text-anchor=\"middle\" x=\"53.5\" y=\"-119.3\" font-family=\"Helvetica,sans-Serif\" font-size=\"14.00\" fill=\"#000000\">class = 0</text>\n</g>\n<!-- 5&#45;&gt;6 -->\n<g id=\"edge6\" class=\"edge\">\n<title>5&#45;&gt;6</title>\n<path fill=\"none\" stroke=\"#000000\" d=\"M92.5149,-222.8796C86.9707,-211.8835 80.9736,-199.9893 75.3831,-188.9015\"/>\n<polygon fill=\"#000000\" stroke=\"#000000\" points=\"78.4291,-187.1684 70.8016,-179.8149 72.1786,-190.3199 78.4291,-187.1684\"/>\n</g>\n<!-- 7 -->\n<g id=\"node8\" class=\"node\">\n<title>7</title>\n<path fill=\"#9ccef2\" stroke=\"#000000\" d=\"M212,-187C212,-187 137,-187 137,-187 131,-187 125,-181 125,-175 125,-175 125,-116 125,-116 125,-110 131,-104 137,-104 137,-104 212,-104 212,-104 218,-104 224,-110 224,-116 224,-116 224,-175 224,-175 224,-181 218,-187 212,-187\"/>\n<text text-anchor=\"middle\" x=\"174.5\" y=\"-171.8\" font-family=\"Helvetica,sans-Serif\" font-size=\"14.00\" fill=\"#000000\">Age &lt;= 26.5</text>\n<text text-anchor=\"middle\" x=\"174.5\" y=\"-156.8\" font-family=\"Helvetica,sans-Serif\" font-size=\"14.00\" fill=\"#000000\">gini = 0.444</text>\n<text text-anchor=\"middle\" x=\"174.5\" y=\"-141.8\" font-family=\"Helvetica,sans-Serif\" font-size=\"14.00\" fill=\"#000000\">samples = 3</text>\n<text text-anchor=\"middle\" x=\"174.5\" y=\"-126.8\" font-family=\"Helvetica,sans-Serif\" font-size=\"14.00\" fill=\"#000000\">value = [1, 2]</text>\n<text text-anchor=\"middle\" x=\"174.5\" y=\"-111.8\" font-family=\"Helvetica,sans-Serif\" font-size=\"14.00\" fill=\"#000000\">class = 0</text>\n</g>\n<!-- 5&#45;&gt;7 -->\n<g id=\"edge7\" class=\"edge\">\n<title>5&#45;&gt;7</title>\n<path fill=\"none\" stroke=\"#000000\" d=\"M134.8348,-222.8796C139.2207,-214.3236 143.8853,-205.2238 148.417,-196.3833\"/>\n<polygon fill=\"#000000\" stroke=\"#000000\" points=\"151.627,-197.7936 153.0741,-187.2981 145.3978,-194.6004 151.627,-197.7936\"/>\n</g>\n<!-- 8 -->\n<g id=\"node9\" class=\"node\">\n<title>8</title>\n<path fill=\"#399de5\" stroke=\"#000000\" d=\"M154,-68C154,-68 79,-68 79,-68 73,-68 67,-62 67,-56 67,-56 67,-12 67,-12 67,-6 73,0 79,0 79,0 154,0 154,0 160,0 166,-6 166,-12 166,-12 166,-56 166,-56 166,-62 160,-68 154,-68\"/>\n<text text-anchor=\"middle\" x=\"116.5\" y=\"-52.8\" font-family=\"Helvetica,sans-Serif\" font-size=\"14.00\" fill=\"#000000\">gini = 0.0</text>\n<text text-anchor=\"middle\" x=\"116.5\" y=\"-37.8\" font-family=\"Helvetica,sans-Serif\" font-size=\"14.00\" fill=\"#000000\">samples = 2</text>\n<text text-anchor=\"middle\" x=\"116.5\" y=\"-22.8\" font-family=\"Helvetica,sans-Serif\" font-size=\"14.00\" fill=\"#000000\">value = [0, 2]</text>\n<text text-anchor=\"middle\" x=\"116.5\" y=\"-7.8\" font-family=\"Helvetica,sans-Serif\" font-size=\"14.00\" fill=\"#000000\">class = 0</text>\n</g>\n<!-- 7&#45;&gt;8 -->\n<g id=\"edge8\" class=\"edge\">\n<title>7&#45;&gt;8</title>\n<path fill=\"none\" stroke=\"#000000\" d=\"M152.9029,-103.9815C148.3612,-95.2504 143.5598,-86.0202 138.9863,-77.2281\"/>\n<polygon fill=\"#000000\" stroke=\"#000000\" points=\"142.0431,-75.52 134.3233,-68.2637 135.8331,-78.7504 142.0431,-75.52\"/>\n</g>\n<!-- 9 -->\n<g id=\"node10\" class=\"node\">\n<title>9</title>\n<path fill=\"#e58139\" stroke=\"#000000\" d=\"M271,-68C271,-68 196,-68 196,-68 190,-68 184,-62 184,-56 184,-56 184,-12 184,-12 184,-6 190,0 196,0 196,0 271,0 271,0 277,0 283,-6 283,-12 283,-12 283,-56 283,-56 283,-62 277,-68 271,-68\"/>\n<text text-anchor=\"middle\" x=\"233.5\" y=\"-52.8\" font-family=\"Helvetica,sans-Serif\" font-size=\"14.00\" fill=\"#000000\">gini = 0.0</text>\n<text text-anchor=\"middle\" x=\"233.5\" y=\"-37.8\" font-family=\"Helvetica,sans-Serif\" font-size=\"14.00\" fill=\"#000000\">samples = 1</text>\n<text text-anchor=\"middle\" x=\"233.5\" y=\"-22.8\" font-family=\"Helvetica,sans-Serif\" font-size=\"14.00\" fill=\"#000000\">value = [1, 0]</text>\n<text text-anchor=\"middle\" x=\"233.5\" y=\"-7.8\" font-family=\"Helvetica,sans-Serif\" font-size=\"14.00\" fill=\"#000000\">class = [</text>\n</g>\n<!-- 7&#45;&gt;9 -->\n<g id=\"edge9\" class=\"edge\">\n<title>7&#45;&gt;9</title>\n<path fill=\"none\" stroke=\"#000000\" d=\"M196.4694,-103.9815C201.0895,-95.2504 205.9736,-86.0202 210.626,-77.2281\"/>\n<polygon fill=\"#000000\" stroke=\"#000000\" points=\"213.7859,-78.7395 215.3694,-68.2637 207.5987,-75.4655 213.7859,-78.7395\"/>\n</g>\n<!-- 12 -->\n<g id=\"node13\" class=\"node\">\n<title>12</title>\n<path fill=\"#f2c09c\" stroke=\"#000000\" d=\"M424.5,-425C424.5,-425 338.5,-425 338.5,-425 332.5,-425 326.5,-419 326.5,-413 326.5,-413 326.5,-354 326.5,-354 326.5,-348 332.5,-342 338.5,-342 338.5,-342 424.5,-342 424.5,-342 430.5,-342 436.5,-348 436.5,-354 436.5,-354 436.5,-413 436.5,-413 436.5,-419 430.5,-425 424.5,-425\"/>\n<text text-anchor=\"middle\" x=\"381.5\" y=\"-409.8\" font-family=\"Helvetica,sans-Serif\" font-size=\"14.00\" fill=\"#000000\">Gender &lt;= 2.0</text>\n<text text-anchor=\"middle\" x=\"381.5\" y=\"-394.8\" font-family=\"Helvetica,sans-Serif\" font-size=\"14.00\" fill=\"#000000\">gini = 0.444</text>\n<text text-anchor=\"middle\" x=\"381.5\" y=\"-379.8\" font-family=\"Helvetica,sans-Serif\" font-size=\"14.00\" fill=\"#000000\">samples = 3</text>\n<text text-anchor=\"middle\" x=\"381.5\" y=\"-364.8\" font-family=\"Helvetica,sans-Serif\" font-size=\"14.00\" fill=\"#000000\">value = [2, 1]</text>\n<text text-anchor=\"middle\" x=\"381.5\" y=\"-349.8\" font-family=\"Helvetica,sans-Serif\" font-size=\"14.00\" fill=\"#000000\">class = [</text>\n</g>\n<!-- 11&#45;&gt;12 -->\n<g id=\"edge12\" class=\"edge\">\n<title>11&#45;&gt;12</title>\n<path fill=\"none\" stroke=\"#000000\" d=\"M384.7512,-460.8796C384.4069,-452.6838 384.0416,-443.9891 383.6849,-435.5013\"/>\n<polygon fill=\"#000000\" stroke=\"#000000\" points=\"387.173,-435.1423 383.2562,-425.2981 380.1792,-435.4362 387.173,-435.1423\"/>\n</g>\n<!-- 15 -->\n<g id=\"node16\" class=\"node\">\n<title>15</title>\n<path fill=\"#e58139\" stroke=\"#000000\" d=\"M550,-417.5C550,-417.5 467,-417.5 467,-417.5 461,-417.5 455,-411.5 455,-405.5 455,-405.5 455,-361.5 455,-361.5 455,-355.5 461,-349.5 467,-349.5 467,-349.5 550,-349.5 550,-349.5 556,-349.5 562,-355.5 562,-361.5 562,-361.5 562,-405.5 562,-405.5 562,-411.5 556,-417.5 550,-417.5\"/>\n<text text-anchor=\"middle\" x=\"508.5\" y=\"-402.3\" font-family=\"Helvetica,sans-Serif\" font-size=\"14.00\" fill=\"#000000\">gini = 0.0</text>\n<text text-anchor=\"middle\" x=\"508.5\" y=\"-387.3\" font-family=\"Helvetica,sans-Serif\" font-size=\"14.00\" fill=\"#000000\">samples = 95</text>\n<text text-anchor=\"middle\" x=\"508.5\" y=\"-372.3\" font-family=\"Helvetica,sans-Serif\" font-size=\"14.00\" fill=\"#000000\">value = [95, 0]</text>\n<text text-anchor=\"middle\" x=\"508.5\" y=\"-357.3\" font-family=\"Helvetica,sans-Serif\" font-size=\"14.00\" fill=\"#000000\">class = [</text>\n</g>\n<!-- 11&#45;&gt;15 -->\n<g id=\"edge15\" class=\"edge\">\n<title>11&#45;&gt;15</title>\n<path fill=\"none\" stroke=\"#000000\" d=\"M429.1697,-460.8796C441.1194,-449.2237 454.1037,-436.5587 466.0411,-424.9148\"/>\n<polygon fill=\"#000000\" stroke=\"#000000\" points=\"468.6053,-427.303 473.32,-417.8149 463.7175,-422.292 468.6053,-427.303\"/>\n</g>\n<!-- 13 -->\n<g id=\"node14\" class=\"node\">\n<title>13</title>\n<path fill=\"#e58139\" stroke=\"#000000\" d=\"M416,-298.5C416,-298.5 341,-298.5 341,-298.5 335,-298.5 329,-292.5 329,-286.5 329,-286.5 329,-242.5 329,-242.5 329,-236.5 335,-230.5 341,-230.5 341,-230.5 416,-230.5 416,-230.5 422,-230.5 428,-236.5 428,-242.5 428,-242.5 428,-286.5 428,-286.5 428,-292.5 422,-298.5 416,-298.5\"/>\n<text text-anchor=\"middle\" x=\"378.5\" y=\"-283.3\" font-family=\"Helvetica,sans-Serif\" font-size=\"14.00\" fill=\"#000000\">gini = 0.0</text>\n<text text-anchor=\"middle\" x=\"378.5\" y=\"-268.3\" font-family=\"Helvetica,sans-Serif\" font-size=\"14.00\" fill=\"#000000\">samples = 2</text>\n<text text-anchor=\"middle\" x=\"378.5\" y=\"-253.3\" font-family=\"Helvetica,sans-Serif\" font-size=\"14.00\" fill=\"#000000\">value = [2, 0]</text>\n<text text-anchor=\"middle\" x=\"378.5\" y=\"-238.3\" font-family=\"Helvetica,sans-Serif\" font-size=\"14.00\" fill=\"#000000\">class = [</text>\n</g>\n<!-- 12&#45;&gt;13 -->\n<g id=\"edge13\" class=\"edge\">\n<title>12&#45;&gt;13</title>\n<path fill=\"none\" stroke=\"#000000\" d=\"M380.4507,-341.8796C380.1818,-331.2134 379.8916,-319.7021 379.6194,-308.9015\"/>\n<polygon fill=\"#000000\" stroke=\"#000000\" points=\"383.1161,-308.7235 379.3651,-298.8149 376.1183,-308.9 383.1161,-308.7235\"/>\n</g>\n<!-- 14 -->\n<g id=\"node15\" class=\"node\">\n<title>14</title>\n<path fill=\"#399de5\" stroke=\"#000000\" d=\"M533,-298.5C533,-298.5 458,-298.5 458,-298.5 452,-298.5 446,-292.5 446,-286.5 446,-286.5 446,-242.5 446,-242.5 446,-236.5 452,-230.5 458,-230.5 458,-230.5 533,-230.5 533,-230.5 539,-230.5 545,-236.5 545,-242.5 545,-242.5 545,-286.5 545,-286.5 545,-292.5 539,-298.5 533,-298.5\"/>\n<text text-anchor=\"middle\" x=\"495.5\" y=\"-283.3\" font-family=\"Helvetica,sans-Serif\" font-size=\"14.00\" fill=\"#000000\">gini = 0.0</text>\n<text text-anchor=\"middle\" x=\"495.5\" y=\"-268.3\" font-family=\"Helvetica,sans-Serif\" font-size=\"14.00\" fill=\"#000000\">samples = 1</text>\n<text text-anchor=\"middle\" x=\"495.5\" y=\"-253.3\" font-family=\"Helvetica,sans-Serif\" font-size=\"14.00\" fill=\"#000000\">value = [0, 1]</text>\n<text text-anchor=\"middle\" x=\"495.5\" y=\"-238.3\" font-family=\"Helvetica,sans-Serif\" font-size=\"14.00\" fill=\"#000000\">class = 0</text>\n</g>\n<!-- 12&#45;&gt;14 -->\n<g id=\"edge14\" class=\"edge\">\n<title>12&#45;&gt;14</title>\n<path fill=\"none\" stroke=\"#000000\" d=\"M421.3717,-341.8796C432.4324,-330.3337 444.4418,-317.7976 455.5094,-306.2446\"/>\n<polygon fill=\"#000000\" stroke=\"#000000\" points=\"458.2365,-308.4573 462.6269,-298.8149 453.1817,-303.6149 458.2365,-308.4573\"/>\n</g>\n<!-- 17 -->\n<g id=\"node18\" class=\"node\">\n<title>17</title>\n<path fill=\"#399de5\" stroke=\"#000000\" d=\"M568.5,-536.5C568.5,-536.5 476.5,-536.5 476.5,-536.5 470.5,-536.5 464.5,-530.5 464.5,-524.5 464.5,-524.5 464.5,-480.5 464.5,-480.5 464.5,-474.5 470.5,-468.5 476.5,-468.5 476.5,-468.5 568.5,-468.5 568.5,-468.5 574.5,-468.5 580.5,-474.5 580.5,-480.5 580.5,-480.5 580.5,-524.5 580.5,-524.5 580.5,-530.5 574.5,-536.5 568.5,-536.5\"/>\n<text text-anchor=\"middle\" x=\"522.5\" y=\"-521.3\" font-family=\"Helvetica,sans-Serif\" font-size=\"14.00\" fill=\"#000000\">gini = 0.0</text>\n<text text-anchor=\"middle\" x=\"522.5\" y=\"-506.3\" font-family=\"Helvetica,sans-Serif\" font-size=\"14.00\" fill=\"#000000\">samples = 158</text>\n<text text-anchor=\"middle\" x=\"522.5\" y=\"-491.3\" font-family=\"Helvetica,sans-Serif\" font-size=\"14.00\" fill=\"#000000\">value = [0, 158]</text>\n<text text-anchor=\"middle\" x=\"522.5\" y=\"-476.3\" font-family=\"Helvetica,sans-Serif\" font-size=\"14.00\" fill=\"#000000\">class = 0</text>\n</g>\n<!-- 16&#45;&gt;17 -->\n<g id=\"edge17\" class=\"edge\">\n<title>16&#45;&gt;17</title>\n<path fill=\"none\" stroke=\"#000000\" d=\"M524.4507,-579.8796C524.1818,-569.2134 523.8916,-557.7021 523.6194,-546.9015\"/>\n<polygon fill=\"#000000\" stroke=\"#000000\" points=\"527.1161,-546.7235 523.3651,-536.8149 520.1183,-546.9 527.1161,-546.7235\"/>\n</g>\n<!-- 18 -->\n<g id=\"node19\" class=\"node\">\n<title>18</title>\n<path fill=\"#f6fbfe\" stroke=\"#000000\" d=\"M774,-544C774,-544 611,-544 611,-544 605,-544 599,-538 599,-532 599,-532 599,-473 599,-473 599,-467 605,-461 611,-461 611,-461 774,-461 774,-461 780,-461 786,-467 786,-473 786,-473 786,-532 786,-532 786,-538 780,-544 774,-544\"/>\n<text text-anchor=\"middle\" x=\"692.5\" y=\"-528.8\" font-family=\"Helvetica,sans-Serif\" font-size=\"14.00\" fill=\"#000000\">spent_last_week &lt;= 140.5</text>\n<text text-anchor=\"middle\" x=\"692.5\" y=\"-513.8\" font-family=\"Helvetica,sans-Serif\" font-size=\"14.00\" fill=\"#000000\">gini = 0.5</text>\n<text text-anchor=\"middle\" x=\"692.5\" y=\"-498.8\" font-family=\"Helvetica,sans-Serif\" font-size=\"14.00\" fill=\"#000000\">samples = 45</text>\n<text text-anchor=\"middle\" x=\"692.5\" y=\"-483.8\" font-family=\"Helvetica,sans-Serif\" font-size=\"14.00\" fill=\"#000000\">value = [22, 23]</text>\n<text text-anchor=\"middle\" x=\"692.5\" y=\"-468.8\" font-family=\"Helvetica,sans-Serif\" font-size=\"14.00\" fill=\"#000000\">class = 0</text>\n</g>\n<!-- 16&#45;&gt;18 -->\n<g id=\"edge18\" class=\"edge\">\n<title>16&#45;&gt;18</title>\n<path fill=\"none\" stroke=\"#000000\" d=\"M583.9085,-579.8796C597.3839,-570.2774 611.8203,-559.9903 625.625,-550.1534\"/>\n<polygon fill=\"#000000\" stroke=\"#000000\" points=\"628.0117,-552.7505 634.1245,-544.0969 623.9494,-547.0497 628.0117,-552.7505\"/>\n</g>\n<!-- 19 -->\n<g id=\"node20\" class=\"node\">\n<title>19</title>\n<path fill=\"#e58139\" stroke=\"#000000\" d=\"M705,-417.5C705,-417.5 622,-417.5 622,-417.5 616,-417.5 610,-411.5 610,-405.5 610,-405.5 610,-361.5 610,-361.5 610,-355.5 616,-349.5 622,-349.5 622,-349.5 705,-349.5 705,-349.5 711,-349.5 717,-355.5 717,-361.5 717,-361.5 717,-405.5 717,-405.5 717,-411.5 711,-417.5 705,-417.5\"/>\n<text text-anchor=\"middle\" x=\"663.5\" y=\"-402.3\" font-family=\"Helvetica,sans-Serif\" font-size=\"14.00\" fill=\"#000000\">gini = 0.0</text>\n<text text-anchor=\"middle\" x=\"663.5\" y=\"-387.3\" font-family=\"Helvetica,sans-Serif\" font-size=\"14.00\" fill=\"#000000\">samples = 22</text>\n<text text-anchor=\"middle\" x=\"663.5\" y=\"-372.3\" font-family=\"Helvetica,sans-Serif\" font-size=\"14.00\" fill=\"#000000\">value = [22, 0]</text>\n<text text-anchor=\"middle\" x=\"663.5\" y=\"-357.3\" font-family=\"Helvetica,sans-Serif\" font-size=\"14.00\" fill=\"#000000\">class = [</text>\n</g>\n<!-- 18&#45;&gt;19 -->\n<g id=\"edge19\" class=\"edge\">\n<title>18&#45;&gt;19</title>\n<path fill=\"none\" stroke=\"#000000\" d=\"M682.3572,-460.8796C679.7311,-450.1034 676.8948,-438.4647 674.2392,-427.5677\"/>\n<polygon fill=\"#000000\" stroke=\"#000000\" points=\"677.6307,-426.7019 671.8625,-417.8149 670.8297,-428.3593 677.6307,-426.7019\"/>\n</g>\n<!-- 20 -->\n<g id=\"node21\" class=\"node\">\n<title>20</title>\n<path fill=\"#399de5\" stroke=\"#000000\" d=\"M830,-417.5C830,-417.5 747,-417.5 747,-417.5 741,-417.5 735,-411.5 735,-405.5 735,-405.5 735,-361.5 735,-361.5 735,-355.5 741,-349.5 747,-349.5 747,-349.5 830,-349.5 830,-349.5 836,-349.5 842,-355.5 842,-361.5 842,-361.5 842,-405.5 842,-405.5 842,-411.5 836,-417.5 830,-417.5\"/>\n<text text-anchor=\"middle\" x=\"788.5\" y=\"-402.3\" font-family=\"Helvetica,sans-Serif\" font-size=\"14.00\" fill=\"#000000\">gini = 0.0</text>\n<text text-anchor=\"middle\" x=\"788.5\" y=\"-387.3\" font-family=\"Helvetica,sans-Serif\" font-size=\"14.00\" fill=\"#000000\">samples = 23</text>\n<text text-anchor=\"middle\" x=\"788.5\" y=\"-372.3\" font-family=\"Helvetica,sans-Serif\" font-size=\"14.00\" fill=\"#000000\">value = [0, 23]</text>\n<text text-anchor=\"middle\" x=\"788.5\" y=\"-357.3\" font-family=\"Helvetica,sans-Serif\" font-size=\"14.00\" fill=\"#000000\">class = 0</text>\n</g>\n<!-- 18&#45;&gt;20 -->\n<g id=\"edge20\" class=\"edge\">\n<title>18&#45;&gt;20</title>\n<path fill=\"none\" stroke=\"#000000\" d=\"M726.0761,-460.8796C735.2131,-449.5536 745.1187,-437.2748 754.2902,-425.9058\"/>\n<polygon fill=\"#000000\" stroke=\"#000000\" points=\"757.2626,-427.7957 760.8174,-417.8149 751.8144,-423.4005 757.2626,-427.7957\"/>\n</g>\n</g>\n</svg>\n"
          },
          "metadata": {
            "tags": []
          },
          "execution_count": 38
        }
      ]
    },
    {
      "cell_type": "code",
      "metadata": {
        "id": "T0RadBy0DuWp",
        "colab": {
          "base_uri": "https://localhost:8080/"
        },
        "outputId": "97f67fe4-3097-41e6-9fe3-001279c0f9b6"
      },
      "source": [
        "# Run this block for model evaluation\n",
        "print(\"Model Gini impurity model\")\n",
        "print(\"Accuracy:\", metrics.accuracy_score(y_test,y_pred))\n",
        "print(\"Balanced accuracy:\", metrics.balanced_accuracy_score(y_test,y_pred))\n",
        "print('Precision score' , metrics.precision_score(y_test,y_pred, pos_label = 1))\n",
        "print('Recall score' , metrics.recall_score(y_test,y_pred, pos_label = 0))"
      ],
      "execution_count": 39,
      "outputs": [
        {
          "output_type": "stream",
          "text": [
            "Model Gini impurity model\n",
            "Accuracy: 0.9831932773109243\n",
            "Balanced accuracy: 0.9813946216385241\n",
            "Precision score 0.9871794871794872\n",
            "Recall score 0.975609756097561\n"
          ],
          "name": "stdout"
        }
      ]
    },
    {
      "cell_type": "markdown",
      "metadata": {
        "id": "LR5LkC_yDuWs"
      },
      "source": [
        "How do the results here compare to the previous model? Write your judgements here: <br>\r\n",
        "<b>A:</b><br>\r\n",
        "The scores from the gini impurity model is marginally lower than the entropy model, and with scores close still signaling likelihood of over-fitting, resulting in poor prediction to real life data."
      ]
    },
    {
      "cell_type": "markdown",
      "metadata": {
        "id": "3PctBjTADuWs"
      },
      "source": [
        "## Model 3: Entropy model - max depth 3\n",
        "We're going to try to limit the depth of our decision tree, using entropy first.  \n",
        "\n",
        "As you know, we need to strike a balance with tree depth. \n",
        "\n",
        "Insufficiently deep, and we're not giving the tree the opportunity to spot the right patterns in the training data.\n",
        "\n",
        "Excessively deep, and we're probably going to make a tree that overfits to the training data, at the cost of very high error on the (hitherto unseen) test data. \n",
        "\n",
        "Sophisticated data scientists use methods like random search with cross-validation to systematically find a good depth for their tree. We'll start with picking 3, and see how that goes. "
      ]
    },
    {
      "cell_type": "code",
      "metadata": {
        "id": "cMiPjWClDuWt",
        "colab": {
          "base_uri": "https://localhost:8080/"
        },
        "outputId": "c071984e-bc82-4586-9edd-3287e4652b08"
      },
      "source": [
        "# Made a model as before, but call it entr_model2, and make the max_depth parameter equal to 3. \n",
        "entr_model2 = tree.DecisionTreeClassifier(criterion='entropy', max_depth=3, random_state=1)\n",
        "\n",
        "# Execute the fitting, predicting, and Series operations as before\n",
        "entr_model2.fit(X_train, y_train)\n",
        "y_pred = entr_model2.predict(X_test)\n",
        "y_pred = pd.Series(y_pred)\n",
        "entr_model2"
      ],
      "execution_count": 40,
      "outputs": [
        {
          "output_type": "execute_result",
          "data": {
            "text/plain": [
              "DecisionTreeClassifier(ccp_alpha=0.0, class_weight=None, criterion='entropy',\n",
              "                       max_depth=3, max_features=None, max_leaf_nodes=None,\n",
              "                       min_impurity_decrease=0.0, min_impurity_split=None,\n",
              "                       min_samples_leaf=1, min_samples_split=2,\n",
              "                       min_weight_fraction_leaf=0.0, presort='deprecated',\n",
              "                       random_state=1, splitter='best')"
            ]
          },
          "metadata": {
            "tags": []
          },
          "execution_count": 40
        }
      ]
    },
    {
      "cell_type": "code",
      "metadata": {
        "id": "IRuw72VMDuWv",
        "colab": {
          "base_uri": "https://localhost:8080/",
          "height": 599
        },
        "outputId": "f3a49648-c7b9-4012-9909-a4e7e25c1685"
      },
      "source": [
        "# As before, we need to visualize the tree to grasp its nature\n",
        "feature_names = NoPrediction.columns\n",
        "dot_data = export_graphviz(entr_model2, out_file=None, filled=True, rounded=True, \n",
        "                           feature_names=feature_names, class_names=['No','Yes'])\n",
        "\n",
        "graph = graphviz.Source(dot_data)  \n",
        "graph  \n"
      ],
      "execution_count": 41,
      "outputs": [
        {
          "output_type": "execute_result",
          "data": {
            "text/plain": [
              "<graphviz.files.Source at 0x7fd8cc89e828>"
            ],
            "image/svg+xml": "<?xml version=\"1.0\" encoding=\"UTF-8\" standalone=\"no\"?>\n<!DOCTYPE svg PUBLIC \"-//W3C//DTD SVG 1.1//EN\"\n \"http://www.w3.org/Graphics/SVG/1.1/DTD/svg11.dtd\">\n<!-- Generated by graphviz version 2.40.1 (20161225.0304)\n -->\n<!-- Title: Tree Pages: 1 -->\n<svg width=\"550pt\" height=\"433pt\"\n viewBox=\"0.00 0.00 549.50 433.00\" xmlns=\"http://www.w3.org/2000/svg\" xmlns:xlink=\"http://www.w3.org/1999/xlink\">\n<g id=\"graph0\" class=\"graph\" transform=\"scale(1 1) rotate(0) translate(4 429)\">\n<title>Tree</title>\n<polygon fill=\"#ffffff\" stroke=\"transparent\" points=\"-4,4 -4,-429 545.5,-429 545.5,4 -4,4\"/>\n<!-- 0 -->\n<g id=\"node1\" class=\"node\">\n<title>0</title>\n<path fill=\"#abd6f4\" stroke=\"#000000\" d=\"M414,-425C414,-425 251,-425 251,-425 245,-425 239,-419 239,-413 239,-413 239,-354 239,-354 239,-348 245,-342 251,-342 251,-342 414,-342 414,-342 420,-342 426,-348 426,-354 426,-354 426,-413 426,-413 426,-419 420,-425 414,-425\"/>\n<text text-anchor=\"middle\" x=\"332.5\" y=\"-409.8\" font-family=\"Helvetica,sans-Serif\" font-size=\"14.00\" fill=\"#000000\">spent_last_week &lt;= 138.0</text>\n<text text-anchor=\"middle\" x=\"332.5\" y=\"-394.8\" font-family=\"Helvetica,sans-Serif\" font-size=\"14.00\" fill=\"#000000\">entropy = 0.948</text>\n<text text-anchor=\"middle\" x=\"332.5\" y=\"-379.8\" font-family=\"Helvetica,sans-Serif\" font-size=\"14.00\" fill=\"#000000\">samples = 355</text>\n<text text-anchor=\"middle\" x=\"332.5\" y=\"-364.8\" font-family=\"Helvetica,sans-Serif\" font-size=\"14.00\" fill=\"#000000\">value = [130, 225]</text>\n<text text-anchor=\"middle\" x=\"332.5\" y=\"-349.8\" font-family=\"Helvetica,sans-Serif\" font-size=\"14.00\" fill=\"#000000\">class = Yes</text>\n</g>\n<!-- 1 -->\n<g id=\"node2\" class=\"node\">\n<title>1</title>\n<path fill=\"#fae6d7\" stroke=\"#000000\" d=\"M315.5,-306C315.5,-306 207.5,-306 207.5,-306 201.5,-306 195.5,-300 195.5,-294 195.5,-294 195.5,-235 195.5,-235 195.5,-229 201.5,-223 207.5,-223 207.5,-223 315.5,-223 315.5,-223 321.5,-223 327.5,-229 327.5,-235 327.5,-235 327.5,-294 327.5,-294 327.5,-300 321.5,-306 315.5,-306\"/>\n<text text-anchor=\"middle\" x=\"261.5\" y=\"-290.8\" font-family=\"Helvetica,sans-Serif\" font-size=\"14.00\" fill=\"#000000\">salary &lt;= 3.524</text>\n<text text-anchor=\"middle\" x=\"261.5\" y=\"-275.8\" font-family=\"Helvetica,sans-Serif\" font-size=\"14.00\" fill=\"#000000\">entropy = 0.991</text>\n<text text-anchor=\"middle\" x=\"261.5\" y=\"-260.8\" font-family=\"Helvetica,sans-Serif\" font-size=\"14.00\" fill=\"#000000\">samples = 234</text>\n<text text-anchor=\"middle\" x=\"261.5\" y=\"-245.8\" font-family=\"Helvetica,sans-Serif\" font-size=\"14.00\" fill=\"#000000\">value = [130, 104]</text>\n<text text-anchor=\"middle\" x=\"261.5\" y=\"-230.8\" font-family=\"Helvetica,sans-Serif\" font-size=\"14.00\" fill=\"#000000\">class = No</text>\n</g>\n<!-- 0&#45;&gt;1 -->\n<g id=\"edge1\" class=\"edge\">\n<title>0&#45;&gt;1</title>\n<path fill=\"none\" stroke=\"#000000\" d=\"M307.6676,-341.8796C302.5091,-333.2335 297.0192,-324.0322 291.6924,-315.1042\"/>\n<polygon fill=\"#000000\" stroke=\"#000000\" points=\"294.5678,-313.0924 286.4383,-306.2981 288.5564,-316.679 294.5678,-313.0924\"/>\n<text text-anchor=\"middle\" x=\"280.3149\" y=\"-326.8366\" font-family=\"Helvetica,sans-Serif\" font-size=\"14.00\" fill=\"#000000\">True</text>\n</g>\n<!-- 8 -->\n<g id=\"node9\" class=\"node\">\n<title>8</title>\n<path fill=\"#399de5\" stroke=\"#000000\" d=\"M449.5,-298.5C449.5,-298.5 357.5,-298.5 357.5,-298.5 351.5,-298.5 345.5,-292.5 345.5,-286.5 345.5,-286.5 345.5,-242.5 345.5,-242.5 345.5,-236.5 351.5,-230.5 357.5,-230.5 357.5,-230.5 449.5,-230.5 449.5,-230.5 455.5,-230.5 461.5,-236.5 461.5,-242.5 461.5,-242.5 461.5,-286.5 461.5,-286.5 461.5,-292.5 455.5,-298.5 449.5,-298.5\"/>\n<text text-anchor=\"middle\" x=\"403.5\" y=\"-283.3\" font-family=\"Helvetica,sans-Serif\" font-size=\"14.00\" fill=\"#000000\">entropy = 0.0</text>\n<text text-anchor=\"middle\" x=\"403.5\" y=\"-268.3\" font-family=\"Helvetica,sans-Serif\" font-size=\"14.00\" fill=\"#000000\">samples = 121</text>\n<text text-anchor=\"middle\" x=\"403.5\" y=\"-253.3\" font-family=\"Helvetica,sans-Serif\" font-size=\"14.00\" fill=\"#000000\">value = [0, 121]</text>\n<text text-anchor=\"middle\" x=\"403.5\" y=\"-238.3\" font-family=\"Helvetica,sans-Serif\" font-size=\"14.00\" fill=\"#000000\">class = Yes</text>\n</g>\n<!-- 0&#45;&gt;8 -->\n<g id=\"edge8\" class=\"edge\">\n<title>0&#45;&gt;8</title>\n<path fill=\"none\" stroke=\"#000000\" d=\"M357.3324,-341.8796C363.9587,-330.7735 371.1316,-318.7513 377.8033,-307.5691\"/>\n<polygon fill=\"#000000\" stroke=\"#000000\" points=\"380.9083,-309.1959 383.0264,-298.8149 374.8969,-305.6093 380.9083,-309.1959\"/>\n<text text-anchor=\"middle\" x=\"389.1498\" y=\"-319.3534\" font-family=\"Helvetica,sans-Serif\" font-size=\"14.00\" fill=\"#000000\">False</text>\n</g>\n<!-- 2 -->\n<g id=\"node3\" class=\"node\">\n<title>2</title>\n<path fill=\"#52aae8\" stroke=\"#000000\" d=\"M239,-187C239,-187 84,-187 84,-187 78,-187 72,-181 72,-175 72,-175 72,-116 72,-116 72,-110 78,-104 84,-104 84,-104 239,-104 239,-104 245,-104 251,-110 251,-116 251,-116 251,-175 251,-175 251,-181 245,-187 239,-187\"/>\n<text text-anchor=\"middle\" x=\"161.5\" y=\"-171.8\" font-family=\"Helvetica,sans-Serif\" font-size=\"14.00\" fill=\"#000000\">spent_last_week &lt;= 24.5</text>\n<text text-anchor=\"middle\" x=\"161.5\" y=\"-156.8\" font-family=\"Helvetica,sans-Serif\" font-size=\"14.00\" fill=\"#000000\">entropy = 0.512</text>\n<text text-anchor=\"middle\" x=\"161.5\" y=\"-141.8\" font-family=\"Helvetica,sans-Serif\" font-size=\"14.00\" fill=\"#000000\">samples = 79</text>\n<text text-anchor=\"middle\" x=\"161.5\" y=\"-126.8\" font-family=\"Helvetica,sans-Serif\" font-size=\"14.00\" fill=\"#000000\">value = [9, 70]</text>\n<text text-anchor=\"middle\" x=\"161.5\" y=\"-111.8\" font-family=\"Helvetica,sans-Serif\" font-size=\"14.00\" fill=\"#000000\">class = Yes</text>\n</g>\n<!-- 1&#45;&gt;2 -->\n<g id=\"edge2\" class=\"edge\">\n<title>1&#45;&gt;2</title>\n<path fill=\"none\" stroke=\"#000000\" d=\"M226.5249,-222.8796C218.9565,-213.8733 210.8819,-204.2644 203.088,-194.9897\"/>\n<polygon fill=\"#000000\" stroke=\"#000000\" points=\"205.7374,-192.7022 196.6244,-187.2981 200.3784,-197.2056 205.7374,-192.7022\"/>\n</g>\n<!-- 5 -->\n<g id=\"node6\" class=\"node\">\n<title>5</title>\n<path fill=\"#eca471\" stroke=\"#000000\" d=\"M444,-187C444,-187 281,-187 281,-187 275,-187 269,-181 269,-175 269,-175 269,-116 269,-116 269,-110 275,-104 281,-104 281,-104 444,-104 444,-104 450,-104 456,-110 456,-116 456,-116 456,-175 456,-175 456,-181 450,-187 444,-187\"/>\n<text text-anchor=\"middle\" x=\"362.5\" y=\"-171.8\" font-family=\"Helvetica,sans-Serif\" font-size=\"14.00\" fill=\"#000000\">spent_last_week &lt;= 101.0</text>\n<text text-anchor=\"middle\" x=\"362.5\" y=\"-156.8\" font-family=\"Helvetica,sans-Serif\" font-size=\"14.00\" fill=\"#000000\">entropy = 0.759</text>\n<text text-anchor=\"middle\" x=\"362.5\" y=\"-141.8\" font-family=\"Helvetica,sans-Serif\" font-size=\"14.00\" fill=\"#000000\">samples = 155</text>\n<text text-anchor=\"middle\" x=\"362.5\" y=\"-126.8\" font-family=\"Helvetica,sans-Serif\" font-size=\"14.00\" fill=\"#000000\">value = [121, 34]</text>\n<text text-anchor=\"middle\" x=\"362.5\" y=\"-111.8\" font-family=\"Helvetica,sans-Serif\" font-size=\"14.00\" fill=\"#000000\">class = No</text>\n</g>\n<!-- 1&#45;&gt;5 -->\n<g id=\"edge5\" class=\"edge\">\n<title>1&#45;&gt;5</title>\n<path fill=\"none\" stroke=\"#000000\" d=\"M296.8249,-222.8796C304.4689,-213.8733 312.6243,-204.2644 320.4961,-194.9897\"/>\n<polygon fill=\"#000000\" stroke=\"#000000\" points=\"323.2218,-197.1871 327.0243,-187.2981 317.8849,-192.6574 323.2218,-197.1871\"/>\n</g>\n<!-- 3 -->\n<g id=\"node4\" class=\"node\">\n<title>3</title>\n<path fill=\"#e58139\" stroke=\"#000000\" d=\"M89,-68C89,-68 12,-68 12,-68 6,-68 0,-62 0,-56 0,-56 0,-12 0,-12 0,-6 6,0 12,0 12,0 89,0 89,0 95,0 101,-6 101,-12 101,-12 101,-56 101,-56 101,-62 95,-68 89,-68\"/>\n<text text-anchor=\"middle\" x=\"50.5\" y=\"-52.8\" font-family=\"Helvetica,sans-Serif\" font-size=\"14.00\" fill=\"#000000\">entropy = 0.0</text>\n<text text-anchor=\"middle\" x=\"50.5\" y=\"-37.8\" font-family=\"Helvetica,sans-Serif\" font-size=\"14.00\" fill=\"#000000\">samples = 8</text>\n<text text-anchor=\"middle\" x=\"50.5\" y=\"-22.8\" font-family=\"Helvetica,sans-Serif\" font-size=\"14.00\" fill=\"#000000\">value = [8, 0]</text>\n<text text-anchor=\"middle\" x=\"50.5\" y=\"-7.8\" font-family=\"Helvetica,sans-Serif\" font-size=\"14.00\" fill=\"#000000\">class = No</text>\n</g>\n<!-- 2&#45;&gt;3 -->\n<g id=\"edge3\" class=\"edge\">\n<title>2&#45;&gt;3</title>\n<path fill=\"none\" stroke=\"#000000\" d=\"M120.1677,-103.9815C110.9267,-94.6989 101.1242,-84.8522 91.8813,-75.5677\"/>\n<polygon fill=\"#000000\" stroke=\"#000000\" points=\"94.1457,-72.8813 84.61,-68.2637 89.1848,-77.82 94.1457,-72.8813\"/>\n</g>\n<!-- 4 -->\n<g id=\"node5\" class=\"node\">\n<title>4</title>\n<path fill=\"#3c9ee5\" stroke=\"#000000\" d=\"M225.5,-68C225.5,-68 131.5,-68 131.5,-68 125.5,-68 119.5,-62 119.5,-56 119.5,-56 119.5,-12 119.5,-12 119.5,-6 125.5,0 131.5,0 131.5,0 225.5,0 225.5,0 231.5,0 237.5,-6 237.5,-12 237.5,-12 237.5,-56 237.5,-56 237.5,-62 231.5,-68 225.5,-68\"/>\n<text text-anchor=\"middle\" x=\"178.5\" y=\"-52.8\" font-family=\"Helvetica,sans-Serif\" font-size=\"14.00\" fill=\"#000000\">entropy = 0.107</text>\n<text text-anchor=\"middle\" x=\"178.5\" y=\"-37.8\" font-family=\"Helvetica,sans-Serif\" font-size=\"14.00\" fill=\"#000000\">samples = 71</text>\n<text text-anchor=\"middle\" x=\"178.5\" y=\"-22.8\" font-family=\"Helvetica,sans-Serif\" font-size=\"14.00\" fill=\"#000000\">value = [1, 70]</text>\n<text text-anchor=\"middle\" x=\"178.5\" y=\"-7.8\" font-family=\"Helvetica,sans-Serif\" font-size=\"14.00\" fill=\"#000000\">class = Yes</text>\n</g>\n<!-- 2&#45;&gt;4 -->\n<g id=\"edge4\" class=\"edge\">\n<title>2&#45;&gt;4</title>\n<path fill=\"none\" stroke=\"#000000\" d=\"M167.8302,-103.9815C169.1053,-95.618 170.4503,-86.7965 171.7395,-78.3409\"/>\n<polygon fill=\"#000000\" stroke=\"#000000\" points=\"175.2286,-78.677 173.2759,-68.2637 168.3086,-77.6219 175.2286,-78.677\"/>\n</g>\n<!-- 6 -->\n<g id=\"node7\" class=\"node\">\n<title>6</title>\n<path fill=\"#e6853f\" stroke=\"#000000\" d=\"M393.5,-68C393.5,-68 299.5,-68 299.5,-68 293.5,-68 287.5,-62 287.5,-56 287.5,-56 287.5,-12 287.5,-12 287.5,-6 293.5,0 299.5,0 299.5,0 393.5,0 393.5,0 399.5,0 405.5,-6 405.5,-12 405.5,-12 405.5,-56 405.5,-56 405.5,-62 399.5,-68 393.5,-68\"/>\n<text text-anchor=\"middle\" x=\"346.5\" y=\"-52.8\" font-family=\"Helvetica,sans-Serif\" font-size=\"14.00\" fill=\"#000000\">entropy = 0.191</text>\n<text text-anchor=\"middle\" x=\"346.5\" y=\"-37.8\" font-family=\"Helvetica,sans-Serif\" font-size=\"14.00\" fill=\"#000000\">samples = 102</text>\n<text text-anchor=\"middle\" x=\"346.5\" y=\"-22.8\" font-family=\"Helvetica,sans-Serif\" font-size=\"14.00\" fill=\"#000000\">value = [99, 3]</text>\n<text text-anchor=\"middle\" x=\"346.5\" y=\"-7.8\" font-family=\"Helvetica,sans-Serif\" font-size=\"14.00\" fill=\"#000000\">class = No</text>\n</g>\n<!-- 5&#45;&gt;6 -->\n<g id=\"edge6\" class=\"edge\">\n<title>5&#45;&gt;6</title>\n<path fill=\"none\" stroke=\"#000000\" d=\"M356.5422,-103.9815C355.342,-95.618 354.0762,-86.7965 352.8628,-78.3409\"/>\n<polygon fill=\"#000000\" stroke=\"#000000\" points=\"356.3018,-77.6651 351.4168,-68.2637 349.3728,-78.6595 356.3018,-77.6651\"/>\n</g>\n<!-- 7 -->\n<g id=\"node8\" class=\"node\">\n<title>7</title>\n<path fill=\"#c6e3f7\" stroke=\"#000000\" d=\"M529.5,-68C529.5,-68 435.5,-68 435.5,-68 429.5,-68 423.5,-62 423.5,-56 423.5,-56 423.5,-12 423.5,-12 423.5,-6 429.5,0 435.5,0 435.5,0 529.5,0 529.5,0 535.5,0 541.5,-6 541.5,-12 541.5,-12 541.5,-56 541.5,-56 541.5,-62 535.5,-68 529.5,-68\"/>\n<text text-anchor=\"middle\" x=\"482.5\" y=\"-52.8\" font-family=\"Helvetica,sans-Serif\" font-size=\"14.00\" fill=\"#000000\">entropy = 0.979</text>\n<text text-anchor=\"middle\" x=\"482.5\" y=\"-37.8\" font-family=\"Helvetica,sans-Serif\" font-size=\"14.00\" fill=\"#000000\">samples = 53</text>\n<text text-anchor=\"middle\" x=\"482.5\" y=\"-22.8\" font-family=\"Helvetica,sans-Serif\" font-size=\"14.00\" fill=\"#000000\">value = [22, 31]</text>\n<text text-anchor=\"middle\" x=\"482.5\" y=\"-7.8\" font-family=\"Helvetica,sans-Serif\" font-size=\"14.00\" fill=\"#000000\">class = Yes</text>\n</g>\n<!-- 5&#45;&gt;7 -->\n<g id=\"edge7\" class=\"edge\">\n<title>5&#45;&gt;7</title>\n<path fill=\"none\" stroke=\"#000000\" d=\"M407.1836,-103.9815C417.2727,-94.607 427.981,-84.6572 438.0601,-75.2921\"/>\n<polygon fill=\"#000000\" stroke=\"#000000\" points=\"440.6809,-77.6346 445.6243,-68.2637 435.9161,-72.5065 440.6809,-77.6346\"/>\n</g>\n</g>\n</svg>\n"
          },
          "metadata": {
            "tags": []
          },
          "execution_count": 41
        }
      ]
    },
    {
      "cell_type": "code",
      "metadata": {
        "colab": {
          "base_uri": "https://localhost:8080/",
          "height": 599
        },
        "id": "msYRCcKR0yer",
        "outputId": "545fd71e-4347-496e-ab91-027b2c66b967"
      },
      "source": [
        "# Alternatively for class_names use entr_model2.classes_\r\n",
        "feature_names = NoPrediction.columns\r\n",
        "class_names = str(entr_model2.classes_)\r\n",
        "dot_data = export_graphviz(entr_model2, out_file=None, filled=True, rounded=True, \r\n",
        "                           feature_names=feature_names, class_names=class_names)\r\n",
        "\r\n",
        "graph = graphviz.Source(dot_data)  \r\n",
        "graph  "
      ],
      "execution_count": 42,
      "outputs": [
        {
          "output_type": "execute_result",
          "data": {
            "text/plain": [
              "<graphviz.files.Source at 0x7fd8cbe3df60>"
            ],
            "image/svg+xml": "<?xml version=\"1.0\" encoding=\"UTF-8\" standalone=\"no\"?>\n<!DOCTYPE svg PUBLIC \"-//W3C//DTD SVG 1.1//EN\"\n \"http://www.w3.org/Graphics/SVG/1.1/DTD/svg11.dtd\">\n<!-- Generated by graphviz version 2.40.1 (20161225.0304)\n -->\n<!-- Title: Tree Pages: 1 -->\n<svg width=\"550pt\" height=\"433pt\"\n viewBox=\"0.00 0.00 549.50 433.00\" xmlns=\"http://www.w3.org/2000/svg\" xmlns:xlink=\"http://www.w3.org/1999/xlink\">\n<g id=\"graph0\" class=\"graph\" transform=\"scale(1 1) rotate(0) translate(4 429)\">\n<title>Tree</title>\n<polygon fill=\"#ffffff\" stroke=\"transparent\" points=\"-4,4 -4,-429 545.5,-429 545.5,4 -4,4\"/>\n<!-- 0 -->\n<g id=\"node1\" class=\"node\">\n<title>0</title>\n<path fill=\"#abd6f4\" stroke=\"#000000\" d=\"M414,-425C414,-425 251,-425 251,-425 245,-425 239,-419 239,-413 239,-413 239,-354 239,-354 239,-348 245,-342 251,-342 251,-342 414,-342 414,-342 420,-342 426,-348 426,-354 426,-354 426,-413 426,-413 426,-419 420,-425 414,-425\"/>\n<text text-anchor=\"middle\" x=\"332.5\" y=\"-409.8\" font-family=\"Helvetica,sans-Serif\" font-size=\"14.00\" fill=\"#000000\">spent_last_week &lt;= 138.0</text>\n<text text-anchor=\"middle\" x=\"332.5\" y=\"-394.8\" font-family=\"Helvetica,sans-Serif\" font-size=\"14.00\" fill=\"#000000\">entropy = 0.948</text>\n<text text-anchor=\"middle\" x=\"332.5\" y=\"-379.8\" font-family=\"Helvetica,sans-Serif\" font-size=\"14.00\" fill=\"#000000\">samples = 355</text>\n<text text-anchor=\"middle\" x=\"332.5\" y=\"-364.8\" font-family=\"Helvetica,sans-Serif\" font-size=\"14.00\" fill=\"#000000\">value = [130, 225]</text>\n<text text-anchor=\"middle\" x=\"332.5\" y=\"-349.8\" font-family=\"Helvetica,sans-Serif\" font-size=\"14.00\" fill=\"#000000\">class = 0</text>\n</g>\n<!-- 1 -->\n<g id=\"node2\" class=\"node\">\n<title>1</title>\n<path fill=\"#fae6d7\" stroke=\"#000000\" d=\"M315.5,-306C315.5,-306 207.5,-306 207.5,-306 201.5,-306 195.5,-300 195.5,-294 195.5,-294 195.5,-235 195.5,-235 195.5,-229 201.5,-223 207.5,-223 207.5,-223 315.5,-223 315.5,-223 321.5,-223 327.5,-229 327.5,-235 327.5,-235 327.5,-294 327.5,-294 327.5,-300 321.5,-306 315.5,-306\"/>\n<text text-anchor=\"middle\" x=\"261.5\" y=\"-290.8\" font-family=\"Helvetica,sans-Serif\" font-size=\"14.00\" fill=\"#000000\">salary &lt;= 3.524</text>\n<text text-anchor=\"middle\" x=\"261.5\" y=\"-275.8\" font-family=\"Helvetica,sans-Serif\" font-size=\"14.00\" fill=\"#000000\">entropy = 0.991</text>\n<text text-anchor=\"middle\" x=\"261.5\" y=\"-260.8\" font-family=\"Helvetica,sans-Serif\" font-size=\"14.00\" fill=\"#000000\">samples = 234</text>\n<text text-anchor=\"middle\" x=\"261.5\" y=\"-245.8\" font-family=\"Helvetica,sans-Serif\" font-size=\"14.00\" fill=\"#000000\">value = [130, 104]</text>\n<text text-anchor=\"middle\" x=\"261.5\" y=\"-230.8\" font-family=\"Helvetica,sans-Serif\" font-size=\"14.00\" fill=\"#000000\">class = [</text>\n</g>\n<!-- 0&#45;&gt;1 -->\n<g id=\"edge1\" class=\"edge\">\n<title>0&#45;&gt;1</title>\n<path fill=\"none\" stroke=\"#000000\" d=\"M307.6676,-341.8796C302.5091,-333.2335 297.0192,-324.0322 291.6924,-315.1042\"/>\n<polygon fill=\"#000000\" stroke=\"#000000\" points=\"294.5678,-313.0924 286.4383,-306.2981 288.5564,-316.679 294.5678,-313.0924\"/>\n<text text-anchor=\"middle\" x=\"280.3149\" y=\"-326.8366\" font-family=\"Helvetica,sans-Serif\" font-size=\"14.00\" fill=\"#000000\">True</text>\n</g>\n<!-- 8 -->\n<g id=\"node9\" class=\"node\">\n<title>8</title>\n<path fill=\"#399de5\" stroke=\"#000000\" d=\"M449.5,-298.5C449.5,-298.5 357.5,-298.5 357.5,-298.5 351.5,-298.5 345.5,-292.5 345.5,-286.5 345.5,-286.5 345.5,-242.5 345.5,-242.5 345.5,-236.5 351.5,-230.5 357.5,-230.5 357.5,-230.5 449.5,-230.5 449.5,-230.5 455.5,-230.5 461.5,-236.5 461.5,-242.5 461.5,-242.5 461.5,-286.5 461.5,-286.5 461.5,-292.5 455.5,-298.5 449.5,-298.5\"/>\n<text text-anchor=\"middle\" x=\"403.5\" y=\"-283.3\" font-family=\"Helvetica,sans-Serif\" font-size=\"14.00\" fill=\"#000000\">entropy = 0.0</text>\n<text text-anchor=\"middle\" x=\"403.5\" y=\"-268.3\" font-family=\"Helvetica,sans-Serif\" font-size=\"14.00\" fill=\"#000000\">samples = 121</text>\n<text text-anchor=\"middle\" x=\"403.5\" y=\"-253.3\" font-family=\"Helvetica,sans-Serif\" font-size=\"14.00\" fill=\"#000000\">value = [0, 121]</text>\n<text text-anchor=\"middle\" x=\"403.5\" y=\"-238.3\" font-family=\"Helvetica,sans-Serif\" font-size=\"14.00\" fill=\"#000000\">class = 0</text>\n</g>\n<!-- 0&#45;&gt;8 -->\n<g id=\"edge8\" class=\"edge\">\n<title>0&#45;&gt;8</title>\n<path fill=\"none\" stroke=\"#000000\" d=\"M357.3324,-341.8796C363.9587,-330.7735 371.1316,-318.7513 377.8033,-307.5691\"/>\n<polygon fill=\"#000000\" stroke=\"#000000\" points=\"380.9083,-309.1959 383.0264,-298.8149 374.8969,-305.6093 380.9083,-309.1959\"/>\n<text text-anchor=\"middle\" x=\"389.1498\" y=\"-319.3534\" font-family=\"Helvetica,sans-Serif\" font-size=\"14.00\" fill=\"#000000\">False</text>\n</g>\n<!-- 2 -->\n<g id=\"node3\" class=\"node\">\n<title>2</title>\n<path fill=\"#52aae8\" stroke=\"#000000\" d=\"M239,-187C239,-187 84,-187 84,-187 78,-187 72,-181 72,-175 72,-175 72,-116 72,-116 72,-110 78,-104 84,-104 84,-104 239,-104 239,-104 245,-104 251,-110 251,-116 251,-116 251,-175 251,-175 251,-181 245,-187 239,-187\"/>\n<text text-anchor=\"middle\" x=\"161.5\" y=\"-171.8\" font-family=\"Helvetica,sans-Serif\" font-size=\"14.00\" fill=\"#000000\">spent_last_week &lt;= 24.5</text>\n<text text-anchor=\"middle\" x=\"161.5\" y=\"-156.8\" font-family=\"Helvetica,sans-Serif\" font-size=\"14.00\" fill=\"#000000\">entropy = 0.512</text>\n<text text-anchor=\"middle\" x=\"161.5\" y=\"-141.8\" font-family=\"Helvetica,sans-Serif\" font-size=\"14.00\" fill=\"#000000\">samples = 79</text>\n<text text-anchor=\"middle\" x=\"161.5\" y=\"-126.8\" font-family=\"Helvetica,sans-Serif\" font-size=\"14.00\" fill=\"#000000\">value = [9, 70]</text>\n<text text-anchor=\"middle\" x=\"161.5\" y=\"-111.8\" font-family=\"Helvetica,sans-Serif\" font-size=\"14.00\" fill=\"#000000\">class = 0</text>\n</g>\n<!-- 1&#45;&gt;2 -->\n<g id=\"edge2\" class=\"edge\">\n<title>1&#45;&gt;2</title>\n<path fill=\"none\" stroke=\"#000000\" d=\"M226.5249,-222.8796C218.9565,-213.8733 210.8819,-204.2644 203.088,-194.9897\"/>\n<polygon fill=\"#000000\" stroke=\"#000000\" points=\"205.7374,-192.7022 196.6244,-187.2981 200.3784,-197.2056 205.7374,-192.7022\"/>\n</g>\n<!-- 5 -->\n<g id=\"node6\" class=\"node\">\n<title>5</title>\n<path fill=\"#eca471\" stroke=\"#000000\" d=\"M444,-187C444,-187 281,-187 281,-187 275,-187 269,-181 269,-175 269,-175 269,-116 269,-116 269,-110 275,-104 281,-104 281,-104 444,-104 444,-104 450,-104 456,-110 456,-116 456,-116 456,-175 456,-175 456,-181 450,-187 444,-187\"/>\n<text text-anchor=\"middle\" x=\"362.5\" y=\"-171.8\" font-family=\"Helvetica,sans-Serif\" font-size=\"14.00\" fill=\"#000000\">spent_last_week &lt;= 101.0</text>\n<text text-anchor=\"middle\" x=\"362.5\" y=\"-156.8\" font-family=\"Helvetica,sans-Serif\" font-size=\"14.00\" fill=\"#000000\">entropy = 0.759</text>\n<text text-anchor=\"middle\" x=\"362.5\" y=\"-141.8\" font-family=\"Helvetica,sans-Serif\" font-size=\"14.00\" fill=\"#000000\">samples = 155</text>\n<text text-anchor=\"middle\" x=\"362.5\" y=\"-126.8\" font-family=\"Helvetica,sans-Serif\" font-size=\"14.00\" fill=\"#000000\">value = [121, 34]</text>\n<text text-anchor=\"middle\" x=\"362.5\" y=\"-111.8\" font-family=\"Helvetica,sans-Serif\" font-size=\"14.00\" fill=\"#000000\">class = [</text>\n</g>\n<!-- 1&#45;&gt;5 -->\n<g id=\"edge5\" class=\"edge\">\n<title>1&#45;&gt;5</title>\n<path fill=\"none\" stroke=\"#000000\" d=\"M296.8249,-222.8796C304.4689,-213.8733 312.6243,-204.2644 320.4961,-194.9897\"/>\n<polygon fill=\"#000000\" stroke=\"#000000\" points=\"323.2218,-197.1871 327.0243,-187.2981 317.8849,-192.6574 323.2218,-197.1871\"/>\n</g>\n<!-- 3 -->\n<g id=\"node4\" class=\"node\">\n<title>3</title>\n<path fill=\"#e58139\" stroke=\"#000000\" d=\"M89,-68C89,-68 12,-68 12,-68 6,-68 0,-62 0,-56 0,-56 0,-12 0,-12 0,-6 6,0 12,0 12,0 89,0 89,0 95,0 101,-6 101,-12 101,-12 101,-56 101,-56 101,-62 95,-68 89,-68\"/>\n<text text-anchor=\"middle\" x=\"50.5\" y=\"-52.8\" font-family=\"Helvetica,sans-Serif\" font-size=\"14.00\" fill=\"#000000\">entropy = 0.0</text>\n<text text-anchor=\"middle\" x=\"50.5\" y=\"-37.8\" font-family=\"Helvetica,sans-Serif\" font-size=\"14.00\" fill=\"#000000\">samples = 8</text>\n<text text-anchor=\"middle\" x=\"50.5\" y=\"-22.8\" font-family=\"Helvetica,sans-Serif\" font-size=\"14.00\" fill=\"#000000\">value = [8, 0]</text>\n<text text-anchor=\"middle\" x=\"50.5\" y=\"-7.8\" font-family=\"Helvetica,sans-Serif\" font-size=\"14.00\" fill=\"#000000\">class = [</text>\n</g>\n<!-- 2&#45;&gt;3 -->\n<g id=\"edge3\" class=\"edge\">\n<title>2&#45;&gt;3</title>\n<path fill=\"none\" stroke=\"#000000\" d=\"M120.1677,-103.9815C110.9267,-94.6989 101.1242,-84.8522 91.8813,-75.5677\"/>\n<polygon fill=\"#000000\" stroke=\"#000000\" points=\"94.1457,-72.8813 84.61,-68.2637 89.1848,-77.82 94.1457,-72.8813\"/>\n</g>\n<!-- 4 -->\n<g id=\"node5\" class=\"node\">\n<title>4</title>\n<path fill=\"#3c9ee5\" stroke=\"#000000\" d=\"M225.5,-68C225.5,-68 131.5,-68 131.5,-68 125.5,-68 119.5,-62 119.5,-56 119.5,-56 119.5,-12 119.5,-12 119.5,-6 125.5,0 131.5,0 131.5,0 225.5,0 225.5,0 231.5,0 237.5,-6 237.5,-12 237.5,-12 237.5,-56 237.5,-56 237.5,-62 231.5,-68 225.5,-68\"/>\n<text text-anchor=\"middle\" x=\"178.5\" y=\"-52.8\" font-family=\"Helvetica,sans-Serif\" font-size=\"14.00\" fill=\"#000000\">entropy = 0.107</text>\n<text text-anchor=\"middle\" x=\"178.5\" y=\"-37.8\" font-family=\"Helvetica,sans-Serif\" font-size=\"14.00\" fill=\"#000000\">samples = 71</text>\n<text text-anchor=\"middle\" x=\"178.5\" y=\"-22.8\" font-family=\"Helvetica,sans-Serif\" font-size=\"14.00\" fill=\"#000000\">value = [1, 70]</text>\n<text text-anchor=\"middle\" x=\"178.5\" y=\"-7.8\" font-family=\"Helvetica,sans-Serif\" font-size=\"14.00\" fill=\"#000000\">class = 0</text>\n</g>\n<!-- 2&#45;&gt;4 -->\n<g id=\"edge4\" class=\"edge\">\n<title>2&#45;&gt;4</title>\n<path fill=\"none\" stroke=\"#000000\" d=\"M167.8302,-103.9815C169.1053,-95.618 170.4503,-86.7965 171.7395,-78.3409\"/>\n<polygon fill=\"#000000\" stroke=\"#000000\" points=\"175.2286,-78.677 173.2759,-68.2637 168.3086,-77.6219 175.2286,-78.677\"/>\n</g>\n<!-- 6 -->\n<g id=\"node7\" class=\"node\">\n<title>6</title>\n<path fill=\"#e6853f\" stroke=\"#000000\" d=\"M393.5,-68C393.5,-68 299.5,-68 299.5,-68 293.5,-68 287.5,-62 287.5,-56 287.5,-56 287.5,-12 287.5,-12 287.5,-6 293.5,0 299.5,0 299.5,0 393.5,0 393.5,0 399.5,0 405.5,-6 405.5,-12 405.5,-12 405.5,-56 405.5,-56 405.5,-62 399.5,-68 393.5,-68\"/>\n<text text-anchor=\"middle\" x=\"346.5\" y=\"-52.8\" font-family=\"Helvetica,sans-Serif\" font-size=\"14.00\" fill=\"#000000\">entropy = 0.191</text>\n<text text-anchor=\"middle\" x=\"346.5\" y=\"-37.8\" font-family=\"Helvetica,sans-Serif\" font-size=\"14.00\" fill=\"#000000\">samples = 102</text>\n<text text-anchor=\"middle\" x=\"346.5\" y=\"-22.8\" font-family=\"Helvetica,sans-Serif\" font-size=\"14.00\" fill=\"#000000\">value = [99, 3]</text>\n<text text-anchor=\"middle\" x=\"346.5\" y=\"-7.8\" font-family=\"Helvetica,sans-Serif\" font-size=\"14.00\" fill=\"#000000\">class = [</text>\n</g>\n<!-- 5&#45;&gt;6 -->\n<g id=\"edge6\" class=\"edge\">\n<title>5&#45;&gt;6</title>\n<path fill=\"none\" stroke=\"#000000\" d=\"M356.5422,-103.9815C355.342,-95.618 354.0762,-86.7965 352.8628,-78.3409\"/>\n<polygon fill=\"#000000\" stroke=\"#000000\" points=\"356.3018,-77.6651 351.4168,-68.2637 349.3728,-78.6595 356.3018,-77.6651\"/>\n</g>\n<!-- 7 -->\n<g id=\"node8\" class=\"node\">\n<title>7</title>\n<path fill=\"#c6e3f7\" stroke=\"#000000\" d=\"M529.5,-68C529.5,-68 435.5,-68 435.5,-68 429.5,-68 423.5,-62 423.5,-56 423.5,-56 423.5,-12 423.5,-12 423.5,-6 429.5,0 435.5,0 435.5,0 529.5,0 529.5,0 535.5,0 541.5,-6 541.5,-12 541.5,-12 541.5,-56 541.5,-56 541.5,-62 535.5,-68 529.5,-68\"/>\n<text text-anchor=\"middle\" x=\"482.5\" y=\"-52.8\" font-family=\"Helvetica,sans-Serif\" font-size=\"14.00\" fill=\"#000000\">entropy = 0.979</text>\n<text text-anchor=\"middle\" x=\"482.5\" y=\"-37.8\" font-family=\"Helvetica,sans-Serif\" font-size=\"14.00\" fill=\"#000000\">samples = 53</text>\n<text text-anchor=\"middle\" x=\"482.5\" y=\"-22.8\" font-family=\"Helvetica,sans-Serif\" font-size=\"14.00\" fill=\"#000000\">value = [22, 31]</text>\n<text text-anchor=\"middle\" x=\"482.5\" y=\"-7.8\" font-family=\"Helvetica,sans-Serif\" font-size=\"14.00\" fill=\"#000000\">class = 0</text>\n</g>\n<!-- 5&#45;&gt;7 -->\n<g id=\"edge7\" class=\"edge\">\n<title>5&#45;&gt;7</title>\n<path fill=\"none\" stroke=\"#000000\" d=\"M407.1836,-103.9815C417.2727,-94.607 427.981,-84.6572 438.0601,-75.2921\"/>\n<polygon fill=\"#000000\" stroke=\"#000000\" points=\"440.6809,-77.6346 445.6243,-68.2637 435.9161,-72.5065 440.6809,-77.6346\"/>\n</g>\n</g>\n</svg>\n"
          },
          "metadata": {
            "tags": []
          },
          "execution_count": 42
        }
      ]
    },
    {
      "cell_type": "code",
      "metadata": {
        "id": "29f4vmmMDuWy",
        "colab": {
          "base_uri": "https://localhost:8080/"
        },
        "outputId": "94d338f2-64b1-45f8-f5d6-86cc91657db2"
      },
      "source": [
        "# Run this block for model evaluation \n",
        "print(\"Model Entropy model max depth 3\")\n",
        "print(\"Accuracy:\", metrics.accuracy_score(y_test,y_pred))\n",
        "print(\"Balanced accuracy:\", metrics.balanced_accuracy_score(y_test,y_pred))\n",
        "print('Precision score for \"Yes\"' , metrics.precision_score(y_test,y_pred, pos_label = 1))\n",
        "print('Recall score for \"No\"' , metrics.recall_score(y_test,y_pred, pos_label = 0))"
      ],
      "execution_count": 43,
      "outputs": [
        {
          "output_type": "stream",
          "text": [
            "Model Entropy model max depth 3\n",
            "Accuracy: 0.907563025210084\n",
            "Balanced accuracy: 0.8658536585365854\n",
            "Precision score for \"Yes\" 0.8764044943820225\n",
            "Recall score for \"No\" 0.7317073170731707\n"
          ],
          "name": "stdout"
        }
      ]
    },
    {
      "cell_type": "markdown",
      "metadata": {
        "id": "AG7S2YgUDuW4"
      },
      "source": [
        "So our accuracy decreased, but is this certainly an inferior tree to the max depth original tree we did with Model 1? Write your conclusions here:<br>\r\n",
        "<b>A:</b><br> \r\n",
        "Although accuracy score is reduced, it does not necessarily mean this model is inferior to model 1, especially given model 1 has an over-fitting accuracy score. This model will likely be able to better handle generalized data at reduced complexity."
      ]
    },
    {
      "cell_type": "markdown",
      "metadata": {
        "id": "FZTl4W3wDuW4"
      },
      "source": [
        "## Model 4: Gini impurity  model - max depth 3\n",
        "We're now going to try the same with the Gini impurity model. "
      ]
    },
    {
      "cell_type": "code",
      "metadata": {
        "id": "FJK1bkG3DuW5",
        "colab": {
          "base_uri": "https://localhost:8080/"
        },
        "outputId": "41cc7d82-295f-493d-8da7-28b73f59bf6f"
      },
      "source": [
        "# As before, make a variable, but call it gini_model2, and ensure the max_depth parameter is set to 3\n",
        "gini_model2 = tree.DecisionTreeClassifier(criterion='gini', max_depth=3, random_state=1)\n",
        "\n",
        "# Do the fit, predict, and series transformations as before. \n",
        "gini_model2.fit(X_train, y_train)\n",
        "y_pred = gini_model2.predict(X_test)\n",
        "y_pred = pd.Series(y_pred)\n",
        "gini_model2"
      ],
      "execution_count": 44,
      "outputs": [
        {
          "output_type": "execute_result",
          "data": {
            "text/plain": [
              "DecisionTreeClassifier(ccp_alpha=0.0, class_weight=None, criterion='gini',\n",
              "                       max_depth=3, max_features=None, max_leaf_nodes=None,\n",
              "                       min_impurity_decrease=0.0, min_impurity_split=None,\n",
              "                       min_samples_leaf=1, min_samples_split=2,\n",
              "                       min_weight_fraction_leaf=0.0, presort='deprecated',\n",
              "                       random_state=1, splitter='best')"
            ]
          },
          "metadata": {
            "tags": []
          },
          "execution_count": 44
        }
      ]
    },
    {
      "cell_type": "code",
      "metadata": {
        "id": "_UIWhKZBDuW7",
        "colab": {
          "base_uri": "https://localhost:8080/",
          "height": 599
        },
        "outputId": "e6298e9d-7650-4ecd-fc8b-88680dded30a"
      },
      "source": [
        "# Plot the decision tree for gini_model2\n",
        "feature_names = NoPrediction.columns\n",
        "dot_data = export_graphviz(gini_model2, out_file=None, filled=True, rounded=True, \n",
        "                           feature_names=feature_names, class_names=['No', 'Yes'])\n",
        "\n",
        "graph = graphviz.Source(dot_data)  \n",
        "graph  "
      ],
      "execution_count": 45,
      "outputs": [
        {
          "output_type": "execute_result",
          "data": {
            "text/plain": [
              "<graphviz.files.Source at 0x7fd8e10084e0>"
            ],
            "image/svg+xml": "<?xml version=\"1.0\" encoding=\"UTF-8\" standalone=\"no\"?>\n<!DOCTYPE svg PUBLIC \"-//W3C//DTD SVG 1.1//EN\"\n \"http://www.w3.org/Graphics/SVG/1.1/DTD/svg11.dtd\">\n<!-- Generated by graphviz version 2.40.1 (20161225.0304)\n -->\n<!-- Title: Tree Pages: 1 -->\n<svg width=\"779pt\" height=\"433pt\"\n viewBox=\"0.00 0.00 779.00 433.00\" xmlns=\"http://www.w3.org/2000/svg\" xmlns:xlink=\"http://www.w3.org/1999/xlink\">\n<g id=\"graph0\" class=\"graph\" transform=\"scale(1 1) rotate(0) translate(4 429)\">\n<title>Tree</title>\n<polygon fill=\"#ffffff\" stroke=\"transparent\" points=\"-4,4 -4,-429 775,-429 775,4 -4,4\"/>\n<!-- 0 -->\n<g id=\"node1\" class=\"node\">\n<title>0</title>\n<path fill=\"#abd6f4\" stroke=\"#000000\" d=\"M471,-425C471,-425 308,-425 308,-425 302,-425 296,-419 296,-413 296,-413 296,-354 296,-354 296,-348 302,-342 308,-342 308,-342 471,-342 471,-342 477,-342 483,-348 483,-354 483,-354 483,-413 483,-413 483,-419 477,-425 471,-425\"/>\n<text text-anchor=\"middle\" x=\"389.5\" y=\"-409.8\" font-family=\"Helvetica,sans-Serif\" font-size=\"14.00\" fill=\"#000000\">spent_last_week &lt;= 100.5</text>\n<text text-anchor=\"middle\" x=\"389.5\" y=\"-394.8\" font-family=\"Helvetica,sans-Serif\" font-size=\"14.00\" fill=\"#000000\">gini = 0.464</text>\n<text text-anchor=\"middle\" x=\"389.5\" y=\"-379.8\" font-family=\"Helvetica,sans-Serif\" font-size=\"14.00\" fill=\"#000000\">samples = 355</text>\n<text text-anchor=\"middle\" x=\"389.5\" y=\"-364.8\" font-family=\"Helvetica,sans-Serif\" font-size=\"14.00\" fill=\"#000000\">value = [130, 225]</text>\n<text text-anchor=\"middle\" x=\"389.5\" y=\"-349.8\" font-family=\"Helvetica,sans-Serif\" font-size=\"14.00\" fill=\"#000000\">class = Yes</text>\n</g>\n<!-- 1 -->\n<g id=\"node2\" class=\"node\">\n<title>1</title>\n<path fill=\"#f0b48a\" stroke=\"#000000\" d=\"M368.5,-306C368.5,-306 268.5,-306 268.5,-306 262.5,-306 256.5,-300 256.5,-294 256.5,-294 256.5,-235 256.5,-235 256.5,-229 262.5,-223 268.5,-223 268.5,-223 368.5,-223 368.5,-223 374.5,-223 380.5,-229 380.5,-235 380.5,-235 380.5,-294 380.5,-294 380.5,-300 374.5,-306 368.5,-306\"/>\n<text text-anchor=\"middle\" x=\"318.5\" y=\"-290.8\" font-family=\"Helvetica,sans-Serif\" font-size=\"14.00\" fill=\"#000000\">salary &lt;= 3.754</text>\n<text text-anchor=\"middle\" x=\"318.5\" y=\"-275.8\" font-family=\"Helvetica,sans-Serif\" font-size=\"14.00\" fill=\"#000000\">gini = 0.411</text>\n<text text-anchor=\"middle\" x=\"318.5\" y=\"-260.8\" font-family=\"Helvetica,sans-Serif\" font-size=\"14.00\" fill=\"#000000\">samples = 152</text>\n<text text-anchor=\"middle\" x=\"318.5\" y=\"-245.8\" font-family=\"Helvetica,sans-Serif\" font-size=\"14.00\" fill=\"#000000\">value = [108, 44]</text>\n<text text-anchor=\"middle\" x=\"318.5\" y=\"-230.8\" font-family=\"Helvetica,sans-Serif\" font-size=\"14.00\" fill=\"#000000\">class = No</text>\n</g>\n<!-- 0&#45;&gt;1 -->\n<g id=\"edge1\" class=\"edge\">\n<title>0&#45;&gt;1</title>\n<path fill=\"none\" stroke=\"#000000\" d=\"M364.6676,-341.8796C359.5091,-333.2335 354.0192,-324.0322 348.6924,-315.1042\"/>\n<polygon fill=\"#000000\" stroke=\"#000000\" points=\"351.5678,-313.0924 343.4383,-306.2981 345.5564,-316.679 351.5678,-313.0924\"/>\n<text text-anchor=\"middle\" x=\"337.3149\" y=\"-326.8366\" font-family=\"Helvetica,sans-Serif\" font-size=\"14.00\" fill=\"#000000\">True</text>\n</g>\n<!-- 8 -->\n<g id=\"node9\" class=\"node\">\n<title>8</title>\n<path fill=\"#51a9e8\" stroke=\"#000000\" d=\"M510.5,-306C510.5,-306 410.5,-306 410.5,-306 404.5,-306 398.5,-300 398.5,-294 398.5,-294 398.5,-235 398.5,-235 398.5,-229 404.5,-223 410.5,-223 410.5,-223 510.5,-223 510.5,-223 516.5,-223 522.5,-229 522.5,-235 522.5,-235 522.5,-294 522.5,-294 522.5,-300 516.5,-306 510.5,-306\"/>\n<text text-anchor=\"middle\" x=\"460.5\" y=\"-290.8\" font-family=\"Helvetica,sans-Serif\" font-size=\"14.00\" fill=\"#000000\">salary &lt;= 8.047</text>\n<text text-anchor=\"middle\" x=\"460.5\" y=\"-275.8\" font-family=\"Helvetica,sans-Serif\" font-size=\"14.00\" fill=\"#000000\">gini = 0.193</text>\n<text text-anchor=\"middle\" x=\"460.5\" y=\"-260.8\" font-family=\"Helvetica,sans-Serif\" font-size=\"14.00\" fill=\"#000000\">samples = 203</text>\n<text text-anchor=\"middle\" x=\"460.5\" y=\"-245.8\" font-family=\"Helvetica,sans-Serif\" font-size=\"14.00\" fill=\"#000000\">value = [22, 181]</text>\n<text text-anchor=\"middle\" x=\"460.5\" y=\"-230.8\" font-family=\"Helvetica,sans-Serif\" font-size=\"14.00\" fill=\"#000000\">class = Yes</text>\n</g>\n<!-- 0&#45;&gt;8 -->\n<g id=\"edge8\" class=\"edge\">\n<title>0&#45;&gt;8</title>\n<path fill=\"none\" stroke=\"#000000\" d=\"M414.3324,-341.8796C419.4909,-333.2335 424.9808,-324.0322 430.3076,-315.1042\"/>\n<polygon fill=\"#000000\" stroke=\"#000000\" points=\"433.4436,-316.679 435.5617,-306.2981 427.4322,-313.0924 433.4436,-316.679\"/>\n<text text-anchor=\"middle\" x=\"441.6851\" y=\"-326.8366\" font-family=\"Helvetica,sans-Serif\" font-size=\"14.00\" fill=\"#000000\">False</text>\n</g>\n<!-- 2 -->\n<g id=\"node3\" class=\"node\">\n<title>2</title>\n<path fill=\"#6cb6ec\" stroke=\"#000000\" d=\"M238,-187C238,-187 83,-187 83,-187 77,-187 71,-181 71,-175 71,-175 71,-116 71,-116 71,-110 77,-104 83,-104 83,-104 238,-104 238,-104 244,-104 250,-110 250,-116 250,-116 250,-175 250,-175 250,-181 244,-187 238,-187\"/>\n<text text-anchor=\"middle\" x=\"160.5\" y=\"-171.8\" font-family=\"Helvetica,sans-Serif\" font-size=\"14.00\" fill=\"#000000\">spent_last_week &lt;= 24.5</text>\n<text text-anchor=\"middle\" x=\"160.5\" y=\"-156.8\" font-family=\"Helvetica,sans-Serif\" font-size=\"14.00\" fill=\"#000000\">gini = 0.324</text>\n<text text-anchor=\"middle\" x=\"160.5\" y=\"-141.8\" font-family=\"Helvetica,sans-Serif\" font-size=\"14.00\" fill=\"#000000\">samples = 54</text>\n<text text-anchor=\"middle\" x=\"160.5\" y=\"-126.8\" font-family=\"Helvetica,sans-Serif\" font-size=\"14.00\" fill=\"#000000\">value = [11, 43]</text>\n<text text-anchor=\"middle\" x=\"160.5\" y=\"-111.8\" font-family=\"Helvetica,sans-Serif\" font-size=\"14.00\" fill=\"#000000\">class = Yes</text>\n</g>\n<!-- 1&#45;&gt;2 -->\n<g id=\"edge2\" class=\"edge\">\n<title>1&#45;&gt;2</title>\n<path fill=\"none\" stroke=\"#000000\" d=\"M263.2393,-222.8796C250.4901,-213.2774 236.8317,-202.9903 223.7709,-193.1534\"/>\n<polygon fill=\"#000000\" stroke=\"#000000\" points=\"225.8231,-190.3174 215.7295,-187.0969 221.6117,-195.9089 225.8231,-190.3174\"/>\n</g>\n<!-- 5 -->\n<g id=\"node6\" class=\"node\">\n<title>5</title>\n<path fill=\"#e5823b\" stroke=\"#000000\" d=\"M363,-187C363,-187 280,-187 280,-187 274,-187 268,-181 268,-175 268,-175 268,-116 268,-116 268,-110 274,-104 280,-104 280,-104 363,-104 363,-104 369,-104 375,-110 375,-116 375,-116 375,-175 375,-175 375,-181 369,-187 363,-187\"/>\n<text text-anchor=\"middle\" x=\"321.5\" y=\"-171.8\" font-family=\"Helvetica,sans-Serif\" font-size=\"14.00\" fill=\"#000000\">salary &lt;= 4.0</text>\n<text text-anchor=\"middle\" x=\"321.5\" y=\"-156.8\" font-family=\"Helvetica,sans-Serif\" font-size=\"14.00\" fill=\"#000000\">gini = 0.02</text>\n<text text-anchor=\"middle\" x=\"321.5\" y=\"-141.8\" font-family=\"Helvetica,sans-Serif\" font-size=\"14.00\" fill=\"#000000\">samples = 98</text>\n<text text-anchor=\"middle\" x=\"321.5\" y=\"-126.8\" font-family=\"Helvetica,sans-Serif\" font-size=\"14.00\" fill=\"#000000\">value = [97, 1]</text>\n<text text-anchor=\"middle\" x=\"321.5\" y=\"-111.8\" font-family=\"Helvetica,sans-Serif\" font-size=\"14.00\" fill=\"#000000\">class = No</text>\n</g>\n<!-- 1&#45;&gt;5 -->\n<g id=\"edge5\" class=\"edge\">\n<title>1&#45;&gt;5</title>\n<path fill=\"none\" stroke=\"#000000\" d=\"M319.5493,-222.8796C319.7559,-214.6838 319.9751,-205.9891 320.189,-197.5013\"/>\n<polygon fill=\"#000000\" stroke=\"#000000\" points=\"323.693,-197.3831 320.4463,-187.2981 316.6953,-197.2067 323.693,-197.3831\"/>\n</g>\n<!-- 3 -->\n<g id=\"node4\" class=\"node\">\n<title>3</title>\n<path fill=\"#e58139\" stroke=\"#000000\" d=\"M87,-68C87,-68 12,-68 12,-68 6,-68 0,-62 0,-56 0,-56 0,-12 0,-12 0,-6 6,0 12,0 12,0 87,0 87,0 93,0 99,-6 99,-12 99,-12 99,-56 99,-56 99,-62 93,-68 87,-68\"/>\n<text text-anchor=\"middle\" x=\"49.5\" y=\"-52.8\" font-family=\"Helvetica,sans-Serif\" font-size=\"14.00\" fill=\"#000000\">gini = 0.0</text>\n<text text-anchor=\"middle\" x=\"49.5\" y=\"-37.8\" font-family=\"Helvetica,sans-Serif\" font-size=\"14.00\" fill=\"#000000\">samples = 8</text>\n<text text-anchor=\"middle\" x=\"49.5\" y=\"-22.8\" font-family=\"Helvetica,sans-Serif\" font-size=\"14.00\" fill=\"#000000\">value = [8, 0]</text>\n<text text-anchor=\"middle\" x=\"49.5\" y=\"-7.8\" font-family=\"Helvetica,sans-Serif\" font-size=\"14.00\" fill=\"#000000\">class = No</text>\n</g>\n<!-- 2&#45;&gt;3 -->\n<g id=\"edge3\" class=\"edge\">\n<title>2&#45;&gt;3</title>\n<path fill=\"none\" stroke=\"#000000\" d=\"M119.1677,-103.9815C109.9267,-94.6989 100.1242,-84.8522 90.8813,-75.5677\"/>\n<polygon fill=\"#000000\" stroke=\"#000000\" points=\"93.1457,-72.8813 83.61,-68.2637 88.1848,-77.82 93.1457,-72.8813\"/>\n</g>\n<!-- 4 -->\n<g id=\"node5\" class=\"node\">\n<title>4</title>\n<path fill=\"#47a4e7\" stroke=\"#000000\" d=\"M212,-68C212,-68 129,-68 129,-68 123,-68 117,-62 117,-56 117,-56 117,-12 117,-12 117,-6 123,0 129,0 129,0 212,0 212,0 218,0 224,-6 224,-12 224,-12 224,-56 224,-56 224,-62 218,-68 212,-68\"/>\n<text text-anchor=\"middle\" x=\"170.5\" y=\"-52.8\" font-family=\"Helvetica,sans-Serif\" font-size=\"14.00\" fill=\"#000000\">gini = 0.122</text>\n<text text-anchor=\"middle\" x=\"170.5\" y=\"-37.8\" font-family=\"Helvetica,sans-Serif\" font-size=\"14.00\" fill=\"#000000\">samples = 46</text>\n<text text-anchor=\"middle\" x=\"170.5\" y=\"-22.8\" font-family=\"Helvetica,sans-Serif\" font-size=\"14.00\" fill=\"#000000\">value = [3, 43]</text>\n<text text-anchor=\"middle\" x=\"170.5\" y=\"-7.8\" font-family=\"Helvetica,sans-Serif\" font-size=\"14.00\" fill=\"#000000\">class = Yes</text>\n</g>\n<!-- 2&#45;&gt;4 -->\n<g id=\"edge4\" class=\"edge\">\n<title>2&#45;&gt;4</title>\n<path fill=\"none\" stroke=\"#000000\" d=\"M164.2236,-103.9815C164.9737,-95.618 165.7649,-86.7965 166.5232,-78.3409\"/>\n<polygon fill=\"#000000\" stroke=\"#000000\" points=\"170.0197,-78.5364 167.427,-68.2637 163.0477,-77.911 170.0197,-78.5364\"/>\n</g>\n<!-- 6 -->\n<g id=\"node7\" class=\"node\">\n<title>6</title>\n<path fill=\"#f2c09c\" stroke=\"#000000\" d=\"M349,-68C349,-68 274,-68 274,-68 268,-68 262,-62 262,-56 262,-56 262,-12 262,-12 262,-6 268,0 274,0 274,0 349,0 349,0 355,0 361,-6 361,-12 361,-12 361,-56 361,-56 361,-62 355,-68 349,-68\"/>\n<text text-anchor=\"middle\" x=\"311.5\" y=\"-52.8\" font-family=\"Helvetica,sans-Serif\" font-size=\"14.00\" fill=\"#000000\">gini = 0.444</text>\n<text text-anchor=\"middle\" x=\"311.5\" y=\"-37.8\" font-family=\"Helvetica,sans-Serif\" font-size=\"14.00\" fill=\"#000000\">samples = 3</text>\n<text text-anchor=\"middle\" x=\"311.5\" y=\"-22.8\" font-family=\"Helvetica,sans-Serif\" font-size=\"14.00\" fill=\"#000000\">value = [2, 1]</text>\n<text text-anchor=\"middle\" x=\"311.5\" y=\"-7.8\" font-family=\"Helvetica,sans-Serif\" font-size=\"14.00\" fill=\"#000000\">class = No</text>\n</g>\n<!-- 5&#45;&gt;6 -->\n<g id=\"edge6\" class=\"edge\">\n<title>5&#45;&gt;6</title>\n<path fill=\"none\" stroke=\"#000000\" d=\"M317.7764,-103.9815C317.0263,-95.618 316.2351,-86.7965 315.4768,-78.3409\"/>\n<polygon fill=\"#000000\" stroke=\"#000000\" points=\"318.9523,-77.911 314.573,-68.2637 311.9803,-78.5364 318.9523,-77.911\"/>\n</g>\n<!-- 7 -->\n<g id=\"node8\" class=\"node\">\n<title>7</title>\n<path fill=\"#e58139\" stroke=\"#000000\" d=\"M474,-68C474,-68 391,-68 391,-68 385,-68 379,-62 379,-56 379,-56 379,-12 379,-12 379,-6 385,0 391,0 391,0 474,0 474,0 480,0 486,-6 486,-12 486,-12 486,-56 486,-56 486,-62 480,-68 474,-68\"/>\n<text text-anchor=\"middle\" x=\"432.5\" y=\"-52.8\" font-family=\"Helvetica,sans-Serif\" font-size=\"14.00\" fill=\"#000000\">gini = 0.0</text>\n<text text-anchor=\"middle\" x=\"432.5\" y=\"-37.8\" font-family=\"Helvetica,sans-Serif\" font-size=\"14.00\" fill=\"#000000\">samples = 95</text>\n<text text-anchor=\"middle\" x=\"432.5\" y=\"-22.8\" font-family=\"Helvetica,sans-Serif\" font-size=\"14.00\" fill=\"#000000\">value = [95, 0]</text>\n<text text-anchor=\"middle\" x=\"432.5\" y=\"-7.8\" font-family=\"Helvetica,sans-Serif\" font-size=\"14.00\" fill=\"#000000\">class = No</text>\n</g>\n<!-- 5&#45;&gt;7 -->\n<g id=\"edge7\" class=\"edge\">\n<title>5&#45;&gt;7</title>\n<path fill=\"none\" stroke=\"#000000\" d=\"M362.8323,-103.9815C372.0733,-94.6989 381.8758,-84.8522 391.1187,-75.5677\"/>\n<polygon fill=\"#000000\" stroke=\"#000000\" points=\"393.8152,-77.82 398.39,-68.2637 388.8543,-72.8813 393.8152,-77.82\"/>\n</g>\n<!-- 9 -->\n<g id=\"node10\" class=\"node\">\n<title>9</title>\n<path fill=\"#399de5\" stroke=\"#000000\" d=\"M503.5,-179.5C503.5,-179.5 411.5,-179.5 411.5,-179.5 405.5,-179.5 399.5,-173.5 399.5,-167.5 399.5,-167.5 399.5,-123.5 399.5,-123.5 399.5,-117.5 405.5,-111.5 411.5,-111.5 411.5,-111.5 503.5,-111.5 503.5,-111.5 509.5,-111.5 515.5,-117.5 515.5,-123.5 515.5,-123.5 515.5,-167.5 515.5,-167.5 515.5,-173.5 509.5,-179.5 503.5,-179.5\"/>\n<text text-anchor=\"middle\" x=\"457.5\" y=\"-164.3\" font-family=\"Helvetica,sans-Serif\" font-size=\"14.00\" fill=\"#000000\">gini = 0.0</text>\n<text text-anchor=\"middle\" x=\"457.5\" y=\"-149.3\" font-family=\"Helvetica,sans-Serif\" font-size=\"14.00\" fill=\"#000000\">samples = 158</text>\n<text text-anchor=\"middle\" x=\"457.5\" y=\"-134.3\" font-family=\"Helvetica,sans-Serif\" font-size=\"14.00\" fill=\"#000000\">value = [0, 158]</text>\n<text text-anchor=\"middle\" x=\"457.5\" y=\"-119.3\" font-family=\"Helvetica,sans-Serif\" font-size=\"14.00\" fill=\"#000000\">class = Yes</text>\n</g>\n<!-- 8&#45;&gt;9 -->\n<g id=\"edge9\" class=\"edge\">\n<title>8&#45;&gt;9</title>\n<path fill=\"none\" stroke=\"#000000\" d=\"M459.4507,-222.8796C459.1818,-212.2134 458.8916,-200.7021 458.6194,-189.9015\"/>\n<polygon fill=\"#000000\" stroke=\"#000000\" points=\"462.1161,-189.7235 458.3651,-179.8149 455.1183,-189.9 462.1161,-189.7235\"/>\n</g>\n<!-- 10 -->\n<g id=\"node11\" class=\"node\">\n<title>10</title>\n<path fill=\"#f6fbfe\" stroke=\"#000000\" d=\"M709,-187C709,-187 546,-187 546,-187 540,-187 534,-181 534,-175 534,-175 534,-116 534,-116 534,-110 540,-104 546,-104 546,-104 709,-104 709,-104 715,-104 721,-110 721,-116 721,-116 721,-175 721,-175 721,-181 715,-187 709,-187\"/>\n<text text-anchor=\"middle\" x=\"627.5\" y=\"-171.8\" font-family=\"Helvetica,sans-Serif\" font-size=\"14.00\" fill=\"#000000\">spent_last_week &lt;= 140.5</text>\n<text text-anchor=\"middle\" x=\"627.5\" y=\"-156.8\" font-family=\"Helvetica,sans-Serif\" font-size=\"14.00\" fill=\"#000000\">gini = 0.5</text>\n<text text-anchor=\"middle\" x=\"627.5\" y=\"-141.8\" font-family=\"Helvetica,sans-Serif\" font-size=\"14.00\" fill=\"#000000\">samples = 45</text>\n<text text-anchor=\"middle\" x=\"627.5\" y=\"-126.8\" font-family=\"Helvetica,sans-Serif\" font-size=\"14.00\" fill=\"#000000\">value = [22, 23]</text>\n<text text-anchor=\"middle\" x=\"627.5\" y=\"-111.8\" font-family=\"Helvetica,sans-Serif\" font-size=\"14.00\" fill=\"#000000\">class = Yes</text>\n</g>\n<!-- 8&#45;&gt;10 -->\n<g id=\"edge10\" class=\"edge\">\n<title>8&#45;&gt;10</title>\n<path fill=\"none\" stroke=\"#000000\" d=\"M518.9085,-222.8796C532.3839,-213.2774 546.8203,-202.9903 560.625,-193.1534\"/>\n<polygon fill=\"#000000\" stroke=\"#000000\" points=\"563.0117,-195.7505 569.1245,-187.0969 558.9494,-190.0497 563.0117,-195.7505\"/>\n</g>\n<!-- 11 -->\n<g id=\"node12\" class=\"node\">\n<title>11</title>\n<path fill=\"#e58139\" stroke=\"#000000\" d=\"M634,-68C634,-68 551,-68 551,-68 545,-68 539,-62 539,-56 539,-56 539,-12 539,-12 539,-6 545,0 551,0 551,0 634,0 634,0 640,0 646,-6 646,-12 646,-12 646,-56 646,-56 646,-62 640,-68 634,-68\"/>\n<text text-anchor=\"middle\" x=\"592.5\" y=\"-52.8\" font-family=\"Helvetica,sans-Serif\" font-size=\"14.00\" fill=\"#000000\">gini = 0.0</text>\n<text text-anchor=\"middle\" x=\"592.5\" y=\"-37.8\" font-family=\"Helvetica,sans-Serif\" font-size=\"14.00\" fill=\"#000000\">samples = 22</text>\n<text text-anchor=\"middle\" x=\"592.5\" y=\"-22.8\" font-family=\"Helvetica,sans-Serif\" font-size=\"14.00\" fill=\"#000000\">value = [22, 0]</text>\n<text text-anchor=\"middle\" x=\"592.5\" y=\"-7.8\" font-family=\"Helvetica,sans-Serif\" font-size=\"14.00\" fill=\"#000000\">class = No</text>\n</g>\n<!-- 10&#45;&gt;11 -->\n<g id=\"edge11\" class=\"edge\">\n<title>10&#45;&gt;11</title>\n<path fill=\"none\" stroke=\"#000000\" d=\"M614.4673,-103.9815C611.8131,-95.5261 609.012,-86.6026 606.3312,-78.0623\"/>\n<polygon fill=\"#000000\" stroke=\"#000000\" points=\"609.5898,-76.7564 603.2554,-68.2637 602.9111,-78.8529 609.5898,-76.7564\"/>\n</g>\n<!-- 12 -->\n<g id=\"node13\" class=\"node\">\n<title>12</title>\n<path fill=\"#399de5\" stroke=\"#000000\" d=\"M759,-68C759,-68 676,-68 676,-68 670,-68 664,-62 664,-56 664,-56 664,-12 664,-12 664,-6 670,0 676,0 676,0 759,0 759,0 765,0 771,-6 771,-12 771,-12 771,-56 771,-56 771,-62 765,-68 759,-68\"/>\n<text text-anchor=\"middle\" x=\"717.5\" y=\"-52.8\" font-family=\"Helvetica,sans-Serif\" font-size=\"14.00\" fill=\"#000000\">gini = 0.0</text>\n<text text-anchor=\"middle\" x=\"717.5\" y=\"-37.8\" font-family=\"Helvetica,sans-Serif\" font-size=\"14.00\" fill=\"#000000\">samples = 23</text>\n<text text-anchor=\"middle\" x=\"717.5\" y=\"-22.8\" font-family=\"Helvetica,sans-Serif\" font-size=\"14.00\" fill=\"#000000\">value = [0, 23]</text>\n<text text-anchor=\"middle\" x=\"717.5\" y=\"-7.8\" font-family=\"Helvetica,sans-Serif\" font-size=\"14.00\" fill=\"#000000\">class = Yes</text>\n</g>\n<!-- 10&#45;&gt;12 -->\n<g id=\"edge12\" class=\"edge\">\n<title>10&#45;&gt;12</title>\n<path fill=\"none\" stroke=\"#000000\" d=\"M661.0127,-103.9815C668.357,-94.8828 676.1388,-85.242 683.5019,-76.1199\"/>\n<polygon fill=\"#000000\" stroke=\"#000000\" points=\"686.2857,-78.2434 689.8432,-68.2637 680.8388,-73.8467 686.2857,-78.2434\"/>\n</g>\n</g>\n</svg>\n"
          },
          "metadata": {
            "tags": []
          },
          "execution_count": 45
        }
      ]
    },
    {
      "cell_type": "code",
      "metadata": {
        "colab": {
          "base_uri": "https://localhost:8080/",
          "height": 599
        },
        "id": "K63hdrpm22J6",
        "outputId": "4ff81e9c-31d8-4da9-bcff-f39743270af7"
      },
      "source": [
        "# Alternatively for class_names use gini_model2.classes_\r\n",
        "feature_names = NoPrediction.columns\r\n",
        "class_names = str(entr_model.classes_)\r\n",
        "dot_data = export_graphviz(gini_model2, out_file=None, filled=True, rounded=True, \r\n",
        "                           feature_names=feature_names, class_names=class_names)\r\n",
        "\r\n",
        "graph = graphviz.Source(dot_data)  \r\n",
        "graph  "
      ],
      "execution_count": 46,
      "outputs": [
        {
          "output_type": "execute_result",
          "data": {
            "text/plain": [
              "<graphviz.files.Source at 0x7fd8cc89e550>"
            ],
            "image/svg+xml": "<?xml version=\"1.0\" encoding=\"UTF-8\" standalone=\"no\"?>\n<!DOCTYPE svg PUBLIC \"-//W3C//DTD SVG 1.1//EN\"\n \"http://www.w3.org/Graphics/SVG/1.1/DTD/svg11.dtd\">\n<!-- Generated by graphviz version 2.40.1 (20161225.0304)\n -->\n<!-- Title: Tree Pages: 1 -->\n<svg width=\"779pt\" height=\"433pt\"\n viewBox=\"0.00 0.00 779.00 433.00\" xmlns=\"http://www.w3.org/2000/svg\" xmlns:xlink=\"http://www.w3.org/1999/xlink\">\n<g id=\"graph0\" class=\"graph\" transform=\"scale(1 1) rotate(0) translate(4 429)\">\n<title>Tree</title>\n<polygon fill=\"#ffffff\" stroke=\"transparent\" points=\"-4,4 -4,-429 775,-429 775,4 -4,4\"/>\n<!-- 0 -->\n<g id=\"node1\" class=\"node\">\n<title>0</title>\n<path fill=\"#abd6f4\" stroke=\"#000000\" d=\"M471,-425C471,-425 308,-425 308,-425 302,-425 296,-419 296,-413 296,-413 296,-354 296,-354 296,-348 302,-342 308,-342 308,-342 471,-342 471,-342 477,-342 483,-348 483,-354 483,-354 483,-413 483,-413 483,-419 477,-425 471,-425\"/>\n<text text-anchor=\"middle\" x=\"389.5\" y=\"-409.8\" font-family=\"Helvetica,sans-Serif\" font-size=\"14.00\" fill=\"#000000\">spent_last_week &lt;= 100.5</text>\n<text text-anchor=\"middle\" x=\"389.5\" y=\"-394.8\" font-family=\"Helvetica,sans-Serif\" font-size=\"14.00\" fill=\"#000000\">gini = 0.464</text>\n<text text-anchor=\"middle\" x=\"389.5\" y=\"-379.8\" font-family=\"Helvetica,sans-Serif\" font-size=\"14.00\" fill=\"#000000\">samples = 355</text>\n<text text-anchor=\"middle\" x=\"389.5\" y=\"-364.8\" font-family=\"Helvetica,sans-Serif\" font-size=\"14.00\" fill=\"#000000\">value = [130, 225]</text>\n<text text-anchor=\"middle\" x=\"389.5\" y=\"-349.8\" font-family=\"Helvetica,sans-Serif\" font-size=\"14.00\" fill=\"#000000\">class = 0</text>\n</g>\n<!-- 1 -->\n<g id=\"node2\" class=\"node\">\n<title>1</title>\n<path fill=\"#f0b48a\" stroke=\"#000000\" d=\"M368.5,-306C368.5,-306 268.5,-306 268.5,-306 262.5,-306 256.5,-300 256.5,-294 256.5,-294 256.5,-235 256.5,-235 256.5,-229 262.5,-223 268.5,-223 268.5,-223 368.5,-223 368.5,-223 374.5,-223 380.5,-229 380.5,-235 380.5,-235 380.5,-294 380.5,-294 380.5,-300 374.5,-306 368.5,-306\"/>\n<text text-anchor=\"middle\" x=\"318.5\" y=\"-290.8\" font-family=\"Helvetica,sans-Serif\" font-size=\"14.00\" fill=\"#000000\">salary &lt;= 3.754</text>\n<text text-anchor=\"middle\" x=\"318.5\" y=\"-275.8\" font-family=\"Helvetica,sans-Serif\" font-size=\"14.00\" fill=\"#000000\">gini = 0.411</text>\n<text text-anchor=\"middle\" x=\"318.5\" y=\"-260.8\" font-family=\"Helvetica,sans-Serif\" font-size=\"14.00\" fill=\"#000000\">samples = 152</text>\n<text text-anchor=\"middle\" x=\"318.5\" y=\"-245.8\" font-family=\"Helvetica,sans-Serif\" font-size=\"14.00\" fill=\"#000000\">value = [108, 44]</text>\n<text text-anchor=\"middle\" x=\"318.5\" y=\"-230.8\" font-family=\"Helvetica,sans-Serif\" font-size=\"14.00\" fill=\"#000000\">class = [</text>\n</g>\n<!-- 0&#45;&gt;1 -->\n<g id=\"edge1\" class=\"edge\">\n<title>0&#45;&gt;1</title>\n<path fill=\"none\" stroke=\"#000000\" d=\"M364.6676,-341.8796C359.5091,-333.2335 354.0192,-324.0322 348.6924,-315.1042\"/>\n<polygon fill=\"#000000\" stroke=\"#000000\" points=\"351.5678,-313.0924 343.4383,-306.2981 345.5564,-316.679 351.5678,-313.0924\"/>\n<text text-anchor=\"middle\" x=\"337.3149\" y=\"-326.8366\" font-family=\"Helvetica,sans-Serif\" font-size=\"14.00\" fill=\"#000000\">True</text>\n</g>\n<!-- 8 -->\n<g id=\"node9\" class=\"node\">\n<title>8</title>\n<path fill=\"#51a9e8\" stroke=\"#000000\" d=\"M510.5,-306C510.5,-306 410.5,-306 410.5,-306 404.5,-306 398.5,-300 398.5,-294 398.5,-294 398.5,-235 398.5,-235 398.5,-229 404.5,-223 410.5,-223 410.5,-223 510.5,-223 510.5,-223 516.5,-223 522.5,-229 522.5,-235 522.5,-235 522.5,-294 522.5,-294 522.5,-300 516.5,-306 510.5,-306\"/>\n<text text-anchor=\"middle\" x=\"460.5\" y=\"-290.8\" font-family=\"Helvetica,sans-Serif\" font-size=\"14.00\" fill=\"#000000\">salary &lt;= 8.047</text>\n<text text-anchor=\"middle\" x=\"460.5\" y=\"-275.8\" font-family=\"Helvetica,sans-Serif\" font-size=\"14.00\" fill=\"#000000\">gini = 0.193</text>\n<text text-anchor=\"middle\" x=\"460.5\" y=\"-260.8\" font-family=\"Helvetica,sans-Serif\" font-size=\"14.00\" fill=\"#000000\">samples = 203</text>\n<text text-anchor=\"middle\" x=\"460.5\" y=\"-245.8\" font-family=\"Helvetica,sans-Serif\" font-size=\"14.00\" fill=\"#000000\">value = [22, 181]</text>\n<text text-anchor=\"middle\" x=\"460.5\" y=\"-230.8\" font-family=\"Helvetica,sans-Serif\" font-size=\"14.00\" fill=\"#000000\">class = 0</text>\n</g>\n<!-- 0&#45;&gt;8 -->\n<g id=\"edge8\" class=\"edge\">\n<title>0&#45;&gt;8</title>\n<path fill=\"none\" stroke=\"#000000\" d=\"M414.3324,-341.8796C419.4909,-333.2335 424.9808,-324.0322 430.3076,-315.1042\"/>\n<polygon fill=\"#000000\" stroke=\"#000000\" points=\"433.4436,-316.679 435.5617,-306.2981 427.4322,-313.0924 433.4436,-316.679\"/>\n<text text-anchor=\"middle\" x=\"441.6851\" y=\"-326.8366\" font-family=\"Helvetica,sans-Serif\" font-size=\"14.00\" fill=\"#000000\">False</text>\n</g>\n<!-- 2 -->\n<g id=\"node3\" class=\"node\">\n<title>2</title>\n<path fill=\"#6cb6ec\" stroke=\"#000000\" d=\"M238,-187C238,-187 83,-187 83,-187 77,-187 71,-181 71,-175 71,-175 71,-116 71,-116 71,-110 77,-104 83,-104 83,-104 238,-104 238,-104 244,-104 250,-110 250,-116 250,-116 250,-175 250,-175 250,-181 244,-187 238,-187\"/>\n<text text-anchor=\"middle\" x=\"160.5\" y=\"-171.8\" font-family=\"Helvetica,sans-Serif\" font-size=\"14.00\" fill=\"#000000\">spent_last_week &lt;= 24.5</text>\n<text text-anchor=\"middle\" x=\"160.5\" y=\"-156.8\" font-family=\"Helvetica,sans-Serif\" font-size=\"14.00\" fill=\"#000000\">gini = 0.324</text>\n<text text-anchor=\"middle\" x=\"160.5\" y=\"-141.8\" font-family=\"Helvetica,sans-Serif\" font-size=\"14.00\" fill=\"#000000\">samples = 54</text>\n<text text-anchor=\"middle\" x=\"160.5\" y=\"-126.8\" font-family=\"Helvetica,sans-Serif\" font-size=\"14.00\" fill=\"#000000\">value = [11, 43]</text>\n<text text-anchor=\"middle\" x=\"160.5\" y=\"-111.8\" font-family=\"Helvetica,sans-Serif\" font-size=\"14.00\" fill=\"#000000\">class = 0</text>\n</g>\n<!-- 1&#45;&gt;2 -->\n<g id=\"edge2\" class=\"edge\">\n<title>1&#45;&gt;2</title>\n<path fill=\"none\" stroke=\"#000000\" d=\"M263.2393,-222.8796C250.4901,-213.2774 236.8317,-202.9903 223.7709,-193.1534\"/>\n<polygon fill=\"#000000\" stroke=\"#000000\" points=\"225.8231,-190.3174 215.7295,-187.0969 221.6117,-195.9089 225.8231,-190.3174\"/>\n</g>\n<!-- 5 -->\n<g id=\"node6\" class=\"node\">\n<title>5</title>\n<path fill=\"#e5823b\" stroke=\"#000000\" d=\"M363,-187C363,-187 280,-187 280,-187 274,-187 268,-181 268,-175 268,-175 268,-116 268,-116 268,-110 274,-104 280,-104 280,-104 363,-104 363,-104 369,-104 375,-110 375,-116 375,-116 375,-175 375,-175 375,-181 369,-187 363,-187\"/>\n<text text-anchor=\"middle\" x=\"321.5\" y=\"-171.8\" font-family=\"Helvetica,sans-Serif\" font-size=\"14.00\" fill=\"#000000\">salary &lt;= 4.0</text>\n<text text-anchor=\"middle\" x=\"321.5\" y=\"-156.8\" font-family=\"Helvetica,sans-Serif\" font-size=\"14.00\" fill=\"#000000\">gini = 0.02</text>\n<text text-anchor=\"middle\" x=\"321.5\" y=\"-141.8\" font-family=\"Helvetica,sans-Serif\" font-size=\"14.00\" fill=\"#000000\">samples = 98</text>\n<text text-anchor=\"middle\" x=\"321.5\" y=\"-126.8\" font-family=\"Helvetica,sans-Serif\" font-size=\"14.00\" fill=\"#000000\">value = [97, 1]</text>\n<text text-anchor=\"middle\" x=\"321.5\" y=\"-111.8\" font-family=\"Helvetica,sans-Serif\" font-size=\"14.00\" fill=\"#000000\">class = [</text>\n</g>\n<!-- 1&#45;&gt;5 -->\n<g id=\"edge5\" class=\"edge\">\n<title>1&#45;&gt;5</title>\n<path fill=\"none\" stroke=\"#000000\" d=\"M319.5493,-222.8796C319.7559,-214.6838 319.9751,-205.9891 320.189,-197.5013\"/>\n<polygon fill=\"#000000\" stroke=\"#000000\" points=\"323.693,-197.3831 320.4463,-187.2981 316.6953,-197.2067 323.693,-197.3831\"/>\n</g>\n<!-- 3 -->\n<g id=\"node4\" class=\"node\">\n<title>3</title>\n<path fill=\"#e58139\" stroke=\"#000000\" d=\"M87,-68C87,-68 12,-68 12,-68 6,-68 0,-62 0,-56 0,-56 0,-12 0,-12 0,-6 6,0 12,0 12,0 87,0 87,0 93,0 99,-6 99,-12 99,-12 99,-56 99,-56 99,-62 93,-68 87,-68\"/>\n<text text-anchor=\"middle\" x=\"49.5\" y=\"-52.8\" font-family=\"Helvetica,sans-Serif\" font-size=\"14.00\" fill=\"#000000\">gini = 0.0</text>\n<text text-anchor=\"middle\" x=\"49.5\" y=\"-37.8\" font-family=\"Helvetica,sans-Serif\" font-size=\"14.00\" fill=\"#000000\">samples = 8</text>\n<text text-anchor=\"middle\" x=\"49.5\" y=\"-22.8\" font-family=\"Helvetica,sans-Serif\" font-size=\"14.00\" fill=\"#000000\">value = [8, 0]</text>\n<text text-anchor=\"middle\" x=\"49.5\" y=\"-7.8\" font-family=\"Helvetica,sans-Serif\" font-size=\"14.00\" fill=\"#000000\">class = [</text>\n</g>\n<!-- 2&#45;&gt;3 -->\n<g id=\"edge3\" class=\"edge\">\n<title>2&#45;&gt;3</title>\n<path fill=\"none\" stroke=\"#000000\" d=\"M119.1677,-103.9815C109.9267,-94.6989 100.1242,-84.8522 90.8813,-75.5677\"/>\n<polygon fill=\"#000000\" stroke=\"#000000\" points=\"93.1457,-72.8813 83.61,-68.2637 88.1848,-77.82 93.1457,-72.8813\"/>\n</g>\n<!-- 4 -->\n<g id=\"node5\" class=\"node\">\n<title>4</title>\n<path fill=\"#47a4e7\" stroke=\"#000000\" d=\"M212,-68C212,-68 129,-68 129,-68 123,-68 117,-62 117,-56 117,-56 117,-12 117,-12 117,-6 123,0 129,0 129,0 212,0 212,0 218,0 224,-6 224,-12 224,-12 224,-56 224,-56 224,-62 218,-68 212,-68\"/>\n<text text-anchor=\"middle\" x=\"170.5\" y=\"-52.8\" font-family=\"Helvetica,sans-Serif\" font-size=\"14.00\" fill=\"#000000\">gini = 0.122</text>\n<text text-anchor=\"middle\" x=\"170.5\" y=\"-37.8\" font-family=\"Helvetica,sans-Serif\" font-size=\"14.00\" fill=\"#000000\">samples = 46</text>\n<text text-anchor=\"middle\" x=\"170.5\" y=\"-22.8\" font-family=\"Helvetica,sans-Serif\" font-size=\"14.00\" fill=\"#000000\">value = [3, 43]</text>\n<text text-anchor=\"middle\" x=\"170.5\" y=\"-7.8\" font-family=\"Helvetica,sans-Serif\" font-size=\"14.00\" fill=\"#000000\">class = 0</text>\n</g>\n<!-- 2&#45;&gt;4 -->\n<g id=\"edge4\" class=\"edge\">\n<title>2&#45;&gt;4</title>\n<path fill=\"none\" stroke=\"#000000\" d=\"M164.2236,-103.9815C164.9737,-95.618 165.7649,-86.7965 166.5232,-78.3409\"/>\n<polygon fill=\"#000000\" stroke=\"#000000\" points=\"170.0197,-78.5364 167.427,-68.2637 163.0477,-77.911 170.0197,-78.5364\"/>\n</g>\n<!-- 6 -->\n<g id=\"node7\" class=\"node\">\n<title>6</title>\n<path fill=\"#f2c09c\" stroke=\"#000000\" d=\"M349,-68C349,-68 274,-68 274,-68 268,-68 262,-62 262,-56 262,-56 262,-12 262,-12 262,-6 268,0 274,0 274,0 349,0 349,0 355,0 361,-6 361,-12 361,-12 361,-56 361,-56 361,-62 355,-68 349,-68\"/>\n<text text-anchor=\"middle\" x=\"311.5\" y=\"-52.8\" font-family=\"Helvetica,sans-Serif\" font-size=\"14.00\" fill=\"#000000\">gini = 0.444</text>\n<text text-anchor=\"middle\" x=\"311.5\" y=\"-37.8\" font-family=\"Helvetica,sans-Serif\" font-size=\"14.00\" fill=\"#000000\">samples = 3</text>\n<text text-anchor=\"middle\" x=\"311.5\" y=\"-22.8\" font-family=\"Helvetica,sans-Serif\" font-size=\"14.00\" fill=\"#000000\">value = [2, 1]</text>\n<text text-anchor=\"middle\" x=\"311.5\" y=\"-7.8\" font-family=\"Helvetica,sans-Serif\" font-size=\"14.00\" fill=\"#000000\">class = [</text>\n</g>\n<!-- 5&#45;&gt;6 -->\n<g id=\"edge6\" class=\"edge\">\n<title>5&#45;&gt;6</title>\n<path fill=\"none\" stroke=\"#000000\" d=\"M317.7764,-103.9815C317.0263,-95.618 316.2351,-86.7965 315.4768,-78.3409\"/>\n<polygon fill=\"#000000\" stroke=\"#000000\" points=\"318.9523,-77.911 314.573,-68.2637 311.9803,-78.5364 318.9523,-77.911\"/>\n</g>\n<!-- 7 -->\n<g id=\"node8\" class=\"node\">\n<title>7</title>\n<path fill=\"#e58139\" stroke=\"#000000\" d=\"M474,-68C474,-68 391,-68 391,-68 385,-68 379,-62 379,-56 379,-56 379,-12 379,-12 379,-6 385,0 391,0 391,0 474,0 474,0 480,0 486,-6 486,-12 486,-12 486,-56 486,-56 486,-62 480,-68 474,-68\"/>\n<text text-anchor=\"middle\" x=\"432.5\" y=\"-52.8\" font-family=\"Helvetica,sans-Serif\" font-size=\"14.00\" fill=\"#000000\">gini = 0.0</text>\n<text text-anchor=\"middle\" x=\"432.5\" y=\"-37.8\" font-family=\"Helvetica,sans-Serif\" font-size=\"14.00\" fill=\"#000000\">samples = 95</text>\n<text text-anchor=\"middle\" x=\"432.5\" y=\"-22.8\" font-family=\"Helvetica,sans-Serif\" font-size=\"14.00\" fill=\"#000000\">value = [95, 0]</text>\n<text text-anchor=\"middle\" x=\"432.5\" y=\"-7.8\" font-family=\"Helvetica,sans-Serif\" font-size=\"14.00\" fill=\"#000000\">class = [</text>\n</g>\n<!-- 5&#45;&gt;7 -->\n<g id=\"edge7\" class=\"edge\">\n<title>5&#45;&gt;7</title>\n<path fill=\"none\" stroke=\"#000000\" d=\"M362.8323,-103.9815C372.0733,-94.6989 381.8758,-84.8522 391.1187,-75.5677\"/>\n<polygon fill=\"#000000\" stroke=\"#000000\" points=\"393.8152,-77.82 398.39,-68.2637 388.8543,-72.8813 393.8152,-77.82\"/>\n</g>\n<!-- 9 -->\n<g id=\"node10\" class=\"node\">\n<title>9</title>\n<path fill=\"#399de5\" stroke=\"#000000\" d=\"M503.5,-179.5C503.5,-179.5 411.5,-179.5 411.5,-179.5 405.5,-179.5 399.5,-173.5 399.5,-167.5 399.5,-167.5 399.5,-123.5 399.5,-123.5 399.5,-117.5 405.5,-111.5 411.5,-111.5 411.5,-111.5 503.5,-111.5 503.5,-111.5 509.5,-111.5 515.5,-117.5 515.5,-123.5 515.5,-123.5 515.5,-167.5 515.5,-167.5 515.5,-173.5 509.5,-179.5 503.5,-179.5\"/>\n<text text-anchor=\"middle\" x=\"457.5\" y=\"-164.3\" font-family=\"Helvetica,sans-Serif\" font-size=\"14.00\" fill=\"#000000\">gini = 0.0</text>\n<text text-anchor=\"middle\" x=\"457.5\" y=\"-149.3\" font-family=\"Helvetica,sans-Serif\" font-size=\"14.00\" fill=\"#000000\">samples = 158</text>\n<text text-anchor=\"middle\" x=\"457.5\" y=\"-134.3\" font-family=\"Helvetica,sans-Serif\" font-size=\"14.00\" fill=\"#000000\">value = [0, 158]</text>\n<text text-anchor=\"middle\" x=\"457.5\" y=\"-119.3\" font-family=\"Helvetica,sans-Serif\" font-size=\"14.00\" fill=\"#000000\">class = 0</text>\n</g>\n<!-- 8&#45;&gt;9 -->\n<g id=\"edge9\" class=\"edge\">\n<title>8&#45;&gt;9</title>\n<path fill=\"none\" stroke=\"#000000\" d=\"M459.4507,-222.8796C459.1818,-212.2134 458.8916,-200.7021 458.6194,-189.9015\"/>\n<polygon fill=\"#000000\" stroke=\"#000000\" points=\"462.1161,-189.7235 458.3651,-179.8149 455.1183,-189.9 462.1161,-189.7235\"/>\n</g>\n<!-- 10 -->\n<g id=\"node11\" class=\"node\">\n<title>10</title>\n<path fill=\"#f6fbfe\" stroke=\"#000000\" d=\"M709,-187C709,-187 546,-187 546,-187 540,-187 534,-181 534,-175 534,-175 534,-116 534,-116 534,-110 540,-104 546,-104 546,-104 709,-104 709,-104 715,-104 721,-110 721,-116 721,-116 721,-175 721,-175 721,-181 715,-187 709,-187\"/>\n<text text-anchor=\"middle\" x=\"627.5\" y=\"-171.8\" font-family=\"Helvetica,sans-Serif\" font-size=\"14.00\" fill=\"#000000\">spent_last_week &lt;= 140.5</text>\n<text text-anchor=\"middle\" x=\"627.5\" y=\"-156.8\" font-family=\"Helvetica,sans-Serif\" font-size=\"14.00\" fill=\"#000000\">gini = 0.5</text>\n<text text-anchor=\"middle\" x=\"627.5\" y=\"-141.8\" font-family=\"Helvetica,sans-Serif\" font-size=\"14.00\" fill=\"#000000\">samples = 45</text>\n<text text-anchor=\"middle\" x=\"627.5\" y=\"-126.8\" font-family=\"Helvetica,sans-Serif\" font-size=\"14.00\" fill=\"#000000\">value = [22, 23]</text>\n<text text-anchor=\"middle\" x=\"627.5\" y=\"-111.8\" font-family=\"Helvetica,sans-Serif\" font-size=\"14.00\" fill=\"#000000\">class = 0</text>\n</g>\n<!-- 8&#45;&gt;10 -->\n<g id=\"edge10\" class=\"edge\">\n<title>8&#45;&gt;10</title>\n<path fill=\"none\" stroke=\"#000000\" d=\"M518.9085,-222.8796C532.3839,-213.2774 546.8203,-202.9903 560.625,-193.1534\"/>\n<polygon fill=\"#000000\" stroke=\"#000000\" points=\"563.0117,-195.7505 569.1245,-187.0969 558.9494,-190.0497 563.0117,-195.7505\"/>\n</g>\n<!-- 11 -->\n<g id=\"node12\" class=\"node\">\n<title>11</title>\n<path fill=\"#e58139\" stroke=\"#000000\" d=\"M634,-68C634,-68 551,-68 551,-68 545,-68 539,-62 539,-56 539,-56 539,-12 539,-12 539,-6 545,0 551,0 551,0 634,0 634,0 640,0 646,-6 646,-12 646,-12 646,-56 646,-56 646,-62 640,-68 634,-68\"/>\n<text text-anchor=\"middle\" x=\"592.5\" y=\"-52.8\" font-family=\"Helvetica,sans-Serif\" font-size=\"14.00\" fill=\"#000000\">gini = 0.0</text>\n<text text-anchor=\"middle\" x=\"592.5\" y=\"-37.8\" font-family=\"Helvetica,sans-Serif\" font-size=\"14.00\" fill=\"#000000\">samples = 22</text>\n<text text-anchor=\"middle\" x=\"592.5\" y=\"-22.8\" font-family=\"Helvetica,sans-Serif\" font-size=\"14.00\" fill=\"#000000\">value = [22, 0]</text>\n<text text-anchor=\"middle\" x=\"592.5\" y=\"-7.8\" font-family=\"Helvetica,sans-Serif\" font-size=\"14.00\" fill=\"#000000\">class = [</text>\n</g>\n<!-- 10&#45;&gt;11 -->\n<g id=\"edge11\" class=\"edge\">\n<title>10&#45;&gt;11</title>\n<path fill=\"none\" stroke=\"#000000\" d=\"M614.4673,-103.9815C611.8131,-95.5261 609.012,-86.6026 606.3312,-78.0623\"/>\n<polygon fill=\"#000000\" stroke=\"#000000\" points=\"609.5898,-76.7564 603.2554,-68.2637 602.9111,-78.8529 609.5898,-76.7564\"/>\n</g>\n<!-- 12 -->\n<g id=\"node13\" class=\"node\">\n<title>12</title>\n<path fill=\"#399de5\" stroke=\"#000000\" d=\"M759,-68C759,-68 676,-68 676,-68 670,-68 664,-62 664,-56 664,-56 664,-12 664,-12 664,-6 670,0 676,0 676,0 759,0 759,0 765,0 771,-6 771,-12 771,-12 771,-56 771,-56 771,-62 765,-68 759,-68\"/>\n<text text-anchor=\"middle\" x=\"717.5\" y=\"-52.8\" font-family=\"Helvetica,sans-Serif\" font-size=\"14.00\" fill=\"#000000\">gini = 0.0</text>\n<text text-anchor=\"middle\" x=\"717.5\" y=\"-37.8\" font-family=\"Helvetica,sans-Serif\" font-size=\"14.00\" fill=\"#000000\">samples = 23</text>\n<text text-anchor=\"middle\" x=\"717.5\" y=\"-22.8\" font-family=\"Helvetica,sans-Serif\" font-size=\"14.00\" fill=\"#000000\">value = [0, 23]</text>\n<text text-anchor=\"middle\" x=\"717.5\" y=\"-7.8\" font-family=\"Helvetica,sans-Serif\" font-size=\"14.00\" fill=\"#000000\">class = 0</text>\n</g>\n<!-- 10&#45;&gt;12 -->\n<g id=\"edge12\" class=\"edge\">\n<title>10&#45;&gt;12</title>\n<path fill=\"none\" stroke=\"#000000\" d=\"M661.0127,-103.9815C668.357,-94.8828 676.1388,-85.242 683.5019,-76.1199\"/>\n<polygon fill=\"#000000\" stroke=\"#000000\" points=\"686.2857,-78.2434 689.8432,-68.2637 680.8388,-73.8467 686.2857,-78.2434\"/>\n</g>\n</g>\n</svg>\n"
          },
          "metadata": {
            "tags": []
          },
          "execution_count": 46
        }
      ]
    },
    {
      "cell_type": "code",
      "metadata": {
        "id": "R4t7e9-GDuW9",
        "colab": {
          "base_uri": "https://localhost:8080/"
        },
        "outputId": "a3ce949c-98b2-4513-d390-7f05c282ba8c"
      },
      "source": [
        "print(\"Gini impurity  model - max depth 3\")\n",
        "print(\"Accuracy:\", metrics.accuracy_score(y_test,y_pred))\n",
        "print(\"Balanced accuracy:\", metrics.balanced_accuracy_score(y_test,y_pred))\n",
        "print('Precision score' , metrics.precision_score(y_test,y_pred, pos_label = 1))\n",
        "print('Recall score' , metrics.recall_score(y_test,y_pred, pos_label = 0))"
      ],
      "execution_count": 47,
      "outputs": [
        {
          "output_type": "stream",
          "text": [
            "Gini impurity  model - max depth 3\n",
            "Accuracy: 0.9747899159663865\n",
            "Balanced accuracy: 0.9691994996873046\n",
            "Precision score 0.9746835443037974\n",
            "Recall score 0.9512195121951219\n"
          ],
          "name": "stdout"
        }
      ]
    },
    {
      "cell_type": "markdown",
      "metadata": {
        "id": "UzGThBXSDuW-"
      },
      "source": [
        "Now this is an elegant tree. Its accuracy might not be the highest, but it's still the best model we've produced so far. Why is that? Write your answer here: <br>\r\n",
        "<b>A:</b><br>\r\n",
        "Now that the decision tree has been pruned, the model complexity has been reduced. As such, classification accuracy to unseen objects will likely increase."
      ]
    },
    {
      "cell_type": "markdown",
      "metadata": {
        "id": "jS1niFlCDuW_"
      },
      "source": [
        "# 4. Evaluating and concluding\n",
        "## 4a. How many customers will buy Hidden Farm coffee? \n",
        "Let's first ascertain how many loyal customers claimed, in the survey, that they will purchase the Hidden Farm coffee. "
      ]
    },
    {
      "cell_type": "code",
      "metadata": {
        "id": "QPHXnHZvDuXC",
        "colab": {
          "base_uri": "https://localhost:8080/"
        },
        "outputId": "3a728c65-22d5-4905-b197-d640d481d7bf"
      },
      "source": [
        "# Call value_counts() on the 'Decision' column of the original coffeeData [1=Yes, 0=No]\n",
        "coffeeData['Decision'].value_counts()"
      ],
      "execution_count": 48,
      "outputs": [
        {
          "output_type": "execute_result",
          "data": {
            "text/plain": [
              "1.0    303\n",
              "0.0    171\n",
              "Name: Decision, dtype: int64"
            ]
          },
          "metadata": {
            "tags": []
          },
          "execution_count": 48
        }
      ]
    },
    {
      "cell_type": "markdown",
      "metadata": {
        "id": "kw_5g_ZEDuXD"
      },
      "source": [
        "Let's now determine the number of people that, according to the model, will be willing to buy the Hidden Farm coffee. \n",
        "1. First we subset the Prediction dataset into `new_X` considering all the variables except `Decision` \n",
        "2. Use that dataset to predict a new variable called `potential_buyers`"
      ]
    },
    {
      "cell_type": "code",
      "metadata": {
        "id": "mwypR8ymDuXE"
      },
      "source": [
        "# Feature selection\n",
        "# Make a variable called feature_cols, and assign it a list containing all the column names except 'Decision'\n",
        "feature_cols = coffeeData.columns.drop('Decision')\n",
        "\n",
        "# Make a variable called new_X, and assign it the subset of Prediction, containing just the feature_cols \n",
        "new_X = Prediction[feature_cols]"
      ],
      "execution_count": 49,
      "outputs": []
    },
    {
      "cell_type": "code",
      "metadata": {
        "id": "0ajvbeRSDuXG"
      },
      "source": [
        "# Call get_dummies() on the Pandas object pd, with new_X plugged in, to one-hot encode all features in the training set\n",
        "new_X = pd.get_dummies(X_train)\n",
        "\n",
        "# Make a variable called potential_buyers, and assign it the result of calling predict() on a model of your choice; \n",
        "# don't forget to pass new_X to predict()\n",
        "potential_buyers = gini_model2.predict(new_X)"
      ],
      "execution_count": 50,
      "outputs": []
    },
    {
      "cell_type": "code",
      "metadata": {
        "id": "-MO_KWT9DuXI",
        "colab": {
          "base_uri": "https://localhost:8080/"
        },
        "outputId": "0ac1a56e-9129-4714-a842-85aaff36e679"
      },
      "source": [
        "# Let's get the numbers of YES's and NO's in the potential buyers \n",
        "# Call unique() on np, and pass potential_buyers and return_counts=True \n",
        "np.unique(potential_buyers, return_counts=True)"
      ],
      "execution_count": 51,
      "outputs": [
        {
          "output_type": "execute_result",
          "data": {
            "text/plain": [
              "(array([0., 1.]), array([128, 227]))"
            ]
          },
          "metadata": {
            "tags": []
          },
          "execution_count": 51
        }
      ]
    },
    {
      "cell_type": "markdown",
      "metadata": {
        "id": "6fUwZE_W8xog"
      },
      "source": [
        "Using the gini_model2, the predicted potential buyers are 530 (303 + 227) "
      ]
    },
    {
      "cell_type": "code",
      "metadata": {
        "id": "9EGFQcTuDuXK",
        "colab": {
          "base_uri": "https://localhost:8080/"
        },
        "outputId": "28bfea64-5be8-4579-dae9-207629ea2985"
      },
      "source": [
        "# Print the total number of surveyed people \n",
        "surveyed_people = coffeeData['Gender'].count()\n",
        "print(f'The total number of people surveyed: {surveyed_people}')"
      ],
      "execution_count": 52,
      "outputs": [
        {
          "output_type": "stream",
          "text": [
            "The total number of people surveyed: 702\n"
          ],
          "name": "stdout"
        }
      ]
    },
    {
      "cell_type": "code",
      "metadata": {
        "id": "22_KRMX4DuXM",
        "colab": {
          "base_uri": "https://localhost:8080/"
        },
        "outputId": "3b6a1ce7-b4be-492b-a75c-830e0263037f"
      },
      "source": [
        "# Let's calculate the proportion of buyers\n",
        "proportion_of_buyers = ((530/surveyed_people)*100).round(2)\n",
        "print(f'The proportion of buyers: {proportion_of_buyers}%')"
      ],
      "execution_count": 60,
      "outputs": [
        {
          "output_type": "stream",
          "text": [
            "The proportion of buyers: 75.5%\n"
          ],
          "name": "stdout"
        }
      ]
    },
    {
      "cell_type": "code",
      "metadata": {
        "id": "xLMCDMpmDuXO",
        "colab": {
          "base_uri": "https://localhost:8080/"
        },
        "outputId": "6a15e352-5aaf-4a84-c928-f2d699015d50"
      },
      "source": [
        "# Print the percentage of people who want to buy the Hidden Farm coffee, by our model \n",
        "pct_buyer_hcoffee = ((227/surveyed_people)*100).round(2)\n",
        "print(f'Percentage of people who will buy Hidden Farm coffee based on Gini_model2: {pct_buyer_hcoffee}%')"
      ],
      "execution_count": 54,
      "outputs": [
        {
          "output_type": "stream",
          "text": [
            "Percentage of people who will buy Hidden Farm coffee based on Gini_model2: 32.34%\n"
          ],
          "name": "stdout"
        }
      ]
    },
    {
      "cell_type": "markdown",
      "metadata": {
        "id": "9bRDyi6rDuXQ"
      },
      "source": [
        "## 4b. Decision\n",
        "Remember how you thought at the start: if more than 70% of the interviewed customers are likely to buy the Hidden Farm coffee, you will strike the deal with the local Hidden Farm farmers and sell the coffee. Otherwise, you won't strike the deal and the Hidden Farm coffee will remain in legends only. Well now's crunch time. Are you going to go ahead with that idea? If so, you won't be striking the deal with the Chinese farmers. \n",
        "\n",
        "They're called `decision trees`, aren't they? So where's the decision? What should you do? (Cue existential cat emoji). \n",
        "\n",
        "Ultimately, though, we can't write an algorithm to actually *make the business decision* for us. This is because such decisions depend on our values, what risks we are willing to take, the stakes of our decisions, and how important it us for us to *know* that we will succeed. What are you going to do with the models you've made? Are you going to risk everything, strike the deal with the *Hidden Farm* farmers, and sell the coffee? \n",
        "\n",
        "The philosopher of language Jason Stanley once wrote that the number of doubts our evidence has to rule out in order for us to know a given proposition depends on our stakes: the higher our stakes, the more doubts our evidence has to rule out, and therefore the harder it is for us to know things. We can end up paralyzed in predicaments; sometimes, we can act to better our situation only if we already know certain things, which we can only if our stakes were lower and we'd *already* bettered our situation. \n",
        "\n",
        "Data science and machine learning can't solve such problems. But what it can do is help us make great use of our data to help *inform* our decisions."
      ]
    },
    {
      "cell_type": "markdown",
      "metadata": {
        "id": "crWWrpdox8i-"
      },
      "source": [
        "## 5. Random Forest\n",
        "You might have noticed an important fact about decision trees. Each time we run a given decision tree algorithm to make a prediction (such as whether customers will buy the Hidden Farm coffee) we will actually get a slightly different result. This might seem weird, but it has a simple explanation: machine learning algorithms are by definition ***stochastic***, in that their output is at least partly determined by randomness. \n",
        "\n",
        "To account for this variability and ensure that we get the most accurate prediction, we might want to actually make lots of decision trees, and get a value that captures the centre or average of the outputs of those trees. Luckily, there's a method for this, known as the ***Random Forest***. \n",
        "\n",
        "Essentially, Random Forest involves making lots of trees with similar properties, and then performing summary statistics on the outputs of those trees to reach that central value. Random forests are hugely powerful classifers, and they can improve predictive accuracy and control over-fitting. \n",
        "\n",
        "Why not try to inform your decision with random forest? You'll need to make use of the RandomForestClassifier function within the sklearn.ensemble module, found [here](https://scikit-learn.org/stable/modules/generated/sklearn.ensemble.RandomForestClassifier.html). "
      ]
    },
    {
      "cell_type": "markdown",
      "metadata": {
        "id": "fI4fiVWq0IH9"
      },
      "source": [
        "### 5a. Import necessary modules"
      ]
    },
    {
      "cell_type": "code",
      "metadata": {
        "id": "vSRTnHnD0D-O"
      },
      "source": [
        "from sklearn.ensemble import RandomForestClassifier\n",
        "from sklearn.datasets import make_classification"
      ],
      "execution_count": 55,
      "outputs": []
    },
    {
      "cell_type": "markdown",
      "metadata": {
        "id": "jKmFvvjb0WB9"
      },
      "source": [
        "### 5b. Model\n",
        "You'll use your X_train and y_train variables just as before.\n",
        "\n",
        "You'll then need to make a variable (call it firstRFModel) to store your new Random Forest model. You'll assign this variable the result of calling RandomForestClassifier().\n",
        "\n",
        "Then, just as before, you'll call fit() on that firstRFModel variable, and plug in X_train and y_train.\n",
        "\n",
        "Finally, you should make a variable called y_pred, and assign it the result of calling the predict() method on your new firstRFModel, with the X_test data passed to it. "
      ]
    },
    {
      "cell_type": "code",
      "metadata": {
        "id": "OQEeTiRG1aSm",
        "colab": {
          "base_uri": "https://localhost:8080/"
        },
        "outputId": "7a47fdd0-c49e-4e26-a641-3c7585b5e724"
      },
      "source": [
        "# Plug in appropriate max_depth and random_state parameters \n",
        "firstRFModel = RandomForestClassifier(max_depth=3, random_state=1)\n",
        "\n",
        "# Model and fit\n",
        "firstRFModel.fit(X_train, y_train)\n",
        "y_pred = firstRFModel.predict(X_test)\n",
        "y_pred = pd.Series(y_pred)\n",
        "firstRFModel"
      ],
      "execution_count": 56,
      "outputs": [
        {
          "output_type": "execute_result",
          "data": {
            "text/plain": [
              "RandomForestClassifier(bootstrap=True, ccp_alpha=0.0, class_weight=None,\n",
              "                       criterion='gini', max_depth=3, max_features='auto',\n",
              "                       max_leaf_nodes=None, max_samples=None,\n",
              "                       min_impurity_decrease=0.0, min_impurity_split=None,\n",
              "                       min_samples_leaf=1, min_samples_split=2,\n",
              "                       min_weight_fraction_leaf=0.0, n_estimators=100,\n",
              "                       n_jobs=None, oob_score=False, random_state=1, verbose=0,\n",
              "                       warm_start=False)"
            ]
          },
          "metadata": {
            "tags": []
          },
          "execution_count": 56
        }
      ]
    },
    {
      "cell_type": "code",
      "metadata": {
        "colab": {
          "base_uri": "https://localhost:8080/"
        },
        "id": "RrvHwRlxH79E",
        "outputId": "30d374a8-936b-4d13-dc85-0af9f8055f24"
      },
      "source": [
        "# predicting the potential number of buyer (Yes/No inclusive) using random forest model\r\n",
        "potential_buyers_fr = firstRFModel.predict(new_X)\r\n",
        "np.unique(potential_buyers_fr, return_counts=True)"
      ],
      "execution_count": 57,
      "outputs": [
        {
          "output_type": "execute_result",
          "data": {
            "text/plain": [
              "(array([0., 1.]), array([121, 234]))"
            ]
          },
          "metadata": {
            "tags": []
          },
          "execution_count": 57
        }
      ]
    },
    {
      "cell_type": "markdown",
      "metadata": {
        "id": "YijDufPcIlFa"
      },
      "source": [
        "Using the firstRFModel, the predicted potential buyers are 537 (303 + 234), resulting in a potential proportion of buyers at 76.5%."
      ]
    },
    {
      "cell_type": "code",
      "metadata": {
        "colab": {
          "base_uri": "https://localhost:8080/"
        },
        "id": "JK2-ci8EEOvW",
        "outputId": "7ea2e245-0d97-4d1e-ddf5-fa08fe7ea514"
      },
      "source": [
        "\r\n",
        "print(\"Model RandomForestClassifier\")\r\n",
        "print(\"Accuracy:\", metrics.accuracy_score(y_test,y_pred))\r\n",
        "print(\"Balanced accuracy:\", metrics.balanced_accuracy_score(y_test,y_pred))\r\n",
        "print('Precision score' , metrics.precision_score(y_test,y_pred, pos_label = 1))\r\n",
        "print('Recall score' , metrics.recall_score(y_test,y_pred, pos_label = 0))\r\n",
        "\r\n",
        "\r\n",
        "#ac = accuracy_score(y_test, y_pred)\r\n",
        "#print('Random Forest: Accuracy=%.10f' % (ac))"
      ],
      "execution_count": 58,
      "outputs": [
        {
          "output_type": "stream",
          "text": [
            "Model RandomForestClassifier\n",
            "Accuracy: 0.9243697478991597\n",
            "Balanced accuracy: 0.8960287679799875\n",
            "Precision score 0.9058823529411765\n",
            "Recall score 0.8048780487804879\n"
          ],
          "name": "stdout"
        }
      ]
    },
    {
      "cell_type": "code",
      "metadata": {
        "colab": {
          "base_uri": "https://localhost:8080/"
        },
        "id": "jOBiAE0pI7-A",
        "outputId": "30c33e93-db16-4255-e744-198440283559"
      },
      "source": [
        "# Print the percentage of people who want to buy the Hidden Farm coffee, by random forest model\r\n",
        "pct_buyer_hcoffee_fr = (((303+234)/surveyed_people)*100).round(2)\r\n",
        "print(f'Percentage of people who will buy Hidden Farm coffee based on firstRFmodel: {pct_buyer_hcoffee_fr}%')"
      ],
      "execution_count": 61,
      "outputs": [
        {
          "output_type": "stream",
          "text": [
            "Percentage of people who will buy Hidden Farm coffee based on firstRFmodel: 76.5%\n"
          ],
          "name": "stdout"
        }
      ]
    },
    {
      "cell_type": "markdown",
      "metadata": {
        "id": "tnc8EW67JShq"
      },
      "source": [
        "The predicted percentage of people who will buy Hidden Farm coffee is 1% higher than the prediction from Gini_model2."
      ]
    },
    {
      "cell_type": "markdown",
      "metadata": {
        "id": "sCIt6pyn1zpb"
      },
      "source": [
        "### 5c. Revise conclusion\n",
        "\n",
        "Has your conclusion changed? Or is the result of executing random forest the same as your best model reached by a single decision tree? "
      ]
    },
    {
      "cell_type": "markdown",
      "metadata": {
        "id": "7wQBk0cLJf1E"
      },
      "source": [
        "The original deicsion of purchase is based upon having more than 70% of the interviewed customers are likely to buy the Hidden Farm coffee. Based on the best model (Gini_model2), the predicted is already at 75.6%, indicating a recommendation to move forward with the purchase. <br>\r\n",
        "The random forest model only resulted with the same conclusion, hence the conclusion remains unchanged."
      ]
    },
    {
      "cell_type": "code",
      "metadata": {
        "id": "pVlwbvMppMk-"
      },
      "source": [
        ""
      ],
      "execution_count": null,
      "outputs": []
    }
  ]
}