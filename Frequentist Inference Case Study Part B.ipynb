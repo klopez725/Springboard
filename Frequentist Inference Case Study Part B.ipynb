{
  "nbformat": 4,
  "nbformat_minor": 0,
  "metadata": {
    "kernelspec": {
      "display_name": "Python 3",
      "language": "python",
      "name": "python3"
    },
    "language_info": {
      "codemirror_mode": {
        "name": "ipython",
        "version": 3
      },
      "file_extension": ".py",
      "mimetype": "text/x-python",
      "name": "python",
      "nbconvert_exporter": "python",
      "pygments_lexer": "ipython3",
      "version": "3.7.3"
    },
    "colab": {
      "name": "11.1 Frequentist Inference Case Study - Part B.ipynb",
      "provenance": [],
      "include_colab_link": true
    }
  },
  "cells": [
    {
      "cell_type": "markdown",
      "metadata": {
        "id": "view-in-github",
        "colab_type": "text"
      },
      "source": [
        "<a href=\"https://colab.research.google.com/github/jade-lam/Springboard-DSC/blob/master/11.1%20Frequentist%20Inference%20Case%20Study%20Part%20B.ipynb\" target=\"_parent\"><img src=\"https://colab.research.google.com/assets/colab-badge.svg\" alt=\"Open In Colab\"/></a>"
      ]
    },
    {
      "cell_type": "markdown",
      "metadata": {
        "id": "VB7XcHAcYgz9"
      },
      "source": [
        "# Frequentist Inference Case Study - Part B"
      ]
    },
    {
      "cell_type": "markdown",
      "metadata": {
        "id": "GDXo4nYYYgz-"
      },
      "source": [
        "## Learning objectives"
      ]
    },
    {
      "cell_type": "markdown",
      "metadata": {
        "id": "2pRoLpPtYgz-"
      },
      "source": [
        "Welcome to Part B of the Frequentist inference case study! The purpose of this case study is to help you apply the concepts associated with Frequentist inference in Python. In particular, you'll practice writing Python code to apply the following statistical concepts: \n",
        "* the _z_-statistic\n",
        "* the _t_-statistic\n",
        "* the difference and relationship between the two\n",
        "* the Central Limit Theorem, including its assumptions and consequences\n",
        "* how to estimate the population mean and standard deviation from a sample\n",
        "* the concept of a sampling distribution of a test statistic, particularly for the mean\n",
        "* how to combine these concepts to calculate a confidence interval"
      ]
    },
    {
      "cell_type": "markdown",
      "metadata": {
        "id": "PlZQNSSrYgz-"
      },
      "source": [
        "In the previous notebook, we used only data from a known normal distribution. **You'll now tackle real data, rather than simulated data, and answer some relevant real-world business problems using the data.**"
      ]
    },
    {
      "cell_type": "markdown",
      "metadata": {
        "id": "6T6aemnYYgz-"
      },
      "source": [
        "## Hospital medical charges"
      ]
    },
    {
      "cell_type": "markdown",
      "metadata": {
        "id": "bkL3YdFHYgz-"
      },
      "source": [
        "Imagine that a hospital has hired you as their data scientist. An administrator is working on the hospital's business operations plan and needs you to help them answer some business questions. \n",
        "\n",
        "In this assignment notebook, you're going to use frequentist statistical inference on a data sample to answer the questions:\n",
        "* has the hospital's revenue stream fallen below a key threshold?\n",
        "* are patients with insurance really charged different amounts than those without?\n",
        "\n",
        "Answering that last question with a frequentist approach makes some assumptions, and requires some knowledge, about the two groups."
      ]
    },
    {
      "cell_type": "markdown",
      "metadata": {
        "id": "NRz4FaJ6Ygz-"
      },
      "source": [
        "We are going to use some data on medical charges obtained from [Kaggle](https://www.kaggle.com/easonlai/sample-insurance-claim-prediction-dataset). \n",
        "\n",
        "For the purposes of this exercise, assume the observations are the result of random sampling from our single hospital. Recall that in the previous assignment, we introduced the Central Limit Theorem (CLT), and its consequence that the distributions of sample statistics approach a normal distribution as $n$ increases. The amazing thing about this is that it applies to the sampling distributions of statistics that have been calculated from even highly non-normal distributions of data! Recall, also, that hypothesis testing is very much based on making inferences about such sample statistics. You're going to rely heavily on the CLT to apply frequentist (parametric) tests to answer the questions in this notebook."
      ]
    },
    {
      "cell_type": "code",
      "metadata": {
        "id": "21hN01gvYgz-"
      },
      "source": [
        "import pandas as pd\n",
        "import numpy as np\n",
        "import scipy\n",
        "import matplotlib.pyplot as plt\n",
        "from scipy.stats import t, ttest_ind_from_stats\n",
        "from numpy.random import seed"
      ],
      "execution_count": 93,
      "outputs": []
    },
    {
      "cell_type": "code",
      "metadata": {
        "colab": {
          "base_uri": "https://localhost:8080/"
        },
        "id": "wkDXk7P8ZlUj",
        "outputId": "6f2ac8e4-d331-44c4-c92a-fcebdec554ed"
      },
      "source": [
        "from google.colab import drive\n",
        "drive.mount('/content/gdrive')"
      ],
      "execution_count": 94,
      "outputs": [
        {
          "output_type": "stream",
          "text": [
            "Drive already mounted at /content/gdrive; to attempt to forcibly remount, call drive.mount(\"/content/gdrive\", force_remount=True).\n"
          ],
          "name": "stdout"
        }
      ]
    },
    {
      "cell_type": "code",
      "metadata": {
        "id": "ocFXwLX6afF6"
      },
      "source": [
        "path = '/content/gdrive/MyDrive/Colab Notebooks/Springboard - Data Science Career Track/11.1 - Case Study - Frequentist Inference /insurance2.csv'\n",
        "medical = pd.read_csv(path)"
      ],
      "execution_count": 95,
      "outputs": []
    },
    {
      "cell_type": "code",
      "metadata": {
        "colab": {
          "base_uri": "https://localhost:8080/"
        },
        "id": "XyMgxsKqYgz_",
        "outputId": "085036ae-f40f-430a-b8e3-6b97c35e2ac8"
      },
      "source": [
        "medical.shape"
      ],
      "execution_count": 96,
      "outputs": [
        {
          "output_type": "execute_result",
          "data": {
            "text/plain": [
              "(1338, 8)"
            ]
          },
          "metadata": {
            "tags": []
          },
          "execution_count": 96
        }
      ]
    },
    {
      "cell_type": "code",
      "metadata": {
        "colab": {
          "base_uri": "https://localhost:8080/",
          "height": 202
        },
        "id": "Qztj4UE0Yg0A",
        "outputId": "8480d64e-ba2b-4302-d4d4-8221c7194894"
      },
      "source": [
        "medical.head()"
      ],
      "execution_count": 97,
      "outputs": [
        {
          "output_type": "execute_result",
          "data": {
            "text/html": [
              "<div>\n",
              "<style scoped>\n",
              "    .dataframe tbody tr th:only-of-type {\n",
              "        vertical-align: middle;\n",
              "    }\n",
              "\n",
              "    .dataframe tbody tr th {\n",
              "        vertical-align: top;\n",
              "    }\n",
              "\n",
              "    .dataframe thead th {\n",
              "        text-align: right;\n",
              "    }\n",
              "</style>\n",
              "<table border=\"1\" class=\"dataframe\">\n",
              "  <thead>\n",
              "    <tr style=\"text-align: right;\">\n",
              "      <th></th>\n",
              "      <th>age</th>\n",
              "      <th>sex</th>\n",
              "      <th>bmi</th>\n",
              "      <th>children</th>\n",
              "      <th>smoker</th>\n",
              "      <th>region</th>\n",
              "      <th>charges</th>\n",
              "      <th>insuranceclaim</th>\n",
              "    </tr>\n",
              "  </thead>\n",
              "  <tbody>\n",
              "    <tr>\n",
              "      <th>0</th>\n",
              "      <td>19</td>\n",
              "      <td>0</td>\n",
              "      <td>27.900</td>\n",
              "      <td>0</td>\n",
              "      <td>1</td>\n",
              "      <td>3</td>\n",
              "      <td>16884.92400</td>\n",
              "      <td>1</td>\n",
              "    </tr>\n",
              "    <tr>\n",
              "      <th>1</th>\n",
              "      <td>18</td>\n",
              "      <td>1</td>\n",
              "      <td>33.770</td>\n",
              "      <td>1</td>\n",
              "      <td>0</td>\n",
              "      <td>2</td>\n",
              "      <td>1725.55230</td>\n",
              "      <td>1</td>\n",
              "    </tr>\n",
              "    <tr>\n",
              "      <th>2</th>\n",
              "      <td>28</td>\n",
              "      <td>1</td>\n",
              "      <td>33.000</td>\n",
              "      <td>3</td>\n",
              "      <td>0</td>\n",
              "      <td>2</td>\n",
              "      <td>4449.46200</td>\n",
              "      <td>0</td>\n",
              "    </tr>\n",
              "    <tr>\n",
              "      <th>3</th>\n",
              "      <td>33</td>\n",
              "      <td>1</td>\n",
              "      <td>22.705</td>\n",
              "      <td>0</td>\n",
              "      <td>0</td>\n",
              "      <td>1</td>\n",
              "      <td>21984.47061</td>\n",
              "      <td>0</td>\n",
              "    </tr>\n",
              "    <tr>\n",
              "      <th>4</th>\n",
              "      <td>32</td>\n",
              "      <td>1</td>\n",
              "      <td>28.880</td>\n",
              "      <td>0</td>\n",
              "      <td>0</td>\n",
              "      <td>1</td>\n",
              "      <td>3866.85520</td>\n",
              "      <td>1</td>\n",
              "    </tr>\n",
              "  </tbody>\n",
              "</table>\n",
              "</div>"
            ],
            "text/plain": [
              "   age  sex     bmi  children  smoker  region      charges  insuranceclaim\n",
              "0   19    0  27.900         0       1       3  16884.92400               1\n",
              "1   18    1  33.770         1       0       2   1725.55230               1\n",
              "2   28    1  33.000         3       0       2   4449.46200               0\n",
              "3   33    1  22.705         0       0       1  21984.47061               0\n",
              "4   32    1  28.880         0       0       1   3866.85520               1"
            ]
          },
          "metadata": {
            "tags": []
          },
          "execution_count": 97
        }
      ]
    },
    {
      "cell_type": "markdown",
      "metadata": {
        "id": "bvX6K_h3Yg0A"
      },
      "source": [
        "__Q1:__ Plot the histogram of charges and calculate the mean and standard deviation. Comment on the appropriateness of these statistics for the data."
      ]
    },
    {
      "cell_type": "markdown",
      "metadata": {
        "id": "h0gVntPwYg0B"
      },
      "source": [
        "__A:__ the data suggests most charges are skewed towards the lower end, with the mean at 13270 with a standard deviation of 12105. Given the sample size of the data, this could mean the data is simply not normally distributed. "
      ]
    },
    {
      "cell_type": "code",
      "metadata": {
        "colab": {
          "base_uri": "https://localhost:8080/",
          "height": 316
        },
        "id": "WzDxvGVhYg0B",
        "outputId": "8a0b238e-940b-432b-9b99-992c017f4641"
      },
      "source": [
        "# plot the histogram of charges \n",
        "medical.hist(column='charges')"
      ],
      "execution_count": 98,
      "outputs": [
        {
          "output_type": "execute_result",
          "data": {
            "text/plain": [
              "array([[<matplotlib.axes._subplots.AxesSubplot object at 0x7f1feac9f3c8>]],\n",
              "      dtype=object)"
            ]
          },
          "metadata": {
            "tags": []
          },
          "execution_count": 98
        },
        {
          "output_type": "display_data",
          "data": {
            "image/png": "[encoded data removed]",
            "text/plain": [
              "<Figure size 432x288 with 1 Axes>"
            ]
          },
          "metadata": {
            "tags": [],
            "needs_background": "light"
          }
        }
      ]
    },
    {
      "cell_type": "code",
      "metadata": {
        "colab": {
          "base_uri": "https://localhost:8080/"
        },
        "id": "hNEVgHagbmw8",
        "outputId": "f9b821ce-890e-42f4-e85a-5887b8a4bf7e"
      },
      "source": [
        "# calculate the mean and standard deviation of charges\n",
        "\n",
        "mean = np.mean(medical['charges'])\n",
        "std = np.std(medical['charges'])\n",
        "\n",
        "print(f'The mean and standard deviation of medical charges are: {mean}, {std}')"
      ],
      "execution_count": 108,
      "outputs": [
        {
          "output_type": "stream",
          "text": [
            "The mean and standard deviation of medical charges are: 13270.422265141257, 12105.484975561605\n"
          ],
          "name": "stdout"
        }
      ]
    },
    {
      "cell_type": "markdown",
      "metadata": {
        "id": "DIlOAZUZYg0B"
      },
      "source": [
        "__Q2:__ The administrator is concerned that the actual average charge has fallen below 12,000, threatening the hospital's operational model. On the assumption that these data represent a random sample of charges, how would you justify that these data allow you to answer that question? And what would be the most appropriate frequentist test, of the ones discussed so far, to apply?"
      ]
    },
    {
      "cell_type": "markdown",
      "metadata": {
        "id": "GJWCfVjvYg0B"
      },
      "source": [
        "__A:__ The suggestion would be to use confidence interval and margin of error to justify. Among the frequentist test, suggest t test to be used, given the population is not normally distributed."
      ]
    },
    {
      "cell_type": "markdown",
      "metadata": {
        "id": "dB6vhp6SYg0B"
      },
      "source": [
        "__Q3:__ Given the nature of the administrator's concern, what is the appropriate confidence interval in this case? A ***one-sided*** or ***two-sided*** interval? (Refresh your understanding of this concept on p. 399 of the *AoS*). Calculate the critical value and the relevant 95% confidence interval for the mean, and comment on whether the administrator should be concerned."
      ]
    },
    {
      "cell_type": "markdown",
      "metadata": {
        "id": "qtbnc4tkYg0B"
      },
      "source": [
        "__A:__ Suggest a 95% confidence interval and a one-tailed test to be used. One-tailed test is suggested as the objective is to validate specifically if average charge has fallen below 12,000."
      ]
    },
    {
      "cell_type": "code",
      "metadata": {
        "colab": {
          "base_uri": "https://localhost:8080/"
        },
        "id": "A6ShfoCsYg0B",
        "outputId": "76fa2710-267f-477c-c4cb-e9acb58a10a3"
      },
      "source": [
        "#Calculate critical value at 95% confidence interval\n",
        "\n",
        "critical_value = t.ppf(0.95, df=len(medical['charges'])-1)\n",
        "print(f'The critical value is: {critical_value.round(2)}')"
      ],
      "execution_count": 100,
      "outputs": [
        {
          "output_type": "stream",
          "text": [
            "The critical value is: 1.65\n"
          ],
          "name": "stdout"
        }
      ]
    },
    {
      "cell_type": "code",
      "metadata": {
        "colab": {
          "base_uri": "https://localhost:8080/"
        },
        "id": "qFktZR_YYg0B",
        "outputId": "dc844360-ed76-4200-c834-bfad7fa51fd8"
      },
      "source": [
        "# Calculate standard error, margin of error and lower bound of medical charge at 95% confidence interval\n",
        "standard_error = std / (np.sqrt(len(medical['charges'])))\n",
        "margin_of_error_t = critical_value * standard_error\n",
        "\n",
        "ci95_lower = (mean - margin_of_error_t).round(2)\n",
        "print(f'Given the standard error and margin of error is at: {standard_error.round(2)} and {margin_of_error_t.round(2)}')\n",
        "print(f'The lower bound of medical charge with 95% confidence interval is at ${ci95_lower}')"
      ],
      "execution_count": 101,
      "outputs": [
        {
          "output_type": "stream",
          "text": [
            "Given the standard error and margin of error is at: 330.94 and 544.73\n",
            "The lower bound of medical charge with 95% confidence interval is at $12725.69\n"
          ],
          "name": "stdout"
        }
      ]
    },
    {
      "cell_type": "markdown",
      "metadata": {
        "id": "dR78hKLO_1-O"
      },
      "source": [
        "Given 95% confidence inteval is suggesting a mean medical charges of $12725.69, it is unlikely the administrator's concern is valid."
      ]
    },
    {
      "cell_type": "markdown",
      "metadata": {
        "id": "h1oGUG6AYg0B"
      },
      "source": [
        "The administrator then wants to know whether people with insurance really are charged a different amount to those without.\n",
        "\n",
        "__Q4:__ State the null and alternative hypothesis here. Use the _t_-test for the difference between means, where the pooled standard deviation of the two groups is given by:\n",
        "\\begin{equation}\n",
        "s_p = \\sqrt{\\frac{(n_0 - 1)s^2_0 + (n_1 - 1)s^2_1}{n_0 + n_1 - 2}}\n",
        "\\end{equation}\n",
        "\n",
        "and the *t*-test statistic is then given by:\n",
        "\n",
        "\\begin{equation}\n",
        "t = \\frac{\\bar{x}_0 - \\bar{x}_1}{s_p \\sqrt{1/n_0 + 1/n_1}}.\n",
        "\\end{equation}\n",
        "\n",
        "(If you need some reminding of the general definition of ***t-statistic***, check out the definition on p. 404 of *AoS*). \n",
        "\n",
        "What assumption about the variances of the two groups are we making here?"
      ]
    },
    {
      "cell_type": "markdown",
      "metadata": {
        "id": "_M0yOVGHYg0B"
      },
      "source": [
        "__A:__ Building the hypothesis:\n",
        "<br>H0: People with insurance are not charged a different amount\n",
        "<br>H1: People with insurance are charged a different amount"
      ]
    },
    {
      "cell_type": "markdown",
      "metadata": {
        "id": "ntGnsH9QYg0B"
      },
      "source": [
        "__Q5:__ Perform this hypothesis test both manually, using the above formulae, and then using the appropriate function from [scipy.stats](https://docs.scipy.org/doc/scipy/reference/stats.html#statistical-tests) (hint, you're looking for a function to perform a _t_-test on two independent samples). For the manual approach, calculate the value of the test statistic and then its probability (the p-value). Verify you get the same results from both."
      ]
    },
    {
      "cell_type": "markdown",
      "metadata": {
        "id": "SDvnwgT4Yg0B"
      },
      "source": [
        "__A:__ "
      ]
    },
    {
      "cell_type": "code",
      "metadata": {
        "id": "k6p-ADVQYg0B"
      },
      "source": [
        "#building 2 groups of subjects, differentiated by with and without insurance claim\n",
        "charges_with_insurance = medical['charges'].loc[medical['insuranceclaim']==1]\n",
        "charges_without_insurance = medical['charges'].loc[medical['insuranceclaim']==0]\n",
        "\n",
        "# group with insurance - mean1, std1, nobs1\n",
        "obs_with_insurance = len(charges_with_insurance)\n",
        "mean_with_insurance = np.mean(charges_with_insurance)\n",
        "std_with_insurance = np.std(charges_with_insurance)\n",
        "\n",
        "# group without insurance - mean2, std2, nobs2\n",
        "obs_without_insurance = len(charges_without_insurance)\n",
        "mean_without_insurance = np.mean(charges_without_insurance)\n",
        "std_without_insurance = np.std(charges_without_insurance)"
      ],
      "execution_count": 102,
      "outputs": []
    },
    {
      "cell_type": "markdown",
      "metadata": {
        "id": "xVGq586kPrc3"
      },
      "source": [
        "Using Manual Calculation"
      ]
    },
    {
      "cell_type": "code",
      "metadata": {
        "colab": {
          "base_uri": "https://localhost:8080/"
        },
        "id": "5mnjDqlcPrPP",
        "outputId": "9c4eafc0-b0bb-44c6-b53c-23c1d463bbee"
      },
      "source": [
        "# calculate pooled standard deviation manually with formula\n",
        "sd0 = (obs_with_insurance-1)* std_with_insurance**2\n",
        "sd1 = (obs_without_insurance-1)* std_without_insurance**2\n",
        "n0n1 = obs_with_insurance + obs_without_insurance -2\n",
        "\n",
        "pooled_sd = np.sqrt((sd0 + sd1)/n0n1).round(2)\n",
        "\n",
        "print(f'The pooled standard deviation is: {pooled_sd}')"
      ],
      "execution_count": 103,
      "outputs": [
        {
          "output_type": "stream",
          "text": [
            "The pooled standard deviation is: 11512.28\n"
          ],
          "name": "stdout"
        }
      ]
    },
    {
      "cell_type": "code",
      "metadata": {
        "colab": {
          "base_uri": "https://localhost:8080/"
        },
        "id": "GUyYAYRSZmPZ",
        "outputId": "ab61aeec-5110-469d-86b3-be26b1b8bf73"
      },
      "source": [
        "# calculate t-value manually with formula\n",
        "\n",
        "x0x1 = mean_with_insurance - mean_without_insurance\n",
        "sq_root = np.sqrt(1/obs_with_insurance + 1/obs_without_insurance)\n",
        "\n",
        "t_value = x0x1/(pooled_sd*sq_root)\n",
        "\n",
        "print(f'The manually calculated t-value is: {t_value.round(2)}')"
      ],
      "execution_count": 104,
      "outputs": [
        {
          "output_type": "stream",
          "text": [
            "The manually calculated t-value is: 11.9\n"
          ],
          "name": "stdout"
        }
      ]
    },
    {
      "cell_type": "markdown",
      "metadata": {
        "id": "hwGZsAY2Pixg"
      },
      "source": [
        "Using Scipy.Stat Method"
      ]
    },
    {
      "cell_type": "code",
      "metadata": {
        "colab": {
          "base_uri": "https://localhost:8080/"
        },
        "id": "ecnhXcGYYg0B",
        "outputId": "9d23469f-e0e6-4def-dc1e-87881c21475a"
      },
      "source": [
        "# conducting t-stest for the 2 groups of subjects\n",
        "t_stat, p_value = ttest_ind_from_stats(mean_with_insurance, std_with_insurance, obs_with_insurance, \n",
        "                                       mean_without_insurance, std_without_insurance, obs_without_insurance)\n",
        "\n",
        "print(f'The scipy calculated t-value is at {t_stat.round(2)} while the p-value is at {p_value}')"
      ],
      "execution_count": 105,
      "outputs": [
        {
          "output_type": "stream",
          "text": [
            "The scipy calculated t-value is at 11.9 while the p-value is at 4.090550214373679e-31\n"
          ],
          "name": "stdout"
        }
      ]
    },
    {
      "cell_type": "markdown",
      "metadata": {
        "id": "96T3e1f7dgA1"
      },
      "source": [
        "Given the p-value is close to 0, null hypotnesis should be rejected. This implies people with insurance is being charged at a different amount."
      ]
    },
    {
      "cell_type": "markdown",
      "metadata": {
        "id": "t-pPRrd3Yg0B"
      },
      "source": [
        "Congratulations! Hopefully you got the exact same numerical results. This shows that you correctly calculated the numbers by hand. Secondly, you used the correct function and saw that it's much easier to use. All you need to do is pass your data to it."
      ]
    },
    {
      "cell_type": "markdown",
      "metadata": {
        "id": "hlhtSaY4Yg0B"
      },
      "source": [
        "__Q6:__ Conceptual question: look through the documentation for statistical test functions in scipy.stats. You'll see the above _t_-test for a sample, but can you see an equivalent one for performing a *z*-test from a sample? Comment on your answer."
      ]
    },
    {
      "cell_type": "markdown",
      "metadata": {
        "id": "uZLw0dq1Yg0B"
      },
      "source": [
        "__A:__ Within the scipy.stats package, there doesn't seem to be a z-test available in the same way as the t-test. However, there seem to be an alternative from another python package statmodels, for independent samples - https://www.statsmodels.org/stable/generated/statsmodels.stats.weightstats.ztest.html#statsmodels.stats.weightstats.ztest "
      ]
    },
    {
      "cell_type": "markdown",
      "metadata": {
        "id": "iAuDWaU_Yg0B"
      },
      "source": [
        "## Learning outcomes"
      ]
    },
    {
      "cell_type": "markdown",
      "metadata": {
        "id": "JSHgGM4WYg0B"
      },
      "source": [
        "Having completed this project notebook, you now have good hands-on experience:\n",
        "* using the central limit theorem to help you apply frequentist techniques to answer questions that pertain to very non-normally distributed data from the real world\n",
        "* performing inference using such data to answer business questions\n",
        "* forming a hypothesis and framing the null and alternative hypotheses\n",
        "* testing this using a _t_-test"
      ]
    }
  ]
}